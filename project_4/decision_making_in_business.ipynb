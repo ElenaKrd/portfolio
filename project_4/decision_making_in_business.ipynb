{
 "cells": [
  {
   "cell_type": "markdown",
   "metadata": {},
   "source": [
    "# Техническое задание.\n",
    "\n",
    "Вы — аналитик крупного интернет-магазина. Вместе с отделом маркетинга вы подготовили список гипотез для увеличения выручки.\n",
    "Приоритизируйте гипотезы, запустите A/B-тест и проанализируйте результаты. "
   ]
  },
  {
   "cell_type": "markdown",
   "metadata": {},
   "source": [
    "# Маркетинговый анализ предложенных мероприятий для увеличения выручки интернет-магазина."
   ]
  },
  {
   "cell_type": "markdown",
   "metadata": {},
   "source": [
    "## Введение."
   ]
  },
  {
   "cell_type": "markdown",
   "metadata": {},
   "source": [
    "### Краткое описание проекта.\n",
    "Вместе с отделом маркетинга разработаны 9 гипотез для увеличения выручки интернет-магазина. Гипотезы необходимо приоретизировать, проанализировать выбранные первоочередные или самые перспективные в плане увеличения выручки. Главная задача -сэкономить ресурсы предприятия и увеличить выручку в конечном итоге. Для этого предлагаемые мероприятия требуют детального анализа.Это дорогостоящее предприятие. Поэтому проверять будем только самые перспективные."
   ]
  },
  {
   "cell_type": "markdown",
   "metadata": {},
   "source": [
    "### Цель проекта.\n",
    "Проект состоит из двух частей:\n",
    "-  В первой части необходимо приоретизировать гипотезы, выявить самые перспективные для последующей проверки. Обосновать сделанные выводы.\n",
    "-  Во второй части необходимо запустить А/В тест и сделать анализ полученного результата."
   ]
  },
  {
   "cell_type": "markdown",
   "metadata": {},
   "source": [
    "### Описание данных.\n",
    "- Для части 1. Приоритизация гипотез.\n",
    "В файле /datasets/hypothesis.csv 9 гипотез по увеличению выручки интернет-магазина с указанными параметрами Reach, Impact, Confidence, Effort.\n",
    "- Для части 2. Анализ A/B-теста.\n",
    "Результаты A/B-теста описанные в файлах /datasets/orders.csv и /datasets/visitors.csv.\n"
   ]
  },
  {
   "cell_type": "markdown",
   "metadata": {},
   "source": [
    "### План работы.\n",
    "\n",
    "Часть 1.\n",
    "- Загрузка данных и подготовка их к анализу.\n",
    "- Применить фреймворк ICE для приоритизации гипотез. Отсортировать их по убыванию приоритета.\n",
    "- Применить фреймворк RICE для приоритизации гипотез. Отсортировать их по убыванию приоритета.\n",
    "- Выявить, как изменилась приоритизация гипотез при применении RICE вместо ICE. Объяснить, почему так произошло.\n",
    "\n",
    "Часть 2.\n",
    "- Загрузка данных и подготовка их к анализу.\n",
    "- Для анализа А/В теста необходимо решить следующие задачи:\n",
    "1. Построить график кумулятивной выручки по группам. Сделать выводы и предположения.\n",
    "2. Построить график кумулятивного среднего чека по группам. Сделать выводы и предположения.\n",
    "3. Построить график относительного изменения кумулятивного среднего чека группы B к группе A. Сделать выводы и предположения.\n",
    "4. Построить график кумулятивного среднего количества заказов на посетителя по группам. Сделать выводы и предположения.\n",
    "5. Построить график относительного изменения кумулятивного среднего количества заказов на посетителя группы B к группе A. Сделать выводы и предположения.\n",
    "5. Построить точечный график количества заказов по пользователям. Сделать выводы и предположения.\n",
    "6. Посчитать 95-й и 99-й перцентили количества заказов на пользователя. Выбрать границу для определения аномальных пользователей.\n",
    "7. Построить точечный график стоимостей заказов. Сделать выводы и предположения.\n",
    "8. Посчитать 95-й и 99-й перцентили стоимости заказов. Выбрать границу для определения аномальных заказов.\n",
    "9. Посчитать статистическую значимость различий в среднем количестве заказов на посетителя между группами по «сырым» данным. Сделать выводы и предположения.\n",
    "10. Посчитать статистическую значимость различий в среднем чеке заказа между группами по «сырым» данным. Сделать выводы и предположения.\n",
    "11. Посчитать статистическую значимость различий в среднем количестве заказов на посетителя между группами по «очищенным» данным. Сделать выводы и предположения.\n",
    "12. Посчитать статистическую значимость различий в среднем чеке заказа между группами по «очищенным» данным. Сделать выводы и предположения.\n",
    "13. Принять решение по результатам теста и объяснить его. Варианты решений:\n",
    "- А. Остановить тест, зафиксировать победу одной из групп.\n",
    "- Б. Остановить тест, зафиксировать отсутствие различий между группами.\n",
    "- В. Продолжить тест."
   ]
  },
  {
   "cell_type": "markdown",
   "metadata": {},
   "source": [
    "## Выполнение проекта. "
   ]
  },
  {
   "cell_type": "markdown",
   "metadata": {},
   "source": [
    "### Часть 1. Приоретизация гипотез."
   ]
  },
  {
   "cell_type": "code",
   "execution_count": 1,
   "metadata": {},
   "outputs": [],
   "source": [
    "import pandas as pd\n",
    "import datetime as dt\n",
    "import scipy.stats as stats\n",
    "import numpy as np\n",
    "import math as mth\n",
    "import matplotlib.pyplot as plt\n",
    "from pandas.plotting import register_matplotlib_converters\n",
    "import warnings"
   ]
  },
  {
   "cell_type": "code",
   "execution_count": 2,
   "metadata": {},
   "outputs": [
    {
     "name": "stdout",
     "output_type": "stream",
     "text": [
      "                                          hypothesis  reach  impact  \\\n",
      "0  Добавить два новых канала привлечения трафика,...      3      10   \n",
      "1  Запустить собственную службу доставки, что сок...      2       5   \n",
      "2  Добавить блоки рекомендаций товаров на сайт ин...      8       3   \n",
      "3  Изменить структура категорий, что увеличит кон...      8       3   \n",
      "4  Изменить цвет фона главной страницы, чтобы уве...      3       1   \n",
      "5  Добавить страницу отзывов клиентов о магазине,...      3       2   \n",
      "6  Показать на главной странице баннеры с актуаль...      5       3   \n",
      "7  Добавить форму подписки на все основные страни...     10       7   \n",
      "8  Запустить акцию, дающую скидку на товар в день...      1       9   \n",
      "\n",
      "   confidence  efforts  \n",
      "0           8        6  \n",
      "1           4       10  \n",
      "2           7        3  \n",
      "3           3        8  \n",
      "4           1        1  \n",
      "5           2        3  \n",
      "6           8        3  \n",
      "7           8        5  \n",
      "8           9        5  \n"
     ]
    }
   ],
   "source": [
    "# Загрузим данные для изучения\n",
    "data = pd.read_csv('/datasets/hypothesis.csv', sep=',')\n",
    "# приведём названия колонок к нижнему регистру\n",
    "data.columns = data.columns.str.lower()\n",
    "\n",
    "print(data)\n",
    "\n",
    "# если датафрейм не выводятся целиком использовать код\n",
    "#pd.set_option('display.max_columns',None)\n",
    "# или pd.set_option('display.max_colwidth', False)"
   ]
  },
  {
   "cell_type": "code",
   "execution_count": 3,
   "metadata": {},
   "outputs": [
    {
     "name": "stdout",
     "output_type": "stream",
     "text": [
      "                                          hypothesis    ICE\n",
      "8  Запустить акцию, дающую скидку на товар в день...  16.20\n",
      "0  Добавить два новых канала привлечения трафика,...  13.33\n",
      "7  Добавить форму подписки на все основные страни...  11.20\n",
      "6  Показать на главной странице баннеры с актуаль...   8.00\n",
      "2  Добавить блоки рекомендаций товаров на сайт ин...   7.00\n",
      "1  Запустить собственную службу доставки, что сок...   2.00\n",
      "5  Добавить страницу отзывов клиентов о магазине,...   1.33\n",
      "3  Изменить структура категорий, что увеличит кон...   1.12\n",
      "4  Изменить цвет фона главной страницы, чтобы уве...   1.00\n"
     ]
    }
   ],
   "source": [
    "#применим фреймворк ICE для приоритизации гипотез, \n",
    "#отсортируем их по убыванию приоритета.\n",
    "data['ICE'] = data['impact'] * data['confidence'] / data['efforts']\n",
    "print(round(data[['hypothesis', 'ICE']].sort_values(by='ICE', ascending=False),2))"
   ]
  },
  {
   "cell_type": "code",
   "execution_count": 4,
   "metadata": {},
   "outputs": [
    {
     "name": "stdout",
     "output_type": "stream",
     "text": [
      "                                          hypothesis   RICE\n",
      "7  Добавить форму подписки на все основные страни...  112.0\n",
      "2  Добавить блоки рекомендаций товаров на сайт ин...   56.0\n",
      "0  Добавить два новых канала привлечения трафика,...   40.0\n",
      "6  Показать на главной странице баннеры с актуаль...   40.0\n",
      "8  Запустить акцию, дающую скидку на товар в день...   16.2\n",
      "3  Изменить структура категорий, что увеличит кон...    9.0\n",
      "1  Запустить собственную службу доставки, что сок...    4.0\n",
      "5  Добавить страницу отзывов клиентов о магазине,...    4.0\n",
      "4  Изменить цвет фона главной страницы, чтобы уве...    3.0\n"
     ]
    }
   ],
   "source": [
    "# Применим фреймворк RICE для приоритизации гипотез.\n",
    "# Отсортируем их по убыванию приоритета.\n",
    "data['RICE'] = data['reach'] * data['impact'] * data['confidence'] / data['efforts']\n",
    "print(data[['hypothesis','RICE']].sort_values(by='RICE', ascending=False))"
   ]
  },
  {
   "cell_type": "markdown",
   "metadata": {},
   "source": [
    "### Вывод по части 1. \n",
    "Для приоретизации гипотез мы использовали методы ICE и RICE. Задача - посмотреть на место гипотез среди остальных при применении разных методов приоретизации.\n",
    "- При применении ICE явно лидируют гипотезы 8, 0 и 7. Почти в 2 раза отстают от них гипотезы 6 и 2.\n",
    "- При применении RICE явно лидирует гипотеза 7. Почти в 2 раза отстают от неё гипотезы 2, 0 и 6. \n",
    "- Гипотеза 8, которая была безусловным лидером при оценке методом ICE, при оценке методом RICE оказалась только на пятом месте. Так произошло потому, что параметр reach гипотезы 8 очень низкий - предлагаемая акция будет актуальной для покупателей только раз в году. Кроме того, сама по себе акция тоже нуждается в рекламировании, что повлечёт за собой дополнительные затраты. При этом параметр reach гипотезы 7 - самый высокий, поэтому гипотеза в числе лидеров в приоретизации обоими методами.\n",
    "\n",
    "**Рекомендации для отдела маркетинга**\n",
    "- Протестировать гипотезу под номером 7.\n",
    "- При наличии возможностей задействовать материальные и людские ресурсы - протестировать также гипотезы 0, 6 и 2.\n"
   ]
  },
  {
   "cell_type": "markdown",
   "metadata": {},
   "source": [
    "## Часть 2.  Анализ A/B-теста."
   ]
  },
  {
   "cell_type": "markdown",
   "metadata": {},
   "source": [
    "### Подготовка данных к анализу."
   ]
  },
  {
   "cell_type": "code",
   "execution_count": 5,
   "metadata": {},
   "outputs": [
    {
     "name": "stdout",
     "output_type": "stream",
     "text": [
      "      transactionId   visitorId       date  revenue group\n",
      "0        3667963787  3312258926 2019-08-15     1650     B\n",
      "1        2804400009  3642806036 2019-08-15      730     B\n",
      "2        2961555356  4069496402 2019-08-15      400     A\n",
      "3        3797467345  1196621759 2019-08-15     9759     B\n",
      "4        2282983706  2322279887 2019-08-15     2308     B\n",
      "...             ...         ...        ...      ...   ...\n",
      "1192     2662137336  3733762160 2019-08-14     6490     B\n",
      "1193     2203539145   370388673 2019-08-14     3190     A\n",
      "1194     1807773912   573423106 2019-08-14    10550     A\n",
      "1195     1947021204  1614305549 2019-08-14      100     A\n",
      "1196     3936777065  2108080724 2019-08-15   202740     B\n",
      "\n",
      "[1197 rows x 5 columns]\n",
      "<class 'pandas.core.frame.DataFrame'>\n",
      "RangeIndex: 1197 entries, 0 to 1196\n",
      "Data columns (total 5 columns):\n",
      " #   Column         Non-Null Count  Dtype         \n",
      "---  ------         --------------  -----         \n",
      " 0   transactionId  1197 non-null   int64         \n",
      " 1   visitorId      1197 non-null   int64         \n",
      " 2   date           1197 non-null   datetime64[ns]\n",
      " 3   revenue        1197 non-null   int64         \n",
      " 4   group          1197 non-null   object        \n",
      "dtypes: datetime64[ns](1), int64(3), object(1)\n",
      "memory usage: 46.9+ KB\n"
     ]
    },
    {
     "data": {
      "text/plain": [
       "0"
      ]
     },
     "execution_count": 5,
     "metadata": {},
     "output_type": "execute_result"
    }
   ],
   "source": [
    "# загрузим данные и подготовим их к анализу\n",
    "orders = pd.read_csv('/datasets/orders.csv', sep=',')\n",
    "orders['date'] = orders['date'].map(\n",
    "    lambda x: dt.datetime.strptime(x, '%Y-%m-%d')\n",
    ")\n",
    "print(orders)\n",
    "orders.info()\n",
    "orders.duplicated().sum()"
   ]
  },
  {
   "cell_type": "code",
   "execution_count": 6,
   "metadata": {},
   "outputs": [
    {
     "name": "stdout",
     "output_type": "stream",
     "text": [
      "         date group  visitors\n",
      "0  2019-08-01     A       719\n",
      "1  2019-08-02     A       619\n",
      "2  2019-08-03     A       507\n",
      "3  2019-08-04     A       717\n",
      "4  2019-08-05     A       756\n",
      "..        ...   ...       ...\n",
      "57 2019-08-27     B       720\n",
      "58 2019-08-28     B       654\n",
      "59 2019-08-29     B       531\n",
      "60 2019-08-30     B       490\n",
      "61 2019-08-31     B       718\n",
      "\n",
      "[62 rows x 3 columns]\n",
      "<class 'pandas.core.frame.DataFrame'>\n",
      "RangeIndex: 62 entries, 0 to 61\n",
      "Data columns (total 3 columns):\n",
      " #   Column    Non-Null Count  Dtype         \n",
      "---  ------    --------------  -----         \n",
      " 0   date      62 non-null     datetime64[ns]\n",
      " 1   group     62 non-null     object        \n",
      " 2   visitors  62 non-null     int64         \n",
      "dtypes: datetime64[ns](1), int64(1), object(1)\n",
      "memory usage: 1.6+ KB\n"
     ]
    },
    {
     "data": {
      "text/plain": [
       "0"
      ]
     },
     "execution_count": 6,
     "metadata": {},
     "output_type": "execute_result"
    }
   ],
   "source": [
    "visitors = pd.read_csv('/datasets/visitors.csv', sep=',')\n",
    "visitors['date'] = visitors['date'].map(\n",
    "    lambda x: dt.datetime.strptime(x, '%Y-%m-%d')\n",
    ")\n",
    "print(visitors)\n",
    "visitors.info()\n",
    "visitors.duplicated().sum()"
   ]
  },
  {
   "cell_type": "code",
   "execution_count": 7,
   "metadata": {},
   "outputs": [
    {
     "name": "stdout",
     "output_type": "stream",
     "text": [
      "Пользователей, попавших в обе группы: 58\n"
     ]
    }
   ],
   "source": [
    "# выясним,есть ли пользователи, попавшие в обе группы сразу\n",
    "visitor_doubles = orders.groupby(['visitorId']).agg({'group' : 'nunique'}).reset_index()\n",
    "# выведем результат на экран\n",
    "print(f'Пользователей, попавших в обе группы: {visitor_doubles[visitor_doubles.group != 1][\"visitorId\"].count()}')\n"
   ]
  },
  {
   "cell_type": "markdown",
   "metadata": {},
   "source": [
    "Таким образом, 58 пользователей попали в обе группы сразу. Понять, какая из версий сайта повлияла на их решение и покупки, не представляется возможным. Хорошо было бы их удалить, но тогда мы получим разночтения со второй таблицей - там нет колонки с ID пользователей. Поэтому оставим этих пользователей в таблице. Хорошо, что их не много."
   ]
  },
  {
   "cell_type": "markdown",
   "metadata": {},
   "source": [
    "#### Вывод. \n",
    "Названия столбцов корректны, изменять их нет необходимости. Формат ячеек date в обеих таблицах был изменён с object на datetime. Выявлены пользователи, попавшие в обе группы теста. Данные этих пользователей, к сожалению, нельзя исключить из дальней обработки."
   ]
  },
  {
   "cell_type": "markdown",
   "metadata": {},
   "source": [
    "### Анализ  А/В теста."
   ]
  },
  {
   "cell_type": "markdown",
   "metadata": {},
   "source": [
    "#### Анализ кумулятивных метрик."
   ]
  },
  {
   "cell_type": "markdown",
   "metadata": {},
   "source": [
    "Построим график кумулятивной выручки по группам."
   ]
  },
  {
   "cell_type": "code",
   "execution_count": 8,
   "metadata": {},
   "outputs": [
    {
     "name": "stdout",
     "output_type": "stream",
     "text": [
      "        date group  orders  buyers  revenue  visitors\n",
      "0 2019-08-01     A      24      20   148579       719\n",
      "1 2019-08-01     B      21      20   101217       713\n",
      "2 2019-08-02     A      44      38   242401      1338\n",
      "3 2019-08-02     B      45      43   266748      1294\n",
      "4 2019-08-03     A      68      62   354874      1845\n"
     ]
    }
   ],
   "source": [
    "# Построим график кумулятивной выручки по группам\n",
    "# создаем массив уникальных пар значений дат и групп теста\n",
    "datesGroups = orders[['date','group']].drop_duplicates() \n",
    "\n",
    "ordersAggregated = datesGroups.apply(\n",
    "    lambda x: orders[np.logical_and(orders['date'] <= x['date'], orders['group'] == x['group'])]\n",
    "    .agg({'date' : 'max', 'group' : 'max', 'transactionId' : 'nunique', 'visitorId' : 'nunique', 'revenue' : 'sum'}),\\\n",
    "    axis=1).sort_values(by=['date','group']\n",
    ") \n",
    "visitorsAggregated = datesGroups.apply(\n",
    "    lambda x: visitors[np.logical_and(visitors['date'] <= x['date'], visitors['group'] == x['group'])]\n",
    "    .agg({'date' : 'max', 'group' : 'max', 'visitors' : 'sum'}), axis=1).sort_values(by=['date','group']\n",
    ")\n",
    "\n",
    "# объединяем кумулятивные данные в одной таблице и присваиваем ее столбцам понятные названия\n",
    "cumulativeData = ordersAggregated.merge(visitorsAggregated, left_on=['date', 'group'], right_on=['date', 'group'])\n",
    "cumulativeData.columns = ['date', 'group', 'orders', 'buyers', 'revenue', 'visitors']\n",
    "\n",
    "print(cumulativeData.head(5)) "
   ]
  },
  {
   "cell_type": "code",
   "execution_count": 9,
   "metadata": {},
   "outputs": [
    {
     "data": {
      "text/plain": [
       "<matplotlib.legend.Legend at 0x7f9cf21ae4f0>"
      ]
     },
     "execution_count": 9,
     "metadata": {},
     "output_type": "execute_result"
    },
    {
     "data": {
      "image/png": "[encoded data removed]",
      "text/plain": [
       "<Figure size 432x288 with 1 Axes>"
      ]
     },
     "metadata": {
      "needs_background": "light"
     },
     "output_type": "display_data"
    }
   ],
   "source": [
    "# датафрейм с кумулятивным количеством заказов и кумулятивной выручкой по дням в группе А\n",
    "cumulativeRevenueA = cumulativeData[cumulativeData['group']=='A'][['date','revenue', 'orders']]\n",
    "\n",
    "# датафрейм с кумулятивным количеством заказов и кумулятивной выручкой по дням в группе B\n",
    "cumulativeRevenueB = cumulativeData[cumulativeData['group']=='B'][['date','revenue', 'orders']]\n",
    "\n",
    "# Строим график выручки группы А\n",
    "plt.plot(cumulativeRevenueA['date'], cumulativeRevenueA['revenue'], label='A')\n",
    "\n",
    "# Строим график выручки группы B\n",
    "plt.plot(cumulativeRevenueB['date'], cumulativeRevenueB['revenue'], label='B')\n",
    "plt.xlabel('дата',fontsize=12)\n",
    "plt.ylabel('выручка',fontsize=12)\n",
    "plt.xticks(rotation = 45)\n",
    "plt.title('График кумулятивной выручки по группам',fontsize=12)\n",
    "plt.legend() "
   ]
  },
  {
   "cell_type": "markdown",
   "metadata": {},
   "source": [
    "**Вывод:**\n",
    "выручка обеих групп стабильно растёт на протяжении всего теста. В группе во второй половине теста есть резкий всплеск. Возможно,есть аномально большие заказы. при заключительном анализе их нужно будет удалить."
   ]
  },
  {
   "cell_type": "markdown",
   "metadata": {},
   "source": [
    "Построим график кумулятивного среднего чека по группам. "
   ]
  },
  {
   "cell_type": "code",
   "execution_count": 10,
   "metadata": {},
   "outputs": [
    {
     "data": {
      "text/plain": [
       "Text(0.5, 1.0, 'График кумулятивного среднего чека по группам')"
      ]
     },
     "execution_count": 10,
     "metadata": {},
     "output_type": "execute_result"
    },
    {
     "data": {
      "image/png": "[encoded data removed]",
      "text/plain": [
       "<Figure size 432x288 with 1 Axes>"
      ]
     },
     "metadata": {
      "needs_background": "light"
     },
     "output_type": "display_data"
    }
   ],
   "source": [
    "plt.plot(cumulativeRevenueA['date'], cumulativeRevenueA['revenue']/cumulativeRevenueA['orders'], label='A')\n",
    "plt.plot(cumulativeRevenueB['date'], cumulativeRevenueB['revenue']/cumulativeRevenueB['orders'], label='B')\n",
    "plt.ylabel('кумулятивный средний чек',fontsize=12)\n",
    "plt.xticks(rotation = 45)\n",
    "plt.legend() \n",
    "plt.title('График кумулятивного среднего чека по группам',fontsize=12)"
   ]
  },
  {
   "cell_type": "markdown",
   "metadata": {},
   "source": [
    "**Вывод.** \n",
    "Кумулятивное значение среднего чека в обеих группах колеблется. В группе А после падения в начале теста значение среднего чека растёт и стабилизируется. В группе В есть резкий всплеск в середине теста. Возможно, здесь естьаномально крупные заказы. Требуется дополнительный анализ выбросов, которые так сильно искажают результаты."
   ]
  },
  {
   "cell_type": "markdown",
   "metadata": {},
   "source": [
    "Построим график относительного изменения кумулятивного среднего чека группы B к группе A. "
   ]
  },
  {
   "cell_type": "code",
   "execution_count": 11,
   "metadata": {},
   "outputs": [
    {
     "data": {
      "text/plain": [
       "Text(0.5, 1.0, 'Относительное изменение кумулятивного среднего чека группы B к группе A')"
      ]
     },
     "execution_count": 11,
     "metadata": {},
     "output_type": "execute_result"
    },
    {
     "data": {
      "image/png": "[encoded data removed]",
      "text/plain": [
       "<Figure size 432x288 with 1 Axes>"
      ]
     },
     "metadata": {
      "needs_background": "light"
     },
     "output_type": "display_data"
    }
   ],
   "source": [
    "# собираем данные в одном датафрейме\n",
    "mergedCumulativeRevenue = cumulativeRevenueA.merge(\n",
    "    cumulativeRevenueB, \n",
    "    left_on='date', \n",
    "    right_on='date', \n",
    "    how='left', \n",
    "    suffixes=['A', 'B']\n",
    ")\n",
    "\n",
    "# cтроим отношение средних чеков\n",
    "plt.plot(mergedCumulativeRevenue['date'], (\n",
    "    mergedCumulativeRevenue['revenueB']/\n",
    "    mergedCumulativeRevenue['ordersB'])/(\n",
    "    mergedCumulativeRevenue['revenueA']/\n",
    "    mergedCumulativeRevenue['ordersA'])-1\n",
    "        )\n",
    "\n",
    "# добавляем ось X\n",
    "plt.axhline(y=0, color='black', linestyle='--') \n",
    "plt.ylabel('относительное различие чеков',fontsize=12)\n",
    "plt.xticks(rotation = 45)\n",
    "plt.title('Относительное изменение кумулятивного среднего чека группы B к группе A',fontsize=12)"
   ]
  },
  {
   "cell_type": "markdown",
   "metadata": {},
   "source": [
    "**Вывод.**\n",
    "Результаты теста значительно и резко менялись в несколько дат. Возможно,именно тогда были сделаны аномально большие заказы. Стоит проверить 6-7 августа и 20 августа."
   ]
  },
  {
   "cell_type": "markdown",
   "metadata": {},
   "source": [
    "Построим график кумулятивного среднего количества заказов на посетителя по группам. "
   ]
  },
  {
   "cell_type": "code",
   "execution_count": 12,
   "metadata": {},
   "outputs": [
    {
     "data": {
      "text/plain": [
       "(array([18109., 18113., 18117., 18121., 18125., 18129., 18133., 18137.]),\n",
       " [Text(0, 0, ''),\n",
       "  Text(0, 0, ''),\n",
       "  Text(0, 0, ''),\n",
       "  Text(0, 0, ''),\n",
       "  Text(0, 0, ''),\n",
       "  Text(0, 0, ''),\n",
       "  Text(0, 0, ''),\n",
       "  Text(0, 0, '')])"
      ]
     },
     "execution_count": 12,
     "metadata": {},
     "output_type": "execute_result"
    },
    {
     "data": {
      "image/png": "[encoded data removed]",
      "text/plain": [
       "<Figure size 432x288 with 1 Axes>"
      ]
     },
     "metadata": {
      "needs_background": "light"
     },
     "output_type": "display_data"
    }
   ],
   "source": [
    "# считаем кумулятивную конверсию\n",
    "cumulativeData['conversion'] = cumulativeData['orders']/cumulativeData['visitors']\n",
    "\n",
    "# отделяем данные по группе A\n",
    "cumulativeDataA = cumulativeData[cumulativeData['group']=='A']\n",
    "\n",
    "# отделяем данные по группе B\n",
    "cumulativeDataB = cumulativeData[cumulativeData['group']=='B']\n",
    "\n",
    "# строим графики\n",
    "plt.plot(cumulativeDataA['date'], cumulativeDataA['conversion'], label='A')\n",
    "plt.plot(cumulativeDataB['date'], cumulativeDataB['conversion'], label='B')\n",
    "plt.legend()\n",
    "plt.title('Кумулятивное среднее количество заказов на посетителя по группам',fontsize=12)\n",
    "# задаем масштаб осей\n",
    "plt.axis([dt.datetime(2019, 8, 1), dt.datetime(2019, 8, 31), 0, 0.05])\n",
    "plt.ylabel('кумулятивное среднее',fontsize=12)\n",
    "plt.xticks(rotation = 45)"
   ]
  },
  {
   "cell_type": "markdown",
   "metadata": {},
   "source": [
    "**Вывод.** \n",
    "В начале теста сегмент А показывал значение кумулятивнго среднего количества заказов в расчёте на посетителя выше того же значения сегмента В. Однако сегмент В постепенно выровнялся и этот его показатель стал стабильно выше аналогичного показателя сегмента А.\n",
    "Мы изменили масштаб графика,чтобы было видно, что абсолютное значение колебаний в начале и в конце теста не слишком большое."
   ]
  },
  {
   "cell_type": "markdown",
   "metadata": {},
   "source": [
    "Построим график относительного изменения кумулятивного среднего количества заказов на посетителя группы B к группе A. "
   ]
  },
  {
   "cell_type": "code",
   "execution_count": 13,
   "metadata": {},
   "outputs": [
    {
     "data": {
      "text/plain": [
       "(array([18109., 18113., 18117., 18121., 18125., 18129., 18133., 18137.]),\n",
       " [Text(0, 0, ''),\n",
       "  Text(0, 0, ''),\n",
       "  Text(0, 0, ''),\n",
       "  Text(0, 0, ''),\n",
       "  Text(0, 0, ''),\n",
       "  Text(0, 0, ''),\n",
       "  Text(0, 0, ''),\n",
       "  Text(0, 0, '')])"
      ]
     },
     "execution_count": 13,
     "metadata": {},
     "output_type": "execute_result"
    },
    {
     "data": {
      "image/png": "[encoded data removed]",
      "text/plain": [
       "<Figure size 432x288 with 1 Axes>"
      ]
     },
     "metadata": {
      "needs_background": "light"
     },
     "output_type": "display_data"
    }
   ],
   "source": [
    "mergedCumulativeConversions = cumulativeDataA[['date','conversion']].merge(\n",
    "    cumulativeDataB[['date','conversion']], left_on='date', right_on='date', how='left', suffixes=['A', 'B']\n",
    ")\n",
    "\n",
    "plt.plot(\n",
    "    mergedCumulativeConversions['date'], mergedCumulativeConversions['conversionB']/\n",
    "    mergedCumulativeConversions['conversionA']-1, label=\"Относительный прирост конверсии группы B относительно группы A\"\n",
    ")\n",
    "plt.title('Относительный прирост кумулятивного среднего количества заказов группы В относительно группы А',fontsize=12)\n",
    "plt.axhline(y=0, color='black', linestyle='--')\n",
    "plt.axhline(y=0.2, color='grey', linestyle='--')\n",
    "plt.axis([dt.datetime(2019, 8, 1), dt.datetime(2019, 8, 31), -0.5, 0.5])\n",
    "plt.xticks(rotation = 45)"
   ]
  },
  {
   "cell_type": "markdown",
   "metadata": {},
   "source": [
    "**Вывод.** \n",
    "Первую неделю тестирования кумулятивное среднее количество заказов на посетителя группы B было меньше, чем у посетителя группы А. Затем значение этого параметра стало стабильно расти и зафиксировалось на уровне 15-20%. Показатели группы В стабильно выше показателей группы А на протяжении последних трёх недель теста."
   ]
  },
  {
   "cell_type": "markdown",
   "metadata": {},
   "source": [
    "#### Анализ выбросов и всплесков."
   ]
  },
  {
   "cell_type": "markdown",
   "metadata": {},
   "source": [
    "Построим точечный график количества заказов по пользователям. "
   ]
  },
  {
   "cell_type": "code",
   "execution_count": 14,
   "metadata": {},
   "outputs": [
    {
     "name": "stdout",
     "output_type": "stream",
     "text": [
      "<class 'pandas.core.frame.DataFrame'>\n",
      "RangeIndex: 1197 entries, 0 to 1196\n",
      "Data columns (total 5 columns):\n",
      " #   Column         Non-Null Count  Dtype         \n",
      "---  ------         --------------  -----         \n",
      " 0   transactionId  1197 non-null   int64         \n",
      " 1   visitorId      1197 non-null   int64         \n",
      " 2   date           1197 non-null   datetime64[ns]\n",
      " 3   revenue        1197 non-null   int64         \n",
      " 4   group          1197 non-null   object        \n",
      "dtypes: datetime64[ns](1), int64(3), object(1)\n",
      "memory usage: 46.9+ KB\n"
     ]
    }
   ],
   "source": [
    "orders.info()"
   ]
  },
  {
   "cell_type": "code",
   "execution_count": 15,
   "metadata": {},
   "outputs": [
    {
     "name": "stdout",
     "output_type": "stream",
     "text": [
      "       visitorId  orders\n",
      "1023  4256040402      11\n",
      "591   2458001652      11\n",
      "569   2378935119       9\n",
      "487   2038680547       8\n",
      "44     199603092       5\n",
      "744   3062433592       5\n",
      "55     237748145       5\n",
      "917   3803269165       5\n",
      "299   1230306981       5\n",
      "897   3717692402       5\n"
     ]
    }
   ],
   "source": [
    "# посчитаем количество заказов по пользователям\n",
    "ordersByUsers = orders.groupby('visitorId', as_index=False).agg({'transactionId' : 'nunique'})\n",
    "ordersByUsers.columns = ['visitorId','orders']\n",
    "print(ordersByUsers.sort_values(by='orders',ascending=False).head(10))"
   ]
  },
  {
   "cell_type": "code",
   "execution_count": 16,
   "metadata": {},
   "outputs": [
    {
     "data": {
      "text/plain": [
       "Text(0.5, 1.0, 'График количества заказов по пользователям')"
      ]
     },
     "execution_count": 16,
     "metadata": {},
     "output_type": "execute_result"
    },
    {
     "data": {
      "image/png": "[encoded data removed]",
      "text/plain": [
       "<Figure size 432x288 with 1 Axes>"
      ]
     },
     "metadata": {
      "needs_background": "light"
     },
     "output_type": "display_data"
    }
   ],
   "source": [
    "#Построим диаграмму методом scatter()\n",
    "# серия из чисел от 0 до количества наблюдений в ordersByUsers\n",
    "x_values = pd.Series(range(0, len(ordersByUsers)))\n",
    "plt.scatter(x_values, ordersByUsers['orders'])\n",
    "plt.title('График количества заказов по пользователям',fontsize=12)"
   ]
  },
  {
   "cell_type": "markdown",
   "metadata": {},
   "source": [
    "**Вывод.** \n",
    "Пользователей, сделавших более 2-х заказов мало. Они вполне могут быть аномальными."
   ]
  },
  {
   "cell_type": "markdown",
   "metadata": {},
   "source": [
    "Посчитаем 95-й и 99-й перцентили количества заказов на пользователя. "
   ]
  },
  {
   "cell_type": "code",
   "execution_count": 17,
   "metadata": {},
   "outputs": [
    {
     "data": {
      "text/plain": [
       "array([2, 4])"
      ]
     },
     "execution_count": 17,
     "metadata": {},
     "output_type": "execute_result"
    }
   ],
   "source": [
    "# Метод np.percentile('column', [percentile1, percentile2, percentile3]) находит перцентили.\n",
    "prc = np.percentile(ordersByUsers['orders'], [95,99]).astype(int)\n",
    "prc"
   ]
  },
  {
   "cell_type": "markdown",
   "metadata": {},
   "source": [
    "**Вывод.** \n",
    "Абсолютное большинство пользователей сделали только 1 заказ. 2 заказа приходится только на 95-й перцентиль. Следовательно, пользователей с 2-мя, 3-мя и 4-мя заказами можно считать аномальными."
   ]
  },
  {
   "cell_type": "markdown",
   "metadata": {},
   "source": [
    "Построим точечный график стоимостей заказов. Сделать выводы и предположения."
   ]
  },
  {
   "cell_type": "code",
   "execution_count": 18,
   "metadata": {},
   "outputs": [
    {
     "data": {
      "text/plain": [
       "Text(0.5, 1.0, 'График стоимостей заказов')"
      ]
     },
     "execution_count": 18,
     "metadata": {},
     "output_type": "execute_result"
    },
    {
     "data": {
      "image/png": "[encoded data removed]",
      "text/plain": [
       "<Figure size 432x288 with 1 Axes>"
      ]
     },
     "metadata": {
      "needs_background": "light"
     },
     "output_type": "display_data"
    }
   ],
   "source": [
    "x_values = pd.Series(range(0, len(orders['revenue'])))\n",
    "plt.scatter(x_values, orders['revenue']) \n",
    "plt.title('График стоимостей заказов',fontsize=12)"
   ]
  },
  {
   "cell_type": "markdown",
   "metadata": {},
   "source": [
    "**Вывод.**\n",
    "Заказ стоимостью 200 000 у.е. всего 1. Основная масса заказов - гораздо дешевле. Виден аномально большой заказ - его стоимость выше 1, млн.у.е. Необходимо найти выборочные перцентили."
   ]
  },
  {
   "cell_type": "code",
   "execution_count": 19,
   "metadata": {},
   "outputs": [
    {
     "data": {
      "text/plain": [
       "array([28000, 58233])"
      ]
     },
     "execution_count": 19,
     "metadata": {},
     "output_type": "execute_result"
    }
   ],
   "source": [
    "# Посчитаем 95-й и 99-й перцентили стоимости заказов.\n",
    "prcn = np.percentile(orders['revenue'], [95,99]).astype(int)\n",
    "prcn"
   ]
  },
  {
   "cell_type": "markdown",
   "metadata": {},
   "source": [
    "**Вывод.**\n",
    "Аномальными можно считать заказы стоимостью выше 28 000 у.е."
   ]
  },
  {
   "cell_type": "markdown",
   "metadata": {},
   "source": [
    "#### Статистический анализ."
   ]
  },
  {
   "cell_type": "markdown",
   "metadata": {},
   "source": [
    "Посчитаем статистическую значимость различий в среднем количестве заказов на посетителя между группами по «сырым» данным. \n",
    "Сделаем выводы и предположения.\n",
    "**Сформулируем гипотезы.**\n",
    "- Нулевая: различий в среднем количестве заказов между группами нет.\n",
    "- Альтернативная: различия в среднем между группами есть."
   ]
  },
  {
   "cell_type": "code",
   "execution_count": 20,
   "metadata": {},
   "outputs": [
    {
     "name": "stdout",
     "output_type": "stream",
     "text": [
      "        date  ordersPerDateA  revenuePerDateA  ordersPerDateB  \\\n",
      "0 2019-08-01              24           148579              21   \n",
      "1 2019-08-02              20            93822              24   \n",
      "2 2019-08-03              24           112473              16   \n",
      "3 2019-08-04              16            70825              17   \n",
      "4 2019-08-05              25           124218              23   \n",
      "\n",
      "   revenuePerDateB  ordersCummulativeA  revenueCummulativeA  \\\n",
      "0           101217                  24               148579   \n",
      "1           165531                  44               242401   \n",
      "2           114248                  68               354874   \n",
      "3           108571                  84               425699   \n",
      "4            92428                 109               549917   \n",
      "\n",
      "   ordersCummulativeB  revenueCummulativeB  visitorsPerDateA  \\\n",
      "0                  21               101217               719   \n",
      "1                  45               266748               619   \n",
      "2                  61               380996               507   \n",
      "3                  78               489567               717   \n",
      "4                 101               581995               756   \n",
      "\n",
      "   visitorsPerDateB  visitorsCummulativeA  visitorsCummulativeB  \n",
      "0               713                   719                   713  \n",
      "1               581                  1338                  1294  \n",
      "2               509                  1845                  1803  \n",
      "3               770                  2562                  2573  \n",
      "4               707                  3318                  3280  \n",
      "P-value = 0.017\n",
      "Различие в среднем количестве заказов между группами: 0.138\n"
     ]
    }
   ],
   "source": [
    "visitorsADaily = visitors[visitors['group'] == 'A'][['date', 'visitors']]\n",
    "visitorsADaily.columns = ['date', 'visitorsPerDateA']\n",
    "\n",
    "visitorsACummulative = visitorsADaily.apply(\n",
    "    lambda x: visitorsADaily[visitorsADaily['date'] <= x['date']].agg(\n",
    "        {'date': 'max', 'visitorsPerDateA': 'sum'}\n",
    "    ),\n",
    "    axis=1,\n",
    ")\n",
    "visitorsACummulative.columns = ['date', 'visitorsCummulativeA']\n",
    "\n",
    "visitorsBDaily = visitors[visitors['group'] == 'B'][['date', 'visitors']]\n",
    "visitorsBDaily.columns = ['date', 'visitorsPerDateB']\n",
    "\n",
    "visitorsBCummulative = visitorsBDaily.apply(\n",
    "    lambda x: visitorsBDaily[visitorsBDaily['date'] <= x['date']].agg(\n",
    "        {'date': 'max', 'visitorsPerDateB': 'sum'}\n",
    "    ),\n",
    "    axis=1,\n",
    ")\n",
    "visitorsBCummulative.columns = ['date', 'visitorsCummulativeB']\n",
    "\n",
    "ordersADaily = (\n",
    "    orders[orders['group'] == 'A'][['date', 'transactionId', 'visitorId', 'revenue']]\n",
    "    .groupby('date', as_index=False)\n",
    "    .agg({'transactionId': pd.Series.nunique, 'revenue': 'sum'})\n",
    ")\n",
    "ordersADaily.columns = ['date', 'ordersPerDateA', 'revenuePerDateA']\n",
    "\n",
    "ordersACummulative = ordersADaily.apply(\n",
    "    lambda x: ordersADaily[ordersADaily['date'] <= x['date']].agg(\n",
    "        {'date': 'max', 'ordersPerDateA': 'sum', 'revenuePerDateA': 'sum'}\n",
    "    ),\n",
    "    axis=1,\n",
    ").sort_values(by=['date'])\n",
    "ordersACummulative.columns = [\n",
    "    'date',\n",
    "    'ordersCummulativeA',\n",
    "    'revenueCummulativeA',\n",
    "]\n",
    "\n",
    "ordersBDaily = (\n",
    "    orders[orders['group'] == 'B'][['date', 'transactionId', 'visitorId', 'revenue']]\n",
    "    .groupby('date', as_index=False)\n",
    "    .agg({'transactionId': pd.Series.nunique, 'revenue': 'sum'})\n",
    ")\n",
    "ordersBDaily.columns = ['date', 'ordersPerDateB', 'revenuePerDateB']\n",
    "\n",
    "ordersBCummulative = ordersBDaily.apply(\n",
    "    lambda x: ordersBDaily[ordersBDaily['date'] <= x['date']].agg(\n",
    "        {'date': 'max', 'ordersPerDateB': 'sum', 'revenuePerDateB': 'sum'}\n",
    "    ),\n",
    "    axis=1,\n",
    ").sort_values(by=['date'])\n",
    "ordersBCummulative.columns = [\n",
    "    'date',\n",
    "    'ordersCummulativeB',\n",
    "    'revenueCummulativeB',\n",
    "]\n",
    "\n",
    "data = (\n",
    "    ordersADaily.merge(\n",
    "        ordersBDaily, left_on='date', right_on='date', how='left'\n",
    "    )\n",
    "    .merge(ordersACummulative, left_on='date', right_on='date', how='left')\n",
    "    .merge(ordersBCummulative, left_on='date', right_on='date', how='left')\n",
    "    .merge(visitorsADaily, left_on='date', right_on='date', how='left')\n",
    "    .merge(visitorsBDaily, left_on='date', right_on='date', how='left')\n",
    "    .merge(visitorsACummulative, left_on='date', right_on='date', how='left')\n",
    "    .merge(visitorsBCummulative, left_on='date', right_on='date', how='left')\n",
    ")\n",
    "\n",
    "print(data.head(5))\n",
    "\n",
    "ordersByUsersA = (\n",
    "    orders[orders['group'] == 'A']\n",
    "    .groupby('visitorId', as_index=False)\n",
    "    .agg({'transactionId': pd.Series.nunique})\n",
    ")\n",
    "ordersByUsersA.columns = ['visitorId', 'orders']\n",
    "\n",
    "ordersByUsersB = (\n",
    "    orders[orders['group'] == 'B']\n",
    "    .groupby('visitorId', as_index=False)\n",
    "    .agg({'transactionId': pd.Series.nunique})\n",
    ")\n",
    "ordersByUsersB.columns = ['visitorId', 'orders'] \n",
    "\n",
    "sampleA = pd.concat(\n",
    "    [ordersByUsersA['orders'],pd.Series(0, index=np.arange(data['visitorsPerDateA']\n",
    "    .sum() - len(ordersByUsersA['orders'])), name='orders')],axis=0\n",
    ")\n",
    "\n",
    "sampleB = pd.concat(\n",
    "    [ordersByUsersB['orders'],pd.Series(0, index=np.arange(data['visitorsPerDateB']\n",
    "    .sum() - len(ordersByUsersB['orders'])), name='orders')],axis=0\n",
    ")\n",
    "print(f'P-value = ' \"{0:.3f}\".format(stats.mannwhitneyu(sampleA, sampleB)[1]))\n",
    "\n",
    "\n",
    "print(\n",
    "    f'Различие в среднем количестве заказов между группами: '\n",
    "    \"{0:.3f}\".format((data['ordersPerDateB'].sum()/data['visitorsPerDateB'].sum())/(data['ordersPerDateA']\n",
    "    .sum()/data['visitorsPerDateA'].sum())-1)\n",
    ")"
   ]
  },
  {
   "cell_type": "markdown",
   "metadata": {},
   "source": [
    "**Вывод.**\n",
    "- P-value значительно меньше, чем 0,05. Поэтому нулевую гипотезу отвергаем. \n",
    "- Различия в среднем количестве заказов на посетителя по \"сырым\" данным между группами есть.\n",
    "- Относительный прирост среднего группы В относительно группы А составляет 13,8%"
   ]
  },
  {
   "cell_type": "markdown",
   "metadata": {},
   "source": [
    "#### Посчитаем статистическую значимость различий в среднем чеке заказа между группами по «сырым» данным. Сделаем выводы и предположения.\n",
    "**Сформулируем гипотезы.**\n",
    "- Нулевая: различий в среднем чеке заказов между группами нет.\n",
    "- Альтернативная: различия в среднем чеке заказов между группами есть."
   ]
  },
  {
   "cell_type": "code",
   "execution_count": 21,
   "metadata": {},
   "outputs": [
    {
     "name": "stdout",
     "output_type": "stream",
     "text": [
      "P-value = 0.729\n",
      "Различие в среднем количестве заказов между группами: 0.259\n"
     ]
    }
   ],
   "source": [
    "print(\n",
    "    f'P-value = ''{0:.3f}'.format(stats.mannwhitneyu(orders[orders['group']=='A'][\n",
    "    'revenue'], orders[orders['group']=='B']['revenue'])[1])\n",
    ")\n",
    "print(\n",
    "    f'Различие в среднем количестве заказов между группами: '\n",
    "    '{0:.3f}'.format(orders[orders['group']=='B']['revenue']\n",
    "    .mean()/orders[orders['group']=='A']['revenue'].mean()-1)\n",
    ") "
   ]
  },
  {
   "cell_type": "markdown",
   "metadata": {},
   "source": [
    "**Вывод.**\n",
    "- P-value значительно выше, чем 0,05. Поэтому нулевую гипотезу не отвергаем. \n",
    "- Различие в среднем чеке на посетителя по \"сырым\" данным между группами отсутствует.Наблюдаемое различие не значимо, получено случайно из-за единичных выбросов.\n",
    "- Относительное различие среднего группы В относительно группы А составляет 25,9%"
   ]
  },
  {
   "cell_type": "markdown",
   "metadata": {},
   "source": [
    "#### Посчитаем статистическую разницу между группами по \"очищенным\" данным."
   ]
  },
  {
   "cell_type": "markdown",
   "metadata": {},
   "source": [
    "Посчитаем статистическую значимость различий в среднем количестве заказов на посетителя между группами по «очищенным» данным. Сделаем выводы и предположения.\n",
    "Подготовим очищенные от аномалий данные.\n",
    "**Сформулируем гипотезы.**\n",
    "- Нулевая: различий в среднем количестве заказов между группами нет.\n",
    "- Альтернативная: различия в среднем между группами есть."
   ]
  },
  {
   "cell_type": "code",
   "execution_count": 22,
   "metadata": {},
   "outputs": [
    {
     "name": "stdout",
     "output_type": "stream",
     "text": [
      "1099    148427295\n",
      "18      199603092\n",
      "928     204675465\n",
      "23      237748145\n",
      "37      249864742\n",
      "Name: visitorId, dtype: int64\n"
     ]
    }
   ],
   "source": [
    "# найдём аномальных пользователей\n",
    "usersWithManyOrders = pd.concat(\n",
    "    [\n",
    "        ordersByUsersA[ordersByUsersA['orders'] > prc[0]]['visitorId'],\n",
    "        ordersByUsersB[ordersByUsersB['orders'] > prc[0]]['visitorId'],\n",
    "    ],\n",
    "    axis=0,\n",
    ") \n",
    "usersWithExpensiveOrders = orders[orders['revenue'] > prcn[0]]['visitorId']\n",
    "abnormalUsers = (\n",
    "    pd.concat([usersWithManyOrders, usersWithExpensiveOrders], axis=0)\n",
    "    .drop_duplicates()\n",
    "    .sort_values()\n",
    ")\n",
    "print(abnormalUsers.head(5))"
   ]
  },
  {
   "cell_type": "code",
   "execution_count": 23,
   "metadata": {},
   "outputs": [
    {
     "name": "stdout",
     "output_type": "stream",
     "text": [
      "P-value = 0.013\n",
      "Различие в среднем количестве заказов между группами: 0.173\n"
     ]
    }
   ],
   "source": [
    "# Посчитаем статистическую значимость различия среднего количества заказов после удаления аномальных пользователей\n",
    "sampleAFiltered = pd.concat(\n",
    "    [\n",
    "        ordersByUsersA[\n",
    "            np.logical_not(ordersByUsersA['visitorId'].isin(abnormalUsers))\n",
    "        ]['orders'],\n",
    "        pd.Series(\n",
    "            0,\n",
    "            index=np.arange(\n",
    "                data['visitorsPerDateA'].sum() - len(ordersByUsersA['orders'])\n",
    "            ),\n",
    "            name='orders',\n",
    "        ),\n",
    "    ],\n",
    "    axis=0,\n",
    ")\n",
    "\n",
    "sampleBFiltered = pd.concat(\n",
    "    [\n",
    "        ordersByUsersB[\n",
    "            np.logical_not(ordersByUsersB['visitorId'].isin(abnormalUsers))\n",
    "        ]['orders'],\n",
    "        pd.Series(\n",
    "            0,\n",
    "            index=np.arange(\n",
    "                data['visitorsPerDateB'].sum() - len(ordersByUsersB['orders'])\n",
    "            ),\n",
    "            name='orders',\n",
    "        ),\n",
    "    ],\n",
    "    axis=0,\n",
    ") \n",
    "print(f'P-value = ' '{0:.3f}'.format(stats.mannwhitneyu(sampleAFiltered, sampleBFiltered)[1]))\n",
    "print(\n",
    "    f'Различие в среднем количестве заказов между группами: '\n",
    "    '{0:.3f}'.format(sampleBFiltered.mean()/sampleAFiltered.mean()-1)\n",
    ") "
   ]
  },
  {
   "cell_type": "markdown",
   "metadata": {},
   "source": [
    "**Вывод.**\n",
    "По \"очищенным\" данным нулевая гипотеза также отвергается - P-value значительно меньше, чем 0,05. Различия в среднем количестве заказов на посетителя между группами есть.\n",
    "Относительный прирост среднего группы В относительно группы А составляет 17,3%"
   ]
  },
  {
   "cell_type": "markdown",
   "metadata": {},
   "source": [
    "Посчитаем статистическую значимость различий в среднем чеке заказа между группами по «очищенным» данным. Сделаем выводы и предположения.\n",
    "**Сформулируем гипотезы.**\n",
    "- Нулевая: различий в среднем чеке заказов между группами нет.\n",
    "- Альтернативная: различия в среднем чеке заказов между группами есть."
   ]
  },
  {
   "cell_type": "code",
   "execution_count": 24,
   "metadata": {},
   "outputs": [
    {
     "name": "stdout",
     "output_type": "stream",
     "text": [
      "P-value = 0.738\n",
      "Различие в среднем количестве заказов между группами: -0.020\n"
     ]
    }
   ],
   "source": [
    "print(\n",
    "    f'P-value = '\n",
    "    '{0:.3f}'.format(\n",
    "        stats.mannwhitneyu(\n",
    "            orders[\n",
    "                np.logical_and(\n",
    "                    orders['group'] == 'A',\n",
    "                    np.logical_not(orders['visitorId'].isin(abnormalUsers)),\n",
    "                )\n",
    "            ]['revenue'],\n",
    "            orders[\n",
    "                np.logical_and(\n",
    "                    orders['group'] == 'B',\n",
    "                    np.logical_not(orders['visitorId'].isin(abnormalUsers)),\n",
    "                )\n",
    "            ]['revenue'],\n",
    "        )[1]\n",
    "    )\n",
    ")\n",
    "\n",
    "print(\n",
    "     f'Различие в среднем количестве заказов между группами: '\n",
    "    \"{0:.3f}\".format(\n",
    "        orders[\n",
    "            np.logical_and(\n",
    "                orders['group'] == 'B',\n",
    "                np.logical_not(orders['visitorId'].isin(abnormalUsers)),\n",
    "            )\n",
    "        ]['revenue'].mean()\n",
    "        / orders[\n",
    "            np.logical_and(\n",
    "                orders['group'] == 'A',\n",
    "                np.logical_not(orders['visitorId'].isin(abnormalUsers)),\n",
    "            )\n",
    "        ]['revenue'].mean()\n",
    "        - 1\n",
    "    )\n",
    ") "
   ]
  },
  {
   "cell_type": "markdown",
   "metadata": {},
   "source": [
    "**Вывод.** \n",
    "- Статистическая разница в среднем чеке заказа между группами по очищенным данным тоже отсутствует. \n",
    "- При этом относительный прирост среднего группы В относительно группы А отрицательный, он составляет - 2,0%, сильное влияние аномалий."
   ]
  },
  {
   "cell_type": "markdown",
   "metadata": {},
   "source": [
    "### Общие выводы по анализу А/В теста.\n",
    " \n",
    "- Есть статистически значимое различие по конверсии между группами как по \"сырым\" данным, так и после фильтрации аномалий.\n",
    "- При анализе очищенных от аномалий данных статистически значимое различие по среднему чеку между группами отсутствует, как и при анализе \"сырых\" данных. Такого различия между группами нет.\n",
    "- График различия конверсии между группами показывает, что результаты группы B лучше группы A: имеют тенденцию к росту, либо зафиксировались около среднего значения.\n",
    "- График различия среднего чека до фильтрации аномалий колеблется: именно благодаря ему мы нашли аномалии. Сделать из этого графика определённые выводы нельзя.\n",
    "\n",
    "**Решение по результатам теста: тест можно остановить.** \n",
    "- Результаты группы В лучше результатов группы А.\n",
    "- Средний чек пользователя группы В не отличается от среднего чека пользователя группы А. Как по \"сырым\", так и по \"очищенным\" данным."
   ]
  }
 ],
 "metadata": {
  "ExecuteTimeLog": [
   {
    "duration": 510,
    "start_time": "2023-03-26T09:45:52.629Z"
   },
   {
    "duration": 29,
    "start_time": "2023-03-26T09:51:52.101Z"
   },
   {
    "duration": 14,
    "start_time": "2023-03-26T09:56:57.370Z"
   },
   {
    "duration": 9,
    "start_time": "2023-03-26T09:58:54.395Z"
   },
   {
    "duration": 116,
    "start_time": "2023-03-26T10:28:23.155Z"
   },
   {
    "duration": 82,
    "start_time": "2023-03-26T10:29:45.996Z"
   },
   {
    "duration": 66,
    "start_time": "2023-03-26T10:31:46.989Z"
   },
   {
    "duration": 41,
    "start_time": "2023-03-26T10:32:36.491Z"
   },
   {
    "duration": 135,
    "start_time": "2023-03-26T10:34:03.420Z"
   },
   {
    "duration": 42,
    "start_time": "2023-03-26T10:34:22.983Z"
   },
   {
    "duration": 75,
    "start_time": "2023-03-26T10:34:54.404Z"
   },
   {
    "duration": 529,
    "start_time": "2023-03-26T10:37:48.138Z"
   },
   {
    "duration": 18,
    "start_time": "2023-03-26T10:37:48.681Z"
   },
   {
    "duration": 9,
    "start_time": "2023-03-26T10:37:48.701Z"
   },
   {
    "duration": 83,
    "start_time": "2023-03-26T10:37:48.712Z"
   },
   {
    "duration": 26,
    "start_time": "2023-03-26T10:37:48.797Z"
   },
   {
    "duration": 441,
    "start_time": "2023-03-26T17:41:16.159Z"
   },
   {
    "duration": 91,
    "start_time": "2023-03-26T17:41:16.602Z"
   },
   {
    "duration": 13,
    "start_time": "2023-03-26T17:41:16.695Z"
   },
   {
    "duration": 11,
    "start_time": "2023-03-26T17:41:16.711Z"
   },
   {
    "duration": 103,
    "start_time": "2023-03-26T17:41:16.724Z"
   },
   {
    "duration": 83,
    "start_time": "2023-03-26T17:41:16.829Z"
   },
   {
    "duration": 422,
    "start_time": "2023-03-26T17:47:14.846Z"
   },
   {
    "duration": 333,
    "start_time": "2023-03-26T17:50:33.885Z"
   },
   {
    "duration": 378,
    "start_time": "2023-03-26T17:51:37.319Z"
   },
   {
    "duration": 3,
    "start_time": "2023-03-26T17:52:37.398Z"
   },
   {
    "duration": 30,
    "start_time": "2023-03-26T17:52:38.214Z"
   },
   {
    "duration": 355,
    "start_time": "2023-03-26T17:53:00.743Z"
   },
   {
    "duration": 75,
    "start_time": "2023-03-26T17:59:45.389Z"
   },
   {
    "duration": 332,
    "start_time": "2023-03-26T18:01:27.742Z"
   },
   {
    "duration": 48,
    "start_time": "2023-03-26T18:02:12.826Z"
   },
   {
    "duration": 78,
    "start_time": "2023-03-26T18:26:02.743Z"
   },
   {
    "duration": 345,
    "start_time": "2023-03-26T18:26:43.870Z"
   },
   {
    "duration": 42,
    "start_time": "2023-03-26T18:27:14.142Z"
   },
   {
    "duration": 7,
    "start_time": "2023-03-26T18:31:53.956Z"
   },
   {
    "duration": 302,
    "start_time": "2023-03-26T18:37:04.803Z"
   },
   {
    "duration": 6,
    "start_time": "2023-03-26T18:40:11.354Z"
   },
   {
    "duration": 2520,
    "start_time": "2023-03-26T18:40:17.130Z"
   },
   {
    "duration": 9,
    "start_time": "2023-03-26T18:43:07.422Z"
   },
   {
    "duration": 12,
    "start_time": "2023-03-26T18:47:30.804Z"
   },
   {
    "duration": 456,
    "start_time": "2023-03-26T18:59:28.666Z"
   },
   {
    "duration": 35,
    "start_time": "2023-03-26T18:59:29.124Z"
   },
   {
    "duration": 10,
    "start_time": "2023-03-26T18:59:29.160Z"
   },
   {
    "duration": 15,
    "start_time": "2023-03-26T18:59:29.172Z"
   },
   {
    "duration": 78,
    "start_time": "2023-03-26T18:59:29.194Z"
   },
   {
    "duration": 35,
    "start_time": "2023-03-26T18:59:29.273Z"
   },
   {
    "duration": 82,
    "start_time": "2023-03-26T18:59:29.310Z"
   },
   {
    "duration": 0,
    "start_time": "2023-03-26T18:59:29.394Z"
   },
   {
    "duration": 1443,
    "start_time": "2023-03-26T19:01:00.422Z"
   },
   {
    "duration": 1280,
    "start_time": "2023-03-26T19:01:15.590Z"
   },
   {
    "duration": 548,
    "start_time": "2023-03-26T19:04:58.827Z"
   },
   {
    "duration": 699,
    "start_time": "2023-03-26T19:05:12.607Z"
   },
   {
    "duration": 33,
    "start_time": "2023-03-26T19:05:13.308Z"
   },
   {
    "duration": 9,
    "start_time": "2023-03-26T19:05:13.343Z"
   },
   {
    "duration": 9,
    "start_time": "2023-03-26T19:05:13.353Z"
   },
   {
    "duration": 67,
    "start_time": "2023-03-26T19:05:13.363Z"
   },
   {
    "duration": 32,
    "start_time": "2023-03-26T19:05:13.432Z"
   },
   {
    "duration": 1372,
    "start_time": "2023-03-26T19:05:13.466Z"
   },
   {
    "duration": 0,
    "start_time": "2023-03-26T19:05:14.840Z"
   },
   {
    "duration": 6,
    "start_time": "2023-03-26T19:05:34.326Z"
   },
   {
    "duration": 133,
    "start_time": "2023-03-26T19:09:14.420Z"
   },
   {
    "duration": 109,
    "start_time": "2023-03-26T19:12:52.481Z"
   },
   {
    "duration": 121,
    "start_time": "2023-03-26T19:17:05.556Z"
   },
   {
    "duration": 309,
    "start_time": "2023-03-26T19:19:33.206Z"
   },
   {
    "duration": 7,
    "start_time": "2023-03-26T19:25:54.343Z"
   },
   {
    "duration": 51,
    "start_time": "2023-03-27T08:13:57.723Z"
   },
   {
    "duration": 871,
    "start_time": "2023-03-27T08:14:51.428Z"
   },
   {
    "duration": 105,
    "start_time": "2023-03-27T08:14:52.301Z"
   },
   {
    "duration": 13,
    "start_time": "2023-03-27T08:14:52.408Z"
   },
   {
    "duration": 10,
    "start_time": "2023-03-27T08:14:52.423Z"
   },
   {
    "duration": 137,
    "start_time": "2023-03-27T08:14:52.435Z"
   },
   {
    "duration": 96,
    "start_time": "2023-03-27T08:14:52.574Z"
   },
   {
    "duration": 1638,
    "start_time": "2023-03-27T08:14:52.671Z"
   },
   {
    "duration": 0,
    "start_time": "2023-03-27T08:14:54.311Z"
   },
   {
    "duration": 0,
    "start_time": "2023-03-27T08:14:54.314Z"
   },
   {
    "duration": 11,
    "start_time": "2023-03-27T08:15:37.247Z"
   },
   {
    "duration": 133,
    "start_time": "2023-03-27T08:15:51.007Z"
   },
   {
    "duration": 1450,
    "start_time": "2023-03-27T08:23:57.200Z"
   },
   {
    "duration": 6,
    "start_time": "2023-03-27T08:24:24.001Z"
   },
   {
    "duration": 109,
    "start_time": "2023-03-27T08:24:29.621Z"
   },
   {
    "duration": 11,
    "start_time": "2023-03-27T08:27:57.098Z"
   },
   {
    "duration": 10,
    "start_time": "2023-03-27T08:33:15.101Z"
   },
   {
    "duration": 15,
    "start_time": "2023-03-27T08:33:32.051Z"
   },
   {
    "duration": 3,
    "start_time": "2023-03-27T08:35:04.689Z"
   },
   {
    "duration": 297,
    "start_time": "2023-03-27T08:44:16.613Z"
   },
   {
    "duration": 656,
    "start_time": "2023-03-27T09:01:42.901Z"
   },
   {
    "duration": 35,
    "start_time": "2023-03-27T09:01:43.559Z"
   },
   {
    "duration": 12,
    "start_time": "2023-03-27T09:01:43.598Z"
   },
   {
    "duration": 11,
    "start_time": "2023-03-27T09:01:43.612Z"
   },
   {
    "duration": 75,
    "start_time": "2023-03-27T09:01:43.626Z"
   },
   {
    "duration": 35,
    "start_time": "2023-03-27T09:01:43.704Z"
   },
   {
    "duration": 9,
    "start_time": "2023-03-27T09:01:43.741Z"
   },
   {
    "duration": 41,
    "start_time": "2023-03-27T09:01:43.752Z"
   },
   {
    "duration": 314,
    "start_time": "2023-03-27T09:01:43.798Z"
   },
   {
    "duration": 58,
    "start_time": "2023-03-27T18:26:13.107Z"
   },
   {
    "duration": 1149,
    "start_time": "2023-03-27T18:26:58.223Z"
   },
   {
    "duration": 89,
    "start_time": "2023-03-27T18:26:59.375Z"
   },
   {
    "duration": 18,
    "start_time": "2023-03-27T18:26:59.472Z"
   },
   {
    "duration": 21,
    "start_time": "2023-03-27T18:26:59.497Z"
   },
   {
    "duration": 159,
    "start_time": "2023-03-27T18:26:59.524Z"
   },
   {
    "duration": 92,
    "start_time": "2023-03-27T18:26:59.685Z"
   },
   {
    "duration": 14,
    "start_time": "2023-03-27T18:26:59.780Z"
   },
   {
    "duration": 21,
    "start_time": "2023-03-27T18:26:59.796Z"
   },
   {
    "duration": 418,
    "start_time": "2023-03-27T18:26:59.820Z"
   },
   {
    "duration": 373,
    "start_time": "2023-03-27T18:27:00.240Z"
   },
   {
    "duration": 393,
    "start_time": "2023-03-27T18:30:57.432Z"
   },
   {
    "duration": 301,
    "start_time": "2023-03-27T18:38:35.751Z"
   },
   {
    "duration": 228,
    "start_time": "2023-03-27T18:38:38.553Z"
   },
   {
    "duration": 284,
    "start_time": "2023-03-27T18:40:29.899Z"
   },
   {
    "duration": 191,
    "start_time": "2023-03-27T18:42:25.406Z"
   },
   {
    "duration": 307,
    "start_time": "2023-03-27T18:57:56.276Z"
   },
   {
    "duration": 255,
    "start_time": "2023-03-27T18:59:53.299Z"
   },
   {
    "duration": 309,
    "start_time": "2023-03-27T19:09:09.311Z"
   },
   {
    "duration": 225,
    "start_time": "2023-03-27T19:09:11.189Z"
   },
   {
    "duration": 230,
    "start_time": "2023-03-27T19:09:15.775Z"
   },
   {
    "duration": 373,
    "start_time": "2023-03-27T19:09:20.344Z"
   },
   {
    "duration": 193,
    "start_time": "2023-03-27T19:12:22.808Z"
   },
   {
    "duration": 1544,
    "start_time": "2023-03-27T19:14:21.292Z"
   },
   {
    "duration": 199,
    "start_time": "2023-03-27T19:15:01.953Z"
   },
   {
    "duration": 198,
    "start_time": "2023-03-27T19:21:31.288Z"
   },
   {
    "duration": 212,
    "start_time": "2023-03-27T19:26:55.395Z"
   },
   {
    "duration": 307,
    "start_time": "2023-03-27T19:27:20.398Z"
   },
   {
    "duration": 333,
    "start_time": "2023-03-27T19:27:34.132Z"
   },
   {
    "duration": 216,
    "start_time": "2023-03-27T19:27:47.236Z"
   },
   {
    "duration": 816,
    "start_time": "2023-03-27T19:28:13.811Z"
   },
   {
    "duration": 41,
    "start_time": "2023-03-27T19:28:14.629Z"
   },
   {
    "duration": 27,
    "start_time": "2023-03-27T19:28:14.673Z"
   },
   {
    "duration": 10,
    "start_time": "2023-03-27T19:28:14.702Z"
   },
   {
    "duration": 79,
    "start_time": "2023-03-27T19:28:14.715Z"
   },
   {
    "duration": 40,
    "start_time": "2023-03-27T19:28:14.797Z"
   },
   {
    "duration": 9,
    "start_time": "2023-03-27T19:28:14.838Z"
   },
   {
    "duration": 21,
    "start_time": "2023-03-27T19:28:14.849Z"
   },
   {
    "duration": 363,
    "start_time": "2023-03-27T19:28:14.872Z"
   },
   {
    "duration": 356,
    "start_time": "2023-03-27T19:28:15.238Z"
   },
   {
    "duration": 221,
    "start_time": "2023-03-27T19:28:15.598Z"
   },
   {
    "duration": 339,
    "start_time": "2023-03-27T19:28:15.821Z"
   },
   {
    "duration": 263,
    "start_time": "2023-03-27T19:28:16.167Z"
   },
   {
    "duration": 393,
    "start_time": "2023-03-27T19:41:08.398Z"
   },
   {
    "duration": 365,
    "start_time": "2023-03-27T19:51:17.658Z"
   },
   {
    "duration": 342,
    "start_time": "2023-03-27T19:52:30.835Z"
   },
   {
    "duration": 686,
    "start_time": "2023-03-27T20:07:32.884Z"
   },
   {
    "duration": 29,
    "start_time": "2023-03-27T20:07:33.572Z"
   },
   {
    "duration": 10,
    "start_time": "2023-03-27T20:07:33.603Z"
   },
   {
    "duration": 9,
    "start_time": "2023-03-27T20:07:33.615Z"
   },
   {
    "duration": 60,
    "start_time": "2023-03-27T20:07:33.626Z"
   },
   {
    "duration": 27,
    "start_time": "2023-03-27T20:07:33.687Z"
   },
   {
    "duration": 8,
    "start_time": "2023-03-27T20:07:33.716Z"
   },
   {
    "duration": 14,
    "start_time": "2023-03-27T20:07:33.725Z"
   },
   {
    "duration": 321,
    "start_time": "2023-03-27T20:07:33.740Z"
   },
   {
    "duration": 335,
    "start_time": "2023-03-27T20:07:34.073Z"
   },
   {
    "duration": 230,
    "start_time": "2023-03-27T20:07:34.410Z"
   },
   {
    "duration": 318,
    "start_time": "2023-03-27T20:07:34.642Z"
   },
   {
    "duration": 282,
    "start_time": "2023-03-27T20:07:34.962Z"
   },
   {
    "duration": 308,
    "start_time": "2023-03-27T20:07:35.246Z"
   },
   {
    "duration": 954,
    "start_time": "2023-03-27T20:10:03.722Z"
   },
   {
    "duration": 36,
    "start_time": "2023-03-27T20:10:04.679Z"
   },
   {
    "duration": 14,
    "start_time": "2023-03-27T20:10:04.718Z"
   },
   {
    "duration": 13,
    "start_time": "2023-03-27T20:10:04.736Z"
   },
   {
    "duration": 79,
    "start_time": "2023-03-27T20:10:04.764Z"
   },
   {
    "duration": 55,
    "start_time": "2023-03-27T20:10:04.845Z"
   },
   {
    "duration": 11,
    "start_time": "2023-03-27T20:10:04.903Z"
   },
   {
    "duration": 17,
    "start_time": "2023-03-27T20:10:04.916Z"
   },
   {
    "duration": 372,
    "start_time": "2023-03-27T20:10:04.935Z"
   },
   {
    "duration": 363,
    "start_time": "2023-03-27T20:10:05.309Z"
   },
   {
    "duration": 256,
    "start_time": "2023-03-27T20:10:05.681Z"
   },
   {
    "duration": 353,
    "start_time": "2023-03-27T20:10:05.939Z"
   },
   {
    "duration": 271,
    "start_time": "2023-03-27T20:10:06.294Z"
   },
   {
    "duration": 308,
    "start_time": "2023-03-27T20:10:06.576Z"
   },
   {
    "duration": 54,
    "start_time": "2023-03-28T04:02:05.193Z"
   },
   {
    "duration": 699,
    "start_time": "2023-03-28T04:02:48.093Z"
   },
   {
    "duration": 85,
    "start_time": "2023-03-28T04:02:48.794Z"
   },
   {
    "duration": 9,
    "start_time": "2023-03-28T04:02:48.881Z"
   },
   {
    "duration": 11,
    "start_time": "2023-03-28T04:02:48.892Z"
   },
   {
    "duration": 113,
    "start_time": "2023-03-28T04:02:48.905Z"
   },
   {
    "duration": 76,
    "start_time": "2023-03-28T04:02:49.019Z"
   },
   {
    "duration": 11,
    "start_time": "2023-03-28T04:02:49.097Z"
   },
   {
    "duration": 16,
    "start_time": "2023-03-28T04:02:49.111Z"
   },
   {
    "duration": 257,
    "start_time": "2023-03-28T04:02:49.129Z"
   },
   {
    "duration": 254,
    "start_time": "2023-03-28T04:02:49.388Z"
   },
   {
    "duration": 190,
    "start_time": "2023-03-28T04:02:49.644Z"
   },
   {
    "duration": 317,
    "start_time": "2023-03-28T04:02:49.836Z"
   },
   {
    "duration": 225,
    "start_time": "2023-03-28T04:02:50.155Z"
   },
   {
    "duration": 255,
    "start_time": "2023-03-28T04:02:50.382Z"
   },
   {
    "duration": 10,
    "start_time": "2023-03-28T04:02:50.639Z"
   },
   {
    "duration": 12,
    "start_time": "2023-03-28T04:02:50.651Z"
   },
   {
    "duration": 8,
    "start_time": "2023-03-28T04:09:10.093Z"
   },
   {
    "duration": 131,
    "start_time": "2023-03-28T04:12:10.606Z"
   },
   {
    "duration": 4,
    "start_time": "2023-03-28T04:19:20.529Z"
   },
   {
    "duration": 4591,
    "start_time": "2023-03-28T04:27:16.571Z"
   },
   {
    "duration": 113,
    "start_time": "2023-03-28T04:28:01.543Z"
   },
   {
    "duration": 4,
    "start_time": "2023-03-28T04:39:43.091Z"
   },
   {
    "duration": 253,
    "start_time": "2023-03-28T04:56:02.942Z"
   },
   {
    "duration": 383,
    "start_time": "2023-03-28T04:57:25.389Z"
   },
   {
    "duration": 1050,
    "start_time": "2023-03-28T04:59:35.209Z"
   },
   {
    "duration": 81,
    "start_time": "2023-03-28T04:59:36.260Z"
   },
   {
    "duration": 10,
    "start_time": "2023-03-28T04:59:36.343Z"
   },
   {
    "duration": 8,
    "start_time": "2023-03-28T04:59:36.355Z"
   },
   {
    "duration": 78,
    "start_time": "2023-03-28T04:59:36.365Z"
   },
   {
    "duration": 40,
    "start_time": "2023-03-28T04:59:36.445Z"
   },
   {
    "duration": 10,
    "start_time": "2023-03-28T04:59:36.487Z"
   },
   {
    "duration": 18,
    "start_time": "2023-03-28T04:59:36.499Z"
   },
   {
    "duration": 294,
    "start_time": "2023-03-28T04:59:36.533Z"
   },
   {
    "duration": 260,
    "start_time": "2023-03-28T04:59:36.829Z"
   },
   {
    "duration": 186,
    "start_time": "2023-03-28T04:59:37.090Z"
   },
   {
    "duration": 251,
    "start_time": "2023-03-28T04:59:37.278Z"
   },
   {
    "duration": 170,
    "start_time": "2023-03-28T04:59:37.535Z"
   },
   {
    "duration": 327,
    "start_time": "2023-03-28T04:59:37.707Z"
   },
   {
    "duration": 10,
    "start_time": "2023-03-28T04:59:38.036Z"
   },
   {
    "duration": 14,
    "start_time": "2023-03-28T04:59:38.048Z"
   },
   {
    "duration": 129,
    "start_time": "2023-03-28T04:59:38.064Z"
   },
   {
    "duration": 4,
    "start_time": "2023-03-28T04:59:38.195Z"
   },
   {
    "duration": 135,
    "start_time": "2023-03-28T04:59:38.201Z"
   },
   {
    "duration": 4,
    "start_time": "2023-03-28T04:59:38.338Z"
   },
   {
    "duration": 346,
    "start_time": "2023-03-28T04:59:38.344Z"
   },
   {
    "duration": 377,
    "start_time": "2023-03-28T05:00:02.909Z"
   },
   {
    "duration": 9,
    "start_time": "2023-03-28T05:25:52.586Z"
   },
   {
    "duration": 9,
    "start_time": "2023-03-28T05:45:11.577Z"
   },
   {
    "duration": 1009,
    "start_time": "2023-03-28T05:49:33.492Z"
   },
   {
    "duration": 26,
    "start_time": "2023-03-28T05:49:48.683Z"
   },
   {
    "duration": 1275,
    "start_time": "2023-03-28T06:01:10.992Z"
   },
   {
    "duration": 16,
    "start_time": "2023-03-28T06:01:26.450Z"
   },
   {
    "duration": 1237,
    "start_time": "2023-03-28T14:59:05.285Z"
   },
   {
    "duration": 109,
    "start_time": "2023-03-28T14:59:06.525Z"
   },
   {
    "duration": 12,
    "start_time": "2023-03-28T14:59:06.637Z"
   },
   {
    "duration": 14,
    "start_time": "2023-03-28T14:59:06.662Z"
   },
   {
    "duration": 61,
    "start_time": "2023-03-28T14:59:06.679Z"
   },
   {
    "duration": 37,
    "start_time": "2023-03-28T14:59:06.742Z"
   },
   {
    "duration": 12,
    "start_time": "2023-03-28T14:59:06.781Z"
   },
   {
    "duration": 21,
    "start_time": "2023-03-28T14:59:06.795Z"
   },
   {
    "duration": 385,
    "start_time": "2023-03-28T14:59:06.818Z"
   },
   {
    "duration": 390,
    "start_time": "2023-03-28T14:59:07.205Z"
   },
   {
    "duration": 224,
    "start_time": "2023-03-28T14:59:07.597Z"
   },
   {
    "duration": 352,
    "start_time": "2023-03-28T14:59:07.823Z"
   },
   {
    "duration": 219,
    "start_time": "2023-03-28T14:59:08.177Z"
   },
   {
    "duration": 313,
    "start_time": "2023-03-28T14:59:08.401Z"
   },
   {
    "duration": 11,
    "start_time": "2023-03-28T14:59:08.715Z"
   },
   {
    "duration": 9,
    "start_time": "2023-03-28T14:59:08.728Z"
   },
   {
    "duration": 171,
    "start_time": "2023-03-28T14:59:08.739Z"
   },
   {
    "duration": 5,
    "start_time": "2023-03-28T14:59:08.912Z"
   },
   {
    "duration": 172,
    "start_time": "2023-03-28T14:59:08.918Z"
   },
   {
    "duration": 5,
    "start_time": "2023-03-28T14:59:09.093Z"
   },
   {
    "duration": 395,
    "start_time": "2023-03-28T14:59:09.100Z"
   },
   {
    "duration": 12,
    "start_time": "2023-03-28T14:59:09.496Z"
   },
   {
    "duration": 13,
    "start_time": "2023-03-28T14:59:09.509Z"
   },
   {
    "duration": 51,
    "start_time": "2023-03-28T14:59:09.523Z"
   },
   {
    "duration": 15,
    "start_time": "2023-03-28T14:59:09.576Z"
   },
   {
    "duration": 57,
    "start_time": "2023-03-28T18:40:50.519Z"
   },
   {
    "duration": 1311,
    "start_time": "2023-03-28T18:41:19.137Z"
   },
   {
    "duration": 141,
    "start_time": "2023-03-28T18:41:20.450Z"
   },
   {
    "duration": 12,
    "start_time": "2023-03-28T18:41:20.593Z"
   },
   {
    "duration": 16,
    "start_time": "2023-03-28T18:41:20.607Z"
   },
   {
    "duration": 123,
    "start_time": "2023-03-28T18:41:20.626Z"
   },
   {
    "duration": 83,
    "start_time": "2023-03-28T18:41:20.751Z"
   },
   {
    "duration": 8,
    "start_time": "2023-03-28T18:41:20.835Z"
   },
   {
    "duration": 36,
    "start_time": "2023-03-28T18:41:20.845Z"
   },
   {
    "duration": 335,
    "start_time": "2023-03-28T18:41:20.883Z"
   },
   {
    "duration": 313,
    "start_time": "2023-03-28T18:41:21.220Z"
   },
   {
    "duration": 224,
    "start_time": "2023-03-28T18:41:21.536Z"
   },
   {
    "duration": 389,
    "start_time": "2023-03-28T18:41:21.764Z"
   },
   {
    "duration": 254,
    "start_time": "2023-03-28T18:41:22.156Z"
   },
   {
    "duration": 378,
    "start_time": "2023-03-28T18:41:22.412Z"
   },
   {
    "duration": 24,
    "start_time": "2023-03-28T18:41:22.793Z"
   },
   {
    "duration": 46,
    "start_time": "2023-03-28T18:41:22.820Z"
   },
   {
    "duration": 240,
    "start_time": "2023-03-28T18:41:22.868Z"
   },
   {
    "duration": 9,
    "start_time": "2023-03-28T18:41:23.110Z"
   },
   {
    "duration": 224,
    "start_time": "2023-03-28T18:41:23.122Z"
   },
   {
    "duration": 9,
    "start_time": "2023-03-28T18:41:23.349Z"
   },
   {
    "duration": 631,
    "start_time": "2023-03-28T18:41:23.360Z"
   },
   {
    "duration": 28,
    "start_time": "2023-03-28T18:41:23.994Z"
   },
   {
    "duration": 15,
    "start_time": "2023-03-28T18:41:24.026Z"
   },
   {
    "duration": 65,
    "start_time": "2023-03-28T18:41:24.043Z"
   },
   {
    "duration": 23,
    "start_time": "2023-03-28T18:41:24.110Z"
   },
   {
    "duration": 1178,
    "start_time": "2023-03-28T19:49:38.295Z"
   },
   {
    "duration": 91,
    "start_time": "2023-03-28T19:49:39.475Z"
   },
   {
    "duration": 10,
    "start_time": "2023-03-28T19:49:39.568Z"
   },
   {
    "duration": 15,
    "start_time": "2023-03-28T19:49:39.581Z"
   },
   {
    "duration": 86,
    "start_time": "2023-03-28T19:49:39.598Z"
   },
   {
    "duration": 32,
    "start_time": "2023-03-28T19:49:39.685Z"
   },
   {
    "duration": 10,
    "start_time": "2023-03-28T19:49:39.719Z"
   },
   {
    "duration": 17,
    "start_time": "2023-03-28T19:49:39.732Z"
   },
   {
    "duration": 318,
    "start_time": "2023-03-28T19:49:39.751Z"
   },
   {
    "duration": 321,
    "start_time": "2023-03-28T19:49:40.073Z"
   },
   {
    "duration": 221,
    "start_time": "2023-03-28T19:49:40.396Z"
   },
   {
    "duration": 345,
    "start_time": "2023-03-28T19:49:40.619Z"
   },
   {
    "duration": 222,
    "start_time": "2023-03-28T19:49:40.967Z"
   },
   {
    "duration": 349,
    "start_time": "2023-03-28T19:49:41.191Z"
   },
   {
    "duration": 14,
    "start_time": "2023-03-28T19:49:41.544Z"
   },
   {
    "duration": 12,
    "start_time": "2023-03-28T19:49:41.560Z"
   },
   {
    "duration": 240,
    "start_time": "2023-03-28T19:49:41.574Z"
   },
   {
    "duration": 5,
    "start_time": "2023-03-28T19:49:41.818Z"
   },
   {
    "duration": 195,
    "start_time": "2023-03-28T19:49:41.825Z"
   },
   {
    "duration": 6,
    "start_time": "2023-03-28T19:49:42.022Z"
   },
   {
    "duration": 438,
    "start_time": "2023-03-28T19:49:42.030Z"
   },
   {
    "duration": 15,
    "start_time": "2023-03-28T19:49:42.471Z"
   },
   {
    "duration": 47,
    "start_time": "2023-03-28T19:49:42.488Z"
   },
   {
    "duration": 120,
    "start_time": "2023-03-28T19:49:42.538Z"
   },
   {
    "duration": 21,
    "start_time": "2023-03-28T19:49:42.660Z"
   },
   {
    "duration": 16,
    "start_time": "2023-03-28T19:52:43.899Z"
   },
   {
    "duration": 383,
    "start_time": "2023-03-28T20:02:24.169Z"
   },
   {
    "duration": 118,
    "start_time": "2023-03-28T20:25:43.790Z"
   },
   {
    "duration": 12,
    "start_time": "2023-03-28T20:26:05.769Z"
   },
   {
    "duration": 20,
    "start_time": "2023-03-28T20:27:11.197Z"
   },
   {
    "duration": 115,
    "start_time": "2023-03-28T20:42:37.432Z"
   },
   {
    "duration": 15,
    "start_time": "2023-03-28T20:55:02.936Z"
   },
   {
    "duration": 27,
    "start_time": "2023-03-28T21:03:11.632Z"
   },
   {
    "duration": 1165,
    "start_time": "2023-03-29T13:45:37.317Z"
   },
   {
    "duration": 130,
    "start_time": "2023-03-29T13:45:38.484Z"
   },
   {
    "duration": 9,
    "start_time": "2023-03-29T13:45:38.616Z"
   },
   {
    "duration": 7,
    "start_time": "2023-03-29T13:45:38.627Z"
   },
   {
    "duration": 115,
    "start_time": "2023-03-29T13:45:38.636Z"
   },
   {
    "duration": 73,
    "start_time": "2023-03-29T13:45:38.753Z"
   },
   {
    "duration": 8,
    "start_time": "2023-03-29T13:45:38.827Z"
   },
   {
    "duration": 3,
    "start_time": "2023-03-29T13:45:38.836Z"
   },
   {
    "duration": 9,
    "start_time": "2023-03-29T13:45:38.841Z"
   },
   {
    "duration": 249,
    "start_time": "2023-03-29T13:45:38.852Z"
   },
   {
    "duration": 247,
    "start_time": "2023-03-29T13:45:39.102Z"
   },
   {
    "duration": 191,
    "start_time": "2023-03-29T13:45:39.350Z"
   },
   {
    "duration": 352,
    "start_time": "2023-03-29T13:45:39.542Z"
   },
   {
    "duration": 171,
    "start_time": "2023-03-29T13:45:39.895Z"
   },
   {
    "duration": 259,
    "start_time": "2023-03-29T13:45:40.067Z"
   },
   {
    "duration": 102,
    "start_time": "2023-03-29T13:45:40.328Z"
   },
   {
    "duration": 0,
    "start_time": "2023-03-29T13:45:40.431Z"
   },
   {
    "duration": 0,
    "start_time": "2023-03-29T13:45:40.432Z"
   },
   {
    "duration": 0,
    "start_time": "2023-03-29T13:45:40.433Z"
   },
   {
    "duration": 0,
    "start_time": "2023-03-29T13:45:40.434Z"
   },
   {
    "duration": 0,
    "start_time": "2023-03-29T13:45:40.448Z"
   },
   {
    "duration": 0,
    "start_time": "2023-03-29T13:45:40.450Z"
   },
   {
    "duration": 0,
    "start_time": "2023-03-29T13:45:40.451Z"
   },
   {
    "duration": 0,
    "start_time": "2023-03-29T13:45:40.452Z"
   },
   {
    "duration": 0,
    "start_time": "2023-03-29T13:45:40.453Z"
   },
   {
    "duration": 0,
    "start_time": "2023-03-29T13:45:40.454Z"
   },
   {
    "duration": 5,
    "start_time": "2023-03-29T13:47:39.908Z"
   },
   {
    "duration": 11,
    "start_time": "2023-03-29T13:48:11.347Z"
   },
   {
    "duration": 8,
    "start_time": "2023-03-29T13:48:34.177Z"
   },
   {
    "duration": 1113,
    "start_time": "2023-03-29T14:03:47.752Z"
   },
   {
    "duration": 101,
    "start_time": "2023-03-29T14:03:48.867Z"
   },
   {
    "duration": 15,
    "start_time": "2023-03-29T14:03:48.971Z"
   },
   {
    "duration": 10,
    "start_time": "2023-03-29T14:03:48.991Z"
   },
   {
    "duration": 69,
    "start_time": "2023-03-29T14:03:49.003Z"
   },
   {
    "duration": 42,
    "start_time": "2023-03-29T14:03:49.074Z"
   },
   {
    "duration": 11,
    "start_time": "2023-03-29T14:03:49.118Z"
   },
   {
    "duration": 4,
    "start_time": "2023-03-29T14:03:49.131Z"
   },
   {
    "duration": 9,
    "start_time": "2023-03-29T14:03:49.136Z"
   },
   {
    "duration": 297,
    "start_time": "2023-03-29T14:03:49.148Z"
   },
   {
    "duration": 310,
    "start_time": "2023-03-29T14:03:49.447Z"
   },
   {
    "duration": 232,
    "start_time": "2023-03-29T14:03:49.759Z"
   },
   {
    "duration": 303,
    "start_time": "2023-03-29T14:03:49.993Z"
   },
   {
    "duration": 203,
    "start_time": "2023-03-29T14:03:50.299Z"
   },
   {
    "duration": 277,
    "start_time": "2023-03-29T14:03:50.504Z"
   },
   {
    "duration": 13,
    "start_time": "2023-03-29T14:03:50.783Z"
   },
   {
    "duration": 12,
    "start_time": "2023-03-29T14:03:50.798Z"
   },
   {
    "duration": 158,
    "start_time": "2023-03-29T14:03:50.811Z"
   },
   {
    "duration": 5,
    "start_time": "2023-03-29T14:03:50.971Z"
   },
   {
    "duration": 193,
    "start_time": "2023-03-29T14:03:50.978Z"
   },
   {
    "duration": 4,
    "start_time": "2023-03-29T14:03:51.174Z"
   },
   {
    "duration": 106,
    "start_time": "2023-03-29T14:03:51.181Z"
   },
   {
    "duration": 0,
    "start_time": "2023-03-29T14:03:51.288Z"
   },
   {
    "duration": 0,
    "start_time": "2023-03-29T14:03:51.290Z"
   },
   {
    "duration": 0,
    "start_time": "2023-03-29T14:03:51.291Z"
   },
   {
    "duration": 0,
    "start_time": "2023-03-29T14:03:51.292Z"
   },
   {
    "duration": 61,
    "start_time": "2023-03-29T14:10:39.911Z"
   },
   {
    "duration": 399,
    "start_time": "2023-03-29T14:10:52.501Z"
   },
   {
    "duration": 389,
    "start_time": "2023-03-29T14:11:10.905Z"
   },
   {
    "duration": 13,
    "start_time": "2023-03-29T14:12:57.042Z"
   },
   {
    "duration": 11,
    "start_time": "2023-03-29T14:16:00.811Z"
   },
   {
    "duration": 29,
    "start_time": "2023-03-29T14:16:33.241Z"
   },
   {
    "duration": 14,
    "start_time": "2023-03-29T14:17:15.110Z"
   },
   {
    "duration": 48,
    "start_time": "2023-03-29T17:36:03.021Z"
   },
   {
    "duration": 1269,
    "start_time": "2023-03-29T17:36:27.199Z"
   },
   {
    "duration": 124,
    "start_time": "2023-03-29T17:36:28.470Z"
   },
   {
    "duration": 12,
    "start_time": "2023-03-29T17:36:28.596Z"
   },
   {
    "duration": 14,
    "start_time": "2023-03-29T17:36:28.610Z"
   },
   {
    "duration": 112,
    "start_time": "2023-03-29T17:36:28.626Z"
   },
   {
    "duration": 72,
    "start_time": "2023-03-29T17:36:28.739Z"
   },
   {
    "duration": 7,
    "start_time": "2023-03-29T17:36:28.813Z"
   },
   {
    "duration": 3,
    "start_time": "2023-03-29T17:36:28.822Z"
   },
   {
    "duration": 3,
    "start_time": "2023-03-29T17:36:28.827Z"
   },
   {
    "duration": 373,
    "start_time": "2023-03-29T17:36:28.832Z"
   },
   {
    "duration": 304,
    "start_time": "2023-03-29T17:36:29.207Z"
   },
   {
    "duration": 216,
    "start_time": "2023-03-29T17:36:29.513Z"
   },
   {
    "duration": 361,
    "start_time": "2023-03-29T17:36:29.731Z"
   },
   {
    "duration": 200,
    "start_time": "2023-03-29T17:36:30.094Z"
   },
   {
    "duration": 276,
    "start_time": "2023-03-29T17:36:30.296Z"
   },
   {
    "duration": 10,
    "start_time": "2023-03-29T17:36:30.574Z"
   },
   {
    "duration": 39,
    "start_time": "2023-03-29T17:36:30.585Z"
   },
   {
    "duration": 152,
    "start_time": "2023-03-29T17:36:30.626Z"
   },
   {
    "duration": 4,
    "start_time": "2023-03-29T17:36:30.781Z"
   },
   {
    "duration": 160,
    "start_time": "2023-03-29T17:36:30.787Z"
   },
   {
    "duration": 4,
    "start_time": "2023-03-29T17:36:30.949Z"
   },
   {
    "duration": 390,
    "start_time": "2023-03-29T17:36:30.955Z"
   },
   {
    "duration": 11,
    "start_time": "2023-03-29T17:36:31.347Z"
   },
   {
    "duration": 20,
    "start_time": "2023-03-29T17:36:31.359Z"
   },
   {
    "duration": 57,
    "start_time": "2023-03-29T17:36:31.381Z"
   },
   {
    "duration": 21,
    "start_time": "2023-03-29T17:36:31.440Z"
   },
   {
    "duration": 10,
    "start_time": "2023-03-29T17:38:18.577Z"
   },
   {
    "duration": 34,
    "start_time": "2023-03-29T17:39:47.107Z"
   },
   {
    "duration": 15,
    "start_time": "2023-03-29T18:02:43.066Z"
   },
   {
    "duration": 1145,
    "start_time": "2023-03-29T19:24:04.238Z"
   },
   {
    "duration": 81,
    "start_time": "2023-03-29T19:24:05.385Z"
   },
   {
    "duration": 15,
    "start_time": "2023-03-29T19:24:05.468Z"
   },
   {
    "duration": 26,
    "start_time": "2023-03-29T19:24:05.485Z"
   },
   {
    "duration": 61,
    "start_time": "2023-03-29T19:24:05.518Z"
   },
   {
    "duration": 36,
    "start_time": "2023-03-29T19:24:05.581Z"
   },
   {
    "duration": 15,
    "start_time": "2023-03-29T19:24:05.622Z"
   },
   {
    "duration": 371,
    "start_time": "2023-03-29T19:24:05.640Z"
   },
   {
    "duration": 412,
    "start_time": "2023-03-29T19:24:06.016Z"
   },
   {
    "duration": 213,
    "start_time": "2023-03-29T19:24:06.432Z"
   },
   {
    "duration": 321,
    "start_time": "2023-03-29T19:24:06.647Z"
   },
   {
    "duration": 291,
    "start_time": "2023-03-29T19:24:06.970Z"
   },
   {
    "duration": 365,
    "start_time": "2023-03-29T19:24:07.264Z"
   },
   {
    "duration": 18,
    "start_time": "2023-03-29T19:24:07.632Z"
   },
   {
    "duration": 29,
    "start_time": "2023-03-29T19:24:07.652Z"
   },
   {
    "duration": 144,
    "start_time": "2023-03-29T19:24:07.683Z"
   },
   {
    "duration": 5,
    "start_time": "2023-03-29T19:24:07.829Z"
   },
   {
    "duration": 180,
    "start_time": "2023-03-29T19:24:07.840Z"
   },
   {
    "duration": 6,
    "start_time": "2023-03-29T19:24:08.022Z"
   },
   {
    "duration": 419,
    "start_time": "2023-03-29T19:24:08.029Z"
   },
   {
    "duration": 15,
    "start_time": "2023-03-29T19:24:08.451Z"
   },
   {
    "duration": 10,
    "start_time": "2023-03-29T19:24:08.468Z"
   },
   {
    "duration": 63,
    "start_time": "2023-03-29T19:24:08.480Z"
   },
   {
    "duration": 22,
    "start_time": "2023-03-29T19:24:08.545Z"
   },
   {
    "duration": 1093,
    "start_time": "2023-07-26T06:38:59.938Z"
   },
   {
    "duration": 139,
    "start_time": "2023-07-26T06:39:01.033Z"
   },
   {
    "duration": 11,
    "start_time": "2023-07-26T06:39:01.174Z"
   },
   {
    "duration": 27,
    "start_time": "2023-07-26T06:39:01.187Z"
   },
   {
    "duration": 120,
    "start_time": "2023-07-26T06:39:01.216Z"
   },
   {
    "duration": 70,
    "start_time": "2023-07-26T06:39:01.337Z"
   },
   {
    "duration": 7,
    "start_time": "2023-07-26T06:39:01.409Z"
   },
   {
    "duration": 304,
    "start_time": "2023-07-26T06:39:01.418Z"
   },
   {
    "duration": 274,
    "start_time": "2023-07-26T06:39:01.723Z"
   },
   {
    "duration": 192,
    "start_time": "2023-07-26T06:39:01.999Z"
   },
   {
    "duration": 293,
    "start_time": "2023-07-26T06:39:02.193Z"
   },
   {
    "duration": 201,
    "start_time": "2023-07-26T06:39:02.488Z"
   },
   {
    "duration": 269,
    "start_time": "2023-07-26T06:39:02.691Z"
   },
   {
    "duration": 10,
    "start_time": "2023-07-26T06:39:02.961Z"
   },
   {
    "duration": 15,
    "start_time": "2023-07-26T06:39:02.973Z"
   },
   {
    "duration": 127,
    "start_time": "2023-07-26T06:39:02.990Z"
   },
   {
    "duration": 4,
    "start_time": "2023-07-26T06:39:03.119Z"
   },
   {
    "duration": 146,
    "start_time": "2023-07-26T06:39:03.125Z"
   },
   {
    "duration": 4,
    "start_time": "2023-07-26T06:39:03.273Z"
   },
   {
    "duration": 364,
    "start_time": "2023-07-26T06:39:03.279Z"
   },
   {
    "duration": 18,
    "start_time": "2023-07-26T06:39:03.645Z"
   },
   {
    "duration": 56,
    "start_time": "2023-07-26T06:39:03.665Z"
   },
   {
    "duration": 30,
    "start_time": "2023-07-26T06:39:03.723Z"
   },
   {
    "duration": 16,
    "start_time": "2023-07-26T06:39:03.755Z"
   },
   {
    "duration": 4,
    "start_time": "2023-07-26T06:41:41.583Z"
   },
   {
    "duration": 4,
    "start_time": "2023-07-26T06:43:32.056Z"
   },
   {
    "duration": 99,
    "start_time": "2023-07-26T06:45:02.644Z"
   },
   {
    "duration": 5,
    "start_time": "2023-07-26T06:47:57.061Z"
   },
   {
    "duration": 18,
    "start_time": "2023-07-26T06:48:32.234Z"
   },
   {
    "duration": 1075,
    "start_time": "2023-07-26T06:48:53.267Z"
   },
   {
    "duration": 98,
    "start_time": "2023-07-26T06:48:54.344Z"
   },
   {
    "duration": 10,
    "start_time": "2023-07-26T06:48:54.444Z"
   },
   {
    "duration": 15,
    "start_time": "2023-07-26T06:48:54.456Z"
   },
   {
    "duration": 66,
    "start_time": "2023-07-26T06:48:54.473Z"
   },
   {
    "duration": 33,
    "start_time": "2023-07-26T06:48:54.541Z"
   },
   {
    "duration": 7,
    "start_time": "2023-07-26T06:48:54.576Z"
   },
   {
    "duration": 288,
    "start_time": "2023-07-26T06:48:54.584Z"
   },
   {
    "duration": 272,
    "start_time": "2023-07-26T06:48:54.874Z"
   },
   {
    "duration": 186,
    "start_time": "2023-07-26T06:48:55.159Z"
   },
   {
    "duration": 305,
    "start_time": "2023-07-26T06:48:55.346Z"
   },
   {
    "duration": 191,
    "start_time": "2023-07-26T06:48:55.660Z"
   },
   {
    "duration": 291,
    "start_time": "2023-07-26T06:48:55.856Z"
   },
   {
    "duration": 15,
    "start_time": "2023-07-26T06:48:56.160Z"
   },
   {
    "duration": 11,
    "start_time": "2023-07-26T06:48:56.177Z"
   },
   {
    "duration": 124,
    "start_time": "2023-07-26T06:48:56.190Z"
   },
   {
    "duration": 4,
    "start_time": "2023-07-26T06:48:56.315Z"
   },
   {
    "duration": 161,
    "start_time": "2023-07-26T06:48:56.320Z"
   },
   {
    "duration": 5,
    "start_time": "2023-07-26T06:48:56.483Z"
   },
   {
    "duration": 363,
    "start_time": "2023-07-26T06:48:56.489Z"
   },
   {
    "duration": 14,
    "start_time": "2023-07-26T06:48:56.857Z"
   },
   {
    "duration": 104,
    "start_time": "2023-07-26T06:48:56.873Z"
   },
   {
    "duration": 0,
    "start_time": "2023-07-26T06:48:56.979Z"
   },
   {
    "duration": 0,
    "start_time": "2023-07-26T06:48:56.981Z"
   },
   {
    "duration": 10,
    "start_time": "2023-07-26T06:51:08.622Z"
   },
   {
    "duration": 995,
    "start_time": "2023-07-26T06:51:31.209Z"
   },
   {
    "duration": 89,
    "start_time": "2023-07-26T06:51:32.206Z"
   },
   {
    "duration": 10,
    "start_time": "2023-07-26T06:51:32.297Z"
   },
   {
    "duration": 17,
    "start_time": "2023-07-26T06:51:32.309Z"
   },
   {
    "duration": 76,
    "start_time": "2023-07-26T06:51:32.328Z"
   },
   {
    "duration": 32,
    "start_time": "2023-07-26T06:51:32.406Z"
   },
   {
    "duration": 8,
    "start_time": "2023-07-26T06:51:32.441Z"
   },
   {
    "duration": 292,
    "start_time": "2023-07-26T06:51:32.451Z"
   },
   {
    "duration": 271,
    "start_time": "2023-07-26T06:51:32.744Z"
   },
   {
    "duration": 198,
    "start_time": "2023-07-26T06:51:33.018Z"
   },
   {
    "duration": 329,
    "start_time": "2023-07-26T06:51:33.218Z"
   },
   {
    "duration": 189,
    "start_time": "2023-07-26T06:51:33.549Z"
   },
   {
    "duration": 307,
    "start_time": "2023-07-26T06:51:33.740Z"
   },
   {
    "duration": 12,
    "start_time": "2023-07-26T06:51:34.056Z"
   },
   {
    "duration": 18,
    "start_time": "2023-07-26T06:51:34.069Z"
   },
   {
    "duration": 128,
    "start_time": "2023-07-26T06:51:34.089Z"
   },
   {
    "duration": 4,
    "start_time": "2023-07-26T06:51:34.219Z"
   },
   {
    "duration": 147,
    "start_time": "2023-07-26T06:51:34.225Z"
   },
   {
    "duration": 5,
    "start_time": "2023-07-26T06:51:34.374Z"
   },
   {
    "duration": 366,
    "start_time": "2023-07-26T06:51:34.381Z"
   },
   {
    "duration": 12,
    "start_time": "2023-07-26T06:51:34.755Z"
   },
   {
    "duration": 132,
    "start_time": "2023-07-26T06:51:34.769Z"
   },
   {
    "duration": 0,
    "start_time": "2023-07-26T06:51:34.903Z"
   },
   {
    "duration": 0,
    "start_time": "2023-07-26T06:51:34.904Z"
   },
   {
    "duration": 9,
    "start_time": "2023-07-26T07:42:12.854Z"
   },
   {
    "duration": 25,
    "start_time": "2023-07-26T07:43:24.519Z"
   },
   {
    "duration": 15,
    "start_time": "2023-07-26T07:48:51.320Z"
   },
   {
    "duration": 10,
    "start_time": "2023-07-26T07:52:48.055Z"
   },
   {
    "duration": 7,
    "start_time": "2023-07-26T07:53:21.838Z"
   },
   {
    "duration": 6,
    "start_time": "2023-07-26T07:53:36.413Z"
   },
   {
    "duration": 6,
    "start_time": "2023-07-26T07:54:07.137Z"
   },
   {
    "duration": 15,
    "start_time": "2023-07-26T07:54:42.665Z"
   },
   {
    "duration": 15,
    "start_time": "2023-07-26T07:55:27.895Z"
   },
   {
    "duration": 9,
    "start_time": "2023-07-26T07:55:46.383Z"
   },
   {
    "duration": 6,
    "start_time": "2023-07-26T08:38:20.994Z"
   },
   {
    "duration": 18,
    "start_time": "2023-07-26T08:39:19.571Z"
   },
   {
    "duration": 11,
    "start_time": "2023-07-26T08:40:20.442Z"
   },
   {
    "duration": 3,
    "start_time": "2023-07-26T09:58:12.999Z"
   },
   {
    "duration": 6,
    "start_time": "2023-07-26T09:58:25.758Z"
   },
   {
    "duration": 1326,
    "start_time": "2023-07-26T10:02:45.125Z"
   },
   {
    "duration": 104,
    "start_time": "2023-07-26T10:02:46.453Z"
   },
   {
    "duration": 12,
    "start_time": "2023-07-26T10:02:46.558Z"
   },
   {
    "duration": 26,
    "start_time": "2023-07-26T10:02:46.572Z"
   },
   {
    "duration": 136,
    "start_time": "2023-07-26T10:02:46.600Z"
   },
   {
    "duration": 32,
    "start_time": "2023-07-26T10:02:46.738Z"
   },
   {
    "duration": 13,
    "start_time": "2023-07-26T10:02:46.772Z"
   },
   {
    "duration": 299,
    "start_time": "2023-07-26T10:02:46.787Z"
   },
   {
    "duration": 329,
    "start_time": "2023-07-26T10:02:47.089Z"
   },
   {
    "duration": 213,
    "start_time": "2023-07-26T10:02:47.421Z"
   },
   {
    "duration": 354,
    "start_time": "2023-07-26T10:02:47.636Z"
   },
   {
    "duration": 217,
    "start_time": "2023-07-26T10:02:47.994Z"
   },
   {
    "duration": 339,
    "start_time": "2023-07-26T10:02:48.213Z"
   },
   {
    "duration": 12,
    "start_time": "2023-07-26T10:02:48.554Z"
   },
   {
    "duration": 23,
    "start_time": "2023-07-26T10:02:48.568Z"
   },
   {
    "duration": 167,
    "start_time": "2023-07-26T10:02:48.594Z"
   },
   {
    "duration": 5,
    "start_time": "2023-07-26T10:02:48.763Z"
   },
   {
    "duration": 189,
    "start_time": "2023-07-26T10:02:48.770Z"
   },
   {
    "duration": 10,
    "start_time": "2023-07-26T10:02:48.961Z"
   },
   {
    "duration": 441,
    "start_time": "2023-07-26T10:02:48.974Z"
   },
   {
    "duration": 13,
    "start_time": "2023-07-26T10:02:49.417Z"
   },
   {
    "duration": 126,
    "start_time": "2023-07-26T10:02:49.432Z"
   },
   {
    "duration": 0,
    "start_time": "2023-07-26T10:02:49.560Z"
   },
   {
    "duration": 0,
    "start_time": "2023-07-26T10:02:49.562Z"
   },
   {
    "duration": 12,
    "start_time": "2023-07-26T10:03:51.996Z"
   },
   {
    "duration": 11,
    "start_time": "2023-07-26T10:05:16.992Z"
   },
   {
    "duration": 6,
    "start_time": "2023-07-26T10:05:39.080Z"
   },
   {
    "duration": 1150,
    "start_time": "2023-07-26T10:05:47.773Z"
   },
   {
    "duration": 105,
    "start_time": "2023-07-26T10:05:48.926Z"
   },
   {
    "duration": 24,
    "start_time": "2023-07-26T10:05:49.033Z"
   },
   {
    "duration": 11,
    "start_time": "2023-07-26T10:05:49.061Z"
   },
   {
    "duration": 92,
    "start_time": "2023-07-26T10:05:49.074Z"
   },
   {
    "duration": 34,
    "start_time": "2023-07-26T10:05:49.168Z"
   },
   {
    "duration": 8,
    "start_time": "2023-07-26T10:05:49.204Z"
   },
   {
    "duration": 306,
    "start_time": "2023-07-26T10:05:49.215Z"
   },
   {
    "duration": 336,
    "start_time": "2023-07-26T10:05:49.523Z"
   },
   {
    "duration": 217,
    "start_time": "2023-07-26T10:05:49.861Z"
   },
   {
    "duration": 337,
    "start_time": "2023-07-26T10:05:50.081Z"
   },
   {
    "duration": 224,
    "start_time": "2023-07-26T10:05:50.420Z"
   },
   {
    "duration": 314,
    "start_time": "2023-07-26T10:05:50.646Z"
   },
   {
    "duration": 11,
    "start_time": "2023-07-26T10:05:50.962Z"
   },
   {
    "duration": 21,
    "start_time": "2023-07-26T10:05:50.975Z"
   },
   {
    "duration": 165,
    "start_time": "2023-07-26T10:05:50.997Z"
   },
   {
    "duration": 6,
    "start_time": "2023-07-26T10:05:51.164Z"
   },
   {
    "duration": 188,
    "start_time": "2023-07-26T10:05:51.172Z"
   },
   {
    "duration": 7,
    "start_time": "2023-07-26T10:05:51.363Z"
   },
   {
    "duration": 407,
    "start_time": "2023-07-26T10:05:51.372Z"
   },
   {
    "duration": 13,
    "start_time": "2023-07-26T10:05:51.782Z"
   },
   {
    "duration": 25,
    "start_time": "2023-07-26T10:05:51.797Z"
   },
   {
    "duration": 45,
    "start_time": "2023-07-26T10:05:51.825Z"
   },
   {
    "duration": 15,
    "start_time": "2023-07-26T10:05:51.872Z"
   }
  ],
  "kernelspec": {
   "display_name": "Python 3 (ipykernel)",
   "language": "python",
   "name": "python3"
  },
  "language_info": {
   "codemirror_mode": {
    "name": "ipython",
    "version": 3
   },
   "file_extension": ".py",
   "mimetype": "text/x-python",
   "name": "python",
   "nbconvert_exporter": "python",
   "pygments_lexer": "ipython3",
   "version": "3.9.5"
  },
  "toc": {
   "base_numbering": 1,
   "nav_menu": {},
   "number_sections": true,
   "sideBar": true,
   "skip_h1_title": true,
   "title_cell": "Table of Contents",
   "title_sidebar": "Contents",
   "toc_cell": false,
   "toc_position": {},
   "toc_section_display": true,
   "toc_window_display": true
  }
 },
 "nbformat": 4,
 "nbformat_minor": 2
}
