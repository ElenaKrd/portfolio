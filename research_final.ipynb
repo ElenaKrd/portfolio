{
 "cells": [
  {
   "cell_type": "markdown",
   "metadata": {},
   "source": [
    "# Техническое задание.\n",
    "\n",
    "В вашем распоряжении данные сервиса Яндекс.Недвижимость — архив объявлений о продаже квартир в Санкт-Петербурге и соседних населённых пунктов за несколько лет. Нужно научиться определять рыночную стоимость объектов недвижимости. Ваша задача — установить параметры. Это позволит построить автоматизированную систему: она отследит аномалии и мошенническую деятельность. \n",
    "\n",
    "По каждой квартире на продажу доступны два вида данных. Первые вписаны пользователем, вторые — получены автоматически на основе картографических данных. Например, расстояние до центра, аэропорта, ближайшего парка и водоёма. "
   ]
  },
  {
   "cell_type": "markdown",
   "metadata": {},
   "source": [
    "# Тема проекта:  Исследование объявлений о продаже квартир."
   ]
  },
  {
   "cell_type": "markdown",
   "metadata": {},
   "source": [
    "## Вводная часть."
   ]
  },
  {
   "cell_type": "markdown",
   "metadata": {},
   "source": [
    "### Краткое описание проекта. \n",
    "Проект по теме \"Исследовательский анализ данных\" представляет собой исследование архива объявлений за несколько лет о продажзе квартир в Санкт-Петербурге и соседних населённых пунктах."
   ]
  },
  {
   "cell_type": "markdown",
   "metadata": {},
   "source": [
    "### Цель проекта: \n",
    "научиться определять рыночную стоимость объектов недвижимости и установить параметры, которые позволят построить автоматизированную систему для отслеживания аномалий и мошеннической деятельности."
   ]
  },
  {
   "cell_type": "markdown",
   "metadata": {},
   "source": [
    "### Описание данных.\n",
    "Данные предоставлены в табличном варианте. По каждой квартире на продажу доступны два вида данных: первые - вписаны пользователем, вторые — получены автоматически на основе картографических данных.      В некоторых колонках таблицы есть пропуски."
   ]
  },
  {
   "cell_type": "markdown",
   "metadata": {},
   "source": [
    "### План работы.\n",
    "- Обработать данные (пропуски) для получения более точных результатов;\n",
    "- добавить в таблицу столбцы с параметрами, которые можно вывести из предоставленных данных, для облегчения дальнейшей автоматической обработки данных таблицы;\n",
    "- исследовать данные по предложенным параметрам объектов, провести сравнительный анализ;\n",
    "- сделать общий вывод.\n"
   ]
  },
  {
   "cell_type": "markdown",
   "metadata": {},
   "source": [
    "## Прочтение данных и изучение общей информации."
   ]
  },
  {
   "cell_type": "code",
   "execution_count": 1,
   "metadata": {},
   "outputs": [],
   "source": [
    "# импортируем необходимые библиотеки\n",
    "import pandas as pd\n",
    "import numpy as np\n",
    "import matplotlib.pyplot as plt\n",
    "import seaborn as sns\n"
   ]
  },
  {
   "cell_type": "code",
   "execution_count": 2,
   "metadata": {
    "scrolled": false
   },
   "outputs": [
    {
     "data": {
      "text/html": [
       "<div>\n",
       "<style scoped>\n",
       "    .dataframe tbody tr th:only-of-type {\n",
       "        vertical-align: middle;\n",
       "    }\n",
       "\n",
       "    .dataframe tbody tr th {\n",
       "        vertical-align: top;\n",
       "    }\n",
       "\n",
       "    .dataframe thead th {\n",
       "        text-align: right;\n",
       "    }\n",
       "</style>\n",
       "<table border=\"1\" class=\"dataframe\">\n",
       "  <thead>\n",
       "    <tr style=\"text-align: right;\">\n",
       "      <th></th>\n",
       "      <th>total_images</th>\n",
       "      <th>last_price</th>\n",
       "      <th>total_area</th>\n",
       "      <th>first_day_exposition</th>\n",
       "      <th>rooms</th>\n",
       "      <th>ceiling_height</th>\n",
       "      <th>floors_total</th>\n",
       "      <th>living_area</th>\n",
       "      <th>floor</th>\n",
       "      <th>is_apartment</th>\n",
       "      <th>...</th>\n",
       "      <th>kitchen_area</th>\n",
       "      <th>balcony</th>\n",
       "      <th>locality_name</th>\n",
       "      <th>airports_nearest</th>\n",
       "      <th>cityCenters_nearest</th>\n",
       "      <th>parks_around3000</th>\n",
       "      <th>parks_nearest</th>\n",
       "      <th>ponds_around3000</th>\n",
       "      <th>ponds_nearest</th>\n",
       "      <th>days_exposition</th>\n",
       "    </tr>\n",
       "  </thead>\n",
       "  <tbody>\n",
       "    <tr>\n",
       "      <th>0</th>\n",
       "      <td>20</td>\n",
       "      <td>13000000.0</td>\n",
       "      <td>108.0</td>\n",
       "      <td>2019-03-07T00:00:00</td>\n",
       "      <td>3</td>\n",
       "      <td>2.70</td>\n",
       "      <td>16.0</td>\n",
       "      <td>51.0</td>\n",
       "      <td>8</td>\n",
       "      <td>NaN</td>\n",
       "      <td>...</td>\n",
       "      <td>25.0</td>\n",
       "      <td>NaN</td>\n",
       "      <td>Санкт-Петербург</td>\n",
       "      <td>18863.0</td>\n",
       "      <td>16028.0</td>\n",
       "      <td>1.0</td>\n",
       "      <td>482.0</td>\n",
       "      <td>2.0</td>\n",
       "      <td>755.0</td>\n",
       "      <td>NaN</td>\n",
       "    </tr>\n",
       "    <tr>\n",
       "      <th>1</th>\n",
       "      <td>7</td>\n",
       "      <td>3350000.0</td>\n",
       "      <td>40.4</td>\n",
       "      <td>2018-12-04T00:00:00</td>\n",
       "      <td>1</td>\n",
       "      <td>NaN</td>\n",
       "      <td>11.0</td>\n",
       "      <td>18.6</td>\n",
       "      <td>1</td>\n",
       "      <td>NaN</td>\n",
       "      <td>...</td>\n",
       "      <td>11.0</td>\n",
       "      <td>2.0</td>\n",
       "      <td>посёлок Шушары</td>\n",
       "      <td>12817.0</td>\n",
       "      <td>18603.0</td>\n",
       "      <td>0.0</td>\n",
       "      <td>NaN</td>\n",
       "      <td>0.0</td>\n",
       "      <td>NaN</td>\n",
       "      <td>81.0</td>\n",
       "    </tr>\n",
       "    <tr>\n",
       "      <th>2</th>\n",
       "      <td>10</td>\n",
       "      <td>5196000.0</td>\n",
       "      <td>56.0</td>\n",
       "      <td>2015-08-20T00:00:00</td>\n",
       "      <td>2</td>\n",
       "      <td>NaN</td>\n",
       "      <td>5.0</td>\n",
       "      <td>34.3</td>\n",
       "      <td>4</td>\n",
       "      <td>NaN</td>\n",
       "      <td>...</td>\n",
       "      <td>8.3</td>\n",
       "      <td>0.0</td>\n",
       "      <td>Санкт-Петербург</td>\n",
       "      <td>21741.0</td>\n",
       "      <td>13933.0</td>\n",
       "      <td>1.0</td>\n",
       "      <td>90.0</td>\n",
       "      <td>2.0</td>\n",
       "      <td>574.0</td>\n",
       "      <td>558.0</td>\n",
       "    </tr>\n",
       "    <tr>\n",
       "      <th>3</th>\n",
       "      <td>0</td>\n",
       "      <td>64900000.0</td>\n",
       "      <td>159.0</td>\n",
       "      <td>2015-07-24T00:00:00</td>\n",
       "      <td>3</td>\n",
       "      <td>NaN</td>\n",
       "      <td>14.0</td>\n",
       "      <td>NaN</td>\n",
       "      <td>9</td>\n",
       "      <td>NaN</td>\n",
       "      <td>...</td>\n",
       "      <td>NaN</td>\n",
       "      <td>0.0</td>\n",
       "      <td>Санкт-Петербург</td>\n",
       "      <td>28098.0</td>\n",
       "      <td>6800.0</td>\n",
       "      <td>2.0</td>\n",
       "      <td>84.0</td>\n",
       "      <td>3.0</td>\n",
       "      <td>234.0</td>\n",
       "      <td>424.0</td>\n",
       "    </tr>\n",
       "    <tr>\n",
       "      <th>4</th>\n",
       "      <td>2</td>\n",
       "      <td>10000000.0</td>\n",
       "      <td>100.0</td>\n",
       "      <td>2018-06-19T00:00:00</td>\n",
       "      <td>2</td>\n",
       "      <td>3.03</td>\n",
       "      <td>14.0</td>\n",
       "      <td>32.0</td>\n",
       "      <td>13</td>\n",
       "      <td>NaN</td>\n",
       "      <td>...</td>\n",
       "      <td>41.0</td>\n",
       "      <td>NaN</td>\n",
       "      <td>Санкт-Петербург</td>\n",
       "      <td>31856.0</td>\n",
       "      <td>8098.0</td>\n",
       "      <td>2.0</td>\n",
       "      <td>112.0</td>\n",
       "      <td>1.0</td>\n",
       "      <td>48.0</td>\n",
       "      <td>121.0</td>\n",
       "    </tr>\n",
       "  </tbody>\n",
       "</table>\n",
       "<p>5 rows × 22 columns</p>\n",
       "</div>"
      ],
      "text/plain": [
       "   total_images  last_price  total_area first_day_exposition  rooms  \\\n",
       "0            20  13000000.0       108.0  2019-03-07T00:00:00      3   \n",
       "1             7   3350000.0        40.4  2018-12-04T00:00:00      1   \n",
       "2            10   5196000.0        56.0  2015-08-20T00:00:00      2   \n",
       "3             0  64900000.0       159.0  2015-07-24T00:00:00      3   \n",
       "4             2  10000000.0       100.0  2018-06-19T00:00:00      2   \n",
       "\n",
       "   ceiling_height  floors_total  living_area  floor is_apartment  ...  \\\n",
       "0            2.70          16.0         51.0      8          NaN  ...   \n",
       "1             NaN          11.0         18.6      1          NaN  ...   \n",
       "2             NaN           5.0         34.3      4          NaN  ...   \n",
       "3             NaN          14.0          NaN      9          NaN  ...   \n",
       "4            3.03          14.0         32.0     13          NaN  ...   \n",
       "\n",
       "   kitchen_area  balcony    locality_name  airports_nearest  \\\n",
       "0          25.0      NaN  Санкт-Петербург           18863.0   \n",
       "1          11.0      2.0   посёлок Шушары           12817.0   \n",
       "2           8.3      0.0  Санкт-Петербург           21741.0   \n",
       "3           NaN      0.0  Санкт-Петербург           28098.0   \n",
       "4          41.0      NaN  Санкт-Петербург           31856.0   \n",
       "\n",
       "  cityCenters_nearest  parks_around3000  parks_nearest  ponds_around3000  \\\n",
       "0             16028.0               1.0          482.0               2.0   \n",
       "1             18603.0               0.0            NaN               0.0   \n",
       "2             13933.0               1.0           90.0               2.0   \n",
       "3              6800.0               2.0           84.0               3.0   \n",
       "4              8098.0               2.0          112.0               1.0   \n",
       "\n",
       "   ponds_nearest  days_exposition  \n",
       "0          755.0              NaN  \n",
       "1            NaN             81.0  \n",
       "2          574.0            558.0  \n",
       "3          234.0            424.0  \n",
       "4           48.0            121.0  \n",
       "\n",
       "[5 rows x 22 columns]"
      ]
     },
     "execution_count": 2,
     "metadata": {},
     "output_type": "execute_result"
    }
   ],
   "source": [
    "# Открываем файл с данными и изучаем общую информацию\n",
    "df = pd.read_csv('/datasets/real_estate_data.csv','\\t')\n",
    "df.head()"
   ]
  },
  {
   "cell_type": "code",
   "execution_count": 3,
   "metadata": {
    "scrolled": false
   },
   "outputs": [
    {
     "data": {
      "image/png": "[encoded data removed]",
      "text/plain": [
       "<Figure size 1080x1440 with 20 Axes>"
      ]
     },
     "metadata": {
      "needs_background": "light"
     },
     "output_type": "display_data"
    }
   ],
   "source": [
    "# строим гистограммы по каждому параметру\n",
    "df.hist(figsize=(15, 20))\n",
    "plt.show()"
   ]
  },
  {
   "cell_type": "code",
   "execution_count": 4,
   "metadata": {},
   "outputs": [
    {
     "name": "stdout",
     "output_type": "stream",
     "text": [
      "<class 'pandas.core.frame.DataFrame'>\n",
      "RangeIndex: 23699 entries, 0 to 23698\n",
      "Data columns (total 22 columns):\n",
      " #   Column                Non-Null Count  Dtype  \n",
      "---  ------                --------------  -----  \n",
      " 0   total_images          23699 non-null  int64  \n",
      " 1   last_price            23699 non-null  float64\n",
      " 2   total_area            23699 non-null  float64\n",
      " 3   first_day_exposition  23699 non-null  object \n",
      " 4   rooms                 23699 non-null  int64  \n",
      " 5   ceiling_height        14504 non-null  float64\n",
      " 6   floors_total          23613 non-null  float64\n",
      " 7   living_area           21796 non-null  float64\n",
      " 8   floor                 23699 non-null  int64  \n",
      " 9   is_apartment          2775 non-null   object \n",
      " 10  studio                23699 non-null  bool   \n",
      " 11  open_plan             23699 non-null  bool   \n",
      " 12  kitchen_area          21421 non-null  float64\n",
      " 13  balcony               12180 non-null  float64\n",
      " 14  locality_name         23650 non-null  object \n",
      " 15  airports_nearest      18157 non-null  float64\n",
      " 16  cityCenters_nearest   18180 non-null  float64\n",
      " 17  parks_around3000      18181 non-null  float64\n",
      " 18  parks_nearest         8079 non-null   float64\n",
      " 19  ponds_around3000      18181 non-null  float64\n",
      " 20  ponds_nearest         9110 non-null   float64\n",
      " 21  days_exposition       20518 non-null  float64\n",
      "dtypes: bool(2), float64(14), int64(3), object(3)\n",
      "memory usage: 3.7+ MB\n"
     ]
    }
   ],
   "source": [
    "# посмотрим на количество заполненных ячеек в каждом столбце и типы данных\n",
    "df.info()"
   ]
  },
  {
   "cell_type": "markdown",
   "metadata": {},
   "source": [
    "## Предобработка данных"
   ]
  },
  {
   "cell_type": "code",
   "execution_count": 5,
   "metadata": {
    "scrolled": false
   },
   "outputs": [
    {
     "data": {
      "text/plain": [
       "total_images                0\n",
       "last_price                  0\n",
       "total_area                  0\n",
       "first_day_exposition        0\n",
       "rooms                       0\n",
       "ceiling_height           9195\n",
       "floors_total               86\n",
       "living_area              1903\n",
       "floor                       0\n",
       "is_apartment            20924\n",
       "studio                      0\n",
       "open_plan                   0\n",
       "kitchen_area             2278\n",
       "balcony                 11519\n",
       "locality_name              49\n",
       "airports_nearest         5542\n",
       "cityCenters_nearest      5519\n",
       "parks_around3000         5518\n",
       "parks_nearest           15620\n",
       "ponds_around3000         5518\n",
       "ponds_nearest           14589\n",
       "days_exposition          3181\n",
       "dtype: int64"
      ]
     },
     "execution_count": 5,
     "metadata": {},
     "output_type": "execute_result"
    }
   ],
   "source": [
    "# посмотрим на количество пропусков в каждом столбце\n",
    "df.isna().sum()"
   ]
  },
  {
   "cell_type": "code",
   "execution_count": 6,
   "metadata": {},
   "outputs": [
    {
     "data": {
      "text/html": [
       "<style  type=\"text/css\" >\n",
       "#T_2dc74_row0_col0,#T_2dc74_row1_col0,#T_2dc74_row2_col0,#T_2dc74_row3_col0,#T_2dc74_row4_col0,#T_2dc74_row6_col0,#T_2dc74_row8_col0,#T_2dc74_row10_col0,#T_2dc74_row11_col0,#T_2dc74_row14_col0{\n",
       "            background-color:  #3b4cc0;\n",
       "            color:  #f1f1f1;\n",
       "        }#T_2dc74_row5_col0{\n",
       "            background-color:  #cdd9ec;\n",
       "            color:  #000000;\n",
       "        }#T_2dc74_row7_col0{\n",
       "            background-color:  #5673e0;\n",
       "            color:  #000000;\n",
       "        }#T_2dc74_row9_col0{\n",
       "            background-color:  #b40426;\n",
       "            color:  #f1f1f1;\n",
       "        }#T_2dc74_row12_col0{\n",
       "            background-color:  #5e7de7;\n",
       "            color:  #000000;\n",
       "        }#T_2dc74_row13_col0{\n",
       "            background-color:  #ead4c8;\n",
       "            color:  #000000;\n",
       "        }#T_2dc74_row15_col0,#T_2dc74_row16_col0,#T_2dc74_row17_col0,#T_2dc74_row19_col0{\n",
       "            background-color:  #90b2fe;\n",
       "            color:  #000000;\n",
       "        }#T_2dc74_row18_col0{\n",
       "            background-color:  #f4987a;\n",
       "            color:  #000000;\n",
       "        }#T_2dc74_row20_col0{\n",
       "            background-color:  #f7aa8c;\n",
       "            color:  #000000;\n",
       "        }#T_2dc74_row21_col0{\n",
       "            background-color:  #688aef;\n",
       "            color:  #000000;\n",
       "        }</style><table id=\"T_2dc74_\" ><thead>    <tr>        <th class=\"blank level0\" ></th>        <th class=\"col_heading level0 col0\" >0</th>    </tr></thead><tbody>\n",
       "                <tr>\n",
       "                        <th id=\"T_2dc74_level0_row0\" class=\"row_heading level0 row0\" >total_images</th>\n",
       "                        <td id=\"T_2dc74_row0_col0\" class=\"data row0 col0\" >0.000000</td>\n",
       "            </tr>\n",
       "            <tr>\n",
       "                        <th id=\"T_2dc74_level0_row1\" class=\"row_heading level0 row1\" >last_price</th>\n",
       "                        <td id=\"T_2dc74_row1_col0\" class=\"data row1 col0\" >0.000000</td>\n",
       "            </tr>\n",
       "            <tr>\n",
       "                        <th id=\"T_2dc74_level0_row2\" class=\"row_heading level0 row2\" >total_area</th>\n",
       "                        <td id=\"T_2dc74_row2_col0\" class=\"data row2 col0\" >0.000000</td>\n",
       "            </tr>\n",
       "            <tr>\n",
       "                        <th id=\"T_2dc74_level0_row3\" class=\"row_heading level0 row3\" >first_day_exposition</th>\n",
       "                        <td id=\"T_2dc74_row3_col0\" class=\"data row3 col0\" >0.000000</td>\n",
       "            </tr>\n",
       "            <tr>\n",
       "                        <th id=\"T_2dc74_level0_row4\" class=\"row_heading level0 row4\" >rooms</th>\n",
       "                        <td id=\"T_2dc74_row4_col0\" class=\"data row4 col0\" >0.000000</td>\n",
       "            </tr>\n",
       "            <tr>\n",
       "                        <th id=\"T_2dc74_level0_row5\" class=\"row_heading level0 row5\" >ceiling_height</th>\n",
       "                        <td id=\"T_2dc74_row5_col0\" class=\"data row5 col0\" >39.000000</td>\n",
       "            </tr>\n",
       "            <tr>\n",
       "                        <th id=\"T_2dc74_level0_row6\" class=\"row_heading level0 row6\" >floors_total</th>\n",
       "                        <td id=\"T_2dc74_row6_col0\" class=\"data row6 col0\" >0.000000</td>\n",
       "            </tr>\n",
       "            <tr>\n",
       "                        <th id=\"T_2dc74_level0_row7\" class=\"row_heading level0 row7\" >living_area</th>\n",
       "                        <td id=\"T_2dc74_row7_col0\" class=\"data row7 col0\" >8.000000</td>\n",
       "            </tr>\n",
       "            <tr>\n",
       "                        <th id=\"T_2dc74_level0_row8\" class=\"row_heading level0 row8\" >floor</th>\n",
       "                        <td id=\"T_2dc74_row8_col0\" class=\"data row8 col0\" >0.000000</td>\n",
       "            </tr>\n",
       "            <tr>\n",
       "                        <th id=\"T_2dc74_level0_row9\" class=\"row_heading level0 row9\" >is_apartment</th>\n",
       "                        <td id=\"T_2dc74_row9_col0\" class=\"data row9 col0\" >88.000000</td>\n",
       "            </tr>\n",
       "            <tr>\n",
       "                        <th id=\"T_2dc74_level0_row10\" class=\"row_heading level0 row10\" >studio</th>\n",
       "                        <td id=\"T_2dc74_row10_col0\" class=\"data row10 col0\" >0.000000</td>\n",
       "            </tr>\n",
       "            <tr>\n",
       "                        <th id=\"T_2dc74_level0_row11\" class=\"row_heading level0 row11\" >open_plan</th>\n",
       "                        <td id=\"T_2dc74_row11_col0\" class=\"data row11 col0\" >0.000000</td>\n",
       "            </tr>\n",
       "            <tr>\n",
       "                        <th id=\"T_2dc74_level0_row12\" class=\"row_heading level0 row12\" >kitchen_area</th>\n",
       "                        <td id=\"T_2dc74_row12_col0\" class=\"data row12 col0\" >10.000000</td>\n",
       "            </tr>\n",
       "            <tr>\n",
       "                        <th id=\"T_2dc74_level0_row13\" class=\"row_heading level0 row13\" >balcony</th>\n",
       "                        <td id=\"T_2dc74_row13_col0\" class=\"data row13 col0\" >49.000000</td>\n",
       "            </tr>\n",
       "            <tr>\n",
       "                        <th id=\"T_2dc74_level0_row14\" class=\"row_heading level0 row14\" >locality_name</th>\n",
       "                        <td id=\"T_2dc74_row14_col0\" class=\"data row14 col0\" >0.000000</td>\n",
       "            </tr>\n",
       "            <tr>\n",
       "                        <th id=\"T_2dc74_level0_row15\" class=\"row_heading level0 row15\" >airports_nearest</th>\n",
       "                        <td id=\"T_2dc74_row15_col0\" class=\"data row15 col0\" >23.000000</td>\n",
       "            </tr>\n",
       "            <tr>\n",
       "                        <th id=\"T_2dc74_level0_row16\" class=\"row_heading level0 row16\" >cityCenters_nearest</th>\n",
       "                        <td id=\"T_2dc74_row16_col0\" class=\"data row16 col0\" >23.000000</td>\n",
       "            </tr>\n",
       "            <tr>\n",
       "                        <th id=\"T_2dc74_level0_row17\" class=\"row_heading level0 row17\" >parks_around3000</th>\n",
       "                        <td id=\"T_2dc74_row17_col0\" class=\"data row17 col0\" >23.000000</td>\n",
       "            </tr>\n",
       "            <tr>\n",
       "                        <th id=\"T_2dc74_level0_row18\" class=\"row_heading level0 row18\" >parks_nearest</th>\n",
       "                        <td id=\"T_2dc74_row18_col0\" class=\"data row18 col0\" >66.000000</td>\n",
       "            </tr>\n",
       "            <tr>\n",
       "                        <th id=\"T_2dc74_level0_row19\" class=\"row_heading level0 row19\" >ponds_around3000</th>\n",
       "                        <td id=\"T_2dc74_row19_col0\" class=\"data row19 col0\" >23.000000</td>\n",
       "            </tr>\n",
       "            <tr>\n",
       "                        <th id=\"T_2dc74_level0_row20\" class=\"row_heading level0 row20\" >ponds_nearest</th>\n",
       "                        <td id=\"T_2dc74_row20_col0\" class=\"data row20 col0\" >62.000000</td>\n",
       "            </tr>\n",
       "            <tr>\n",
       "                        <th id=\"T_2dc74_level0_row21\" class=\"row_heading level0 row21\" >days_exposition</th>\n",
       "                        <td id=\"T_2dc74_row21_col0\" class=\"data row21 col0\" >13.000000</td>\n",
       "            </tr>\n",
       "    </tbody></table>"
      ],
      "text/plain": [
       "<pandas.io.formats.style.Styler at 0x7f3f1fcdbbe0>"
      ]
     },
     "execution_count": 6,
     "metadata": {},
     "output_type": "execute_result"
    }
   ],
   "source": [
    "# посмотрим на количество пропусков в процентах\n",
    "pd.DataFrame(round(df.isna().mean()*100,)).style.background_gradient('coolwarm')"
   ]
  },
  {
   "cell_type": "markdown",
   "metadata": {},
   "source": [
    "### Вывод: возможные причины появления пропусков в данных.\n",
    "\n",
    "1. Столбец ceiling_height (высота потолков) - продавцы могут не указывать этот параметр, считая его очевидным. Если высота потолков существенно отличается от стандартной, продавец обязательно её укажет. Пропуски в этом столбце целесообразно заменитьзначением 2,7 м (стандартная высота потолков в городских квартирах).\n",
    "2. Столбцы living_area (жилая площадь) и kitchen_area (площадь кухни) без явного требования могут тоже не заполняться подателями объявлений. Заполнять эти данные средними значениями не стоит: можно ввести в заблуждение покупателя.\n",
    "3. Столбец floors_total (всего этажей в доме) мог быть не заполнен намеренно, в случае, если продаваемое помещение находится на последнем этаже дома. Наверняка этого утверждать нельзя, возможно этажность основной постройки просто забыли указать. Заполнять пропуски не стоит, дабы не вводить в заблуждение покупателей. Пропущенных значений очень мало. \n",
    "4. Столбец is_apartment (апартаменты) заполнен, видимо, только в случае, если помещение является апартаментами. Отсутствующие значения логично заполнить булевым False и перевести тип данных в этом столбце в тип bool.\n",
    "5. Пропуски в столбце balcony (балконы) Целесообразно заполнить значением \"0\". Скорее всего, их нет.\n",
    "6. В случае наличия пропуска в столбце locality_name (название населённого пункта) целесообразно удалить всю строку. Строк таких ничтожно мало (49), на общий вывод они не повлияют. А жилье с адресом \"на белом свете\" мало кому интересно, и даже может быть предметом уловки мошенников или привлечением клиентов недобросовестными риелторами.\n",
    "7. Пропуски в столбце days_exposition (количество дней до снятия объявления с публикации) могут возникнуть, если объявление ещё опубликовано.\n",
    "8. Оставшиеся пропуски - в данных,  полученных автоматически на основе картографических данных. Например, расстояние до центра, аэропорта, ближайшего парка и водоёма.Такие пропуски заполнять не будем.\n",
    "\n"
   ]
  },
  {
   "cell_type": "code",
   "execution_count": 7,
   "metadata": {},
   "outputs": [
    {
     "data": {
      "text/plain": [
       "0"
      ]
     },
     "execution_count": 7,
     "metadata": {},
     "output_type": "execute_result"
    }
   ],
   "source": [
    "# проверим данные на дубликаты\n",
    "df.duplicated().sum()"
   ]
  },
  {
   "cell_type": "code",
   "execution_count": 8,
   "metadata": {},
   "outputs": [],
   "source": [
    "# заполним пропуски в столбце \"балконы\"\n",
    "df['balcony'] = df['balcony'].fillna(0)"
   ]
  },
  {
   "cell_type": "code",
   "execution_count": 9,
   "metadata": {},
   "outputs": [],
   "source": [
    "# заполним пропуски в столбце \"высота потолков\" стандартной высотой по СНИПам\n",
    "df['ceiling_height'] = df['ceiling_height'].fillna(2.7)"
   ]
  },
  {
   "cell_type": "markdown",
   "metadata": {},
   "source": [
    "Заполняем пропуски в расстоянии до центра в зависимости от населённого пункта. Если останутся пропуски, то будет некорректно дозаполнять медианой. Поэтому оставшиеся пропуски оставим без изменения."
   ]
  },
  {
   "cell_type": "code",
   "execution_count": 10,
   "metadata": {},
   "outputs": [],
   "source": [
    "import warnings # импортируем библиотеку\n",
    "warnings.filterwarnings('ignore') #отключаем предупреждения\n",
    "for locality_name in df['locality_name'].unique():\n",
    "    median = df.loc[df['locality_name'] == locality_name,'cityCenters_nearest'].median()\n",
    "    df.loc[(df['cityCenters_nearest'].isna()) & (df['locality_name'] == locality_name),'cityCenters_nearest'] = median\n"
   ]
  },
  {
   "cell_type": "code",
   "execution_count": 11,
   "metadata": {},
   "outputs": [],
   "source": [
    "# заполним пропуски в столбце \"аппартаменты\"\n",
    "df['is_apartment'] = df['is_apartment'].fillna(False)"
   ]
  },
  {
   "cell_type": "code",
   "execution_count": 12,
   "metadata": {},
   "outputs": [
    {
     "data": {
      "text/html": [
       "<style  type=\"text/css\" >\n",
       "#T_b28ba_row0_col0,#T_b28ba_row1_col0,#T_b28ba_row2_col0,#T_b28ba_row3_col0,#T_b28ba_row4_col0,#T_b28ba_row5_col0,#T_b28ba_row6_col0,#T_b28ba_row8_col0,#T_b28ba_row9_col0,#T_b28ba_row10_col0,#T_b28ba_row11_col0,#T_b28ba_row13_col0,#T_b28ba_row14_col0{\n",
       "            background-color:  #3b4cc0;\n",
       "            color:  #f1f1f1;\n",
       "        }#T_b28ba_row7_col0{\n",
       "            background-color:  #6180e9;\n",
       "            color:  #000000;\n",
       "        }#T_b28ba_row12_col0{\n",
       "            background-color:  #6a8bef;\n",
       "            color:  #000000;\n",
       "        }#T_b28ba_row15_col0,#T_b28ba_row16_col0,#T_b28ba_row17_col0,#T_b28ba_row19_col0{\n",
       "            background-color:  #afcafc;\n",
       "            color:  #000000;\n",
       "        }#T_b28ba_row18_col0{\n",
       "            background-color:  #b40426;\n",
       "            color:  #f1f1f1;\n",
       "        }#T_b28ba_row20_col0{\n",
       "            background-color:  #ca3b37;\n",
       "            color:  #f1f1f1;\n",
       "        }#T_b28ba_row21_col0{\n",
       "            background-color:  #7a9df8;\n",
       "            color:  #000000;\n",
       "        }</style><table id=\"T_b28ba_\" ><thead>    <tr>        <th class=\"blank level0\" ></th>        <th class=\"col_heading level0 col0\" >0</th>    </tr></thead><tbody>\n",
       "                <tr>\n",
       "                        <th id=\"T_b28ba_level0_row0\" class=\"row_heading level0 row0\" >total_images</th>\n",
       "                        <td id=\"T_b28ba_row0_col0\" class=\"data row0 col0\" >0.000000</td>\n",
       "            </tr>\n",
       "            <tr>\n",
       "                        <th id=\"T_b28ba_level0_row1\" class=\"row_heading level0 row1\" >last_price</th>\n",
       "                        <td id=\"T_b28ba_row1_col0\" class=\"data row1 col0\" >0.000000</td>\n",
       "            </tr>\n",
       "            <tr>\n",
       "                        <th id=\"T_b28ba_level0_row2\" class=\"row_heading level0 row2\" >total_area</th>\n",
       "                        <td id=\"T_b28ba_row2_col0\" class=\"data row2 col0\" >0.000000</td>\n",
       "            </tr>\n",
       "            <tr>\n",
       "                        <th id=\"T_b28ba_level0_row3\" class=\"row_heading level0 row3\" >first_day_exposition</th>\n",
       "                        <td id=\"T_b28ba_row3_col0\" class=\"data row3 col0\" >0.000000</td>\n",
       "            </tr>\n",
       "            <tr>\n",
       "                        <th id=\"T_b28ba_level0_row4\" class=\"row_heading level0 row4\" >rooms</th>\n",
       "                        <td id=\"T_b28ba_row4_col0\" class=\"data row4 col0\" >0.000000</td>\n",
       "            </tr>\n",
       "            <tr>\n",
       "                        <th id=\"T_b28ba_level0_row5\" class=\"row_heading level0 row5\" >ceiling_height</th>\n",
       "                        <td id=\"T_b28ba_row5_col0\" class=\"data row5 col0\" >0.000000</td>\n",
       "            </tr>\n",
       "            <tr>\n",
       "                        <th id=\"T_b28ba_level0_row6\" class=\"row_heading level0 row6\" >floors_total</th>\n",
       "                        <td id=\"T_b28ba_row6_col0\" class=\"data row6 col0\" >0.000000</td>\n",
       "            </tr>\n",
       "            <tr>\n",
       "                        <th id=\"T_b28ba_level0_row7\" class=\"row_heading level0 row7\" >living_area</th>\n",
       "                        <td id=\"T_b28ba_row7_col0\" class=\"data row7 col0\" >8.000000</td>\n",
       "            </tr>\n",
       "            <tr>\n",
       "                        <th id=\"T_b28ba_level0_row8\" class=\"row_heading level0 row8\" >floor</th>\n",
       "                        <td id=\"T_b28ba_row8_col0\" class=\"data row8 col0\" >0.000000</td>\n",
       "            </tr>\n",
       "            <tr>\n",
       "                        <th id=\"T_b28ba_level0_row9\" class=\"row_heading level0 row9\" >is_apartment</th>\n",
       "                        <td id=\"T_b28ba_row9_col0\" class=\"data row9 col0\" >0.000000</td>\n",
       "            </tr>\n",
       "            <tr>\n",
       "                        <th id=\"T_b28ba_level0_row10\" class=\"row_heading level0 row10\" >studio</th>\n",
       "                        <td id=\"T_b28ba_row10_col0\" class=\"data row10 col0\" >0.000000</td>\n",
       "            </tr>\n",
       "            <tr>\n",
       "                        <th id=\"T_b28ba_level0_row11\" class=\"row_heading level0 row11\" >open_plan</th>\n",
       "                        <td id=\"T_b28ba_row11_col0\" class=\"data row11 col0\" >0.000000</td>\n",
       "            </tr>\n",
       "            <tr>\n",
       "                        <th id=\"T_b28ba_level0_row12\" class=\"row_heading level0 row12\" >kitchen_area</th>\n",
       "                        <td id=\"T_b28ba_row12_col0\" class=\"data row12 col0\" >10.000000</td>\n",
       "            </tr>\n",
       "            <tr>\n",
       "                        <th id=\"T_b28ba_level0_row13\" class=\"row_heading level0 row13\" >balcony</th>\n",
       "                        <td id=\"T_b28ba_row13_col0\" class=\"data row13 col0\" >0.000000</td>\n",
       "            </tr>\n",
       "            <tr>\n",
       "                        <th id=\"T_b28ba_level0_row14\" class=\"row_heading level0 row14\" >locality_name</th>\n",
       "                        <td id=\"T_b28ba_row14_col0\" class=\"data row14 col0\" >0.000000</td>\n",
       "            </tr>\n",
       "            <tr>\n",
       "                        <th id=\"T_b28ba_level0_row15\" class=\"row_heading level0 row15\" >airports_nearest</th>\n",
       "                        <td id=\"T_b28ba_row15_col0\" class=\"data row15 col0\" >23.000000</td>\n",
       "            </tr>\n",
       "            <tr>\n",
       "                        <th id=\"T_b28ba_level0_row16\" class=\"row_heading level0 row16\" >cityCenters_nearest</th>\n",
       "                        <td id=\"T_b28ba_row16_col0\" class=\"data row16 col0\" >23.000000</td>\n",
       "            </tr>\n",
       "            <tr>\n",
       "                        <th id=\"T_b28ba_level0_row17\" class=\"row_heading level0 row17\" >parks_around3000</th>\n",
       "                        <td id=\"T_b28ba_row17_col0\" class=\"data row17 col0\" >23.000000</td>\n",
       "            </tr>\n",
       "            <tr>\n",
       "                        <th id=\"T_b28ba_level0_row18\" class=\"row_heading level0 row18\" >parks_nearest</th>\n",
       "                        <td id=\"T_b28ba_row18_col0\" class=\"data row18 col0\" >66.000000</td>\n",
       "            </tr>\n",
       "            <tr>\n",
       "                        <th id=\"T_b28ba_level0_row19\" class=\"row_heading level0 row19\" >ponds_around3000</th>\n",
       "                        <td id=\"T_b28ba_row19_col0\" class=\"data row19 col0\" >23.000000</td>\n",
       "            </tr>\n",
       "            <tr>\n",
       "                        <th id=\"T_b28ba_level0_row20\" class=\"row_heading level0 row20\" >ponds_nearest</th>\n",
       "                        <td id=\"T_b28ba_row20_col0\" class=\"data row20 col0\" >62.000000</td>\n",
       "            </tr>\n",
       "            <tr>\n",
       "                        <th id=\"T_b28ba_level0_row21\" class=\"row_heading level0 row21\" >days_exposition</th>\n",
       "                        <td id=\"T_b28ba_row21_col0\" class=\"data row21 col0\" >13.000000</td>\n",
       "            </tr>\n",
       "    </tbody></table>"
      ],
      "text/plain": [
       "<pandas.io.formats.style.Styler at 0x7f3f1fcdb4f0>"
      ]
     },
     "execution_count": 12,
     "metadata": {},
     "output_type": "execute_result"
    }
   ],
   "source": [
    "# посмотрим на количество оставшихся пропусков в процентах\n",
    "pd.DataFrame(round(df.isna().mean()*100,)).style.background_gradient('coolwarm')"
   ]
  },
  {
   "cell_type": "markdown",
   "metadata": {},
   "source": [
    "### Изменение типа данных.\n",
    "1. Столбец first_day_exposition (дата публикации) меняем тип данных с 'object' на 'datetime'.\n",
    "2. Столбец is_apartment (апартаменты) меняем тип данных на с 'object' на 'bool'.\n",
    "3. Столбец balcony(балконы) меняем тип данных на целочисленный."
   ]
  },
  {
   "cell_type": "code",
   "execution_count": 13,
   "metadata": {},
   "outputs": [],
   "source": [
    "df= df.astype({'is_apartment':bool})"
   ]
  },
  {
   "cell_type": "code",
   "execution_count": 14,
   "metadata": {
    "scrolled": false
   },
   "outputs": [],
   "source": [
    "df['first_day_exposition'] = pd.to_datetime(\n",
    "    df['first_day_exposition'], format='%Y-%m-%dT%H:%M:%S'\n",
    ")"
   ]
  },
  {
   "cell_type": "code",
   "execution_count": 15,
   "metadata": {},
   "outputs": [],
   "source": [
    "df= df.astype({'balcony':int})"
   ]
  },
  {
   "cell_type": "code",
   "execution_count": 16,
   "metadata": {
    "scrolled": false
   },
   "outputs": [
    {
     "name": "stdout",
     "output_type": "stream",
     "text": [
      "<class 'pandas.core.frame.DataFrame'>\n",
      "RangeIndex: 23699 entries, 0 to 23698\n",
      "Data columns (total 22 columns):\n",
      " #   Column                Non-Null Count  Dtype         \n",
      "---  ------                --------------  -----         \n",
      " 0   total_images          23699 non-null  int64         \n",
      " 1   last_price            23699 non-null  float64       \n",
      " 2   total_area            23699 non-null  float64       \n",
      " 3   first_day_exposition  23699 non-null  datetime64[ns]\n",
      " 4   rooms                 23699 non-null  int64         \n",
      " 5   ceiling_height        23699 non-null  float64       \n",
      " 6   floors_total          23613 non-null  float64       \n",
      " 7   living_area           21796 non-null  float64       \n",
      " 8   floor                 23699 non-null  int64         \n",
      " 9   is_apartment          23699 non-null  bool          \n",
      " 10  studio                23699 non-null  bool          \n",
      " 11  open_plan             23699 non-null  bool          \n",
      " 12  kitchen_area          21421 non-null  float64       \n",
      " 13  balcony               23699 non-null  int64         \n",
      " 14  locality_name         23650 non-null  object        \n",
      " 15  airports_nearest      18157 non-null  float64       \n",
      " 16  cityCenters_nearest   18305 non-null  float64       \n",
      " 17  parks_around3000      18181 non-null  float64       \n",
      " 18  parks_nearest         8079 non-null   float64       \n",
      " 19  ponds_around3000      18181 non-null  float64       \n",
      " 20  ponds_nearest         9110 non-null   float64       \n",
      " 21  days_exposition       20518 non-null  float64       \n",
      "dtypes: bool(3), datetime64[ns](1), float64(13), int64(4), object(1)\n",
      "memory usage: 3.5+ MB\n"
     ]
    }
   ],
   "source": [
    "# проверим, что получилось\n",
    "df.info()"
   ]
  },
  {
   "cell_type": "markdown",
   "metadata": {},
   "source": [
    "### Устранение неявных дубликатов.\n",
    "1. В столбце locality_name (название населённого пункта)  названия со словом \"поселок\" приводим к единому виду: поселок через букву \"е\" без уточнений."
   ]
  },
  {
   "cell_type": "code",
   "execution_count": 17,
   "metadata": {},
   "outputs": [],
   "source": [
    "df = df.dropna(subset=['locality_name'])\n",
    "df = df.reset_index(drop=True)"
   ]
  },
  {
   "cell_type": "code",
   "execution_count": 18,
   "metadata": {},
   "outputs": [
    {
     "data": {
      "text/html": [
       "<div>\n",
       "<style scoped>\n",
       "    .dataframe tbody tr th:only-of-type {\n",
       "        vertical-align: middle;\n",
       "    }\n",
       "\n",
       "    .dataframe tbody tr th {\n",
       "        vertical-align: top;\n",
       "    }\n",
       "\n",
       "    .dataframe thead th {\n",
       "        text-align: right;\n",
       "    }\n",
       "</style>\n",
       "<table border=\"1\" class=\"dataframe\">\n",
       "  <thead>\n",
       "    <tr style=\"text-align: right;\">\n",
       "      <th></th>\n",
       "      <th>total_images</th>\n",
       "      <th>last_price</th>\n",
       "      <th>total_area</th>\n",
       "      <th>first_day_exposition</th>\n",
       "      <th>rooms</th>\n",
       "      <th>ceiling_height</th>\n",
       "      <th>floors_total</th>\n",
       "      <th>living_area</th>\n",
       "      <th>floor</th>\n",
       "      <th>is_apartment</th>\n",
       "      <th>...</th>\n",
       "      <th>kitchen_area</th>\n",
       "      <th>balcony</th>\n",
       "      <th>locality_name</th>\n",
       "      <th>airports_nearest</th>\n",
       "      <th>cityCenters_nearest</th>\n",
       "      <th>parks_around3000</th>\n",
       "      <th>parks_nearest</th>\n",
       "      <th>ponds_around3000</th>\n",
       "      <th>ponds_nearest</th>\n",
       "      <th>days_exposition</th>\n",
       "    </tr>\n",
       "  </thead>\n",
       "  <tbody>\n",
       "    <tr>\n",
       "      <th>0</th>\n",
       "      <td>20</td>\n",
       "      <td>13000000.0</td>\n",
       "      <td>108.00</td>\n",
       "      <td>2019-03-07</td>\n",
       "      <td>3</td>\n",
       "      <td>2.70</td>\n",
       "      <td>16.0</td>\n",
       "      <td>51.0</td>\n",
       "      <td>8</td>\n",
       "      <td>False</td>\n",
       "      <td>...</td>\n",
       "      <td>25.00</td>\n",
       "      <td>0</td>\n",
       "      <td>Санкт-Петербург</td>\n",
       "      <td>18863.0</td>\n",
       "      <td>16028.0</td>\n",
       "      <td>1.0</td>\n",
       "      <td>482.0</td>\n",
       "      <td>2.0</td>\n",
       "      <td>755.0</td>\n",
       "      <td>NaN</td>\n",
       "    </tr>\n",
       "    <tr>\n",
       "      <th>1</th>\n",
       "      <td>7</td>\n",
       "      <td>3350000.0</td>\n",
       "      <td>40.40</td>\n",
       "      <td>2018-12-04</td>\n",
       "      <td>1</td>\n",
       "      <td>2.70</td>\n",
       "      <td>11.0</td>\n",
       "      <td>18.6</td>\n",
       "      <td>1</td>\n",
       "      <td>False</td>\n",
       "      <td>...</td>\n",
       "      <td>11.00</td>\n",
       "      <td>2</td>\n",
       "      <td>посёлок Шушары</td>\n",
       "      <td>12817.0</td>\n",
       "      <td>18603.0</td>\n",
       "      <td>0.0</td>\n",
       "      <td>NaN</td>\n",
       "      <td>0.0</td>\n",
       "      <td>NaN</td>\n",
       "      <td>81.0</td>\n",
       "    </tr>\n",
       "    <tr>\n",
       "      <th>2</th>\n",
       "      <td>10</td>\n",
       "      <td>5196000.0</td>\n",
       "      <td>56.00</td>\n",
       "      <td>2015-08-20</td>\n",
       "      <td>2</td>\n",
       "      <td>2.70</td>\n",
       "      <td>5.0</td>\n",
       "      <td>34.3</td>\n",
       "      <td>4</td>\n",
       "      <td>False</td>\n",
       "      <td>...</td>\n",
       "      <td>8.30</td>\n",
       "      <td>0</td>\n",
       "      <td>Санкт-Петербург</td>\n",
       "      <td>21741.0</td>\n",
       "      <td>13933.0</td>\n",
       "      <td>1.0</td>\n",
       "      <td>90.0</td>\n",
       "      <td>2.0</td>\n",
       "      <td>574.0</td>\n",
       "      <td>558.0</td>\n",
       "    </tr>\n",
       "    <tr>\n",
       "      <th>3</th>\n",
       "      <td>0</td>\n",
       "      <td>64900000.0</td>\n",
       "      <td>159.00</td>\n",
       "      <td>2015-07-24</td>\n",
       "      <td>3</td>\n",
       "      <td>2.70</td>\n",
       "      <td>14.0</td>\n",
       "      <td>NaN</td>\n",
       "      <td>9</td>\n",
       "      <td>False</td>\n",
       "      <td>...</td>\n",
       "      <td>NaN</td>\n",
       "      <td>0</td>\n",
       "      <td>Санкт-Петербург</td>\n",
       "      <td>28098.0</td>\n",
       "      <td>6800.0</td>\n",
       "      <td>2.0</td>\n",
       "      <td>84.0</td>\n",
       "      <td>3.0</td>\n",
       "      <td>234.0</td>\n",
       "      <td>424.0</td>\n",
       "    </tr>\n",
       "    <tr>\n",
       "      <th>4</th>\n",
       "      <td>2</td>\n",
       "      <td>10000000.0</td>\n",
       "      <td>100.00</td>\n",
       "      <td>2018-06-19</td>\n",
       "      <td>2</td>\n",
       "      <td>3.03</td>\n",
       "      <td>14.0</td>\n",
       "      <td>32.0</td>\n",
       "      <td>13</td>\n",
       "      <td>False</td>\n",
       "      <td>...</td>\n",
       "      <td>41.00</td>\n",
       "      <td>0</td>\n",
       "      <td>Санкт-Петербург</td>\n",
       "      <td>31856.0</td>\n",
       "      <td>8098.0</td>\n",
       "      <td>2.0</td>\n",
       "      <td>112.0</td>\n",
       "      <td>1.0</td>\n",
       "      <td>48.0</td>\n",
       "      <td>121.0</td>\n",
       "    </tr>\n",
       "    <tr>\n",
       "      <th>...</th>\n",
       "      <td>...</td>\n",
       "      <td>...</td>\n",
       "      <td>...</td>\n",
       "      <td>...</td>\n",
       "      <td>...</td>\n",
       "      <td>...</td>\n",
       "      <td>...</td>\n",
       "      <td>...</td>\n",
       "      <td>...</td>\n",
       "      <td>...</td>\n",
       "      <td>...</td>\n",
       "      <td>...</td>\n",
       "      <td>...</td>\n",
       "      <td>...</td>\n",
       "      <td>...</td>\n",
       "      <td>...</td>\n",
       "      <td>...</td>\n",
       "      <td>...</td>\n",
       "      <td>...</td>\n",
       "      <td>...</td>\n",
       "      <td>...</td>\n",
       "    </tr>\n",
       "    <tr>\n",
       "      <th>23645</th>\n",
       "      <td>9</td>\n",
       "      <td>9700000.0</td>\n",
       "      <td>133.81</td>\n",
       "      <td>2017-03-21</td>\n",
       "      <td>3</td>\n",
       "      <td>3.70</td>\n",
       "      <td>5.0</td>\n",
       "      <td>73.3</td>\n",
       "      <td>3</td>\n",
       "      <td>False</td>\n",
       "      <td>...</td>\n",
       "      <td>13.83</td>\n",
       "      <td>0</td>\n",
       "      <td>Санкт-Петербург</td>\n",
       "      <td>24665.0</td>\n",
       "      <td>4232.0</td>\n",
       "      <td>1.0</td>\n",
       "      <td>796.0</td>\n",
       "      <td>3.0</td>\n",
       "      <td>381.0</td>\n",
       "      <td>NaN</td>\n",
       "    </tr>\n",
       "    <tr>\n",
       "      <th>23646</th>\n",
       "      <td>14</td>\n",
       "      <td>3100000.0</td>\n",
       "      <td>59.00</td>\n",
       "      <td>2018-01-15</td>\n",
       "      <td>3</td>\n",
       "      <td>2.70</td>\n",
       "      <td>5.0</td>\n",
       "      <td>38.0</td>\n",
       "      <td>4</td>\n",
       "      <td>False</td>\n",
       "      <td>...</td>\n",
       "      <td>8.50</td>\n",
       "      <td>0</td>\n",
       "      <td>Тосно</td>\n",
       "      <td>NaN</td>\n",
       "      <td>NaN</td>\n",
       "      <td>NaN</td>\n",
       "      <td>NaN</td>\n",
       "      <td>NaN</td>\n",
       "      <td>NaN</td>\n",
       "      <td>45.0</td>\n",
       "    </tr>\n",
       "    <tr>\n",
       "      <th>23647</th>\n",
       "      <td>18</td>\n",
       "      <td>2500000.0</td>\n",
       "      <td>56.70</td>\n",
       "      <td>2018-02-11</td>\n",
       "      <td>2</td>\n",
       "      <td>2.70</td>\n",
       "      <td>3.0</td>\n",
       "      <td>29.7</td>\n",
       "      <td>1</td>\n",
       "      <td>False</td>\n",
       "      <td>...</td>\n",
       "      <td>NaN</td>\n",
       "      <td>0</td>\n",
       "      <td>село Рождествено</td>\n",
       "      <td>NaN</td>\n",
       "      <td>NaN</td>\n",
       "      <td>NaN</td>\n",
       "      <td>NaN</td>\n",
       "      <td>NaN</td>\n",
       "      <td>NaN</td>\n",
       "      <td>NaN</td>\n",
       "    </tr>\n",
       "    <tr>\n",
       "      <th>23648</th>\n",
       "      <td>13</td>\n",
       "      <td>11475000.0</td>\n",
       "      <td>76.75</td>\n",
       "      <td>2017-03-28</td>\n",
       "      <td>2</td>\n",
       "      <td>3.00</td>\n",
       "      <td>17.0</td>\n",
       "      <td>NaN</td>\n",
       "      <td>12</td>\n",
       "      <td>False</td>\n",
       "      <td>...</td>\n",
       "      <td>23.30</td>\n",
       "      <td>2</td>\n",
       "      <td>Санкт-Петербург</td>\n",
       "      <td>39140.0</td>\n",
       "      <td>10364.0</td>\n",
       "      <td>2.0</td>\n",
       "      <td>173.0</td>\n",
       "      <td>3.0</td>\n",
       "      <td>196.0</td>\n",
       "      <td>602.0</td>\n",
       "    </tr>\n",
       "    <tr>\n",
       "      <th>23649</th>\n",
       "      <td>4</td>\n",
       "      <td>1350000.0</td>\n",
       "      <td>32.30</td>\n",
       "      <td>2017-07-21</td>\n",
       "      <td>1</td>\n",
       "      <td>2.50</td>\n",
       "      <td>5.0</td>\n",
       "      <td>12.3</td>\n",
       "      <td>1</td>\n",
       "      <td>False</td>\n",
       "      <td>...</td>\n",
       "      <td>9.00</td>\n",
       "      <td>0</td>\n",
       "      <td>поселок Новый Учхоз</td>\n",
       "      <td>NaN</td>\n",
       "      <td>NaN</td>\n",
       "      <td>NaN</td>\n",
       "      <td>NaN</td>\n",
       "      <td>NaN</td>\n",
       "      <td>NaN</td>\n",
       "      <td>NaN</td>\n",
       "    </tr>\n",
       "  </tbody>\n",
       "</table>\n",
       "<p>23650 rows × 22 columns</p>\n",
       "</div>"
      ],
      "text/plain": [
       "       total_images  last_price  total_area first_day_exposition  rooms  \\\n",
       "0                20  13000000.0      108.00           2019-03-07      3   \n",
       "1                 7   3350000.0       40.40           2018-12-04      1   \n",
       "2                10   5196000.0       56.00           2015-08-20      2   \n",
       "3                 0  64900000.0      159.00           2015-07-24      3   \n",
       "4                 2  10000000.0      100.00           2018-06-19      2   \n",
       "...             ...         ...         ...                  ...    ...   \n",
       "23645             9   9700000.0      133.81           2017-03-21      3   \n",
       "23646            14   3100000.0       59.00           2018-01-15      3   \n",
       "23647            18   2500000.0       56.70           2018-02-11      2   \n",
       "23648            13  11475000.0       76.75           2017-03-28      2   \n",
       "23649             4   1350000.0       32.30           2017-07-21      1   \n",
       "\n",
       "       ceiling_height  floors_total  living_area  floor  is_apartment  ...  \\\n",
       "0                2.70          16.0         51.0      8         False  ...   \n",
       "1                2.70          11.0         18.6      1         False  ...   \n",
       "2                2.70           5.0         34.3      4         False  ...   \n",
       "3                2.70          14.0          NaN      9         False  ...   \n",
       "4                3.03          14.0         32.0     13         False  ...   \n",
       "...               ...           ...          ...    ...           ...  ...   \n",
       "23645            3.70           5.0         73.3      3         False  ...   \n",
       "23646            2.70           5.0         38.0      4         False  ...   \n",
       "23647            2.70           3.0         29.7      1         False  ...   \n",
       "23648            3.00          17.0          NaN     12         False  ...   \n",
       "23649            2.50           5.0         12.3      1         False  ...   \n",
       "\n",
       "       kitchen_area  balcony        locality_name  airports_nearest  \\\n",
       "0             25.00        0      Санкт-Петербург           18863.0   \n",
       "1             11.00        2       посёлок Шушары           12817.0   \n",
       "2              8.30        0      Санкт-Петербург           21741.0   \n",
       "3               NaN        0      Санкт-Петербург           28098.0   \n",
       "4             41.00        0      Санкт-Петербург           31856.0   \n",
       "...             ...      ...                  ...               ...   \n",
       "23645         13.83        0      Санкт-Петербург           24665.0   \n",
       "23646          8.50        0                Тосно               NaN   \n",
       "23647           NaN        0     село Рождествено               NaN   \n",
       "23648         23.30        2      Санкт-Петербург           39140.0   \n",
       "23649          9.00        0  поселок Новый Учхоз               NaN   \n",
       "\n",
       "      cityCenters_nearest  parks_around3000  parks_nearest  ponds_around3000  \\\n",
       "0                 16028.0               1.0          482.0               2.0   \n",
       "1                 18603.0               0.0            NaN               0.0   \n",
       "2                 13933.0               1.0           90.0               2.0   \n",
       "3                  6800.0               2.0           84.0               3.0   \n",
       "4                  8098.0               2.0          112.0               1.0   \n",
       "...                   ...               ...            ...               ...   \n",
       "23645              4232.0               1.0          796.0               3.0   \n",
       "23646                 NaN               NaN            NaN               NaN   \n",
       "23647                 NaN               NaN            NaN               NaN   \n",
       "23648             10364.0               2.0          173.0               3.0   \n",
       "23649                 NaN               NaN            NaN               NaN   \n",
       "\n",
       "       ponds_nearest  days_exposition  \n",
       "0              755.0              NaN  \n",
       "1                NaN             81.0  \n",
       "2              574.0            558.0  \n",
       "3              234.0            424.0  \n",
       "4               48.0            121.0  \n",
       "...              ...              ...  \n",
       "23645          381.0              NaN  \n",
       "23646            NaN             45.0  \n",
       "23647            NaN              NaN  \n",
       "23648          196.0            602.0  \n",
       "23649            NaN              NaN  \n",
       "\n",
       "[23650 rows x 22 columns]"
      ]
     },
     "execution_count": 18,
     "metadata": {},
     "output_type": "execute_result"
    }
   ],
   "source": [
    "df.isna().sum()\n",
    "df"
   ]
  },
  {
   "cell_type": "code",
   "execution_count": 19,
   "metadata": {
    "scrolled": true
   },
   "outputs": [
    {
     "data": {
      "text/plain": [
       "Санкт-Петербург                                            15721\n",
       "посёлок Мурино                                               522\n",
       "посёлок Шушары                                               440\n",
       "Всеволожск                                                   398\n",
       "Пушкин                                                       369\n",
       "Колпино                                                      338\n",
       "посёлок Парголово                                            327\n",
       "Гатчина                                                      307\n",
       "деревня Кудрово                                              299\n",
       "Выборг                                                       237\n",
       "Петергоф                                                     201\n",
       "Сестрорецк                                                   183\n",
       "Красное Село                                                 178\n",
       "Кудрово                                                      173\n",
       "деревня Новое Девяткино                                      144\n",
       "Сертолово                                                    142\n",
       "Ломоносов                                                    133\n",
       "Кириши                                                       125\n",
       "Сланцы                                                       112\n",
       "Волхов                                                       111\n",
       "Тосно                                                        104\n",
       "Кингисепп                                                    104\n",
       "Кронштадт                                                     96\n",
       "Никольское                                                    93\n",
       "Коммунар                                                      89\n",
       "Сосновый Бор                                                  87\n",
       "Кировск                                                       84\n",
       "Отрадное                                                      80\n",
       "посёлок Бугры                                                 69\n",
       "посёлок Металлострой                                          66\n",
       "Приозерск                                                     66\n",
       "деревня Старая                                                64\n",
       "городской посёлок Янино-1                                     61\n",
       "Шлиссельбург                                                  57\n",
       "Луга                                                          56\n",
       "Тихвин                                                        49\n",
       "поселок Бугры                                                 45\n",
       "посёлок Стрельна                                              44\n",
       "посёлок Тельмана                                              39\n",
       "Павловск                                                      38\n",
       "поселок Романовка                                             36\n",
       "Волосово                                                      36\n",
       "Мурино                                                        34\n",
       "поселок Мурино                                                34\n",
       "посёлок городского типа Сиверский                             29\n",
       "городской посёлок Новоселье                                   28\n",
       "Ивангород                                                     28\n",
       "городской посёлок Мга                                         27\n",
       "поселок городского типа имени Свердлова                       25\n",
       "Сясьстрой                                                     24\n",
       "Зеленогорск                                                   24\n",
       "посёлок Щеглово                                               23\n",
       "посёлок городского типа Кузьмоловский                         22\n",
       "поселок городского типа Синявино                              21\n",
       "деревня Вартемяги                                             20\n",
       "посёлок Понтонный                                             20\n",
       "посёлок Новогорелово                                          20\n",
       "Лодейное Поле                                                 20\n",
       "деревня Лесколово                                             20\n",
       "поселок городского типа Рощино                                19\n",
       "Подпорожье                                                    19\n",
       "Пикалёво                                                      18\n",
       "посёлок Сосново                                               18\n",
       "деревня Бегуницы                                              17\n",
       "посёлок городского типа имени Морозова                        17\n",
       "посёлок Новый Свет                                            17\n",
       "Бокситогорск                                                  16\n",
       "городской поселок Большая Ижора                               16\n",
       "посёлок городского типа Токсово                               16\n",
       "деревня Большие Колпаны                                       16\n",
       "поселок городского типа Дубровка                              15\n",
       "городской посёлок Назия                                       15\n",
       "поселок городского типа Рахья                                 15\n",
       "посёлок городского типа Рощино                                15\n",
       "деревня Горбунки                                              15\n",
       "Новая Ладога                                                  14\n",
       "поселок городского типа Кузьмоловский                         13\n",
       "поселок Елизаветино                                           13\n",
       "деревня Гарболово                                             13\n",
       "посёлок городского типа Кузнечное                             13\n",
       "Каменногорск                                                  13\n",
       "посёлок городского типа Ульяновка                             13\n",
       "поселок городского типа Вырица                                12\n",
       "деревня Мистолово                                             11\n",
       "деревня Гостилицы                                             11\n",
       "деревня Колтуши                                               11\n",
       "посёлок городского типа Лебяжье                               11\n",
       "Светогорск                                                    11\n",
       "деревня Малое Верево                                          11\n",
       "деревня Нурма                                                 11\n",
       "посёлок городского типа имени Свердлова                       11\n",
       "посёлок Аннино                                                11\n",
       "деревня Белогорка                                             11\n",
       "деревня Низино                                                10\n",
       "поселок Войсковицы                                            10\n",
       "деревня Лаголово                                              10\n",
       "посёлок городского типа Вырица                                10\n",
       "деревня Сяськелево                                            10\n",
       "деревня Малое Карлино                                          9\n",
       "городской посёлок Павлово                                      9\n",
       "поселок городского типа Приладожский                           9\n",
       "деревня Оржицы                                                 9\n",
       "поселок Сельцо                                                 9\n",
       "деревня Батово                                                 9\n",
       "поселок городского типа Советский                              9\n",
       "село Русско-Высоцкое                                           9\n",
       "поселок Молодцово                                              9\n",
       "посёлок Пудость                                                9\n",
       "поселок Запорожское                                            8\n",
       "деревня Фёдоровское                                            8\n",
       "Любань                                                         8\n",
       "Приморск                                                       8\n",
       "поселок Первомайское                                           8\n",
       "поселок Суходолье                                              8\n",
       "деревня Кальтино                                               7\n",
       "поселок городского типа Никольский                             7\n",
       "городской поселок Янино-1                                      7\n",
       "деревня Куттузи                                                7\n",
       "деревня Кузьмолово                                             7\n",
       "деревня Малые Колпаны                                          7\n",
       "деревня Кипень                                                 7\n",
       "деревня Извара                                                 7\n",
       "деревня Калитино                                               7\n",
       "городской посёлок Фёдоровское                                  7\n",
       "село Павлово                                                   7\n",
       "поселок Углово                                                 7\n",
       "деревня Пудомяги                                               6\n",
       "деревня Лампово                                                6\n",
       "деревня Яльгелево                                              6\n",
       "посёлок городского типа Тайцы                                  6\n",
       "деревня Заневка                                                6\n",
       "посёлок городского типа Мга                                    6\n",
       "деревня Пеники                                                 6\n",
       "поселок Новый Учхоз                                            6\n",
       "деревня Лопухинка                                              6\n",
       "посёлок Сапёрный                                               6\n",
       "посёлок Мичуринское                                            6\n",
       "поселок Кобринское                                             6\n",
       "посёлок Ильичёво                                               6\n",
       "поселок Ушаки                                                  6\n",
       "посёлок городского типа Важины                                 6\n",
       "посёлок Молодёжное                                             5\n",
       "поселок Семрино                                                5\n",
       "поселок Глажево                                                5\n",
       "городской посёлок Рощино                                       5\n",
       "посёлок Войскорово                                             5\n",
       "посёлок Кобралово                                              5\n",
       "поселок Новый Свет                                             5\n",
       "посёлок Стеклянный                                             5\n",
       "поселок Селезнёво                                              5\n",
       "поселок городского типа Красный Бор                            5\n",
       "поселок городского типа Дружная Горка                          5\n",
       "поселок Аннино                                                 5\n",
       "деревня Юкки                                                   5\n",
       "село Копорье                                                   5\n",
       "поселок Мичуринское                                            5\n",
       "посёлок Плодовое                                               5\n",
       "Высоцк                                                         4\n",
       "поселок городского типа Лебяжье                                4\n",
       "деревня Большая Вруда                                          4\n",
       "посёлок Поляны                                                 4\n",
       "поселок Цвелодубово                                            4\n",
       "посёлок Суйда                                                  4\n",
       "деревня Разбегаево                                             4\n",
       "деревня Агалатово                                              4\n",
       "деревня Парицы                                                 4\n",
       "посёлок Репино                                                 4\n",
       "посёлок Кикерино                                               4\n",
       "поселок городского типа Токсово                                4\n",
       "посёлок Торфяное                                               4\n",
       "деревня Разметелево                                            4\n",
       "посёлок городского типа Форносово                              4\n",
       "городской посёлок Будогощь                                     4\n",
       "поселок станции Вещево                                         4\n",
       "посёлок Терволово                                              4\n",
       "деревня Келози                                                 4\n",
       "посёлок Гаврилово                                              4\n",
       "посёлок Усть-Луга                                              4\n",
       "поселок Гарболово                                              4\n",
       "посёлок Песочный                                               4\n",
       "поселок Кобралово                                              4\n",
       "поселок Глебычево                                              3\n",
       "поселок Любань                                                 3\n",
       "поселок Стеклянный                                             3\n",
       "посёлок Перово                                                 3\n",
       "деревня Ваганово                                               3\n",
       "поселок Победа                                                 3\n",
       "поселок городского типа Лесогорский                            3\n",
       "деревня Старополье                                             3\n",
       "поселок Громово                                                3\n",
       "посёлок станции Громово                                        3\n",
       "поселок городского типа Ефимовский                             3\n",
       "деревня Аро                                                    3\n",
       "поселок Лукаши                                                 3\n",
       "городской посёлок Виллози                                      3\n",
       "посёлок городского типа Красный Бор                            3\n",
       "поселок Заводской                                              3\n",
       "поселок Зимитицы                                               3\n",
       "посёлок Пригородный                                            3\n",
       "село Рождествено                                               3\n",
       "поселок Мельниково                                             3\n",
       "поселок Оредеж                                                 3\n",
       "посёлок Петровское                                             3\n",
       "посёлок Победа                                                 3\n",
       "деревня Заклинье                                               3\n",
       "поселок Котельский                                             3\n",
       "деревня Торошковичи                                            3\n",
       "поселок Красная Долина                                         3\n",
       "деревня Торосово                                               3\n",
       "поселок Торковичи                                              3\n",
       "деревня Старосиверская                                         3\n",
       "деревня Камышовка                                              2\n",
       "посёлок Александровская                                        2\n",
       "деревня Тарасово                                               2\n",
       "посёлок Сапёрное                                               2\n",
       "деревня Старая Пустошь                                         2\n",
       "поселок Починок                                                2\n",
       "деревня Суоранда                                               2\n",
       "посёлок городского типа Вознесенье                             2\n",
       "деревня Фалилеево                                              2\n",
       "поселок Житково                                                2\n",
       "село Путилово                                                  2\n",
       "поселок Терволово                                              2\n",
       "городской посёлок Лесогорский                                  2\n",
       "посёлок Мельниково                                             2\n",
       "посёлок Лисий Нос                                              2\n",
       "посёлок станции Свирь                                          2\n",
       "поселок Старая Малукса                                         2\n",
       "поселок Серебрянский                                           2\n",
       "деревня Выскатка                                               2\n",
       "поселок Ильичёво                                               2\n",
       "поселок городского типа Назия                                  2\n",
       "поселок Тельмана                                               2\n",
       "деревня Ненимяки                                               2\n",
       "деревня Коркино                                                2\n",
       "поселок Совхозный                                              2\n",
       "село Паша                                                      2\n",
       "деревня Рабитицы                                               2\n",
       "деревня Старые Бегуницы                                        2\n",
       "посёлок городского типа Павлово                                2\n",
       "деревня Глинка                                                 2\n",
       "посёлок Жилгородок                                             2\n",
       "поселок Кингисеппский                                          2\n",
       "поселок Лесное                                                 2\n",
       "деревня Бор                                                    2\n",
       "поселок Барышево                                               2\n",
       "деревня Ям-Тесово                                              2\n",
       "поселок Петровское                                             2\n",
       "поселок городского типа Форносово                              2\n",
       "село Старая Ладога                                             2\n",
       "поселок Рябово                                                 2\n",
       "деревня Мины                                                   2\n",
       "городской посёлок Советский                                    2\n",
       "поселок Поляны                                                 2\n",
       "поселок станции Приветнинское                                  2\n",
       "посёлок Усть-Ижора                                             2\n",
       "поселок Пушное                                                 2\n",
       "посёлок Возрождение                                            2\n",
       "посёлок Ленинское                                              2\n",
       "посёлок Старая Малукса                                         2\n",
       "поселок Жилгородок                                             1\n",
       "деревня Ялгино                                                 1\n",
       "деревня Пчева                                                  1\n",
       "деревня Трубников Бор                                          1\n",
       "деревня Хапо-Ое                                                1\n",
       "деревня Русско                                                 1\n",
       "деревня Терпилицы                                              1\n",
       "городской посёлок Свирьстрой                                   1\n",
       "деревня Рапполово                                              1\n",
       "деревня Хязельки                                               1\n",
       "деревня Шпаньково                                              1\n",
       "посёлок Алексеевка                                             1\n",
       "деревня Тойворово                                              1\n",
       "поселок Пансионат Зелёный Бор                                  1\n",
       "деревня Новолисино                                             1\n",
       "поселок Возрождение                                            1\n",
       "деревня Реброво                                                1\n",
       "деревня Пустынка                                               1\n",
       "деревня Зимитицы                                               1\n",
       "посёлок Левашово                                               1\n",
       "поселок станции Корнево                                        1\n",
       "деревня Лаврики                                                1\n",
       "деревня Куровицы                                               1\n",
       "деревня Старое Хинколово                                       1\n",
       "деревня Меньково                                               1\n",
       "посёлок Форт Красная Горка                                     1\n",
       "посёлок Плоское                                                1\n",
       "поселок Ромашки                                                1\n",
       "поселок станции Лужайка                                        1\n",
       "деревня Щеглово                                                1\n",
       "деревня Пикколово                                              1\n",
       "поселок Тёсово-4                                               1\n",
       "деревня Малая Романовка                                        1\n",
       "деревня Котлы                                                  1\n",
       "посёлок Шугозеро                                               1\n",
       "поселок Гаврилово                                              1\n",
       "поселок Почап                                                  1\n",
       "поселок Гладкое                                                1\n",
       "деревня Борисова Грива                                         1\n",
       "поселок Володарское                                            1\n",
       "поселок Гончарово                                              1\n",
       "деревня Большой Сабск                                          1\n",
       "садовое товарищество Приладожский                              1\n",
       "деревня Большая Пустомержа                                     1\n",
       "садовое товарищество Новая Ропша                               1\n",
       "посёлок Дзержинского                                           1\n",
       "поселок Цвылёво                                                1\n",
       "поселок Жилпосёлок                                             1\n",
       "посёлок при железнодорожной станции Приветнинское              1\n",
       "коттеджный поселок Кивеннапа Север                             1\n",
       "поселок городского типа Рябово                                 1\n",
       "деревня Большое Рейзино                                        1\n",
       "коттеджный поселок Счастье                                     1\n",
       "деревня Снегирёвка                                             1\n",
       "поселок Коробицыно                                             1\n",
       "посёлок Платформа 69-й километр                                1\n",
       "посёлок Мыза-Ивановка                                          1\n",
       "деревня Нижние Осельки                                         1\n",
       "поселок Усть-Луга                                              1\n",
       "поселок Сумино                                                 1\n",
       "деревня Сижно                                                  1\n",
       "посёлок Высокоключевой                                         1\n",
       "деревня Пельгора                                               1\n",
       "поселок городского типа Большая Ижора                          1\n",
       "деревня Иссад                                                  1\n",
       "поселок Пчевжа                                                 1\n",
       "деревня Каськово                                               1\n",
       "поселок Лисий Нос                                              1\n",
       "посёлок Пансионат Зелёный Бор                                  1\n",
       "поселок Коммунары                                              1\n",
       "поселок Перово                                                 1\n",
       "село Никольское                                                1\n",
       "поселок Севастьяново                                           1\n",
       "поселок Калитино                                               1\n",
       "деревня Раздолье                                               1\n",
       "поселок Красносельское                                         1\n",
       "поселок городского типа Кондратьево                            1\n",
       "деревня Тихковицы                                              1\n",
       "деревня Кисельня                                               1\n",
       "садоводческое некоммерческое товарищество Лесная Поляна        1\n",
       "садовое товарищество Рахья                                     1\n",
       "поселок Семиозерье                                             1\n",
       "деревня Вахнова Кара                                           1\n",
       "поселок Рабитицы                                               1\n",
       "деревня Лупполово                                              1\n",
       "коттеджный посёлок Лесное                                      1\n",
       "посёлок Коробицыно                                             1\n",
       "посёлок при железнодорожной станции Вещево                     1\n",
       "поселок Кирпичное                                              1\n",
       "поселок Дружноселье                                            1\n",
       "деревня Нижняя                                                 1\n",
       "поселок Каложицы                                               1\n",
       "деревня Мануйлово                                              1\n",
       "село Шум                                                       1\n",
       "деревня Чудской Бор                                            1\n",
       "посёлок Петро-Славянка                                         1\n",
       "деревня Курковицы                                              1\n",
       "посёлок Белоостров                                             1\n",
       "посёлок Сумино                                                 1\n",
       "деревня Пижма                                                  1\n",
       "деревня Кривко                                                 1\n",
       "посёлок Ропша                                                  1\n",
       "садовое товарищество Садко                                     1\n",
       "посёлок городского типа Рябово                                 1\n",
       "Name: locality_name, dtype: int64"
      ]
     },
     "execution_count": 19,
     "metadata": {},
     "output_type": "execute_result"
    }
   ],
   "source": [
    "pd.set_option('display.max_rows', None)\n",
    "df['locality_name'].value_counts()"
   ]
  },
  {
   "cell_type": "code",
   "execution_count": 20,
   "metadata": {},
   "outputs": [],
   "source": [
    "df['locality_name'] = df['locality_name'].str.replace('посёлок','поселок')\n",
    "df['locality_name'] = df['locality_name'].str.replace('поселок городского типа','поселок')\n",
    "df['locality_name'] = df['locality_name'].str.replace('городской поселок','поселок')\n",
    "df['locality_name'] = df['locality_name'].str.replace('коттеджный поселок','поселок')"
   ]
  },
  {
   "cell_type": "code",
   "execution_count": 68,
   "metadata": {},
   "outputs": [
    {
     "data": {
      "image/png": "[encoded data removed]",
      "text/plain": [
       "<Figure size 432x288 with 1 Axes>"
      ]
     },
     "metadata": {
      "needs_background": "light"
     },
     "output_type": "display_data"
    }
   ],
   "source": [
    "# посмотрим данные по параметру \"высота потолков\"\n",
    "sns.boxplot(x='ceiling_height', data=df, orient='h')\n",
    "plt.title('Распределение по высоте потолков', fontsize=14, fontweight=\"bold\")\n",
    "plt.show()"
   ]
  },
  {
   "cell_type": "markdown",
   "metadata": {},
   "source": [
    "В столбце ceiling_height (высота потолков) удаляем строки со значениями больше 8  и меньше 2 (таких значений в сумме меньше 30). "
   ]
  },
  {
   "cell_type": "code",
   "execution_count": 22,
   "metadata": {},
   "outputs": [
    {
     "data": {
      "text/plain": [
       "2.70    10732\n",
       "2.50     3515\n",
       "2.60     1645\n",
       "3.00     1109\n",
       "2.80      993\n",
       "2.55      980\n",
       "2.75      906\n",
       "2.65      676\n",
       "3.20      276\n",
       "3.10      203\n",
       "2.90      164\n",
       "3.30      141\n",
       "2.56      139\n",
       "3.50      130\n",
       "2.57      103\n",
       "2.85      101\n",
       "3.40       92\n",
       "2.54       83\n",
       "2.64       81\n",
       "2.52       79\n",
       "2.53       67\n",
       "2.58       63\n",
       "2.77       61\n",
       "2.76       60\n",
       "3.15       57\n",
       "2.78       51\n",
       "2.95       47\n",
       "3.05       46\n",
       "4.00       38\n",
       "3.25       36\n",
       "2.67       36\n",
       "3.60       36\n",
       "2.73       35\n",
       "2.51       34\n",
       "2.72       31\n",
       "3.70       30\n",
       "2.74       28\n",
       "2.40       23\n",
       "2.68       23\n",
       "3.80       20\n",
       "2.84       19\n",
       "2.82       18\n",
       "2.66       17\n",
       "3.55       17\n",
       "3.12       16\n",
       "3.35       16\n",
       "2.83       15\n",
       "2.45       15\n",
       "2.62       14\n",
       "3.08       14\n",
       "3.90       14\n",
       "2.59       14\n",
       "2.63       13\n",
       "2.71       13\n",
       "2.88       12\n",
       "3.13       11\n",
       "3.18       11\n",
       "3.07       11\n",
       "3.06       11\n",
       "4.20       10\n",
       "2.87       10\n",
       "2.79       10\n",
       "3.33       10\n",
       "2.81        9\n",
       "3.45        9\n",
       "2.92        9\n",
       "3.02        8\n",
       "3.95        8\n",
       "2.48        8\n",
       "3.38        8\n",
       "3.75        8\n",
       "3.14        7\n",
       "3.16        7\n",
       "4.50        7\n",
       "3.11        7\n",
       "3.32        6\n",
       "2.86        6\n",
       "3.54        6\n",
       "3.27        6\n",
       "3.04        6\n",
       "3.26        6\n",
       "3.28        6\n",
       "3.47        6\n",
       "3.01        6\n",
       "3.17        5\n",
       "2.61        5\n",
       "3.56        5\n",
       "3.36        5\n",
       "2.96        5\n",
       "3.65        4\n",
       "2.91        4\n",
       "2.97        4\n",
       "3.03        4\n",
       "2.30        4\n",
       "3.37        4\n",
       "2.93        4\n",
       "3.09        4\n",
       "3.24        4\n",
       "3.46        4\n",
       "3.23        4\n",
       "3.31        3\n",
       "4.40        3\n",
       "2.47        3\n",
       "3.63        3\n",
       "3.57        3\n",
       "2.94        3\n",
       "3.34        3\n",
       "3.22        3\n",
       "3.53        3\n",
       "3.21        3\n",
       "3.78        3\n",
       "4.10        3\n",
       "3.67        3\n",
       "3.52        3\n",
       "3.66        3\n",
       "2.46        2\n",
       "4.70        2\n",
       "4.19        2\n",
       "3.62        2\n",
       "3.51        2\n",
       "3.86        2\n",
       "4.45        2\n",
       "3.85        2\n",
       "2.69        2\n",
       "5.30        2\n",
       "2.98        2\n",
       "3.49        2\n",
       "3.83        1\n",
       "3.29        1\n",
       "2.99        1\n",
       "4.15        1\n",
       "3.44        1\n",
       "5.80        1\n",
       "4.37        1\n",
       "5.60        1\n",
       "2.34        1\n",
       "3.98        1\n",
       "3.69        1\n",
       "3.58        1\n",
       "5.20        1\n",
       "3.43        1\n",
       "3.48        1\n",
       "2.20        1\n",
       "3.82        1\n",
       "3.87        1\n",
       "3.76        1\n",
       "6.00        1\n",
       "5.00        1\n",
       "3.68        1\n",
       "4.06        1\n",
       "4.30        1\n",
       "3.42        1\n",
       "5.50        1\n",
       "3.88        1\n",
       "4.80        1\n",
       "3.39        1\n",
       "4.14        1\n",
       "2.25        1\n",
       "3.84        1\n",
       "3.93        1\n",
       "4.25        1\n",
       "3.59        1\n",
       "4.90        1\n",
       "2.89        1\n",
       "2.49        1\n",
       "4.65        1\n",
       "Name: ceiling_height, dtype: int64"
      ]
     },
     "execution_count": 22,
     "metadata": {},
     "output_type": "execute_result"
    }
   ],
   "source": [
    "df = df[df.ceiling_height < 8] \n",
    "df = df[df.ceiling_height > 2]    \n",
    "df = df.reset_index(drop=True)\n",
    "df['ceiling_height'].value_counts()"
   ]
  },
  {
   "cell_type": "markdown",
   "metadata": {},
   "source": [
    "#### Вывод.\n",
    "Представленные для обработки данные по многим параметрам не полные. \n",
    "- Больше всего пропусков в данных, предоставленных владельцами квартир, - по высоте потолков, площади кухни и жилой площади.\n",
    "- Полученные на основе картографических данных сведения внесены в датафрейм с пропусками от 23  до 66 %. Это скажется на выводах и результатах обработки. Если расстояние до аэропорта должно быть максимально большим (чем ближе - тем больше уровень шума), а расстояние до лесопарковой зоны - максимально коротким, то под расстоянием до центра города, видимо имеется ввиду расстояние до центра Санкт-Петербурга, а не до центра посёлка. Корректно заполнить все пропуски, к сожалению, не получится.\n"
   ]
  },
  {
   "cell_type": "markdown",
   "metadata": {},
   "source": [
    "### Добавляем в таблицу новые столбцы:\n",
    "- metr_price - цена одного квадратного метра;\n",
    "- weekday - день недели публикации объявления;\n",
    "- month - месяц публикации объявления;\n",
    "- year - год публикации объявления;\n",
    "- floor_type - тип этажа квартиры;\n",
    "- cityCenters_km - расстояние до центра города в километрах."
   ]
  },
  {
   "cell_type": "code",
   "execution_count": 23,
   "metadata": {},
   "outputs": [],
   "source": [
    "df['metr_price'] = df['last_price']/df['total_area']"
   ]
  },
  {
   "cell_type": "code",
   "execution_count": 24,
   "metadata": {},
   "outputs": [],
   "source": [
    "df['weekday'] = df['first_day_exposition'].dt.weekday\n"
   ]
  },
  {
   "cell_type": "code",
   "execution_count": 25,
   "metadata": {},
   "outputs": [],
   "source": [
    "df['month'] = df['first_day_exposition'].dt.month"
   ]
  },
  {
   "cell_type": "code",
   "execution_count": 69,
   "metadata": {},
   "outputs": [
    {
     "data": {
      "text/html": [
       "<div>\n",
       "<style scoped>\n",
       "    .dataframe tbody tr th:only-of-type {\n",
       "        vertical-align: middle;\n",
       "    }\n",
       "\n",
       "    .dataframe tbody tr th {\n",
       "        vertical-align: top;\n",
       "    }\n",
       "\n",
       "    .dataframe thead th {\n",
       "        text-align: right;\n",
       "    }\n",
       "</style>\n",
       "<table border=\"1\" class=\"dataframe\">\n",
       "  <thead>\n",
       "    <tr style=\"text-align: right;\">\n",
       "      <th></th>\n",
       "      <th>total_images</th>\n",
       "      <th>last_price</th>\n",
       "      <th>total_area</th>\n",
       "      <th>first_day_exposition</th>\n",
       "      <th>rooms</th>\n",
       "      <th>ceiling_height</th>\n",
       "      <th>floors_total</th>\n",
       "      <th>living_area</th>\n",
       "      <th>floor</th>\n",
       "      <th>is_apartment</th>\n",
       "      <th>...</th>\n",
       "      <th>parks_nearest</th>\n",
       "      <th>ponds_around3000</th>\n",
       "      <th>ponds_nearest</th>\n",
       "      <th>days_exposition</th>\n",
       "      <th>metr_price</th>\n",
       "      <th>weekday</th>\n",
       "      <th>month</th>\n",
       "      <th>year</th>\n",
       "      <th>floor_type</th>\n",
       "      <th>cityCenters_km</th>\n",
       "    </tr>\n",
       "  </thead>\n",
       "  <tbody>\n",
       "    <tr>\n",
       "      <th>0</th>\n",
       "      <td>20</td>\n",
       "      <td>13000000.0</td>\n",
       "      <td>108.0</td>\n",
       "      <td>2019-03-07</td>\n",
       "      <td>3</td>\n",
       "      <td>2.70</td>\n",
       "      <td>16.0</td>\n",
       "      <td>51.0</td>\n",
       "      <td>8</td>\n",
       "      <td>False</td>\n",
       "      <td>...</td>\n",
       "      <td>482.0</td>\n",
       "      <td>2.0</td>\n",
       "      <td>755.0</td>\n",
       "      <td>NaN</td>\n",
       "      <td>120370.370370</td>\n",
       "      <td>3</td>\n",
       "      <td>3</td>\n",
       "      <td>2019</td>\n",
       "      <td>другой</td>\n",
       "      <td>17.0</td>\n",
       "    </tr>\n",
       "    <tr>\n",
       "      <th>1</th>\n",
       "      <td>7</td>\n",
       "      <td>3350000.0</td>\n",
       "      <td>40.4</td>\n",
       "      <td>2018-12-04</td>\n",
       "      <td>1</td>\n",
       "      <td>2.70</td>\n",
       "      <td>11.0</td>\n",
       "      <td>18.6</td>\n",
       "      <td>1</td>\n",
       "      <td>False</td>\n",
       "      <td>...</td>\n",
       "      <td>NaN</td>\n",
       "      <td>0.0</td>\n",
       "      <td>NaN</td>\n",
       "      <td>81.0</td>\n",
       "      <td>82920.792079</td>\n",
       "      <td>1</td>\n",
       "      <td>12</td>\n",
       "      <td>2018</td>\n",
       "      <td>первый</td>\n",
       "      <td>19.0</td>\n",
       "    </tr>\n",
       "    <tr>\n",
       "      <th>2</th>\n",
       "      <td>10</td>\n",
       "      <td>5196000.0</td>\n",
       "      <td>56.0</td>\n",
       "      <td>2015-08-20</td>\n",
       "      <td>2</td>\n",
       "      <td>2.70</td>\n",
       "      <td>5.0</td>\n",
       "      <td>34.3</td>\n",
       "      <td>4</td>\n",
       "      <td>False</td>\n",
       "      <td>...</td>\n",
       "      <td>90.0</td>\n",
       "      <td>2.0</td>\n",
       "      <td>574.0</td>\n",
       "      <td>558.0</td>\n",
       "      <td>92785.714286</td>\n",
       "      <td>3</td>\n",
       "      <td>8</td>\n",
       "      <td>2015</td>\n",
       "      <td>другой</td>\n",
       "      <td>14.0</td>\n",
       "    </tr>\n",
       "    <tr>\n",
       "      <th>3</th>\n",
       "      <td>0</td>\n",
       "      <td>64900000.0</td>\n",
       "      <td>159.0</td>\n",
       "      <td>2015-07-24</td>\n",
       "      <td>3</td>\n",
       "      <td>2.70</td>\n",
       "      <td>14.0</td>\n",
       "      <td>NaN</td>\n",
       "      <td>9</td>\n",
       "      <td>False</td>\n",
       "      <td>...</td>\n",
       "      <td>84.0</td>\n",
       "      <td>3.0</td>\n",
       "      <td>234.0</td>\n",
       "      <td>424.0</td>\n",
       "      <td>408176.100629</td>\n",
       "      <td>4</td>\n",
       "      <td>7</td>\n",
       "      <td>2015</td>\n",
       "      <td>другой</td>\n",
       "      <td>7.0</td>\n",
       "    </tr>\n",
       "    <tr>\n",
       "      <th>4</th>\n",
       "      <td>2</td>\n",
       "      <td>10000000.0</td>\n",
       "      <td>100.0</td>\n",
       "      <td>2018-06-19</td>\n",
       "      <td>2</td>\n",
       "      <td>3.03</td>\n",
       "      <td>14.0</td>\n",
       "      <td>32.0</td>\n",
       "      <td>13</td>\n",
       "      <td>False</td>\n",
       "      <td>...</td>\n",
       "      <td>112.0</td>\n",
       "      <td>1.0</td>\n",
       "      <td>48.0</td>\n",
       "      <td>121.0</td>\n",
       "      <td>100000.000000</td>\n",
       "      <td>1</td>\n",
       "      <td>6</td>\n",
       "      <td>2018</td>\n",
       "      <td>другой</td>\n",
       "      <td>9.0</td>\n",
       "    </tr>\n",
       "  </tbody>\n",
       "</table>\n",
       "<p>5 rows × 28 columns</p>\n",
       "</div>"
      ],
      "text/plain": [
       "   total_images  last_price  total_area first_day_exposition  rooms  \\\n",
       "0            20  13000000.0       108.0           2019-03-07      3   \n",
       "1             7   3350000.0        40.4           2018-12-04      1   \n",
       "2            10   5196000.0        56.0           2015-08-20      2   \n",
       "3             0  64900000.0       159.0           2015-07-24      3   \n",
       "4             2  10000000.0       100.0           2018-06-19      2   \n",
       "\n",
       "   ceiling_height  floors_total  living_area  floor  is_apartment  ...  \\\n",
       "0            2.70          16.0         51.0      8         False  ...   \n",
       "1            2.70          11.0         18.6      1         False  ...   \n",
       "2            2.70           5.0         34.3      4         False  ...   \n",
       "3            2.70          14.0          NaN      9         False  ...   \n",
       "4            3.03          14.0         32.0     13         False  ...   \n",
       "\n",
       "   parks_nearest  ponds_around3000  ponds_nearest  days_exposition  \\\n",
       "0          482.0               2.0          755.0              NaN   \n",
       "1            NaN               0.0            NaN             81.0   \n",
       "2           90.0               2.0          574.0            558.0   \n",
       "3           84.0               3.0          234.0            424.0   \n",
       "4          112.0               1.0           48.0            121.0   \n",
       "\n",
       "      metr_price  weekday  month  year  floor_type  cityCenters_km  \n",
       "0  120370.370370        3      3  2019      другой            17.0  \n",
       "1   82920.792079        1     12  2018      первый            19.0  \n",
       "2   92785.714286        3      8  2015      другой            14.0  \n",
       "3  408176.100629        4      7  2015      другой             7.0  \n",
       "4  100000.000000        1      6  2018      другой             9.0  \n",
       "\n",
       "[5 rows x 28 columns]"
      ]
     },
     "execution_count": 69,
     "metadata": {},
     "output_type": "execute_result"
    }
   ],
   "source": [
    "df['year'] = df['first_day_exposition'].dt.year\n",
    "df.head()"
   ]
  },
  {
   "cell_type": "code",
   "execution_count": 27,
   "metadata": {},
   "outputs": [],
   "source": [
    "# напишем функцию для сортировки по этажу квартиры\n",
    "row_values = [1, 1] #значения номера этажа квартиры и значения количества этажей в доме\n",
    "row_columns = ['floor', 'floors_total'] #названия столбцов \n",
    "row = pd.Series(data=row_values, index=row_columns)\n",
    "#categorize_floor(row)\n",
    "\n",
    "def categorize_floor(row):\n",
    "    floor = row['floor']\n",
    "    total = row['floors_total']\n",
    "    try:\n",
    "        if floor == 1:\n",
    "            return 'первый'\n",
    "        if floor == total:\n",
    "            return 'последний'\n",
    "        return 'другой' \n",
    "    except:\n",
    "        return 'нет категории'\n",
    "   "
   ]
  },
  {
   "cell_type": "code",
   "execution_count": 28,
   "metadata": {},
   "outputs": [
    {
     "data": {
      "text/plain": [
       "array(['другой', 'первый', 'последний'], dtype=object)"
      ]
     },
     "execution_count": 28,
     "metadata": {},
     "output_type": "execute_result"
    }
   ],
   "source": [
    "df['floor_type'] = df.apply(categorize_floor, axis=1)\n",
    "df['floor_type'].unique()"
   ]
  },
  {
   "cell_type": "code",
   "execution_count": 29,
   "metadata": {},
   "outputs": [],
   "source": [
    "#создадим столбец с расстоянием до центра города в километрах\n",
    "df['cityCenters_km'] = np.ceil(df['cityCenters_nearest']/1000) \n"
   ]
  },
  {
   "cell_type": "code",
   "execution_count": 30,
   "metadata": {
    "scrolled": true
   },
   "outputs": [
    {
     "data": {
      "text/plain": [
       "['total_images',\n",
       " 'last_price',\n",
       " 'total_area',\n",
       " 'first_day_exposition',\n",
       " 'rooms',\n",
       " 'ceiling_height',\n",
       " 'floors_total',\n",
       " 'living_area',\n",
       " 'floor',\n",
       " 'is_apartment',\n",
       " 'studio',\n",
       " 'open_plan',\n",
       " 'kitchen_area',\n",
       " 'balcony',\n",
       " 'locality_name',\n",
       " 'airports_nearest',\n",
       " 'cityCenters_nearest',\n",
       " 'parks_around3000',\n",
       " 'parks_nearest',\n",
       " 'ponds_around3000',\n",
       " 'ponds_nearest',\n",
       " 'days_exposition',\n",
       " 'metr_price',\n",
       " 'weekday',\n",
       " 'month',\n",
       " 'year',\n",
       " 'floor_type',\n",
       " 'cityCenters_km']"
      ]
     },
     "execution_count": 30,
     "metadata": {},
     "output_type": "execute_result"
    }
   ],
   "source": [
    "cols = list(df.columns)\n",
    "cols"
   ]
  },
  {
   "cell_type": "markdown",
   "metadata": {},
   "source": [
    "## Исследовательский анализ данных/ \n",
    "### Изучим следующие параметры:\n",
    "- общая площадь;\n",
    "- жилая площадь;\n",
    "- площадь кухни;\n",
    "- цена объекта;\n",
    "- количество комнат;\n",
    "- высота потолка;\n",
    "- этаж квартиры;\n",
    "- тип этажа квартиры;\n",
    "- общее количество этажей в доме;\n",
    "- расстояние до центрагорода в метрах;\n",
    "- расстояние до ближайшего аэропорта;\n",
    "- расстояние до ближайшего парка;\n",
    "- день и месяц публикации объявления."
   ]
  },
  {
   "cell_type": "code",
   "execution_count": 70,
   "metadata": {},
   "outputs": [
    {
     "data": {
      "image/png": "[encoded data removed]",
      "text/plain": [
       "<Figure size 720x720 with 1 Axes>"
      ]
     },
     "metadata": {
      "needs_background": "light"
     },
     "output_type": "display_data"
    }
   ],
   "source": [
    "# смотрим распределение по общей площади\n",
    "df.total_area.hist(bins=50,figsize=(10,10), range = (20, 100))\n",
    "plt.title('Распределение по общей площади', fontsize=14, fontweight=\"bold\")\n",
    "plt.xlabel(\"общая площадь (м)\", fontsize=12)\n",
    "plt.ylabel(\"количество квартир\", fontsize=12)\n",
    "plt.show()"
   ]
  },
  {
   "cell_type": "markdown",
   "metadata": {},
   "source": [
    "Основная масса предлагаемых к продаже квартир имеют общую площадь от 30 до 65 метров.Самые большие (многочисленные) значения находятся в районе 40-50 м2. Квартиры общей площадью более 230 м2 очень редки.\"Выбросы\" присутствуют до 630 м2 - такая площадь квартир маловероятна."
   ]
  },
  {
   "cell_type": "code",
   "execution_count": 72,
   "metadata": {},
   "outputs": [
    {
     "data": {
      "image/png": "[encoded data removed]",
      "text/plain": [
       "<Figure size 720x720 with 1 Axes>"
      ]
     },
     "metadata": {
      "needs_background": "light"
     },
     "output_type": "display_data"
    }
   ],
   "source": [
    "# смотрим распределение жилой площади\n",
    "df.living_area.hist(bins=300,figsize=(10,10), range = (20, 100))\n",
    "plt.title('Распределение по жилой площади', fontsize=14, fontweight=\"bold\")\n",
    "plt.xlabel(\"жилая площадь (м)\", fontsize=12)\n",
    "plt.ylabel(\"количество квартир\", fontsize=12)\n",
    "plt.show()"
   ]
  },
  {
   "cell_type": "markdown",
   "metadata": {},
   "source": [
    "Практически все значения лежат в промежутке от 20 до 50 м2. На данной диаграмме 2 пика значений: один находится в районе 20 м2, второй - в районе 30 м2. Значения после 130 м2 встречаются точечно.\"Выбросы можно проследить до 420 м2.    "
   ]
  },
  {
   "cell_type": "code",
   "execution_count": 73,
   "metadata": {},
   "outputs": [
    {
     "data": {
      "image/png": "[encoded data removed]",
      "text/plain": [
       "<Figure size 720x720 with 1 Axes>"
      ]
     },
     "metadata": {
      "needs_background": "light"
     },
     "output_type": "display_data"
    }
   ],
   "source": [
    "# смотрим распределение по площади кухни\n",
    "df.kitchen_area.hist(bins=300,figsize=(10,10), range = (20, 100))\n",
    "plt.title('Распределение по площади кухни', fontsize=14, fontweight=\"bold\")\n",
    "plt.xlabel(\"площадь кухни (м)\", fontsize=12)\n",
    "plt.ylabel(\"количество квартир\", fontsize=12)\n",
    "plt.show()"
   ]
  },
  {
   "cell_type": "markdown",
   "metadata": {},
   "source": [
    "Основная масса значений расположена в промежутке от 20 до 30 м2."
   ]
  },
  {
   "cell_type": "code",
   "execution_count": 86,
   "metadata": {},
   "outputs": [
    {
     "data": {
      "image/png": "[encoded data removed]",
      "text/plain": [
       "<Figure size 720x720 with 1 Axes>"
      ]
     },
     "metadata": {
      "needs_background": "light"
     },
     "output_type": "display_data"
    }
   ],
   "source": [
    "# смотрим распределение по стоимости объекта\n",
    "#df['last_price'].plot(kind='line',title='last_price', figsize=(15,15))\n",
    "#plt.show()\n",
    "df.last_price.hist(bins=30,figsize=(10,10))\n",
    "plt.title('Распределение по стоимости', fontsize=14, fontweight=\"bold\")\n",
    "plt.xlabel(\"стоимость (шаг 100 млн)\", fontsize=12)\n",
    "plt.ylabel(\"количество квартир\", fontsize=12)\n",
    "plt.show()"
   ]
  },
  {
   "cell_type": "markdown",
   "metadata": {},
   "source": [
    "Разброс по цене не очень большой. Хотя на гистограмме последняя цифра 800 млн.руб., практически все значения находятся в промежутке от 1 млн. до 20 млн. рублей. "
   ]
  },
  {
   "cell_type": "code",
   "execution_count": 82,
   "metadata": {},
   "outputs": [
    {
     "data": {
      "image/png": "[encoded data removed]",
      "text/plain": [
       "<Figure size 720x720 with 1 Axes>"
      ]
     },
     "metadata": {
      "needs_background": "light"
     },
     "output_type": "display_data"
    }
   ],
   "source": [
    "# смотрим распределение по количеству комнат\n",
    "df.rooms.hist(bins=300, figsize=(10,10),range = (1, 30))\n",
    "plt.title('Распределение по количеству комнат', fontsize=14, fontweight=\"bold\")\n",
    "plt.xlabel(\"количество комнат\", fontsize=12)\n",
    "plt.ylabel(\"количество квартир\", fontsize=12)\n",
    "plt.show()"
   ]
  },
  {
   "cell_type": "markdown",
   "metadata": {},
   "source": [
    "Самое многочисленное предложение 1- и 2-х комнатные квартиры - более и чуть менее 8000 предложений. предложение 3-х комнатных квартир отстаёт более, чем на 2000 объектов.Есть в продаже квартиры из 4 и 5 комнат. Предложений квартир от 6 до 10 комнат - от 100 - до единиц."
   ]
  },
  {
   "cell_type": "code",
   "execution_count": 81,
   "metadata": {},
   "outputs": [
    {
     "data": {
      "image/png": "[encoded data removed]",
      "text/plain": [
       "<Figure size 720x720 with 1 Axes>"
      ]
     },
     "metadata": {
      "needs_background": "light"
     },
     "output_type": "display_data"
    }
   ],
   "source": [
    "# смотрим распределение по высоте потолков\n",
    "df.ceiling_height.hist(bins=30, figsize=(10,10))\n",
    "plt.title('Распределение по высоте потолков', fontsize=14, fontweight=\"bold\")\n",
    "plt.xlabel(\"высота потолков (м)\", fontsize=12)\n",
    "plt.ylabel(\"количество квартир\", fontsize=12)\n",
    "plt.show()"
   ]
  },
  {
   "cell_type": "markdown",
   "metadata": {},
   "source": [
    "Чаще всего высотапотолков в предлагаемых объектах -2,7 м (мы помним, что пропуски в данном столбце мы заполняли именно этим значением) - такая высота потолков - у половины квартир. Большинство значений располагаются в промежутке 2,5 - 2,8 м. Квартир с указанием высоты потолков свыше 3 м -в сумме меньше 1000 штук"
   ]
  },
  {
   "cell_type": "code",
   "execution_count": 87,
   "metadata": {},
   "outputs": [
    {
     "data": {
      "image/png": "[encoded data removed]",
      "text/plain": [
       "<Figure size 720x720 with 1 Axes>"
      ]
     },
     "metadata": {
      "needs_background": "light"
     },
     "output_type": "display_data"
    }
   ],
   "source": [
    "# смотрим распределение по этажу местонахождения квартиры\n",
    "df.floor.hist(bins=30, figsize=(10,10), range = (1, 30))\n",
    "plt.title('Распределение по этажу местонахождения', fontsize=14, fontweight=\"bold\")\n",
    "plt.xlabel(\"этаж\", fontsize=12)\n",
    "plt.ylabel(\"количество квартир\", fontsize=12)\n",
    "plt.show()"
   ]
  },
  {
   "cell_type": "markdown",
   "metadata": {},
   "source": [
    "Самое многочисленное предложение квартир, находящихся на втором этаже (примерно 3300 предложений - 14% от общего количества. Предложения есть по этажам с 1 по 33 включительно. Но основная масса квартир из архива данных находятся с 1 по 10 этаж."
   ]
  },
  {
   "cell_type": "code",
   "execution_count": 89,
   "metadata": {},
   "outputs": [
    {
     "data": {
      "image/png": "[encoded data removed]",
      "text/plain": [
       "<Figure size 720x720 with 1 Axes>"
      ]
     },
     "metadata": {
      "needs_background": "light"
     },
     "output_type": "display_data"
    }
   ],
   "source": [
    "# смотрим распределение по типу этажа\n",
    "df.floor_type.hist(bins=3, figsize=(10,10))\n",
    "plt.title('Распределение по типу этажа', fontsize=14, fontweight=\"bold\")\n",
    "plt.xlabel(\"тип этажа\", fontsize=12)\n",
    "plt.ylabel(\"количество квартир\", fontsize=12)\n",
    "plt.show()"
   ]
  },
  {
   "cell_type": "markdown",
   "metadata": {},
   "source": [
    "На первом этаже расположены 2900 объектов (чуть больше 10% от общего количества). Это могут быть не только квартиры, но и частные одноэтажные дома за городом. Количество объектов для продажи, находящихся на первом этаже,  соответствует данным предыдущей гистограммы. Квартир на последнем этаже немногим больше 3000 штук. Все прочие объекты находятся на этажах со второго по предпоследний.В данном случае, это квартиры."
   ]
  },
  {
   "cell_type": "code",
   "execution_count": 91,
   "metadata": {},
   "outputs": [
    {
     "data": {
      "image/png": "[encoded data removed]",
      "text/plain": [
       "<Figure size 720x720 with 1 Axes>"
      ]
     },
     "metadata": {
      "needs_background": "light"
     },
     "output_type": "display_data"
    }
   ],
   "source": [
    "# смотрим распределение по общему количеству этажей в доме\n",
    "df.floors_total.hist(bins=40, figsize=(10,10))\n",
    "plt.title('Распределение по общему количеству этажей в доме', fontsize=14, fontweight=\"bold\")\n",
    "plt.xlabel(\"количество этажей\", fontsize=12)\n",
    "plt.ylabel(\"количество квартир\", fontsize=12)\n",
    "plt.show()"
   ]
  },
  {
   "cell_type": "markdown",
   "metadata": {},
   "source": [
    "Самое большое предложение квартир - в пятиэтажных домах (в таких домах,как правило, нет лифта) - примерно 5800 штук (25% от общего предложения выборки). Многочисленны также предложения квартир в девятиэтажных домах (застройка такими домами городов была массовой с 70-х годов прошлого столетья) - примерно 15% от общего предложения.  Меньше половины всех предложений - в домах этажностью от 10 до 28. На этой гистаграмме, как и на прочих,можно видеть единичные объекты с очень большими параметрами: в 35-ти и 36-ти этажных домах."
   ]
  },
  {
   "cell_type": "code",
   "execution_count": 92,
   "metadata": {},
   "outputs": [
    {
     "data": {
      "image/png": "[encoded data removed]",
      "text/plain": [
       "<Figure size 720x720 with 1 Axes>"
      ]
     },
     "metadata": {
      "needs_background": "light"
     },
     "output_type": "display_data"
    }
   ],
   "source": [
    "# смотрим распределение по расстоянию до центра города в метрах\n",
    "df.cityCenters_nearest.hist(bins=100, figsize=(10,10))\n",
    "plt.title('Распределение по расстоянию до центра города', fontsize=14, fontweight=\"bold\")\n",
    "plt.xlabel(\"расстояние до центра города (м)\", fontsize=12)\n",
    "plt.ylabel(\"количество квартир\", fontsize=12)\n",
    "plt.show()"
   ]
  },
  {
   "cell_type": "markdown",
   "metadata": {},
   "source": [
    "Более половины квартир архива находятся на расстоянии 10000 -20000 м от центра города. По расстоянию - это пригороды Санкт-Петербурга. в удалённости от центра до 10 км находится порядка 30% предлагаемого жилья."
   ]
  },
  {
   "cell_type": "code",
   "execution_count": 93,
   "metadata": {},
   "outputs": [
    {
     "data": {
      "image/png": "[encoded data removed]",
      "text/plain": [
       "<Figure size 720x720 with 1 Axes>"
      ]
     },
     "metadata": {
      "needs_background": "light"
     },
     "output_type": "display_data"
    }
   ],
   "source": [
    "# смотрим распределение по расстоянию до ближайшего аэропорта\n",
    "df.airports_nearest.hist(bins=100, figsize=(10,10))\n",
    "plt.title('Распределение по расстоянию до ближайшего аэропорта', fontsize=14, fontweight=\"bold\")\n",
    "plt.xlabel(\"расстояние до аэропорта (м)\", fontsize=12)\n",
    "plt.ylabel(\"количество квартир\", fontsize=12)\n",
    "plt.show()"
   ]
  },
  {
   "cell_type": "markdown",
   "metadata": {},
   "source": [
    "Большинство объектов удалены от аэропорта на 8-55 км.На расстоянии от 5до 8 км от аэропорта расположены порядка 200 квартир."
   ]
  },
  {
   "cell_type": "code",
   "execution_count": 94,
   "metadata": {},
   "outputs": [
    {
     "data": {
      "image/png": "[encoded data removed]",
      "text/plain": [
       "<Figure size 720x720 with 1 Axes>"
      ]
     },
     "metadata": {
      "needs_background": "light"
     },
     "output_type": "display_data"
    }
   ],
   "source": [
    "# смотрим распределение по расстоянию до ближайшего парка\n",
    "df.parks_nearest.hist(bins=100, figsize=(10,10))\n",
    "plt.title('Распределение по расстоянию до ближайшего парка', fontsize=14, fontweight=\"bold\")\n",
    "plt.xlabel(\"расстояние до парка (м)\", fontsize=12)\n",
    "plt.ylabel(\"количество квартир\", fontsize=12)\n",
    "plt.show()"
   ]
  },
  {
   "cell_type": "markdown",
   "metadata": {},
   "source": [
    "Подавляющее большинство продаваемых объектов находится в непосредственной близости от парка - на расстоянии до 1000 м. Мы учитываем, что парк может быть не один. Мы говорим о лесопарковых зонах в непосредственной близости от предлагаемого жилья, в том числе."
   ]
  },
  {
   "cell_type": "code",
   "execution_count": 97,
   "metadata": {},
   "outputs": [
    {
     "data": {
      "image/png": "[encoded data removed]",
      "text/plain": [
       "<Figure size 432x288 with 1 Axes>"
      ]
     },
     "metadata": {
      "needs_background": "light"
     },
     "output_type": "display_data"
    }
   ],
   "source": [
    "# месяц публикации объявления\n",
    "df['month'].hist()\n",
    "plt.title('Зависимость стоимости продаваемого объекта от месяца публикации', fontsize=14, fontweight=\"bold\")\n",
    "plt.xlabel(\"месяц публикации\", fontsize=12)\n",
    "plt.ylabel(\"стоимость объекта\", fontsize=12)\n",
    "plt.show()"
   ]
  },
  {
   "cell_type": "code",
   "execution_count": 98,
   "metadata": {},
   "outputs": [
    {
     "data": {
      "image/png": "[encoded data removed]",
      "text/plain": [
       "<Figure size 432x288 with 1 Axes>"
      ]
     },
     "metadata": {
      "needs_background": "light"
     },
     "output_type": "display_data"
    }
   ],
   "source": [
    "# день публикации объявления\n",
    "df['weekday'].hist()\n",
    "plt.title('Зависимость стоимости продаваемого объекта от дня недели публикации', fontsize=14, fontweight=\"bold\")\n",
    "plt.xlabel(\"день недели публикации\", fontsize=12)\n",
    "plt.ylabel(\"стоимость объекта\", fontsize=12)\n",
    "plt.show()"
   ]
  },
  {
   "cell_type": "markdown",
   "metadata": {},
   "source": [
    "Самая высокая цена на квартиры прописана в объявлениях, размещённых в декабре- январе месяцах. Самая низкая цена на квартиры наблюдается в апреле - июне. по дням недели: цена существенно ниже в объявлениях, размещённых в выходные дни. "
   ]
  },
  {
   "cell_type": "markdown",
   "metadata": {},
   "source": [
    "### Изучим, как быстро продавались квартиры."
   ]
  },
  {
   "cell_type": "code",
   "execution_count": 99,
   "metadata": {
    "scrolled": false
   },
   "outputs": [
    {
     "data": {
      "image/png": "[encoded data removed]",
      "text/plain": [
       "<Figure size 720x720 with 1 Axes>"
      ]
     },
     "metadata": {
      "needs_background": "light"
     },
     "output_type": "display_data"
    }
   ],
   "source": [
    "df.days_exposition .hist(bins=300, figsize=(10,10))\n",
    "plt.title('Распределение по времени продажи квартиры', fontsize=14, fontweight=\"bold\")\n",
    "plt.xlabel(\"время продажи (дни)\", fontsize=12)\n",
    "plt.ylabel(\"количество проданных объектов\", fontsize=12)\n",
    "plt.show()"
   ]
  },
  {
   "cell_type": "markdown",
   "metadata": {},
   "source": [
    "Судя по диаграмме, квартиры продавались достаточно быстро. Самое большое пиковое значение (примерно 1300 объектов) были проданы в течение 30 дней. Основная масса квартир продавалась до 200 дней. Есть объекты, продаваемые более длительно, до 1000 дней и даже дольше. Хотя так долго могут быть размещены объявления о продаже не конкретных объектов, а объявления риелторских компаний или отдельных практикующих риелторов с целью маркетингового изучения рынка жилья, например.Или объявления мошенников.\n",
    "Тот же вывод подтверждается и данными,полученными методом ниже (boxplot). Медиана срока продажи находится в районе 40 дней, основная масса значений находится в промежутке от 20 до 220 дней. За пределами 500 дней тоже есть значения, но их значительно меньше. Как выбросы можно рассматривать значения от 1500 до 1600 дней."
   ]
  },
  {
   "cell_type": "code",
   "execution_count": 100,
   "metadata": {
    "scrolled": true
   },
   "outputs": [
    {
     "data": {
      "image/png": "[encoded data removed]",
      "text/plain": [
       "<Figure size 432x288 with 1 Axes>"
      ]
     },
     "metadata": {
      "needs_background": "light"
     },
     "output_type": "display_data"
    }
   ],
   "source": [
    "sns.boxplot(x='days_exposition', data=df, orient='h')\n",
    "plt.title('Распределение по времени продажи квартиры', fontsize=14, fontweight=\"bold\")\n",
    "plt.show()\n"
   ]
  },
  {
   "cell_type": "markdown",
   "metadata": {},
   "source": [
    "Сделаный выше вывод подтверждается и данными,полученными методом boxplot. Медиана срока продажи находится в районе 40 дней, основная масса значений находится в промежутке от 20 до 220 дней. За пределами 500 дней тоже есть значения, но их значительно меньше. Как выбросы можно рассматривать значения от 1500 до 1600 дней.\n",
    "Таким образом, быстрыми можно считать продажи за срок менее 20 дней, а необычайно долгими - продажи сроком более 500 дней."
   ]
  },
  {
   "cell_type": "markdown",
   "metadata": {},
   "source": [
    "### Изучим, какие факторы больше всего влияют на общую (полную) стоимость объекта.\n",
    "Построим графики зависимости цены от:\n",
    "-общей площади;\n",
    "-жилой площади;\n",
    "-площади кухни;\n",
    "-количества комнат;\n",
    "-этажа, на котором расположена квартира (первый, последний, другой);\n",
    "-даты размещения (день недели, месяц, год)."
   ]
  },
  {
   "cell_type": "code",
   "execution_count": 47,
   "metadata": {},
   "outputs": [
    {
     "data": {
      "image/png": "[encoded data removed]",
      "text/plain": [
       "<Figure size 576x576 with 1 Axes>"
      ]
     },
     "metadata": {
      "needs_background": "light"
     },
     "output_type": "display_data"
    }
   ],
   "source": [
    "# смотрим зависимость общей стоимости объекта от общей площади\n",
    "x = df['total_area']    #  x - координаты точек\n",
    "y = df['last_price']    #  y - координаты точек\n",
    "\n",
    "fig, ax = plt.subplots()\n",
    "\n",
    "ax.scatter(x, y,\n",
    "           c = 'deeppink')    #  цвет точек\n",
    "\n",
    "ax.set_facecolor('black')     #  цвет области Axes\n",
    "ax.set_title('зависимость общей стоимости объекта от общей площади')     #  заголовок для Axes\n",
    "\n",
    "fig.set_figwidth(8)     #  ширина и\n",
    "fig.set_figheight(8)    #  высота \"Figure\"\n",
    "\n",
    "plt.show()"
   ]
  },
  {
   "cell_type": "code",
   "execution_count": 48,
   "metadata": {},
   "outputs": [
    {
     "data": {
      "text/plain": [
       "0.65381608774176"
      ]
     },
     "execution_count": 48,
     "metadata": {},
     "output_type": "execute_result"
    }
   ],
   "source": [
    "# коэффициент корреляции Пирсона\n",
    "df['total_area'].corr(df['last_price'])"
   ]
  },
  {
   "cell_type": "markdown",
   "metadata": {},
   "source": [
    "Зависимость общей стоимости объекта от общей площади помещения прослеживается: график вытянут вправо и вверх. Коэффициент корреляции Пирсона свидетельствует о связи данных средней тесноты,и даже приближается к высокой."
   ]
  },
  {
   "cell_type": "code",
   "execution_count": 49,
   "metadata": {},
   "outputs": [
    {
     "data": {
      "image/png": "[encoded data removed]",
      "text/plain": [
       "<Figure size 576x576 with 1 Axes>"
      ]
     },
     "metadata": {
      "needs_background": "light"
     },
     "output_type": "display_data"
    }
   ],
   "source": [
    "# смотрим зависимость общей стоимости объекта от жилой площади\n",
    "x = df['living_area']    #  x - координаты точек\n",
    "y = df['last_price']    #  y - координаты точек\n",
    "\n",
    "fig, ax = plt.subplots()\n",
    "\n",
    "ax.scatter(x, y,\n",
    "           c = 'deeppink')    #  цвет точек\n",
    "\n",
    "ax.set_facecolor('black')     #  цвет области Axes\n",
    "ax.set_title('зависимость общей стоимости объекта от жилой площади')     #  заголовок для Axes\n",
    "\n",
    "fig.set_figwidth(8)     #  ширина и\n",
    "fig.set_figheight(8)    #  высота \"Figure\"\n",
    "\n",
    "plt.show()"
   ]
  },
  {
   "cell_type": "code",
   "execution_count": 50,
   "metadata": {},
   "outputs": [
    {
     "data": {
      "text/plain": [
       "0.5666557635575434"
      ]
     },
     "execution_count": 50,
     "metadata": {},
     "output_type": "execute_result"
    }
   ],
   "source": [
    "df['living_area'].corr(df['last_price'])"
   ]
  },
  {
   "cell_type": "markdown",
   "metadata": {},
   "source": [
    "График похож на предыдущий. Также прослеживается устойчивое возрастание цены объекта вслед за возрастанием жилой площади. Но коэффициент корелляции ниже, хотя и остаётся средним.Эти данные связаны между собою слабее. "
   ]
  },
  {
   "cell_type": "code",
   "execution_count": 51,
   "metadata": {},
   "outputs": [
    {
     "data": {
      "image/png": "[encoded data removed]",
      "text/plain": [
       "<Figure size 576x576 with 1 Axes>"
      ]
     },
     "metadata": {
      "needs_background": "light"
     },
     "output_type": "display_data"
    }
   ],
   "source": [
    "# зависимость общей стоимости объекта от площади кухни\n",
    "x = df['kitchen_area']    #  x - координаты точек\n",
    "y = df['last_price']    #  y - координаты точек\n",
    "\n",
    "fig, ax = plt.subplots()\n",
    "\n",
    "ax.scatter(x, y,\n",
    "           c = 'deeppink')    #  цвет точек\n",
    "\n",
    "ax.set_facecolor('black')     #  цвет области Axes\n",
    "ax.set_title('зависимость общей стоимости объекта от площади кухни')     #  заголовок для Axes\n",
    "\n",
    "fig.set_figwidth(8)     #  ширина и\n",
    "fig.set_figheight(8)    #  высота \"Figure\"\n",
    "\n",
    "plt.show()\n",
    "\n"
   ]
  },
  {
   "cell_type": "code",
   "execution_count": 52,
   "metadata": {},
   "outputs": [
    {
     "data": {
      "text/plain": [
       "0.5201743305249954"
      ]
     },
     "execution_count": 52,
     "metadata": {},
     "output_type": "execute_result"
    }
   ],
   "source": [
    "df['kitchen_area'].corr(df['last_price'])"
   ]
  },
  {
   "cell_type": "markdown",
   "metadata": {},
   "source": [
    "Связь между данными прослеживается, но слабее, чем по первым двум параметрам. Коэффициент корелляции это подтверждает."
   ]
  },
  {
   "cell_type": "code",
   "execution_count": 53,
   "metadata": {},
   "outputs": [
    {
     "data": {
      "text/html": [
       "<div>\n",
       "<style scoped>\n",
       "    .dataframe tbody tr th:only-of-type {\n",
       "        vertical-align: middle;\n",
       "    }\n",
       "\n",
       "    .dataframe tbody tr th {\n",
       "        vertical-align: top;\n",
       "    }\n",
       "\n",
       "    .dataframe thead tr th {\n",
       "        text-align: left;\n",
       "    }\n",
       "\n",
       "    .dataframe thead tr:last-of-type th {\n",
       "        text-align: right;\n",
       "    }\n",
       "</style>\n",
       "<table border=\"1\" class=\"dataframe\">\n",
       "  <thead>\n",
       "    <tr>\n",
       "      <th></th>\n",
       "      <th>mean</th>\n",
       "      <th>len</th>\n",
       "    </tr>\n",
       "    <tr>\n",
       "      <th></th>\n",
       "      <th>last_price</th>\n",
       "      <th>last_price</th>\n",
       "    </tr>\n",
       "    <tr>\n",
       "      <th>rooms</th>\n",
       "      <th></th>\n",
       "      <th></th>\n",
       "    </tr>\n",
       "  </thead>\n",
       "  <tbody>\n",
       "    <tr>\n",
       "      <th>0</th>\n",
       "      <td>3.339447e+06</td>\n",
       "      <td>196.0</td>\n",
       "    </tr>\n",
       "    <tr>\n",
       "      <th>1</th>\n",
       "      <td>3.833372e+06</td>\n",
       "      <td>8020.0</td>\n",
       "    </tr>\n",
       "    <tr>\n",
       "      <th>2</th>\n",
       "      <td>5.593206e+06</td>\n",
       "      <td>7907.0</td>\n",
       "    </tr>\n",
       "    <tr>\n",
       "      <th>3</th>\n",
       "      <td>8.186117e+06</td>\n",
       "      <td>5789.0</td>\n",
       "    </tr>\n",
       "    <tr>\n",
       "      <th>4</th>\n",
       "      <td>1.343989e+07</td>\n",
       "      <td>1174.0</td>\n",
       "    </tr>\n",
       "    <tr>\n",
       "      <th>5</th>\n",
       "      <td>2.376208e+07</td>\n",
       "      <td>326.0</td>\n",
       "    </tr>\n",
       "    <tr>\n",
       "      <th>6</th>\n",
       "      <td>3.170975e+07</td>\n",
       "      <td>105.0</td>\n",
       "    </tr>\n",
       "    <tr>\n",
       "      <th>7</th>\n",
       "      <td>5.147007e+07</td>\n",
       "      <td>59.0</td>\n",
       "    </tr>\n",
       "    <tr>\n",
       "      <th>8</th>\n",
       "      <td>5.022417e+07</td>\n",
       "      <td>12.0</td>\n",
       "    </tr>\n",
       "    <tr>\n",
       "      <th>9</th>\n",
       "      <td>3.415236e+07</td>\n",
       "      <td>8.0</td>\n",
       "    </tr>\n",
       "    <tr>\n",
       "      <th>10</th>\n",
       "      <td>2.616667e+07</td>\n",
       "      <td>3.0</td>\n",
       "    </tr>\n",
       "    <tr>\n",
       "      <th>11</th>\n",
       "      <td>2.525000e+07</td>\n",
       "      <td>2.0</td>\n",
       "    </tr>\n",
       "    <tr>\n",
       "      <th>12</th>\n",
       "      <td>4.200000e+08</td>\n",
       "      <td>1.0</td>\n",
       "    </tr>\n",
       "    <tr>\n",
       "      <th>14</th>\n",
       "      <td>2.682950e+07</td>\n",
       "      <td>2.0</td>\n",
       "    </tr>\n",
       "    <tr>\n",
       "      <th>15</th>\n",
       "      <td>6.500000e+07</td>\n",
       "      <td>1.0</td>\n",
       "    </tr>\n",
       "    <tr>\n",
       "      <th>16</th>\n",
       "      <td>2.850000e+07</td>\n",
       "      <td>1.0</td>\n",
       "    </tr>\n",
       "    <tr>\n",
       "      <th>19</th>\n",
       "      <td>3.225000e+07</td>\n",
       "      <td>1.0</td>\n",
       "    </tr>\n",
       "  </tbody>\n",
       "</table>\n",
       "</div>"
      ],
      "text/plain": [
       "               mean        len\n",
       "         last_price last_price\n",
       "rooms                         \n",
       "0      3.339447e+06      196.0\n",
       "1      3.833372e+06     8020.0\n",
       "2      5.593206e+06     7907.0\n",
       "3      8.186117e+06     5789.0\n",
       "4      1.343989e+07     1174.0\n",
       "5      2.376208e+07      326.0\n",
       "6      3.170975e+07      105.0\n",
       "7      5.147007e+07       59.0\n",
       "8      5.022417e+07       12.0\n",
       "9      3.415236e+07        8.0\n",
       "10     2.616667e+07        3.0\n",
       "11     2.525000e+07        2.0\n",
       "12     4.200000e+08        1.0\n",
       "14     2.682950e+07        2.0\n",
       "15     6.500000e+07        1.0\n",
       "16     2.850000e+07        1.0\n",
       "19     3.225000e+07        1.0"
      ]
     },
     "execution_count": 53,
     "metadata": {},
     "output_type": "execute_result"
    },
    {
     "data": {
      "image/png": "[encoded data removed]",
      "text/plain": [
       "<Figure size 864x360 with 1 Axes>"
      ]
     },
     "metadata": {
      "needs_background": "light"
     },
     "output_type": "display_data"
    }
   ],
   "source": [
    "# зависимость общей стоимости объекта от количества комнат\n",
    "from matplotlib.ticker import FormatStrFormatter\n",
    "ax = (df\n",
    "    .pivot_table(index = 'rooms',values = 'last_price')\n",
    "    .plot(grid = True, figsize =(12,5))\n",
    ")\n",
    "ax.yaxis.set_major_formatter(FormatStrFormatter('%.2f'))\n",
    "\n",
    "pd.pivot_table(df,\n",
    "               index=[\"rooms\"],\n",
    "               values=[\"last_price\"],\n",
    "               aggfunc=[np.mean, len])"
   ]
  },
  {
   "cell_type": "code",
   "execution_count": 54,
   "metadata": {},
   "outputs": [
    {
     "data": {
      "text/plain": [
       "0.36355243028346906"
      ]
     },
     "execution_count": 54,
     "metadata": {},
     "output_type": "execute_result"
    }
   ],
   "source": [
    "df['rooms'].corr(df['last_price'])"
   ]
  },
  {
   "cell_type": "markdown",
   "metadata": {},
   "source": [
    "Зависимость итоговой стоимости объекта от количества комнат гораздо меньше, чем от площади квартиры. Коэффициент корелляции близок к низкому. Это видно на графике. Также стоит отметить,что обектов с большим количеством комнат (свыше 7) - очень немного. Отсутствуют значения 13 и 17 комнат."
   ]
  },
  {
   "cell_type": "code",
   "execution_count": 55,
   "metadata": {},
   "outputs": [
    {
     "data": {
      "text/html": [
       "<div>\n",
       "<style scoped>\n",
       "    .dataframe tbody tr th:only-of-type {\n",
       "        vertical-align: middle;\n",
       "    }\n",
       "\n",
       "    .dataframe tbody tr th {\n",
       "        vertical-align: top;\n",
       "    }\n",
       "\n",
       "    .dataframe thead tr th {\n",
       "        text-align: left;\n",
       "    }\n",
       "\n",
       "    .dataframe thead tr:last-of-type th {\n",
       "        text-align: right;\n",
       "    }\n",
       "</style>\n",
       "<table border=\"1\" class=\"dataframe\">\n",
       "  <thead>\n",
       "    <tr>\n",
       "      <th></th>\n",
       "      <th>median</th>\n",
       "      <th>len</th>\n",
       "    </tr>\n",
       "    <tr>\n",
       "      <th></th>\n",
       "      <th>last_price</th>\n",
       "      <th>last_price</th>\n",
       "    </tr>\n",
       "    <tr>\n",
       "      <th>floor_type</th>\n",
       "      <th></th>\n",
       "      <th></th>\n",
       "    </tr>\n",
       "  </thead>\n",
       "  <tbody>\n",
       "    <tr>\n",
       "      <th>другой</th>\n",
       "      <td>4850000.0</td>\n",
       "      <td>17376.0</td>\n",
       "    </tr>\n",
       "    <tr>\n",
       "      <th>первый</th>\n",
       "      <td>3900000.0</td>\n",
       "      <td>2907.0</td>\n",
       "    </tr>\n",
       "    <tr>\n",
       "      <th>последний</th>\n",
       "      <td>4300000.0</td>\n",
       "      <td>3324.0</td>\n",
       "    </tr>\n",
       "  </tbody>\n",
       "</table>\n",
       "</div>"
      ],
      "text/plain": [
       "               median        len\n",
       "           last_price last_price\n",
       "floor_type                      \n",
       "другой      4850000.0    17376.0\n",
       "первый      3900000.0     2907.0\n",
       "последний   4300000.0     3324.0"
      ]
     },
     "execution_count": 55,
     "metadata": {},
     "output_type": "execute_result"
    }
   ],
   "source": [
    "# зависимость общей стоимости объекта от типа этажа\n",
    "pd.pivot_table(df,\n",
    "               index=[\"floor_type\"],\n",
    "               values=[\"last_price\"],\n",
    "               aggfunc=[np.median, len])\n",
    "\n"
   ]
  },
  {
   "cell_type": "code",
   "execution_count": 56,
   "metadata": {},
   "outputs": [
    {
     "data": {
      "text/html": [
       "<div>\n",
       "<style scoped>\n",
       "    .dataframe tbody tr th:only-of-type {\n",
       "        vertical-align: middle;\n",
       "    }\n",
       "\n",
       "    .dataframe tbody tr th {\n",
       "        vertical-align: top;\n",
       "    }\n",
       "\n",
       "    .dataframe thead tr th {\n",
       "        text-align: left;\n",
       "    }\n",
       "\n",
       "    .dataframe thead tr:last-of-type th {\n",
       "        text-align: right;\n",
       "    }\n",
       "</style>\n",
       "<table border=\"1\" class=\"dataframe\">\n",
       "  <thead>\n",
       "    <tr>\n",
       "      <th></th>\n",
       "      <th>mean</th>\n",
       "      <th>len</th>\n",
       "    </tr>\n",
       "    <tr>\n",
       "      <th></th>\n",
       "      <th>last_price</th>\n",
       "      <th>last_price</th>\n",
       "    </tr>\n",
       "    <tr>\n",
       "      <th>floor_type</th>\n",
       "      <th></th>\n",
       "      <th></th>\n",
       "    </tr>\n",
       "  </thead>\n",
       "  <tbody>\n",
       "    <tr>\n",
       "      <th>другой</th>\n",
       "      <td>6.679760e+06</td>\n",
       "      <td>17376.0</td>\n",
       "    </tr>\n",
       "    <tr>\n",
       "      <th>первый</th>\n",
       "      <td>4.803235e+06</td>\n",
       "      <td>2907.0</td>\n",
       "    </tr>\n",
       "    <tr>\n",
       "      <th>последний</th>\n",
       "      <td>7.364028e+06</td>\n",
       "      <td>3324.0</td>\n",
       "    </tr>\n",
       "  </tbody>\n",
       "</table>\n",
       "</div>"
      ],
      "text/plain": [
       "                    mean        len\n",
       "              last_price last_price\n",
       "floor_type                         \n",
       "другой      6.679760e+06    17376.0\n",
       "первый      4.803235e+06     2907.0\n",
       "последний   7.364028e+06     3324.0"
      ]
     },
     "execution_count": 56,
     "metadata": {},
     "output_type": "execute_result"
    }
   ],
   "source": [
    "pd.pivot_table(df,\n",
    "               index=[\"floor_type\"],\n",
    "               values=[\"last_price\"],\n",
    "               aggfunc=[np.mean, len])\n"
   ]
  },
  {
   "cell_type": "code",
   "execution_count": 57,
   "metadata": {},
   "outputs": [
    {
     "data": {
      "image/png": "[encoded data removed]",
      "text/plain": [
       "<Figure size 864x360 with 1 Axes>"
      ]
     },
     "metadata": {
      "needs_background": "light"
     },
     "output_type": "display_data"
    }
   ],
   "source": [
    "from matplotlib.ticker import FormatStrFormatter\n",
    "ax = (df\n",
    "    .pivot_table(index = 'floor_type',values = 'last_price')\n",
    "    .plot(grid = True, figsize =(12,5))\n",
    ")\n",
    "ax.yaxis.set_major_formatter(FormatStrFormatter('%.2f'))\n"
   ]
  },
  {
   "cell_type": "markdown",
   "metadata": {},
   "source": [
    "На графике видно, что самая низкая стоимость у объектов, находящихся на первом этаже, а самая высокая - у самых высокоэтажных квартир.По медиане разброс в значениях меньше, чем по среднему."
   ]
  },
  {
   "cell_type": "code",
   "execution_count": 58,
   "metadata": {},
   "outputs": [
    {
     "data": {
      "image/png": "[encoded data removed]",
      "text/plain": [
       "<Figure size 432x288 with 1 Axes>"
      ]
     },
     "metadata": {
      "needs_background": "light"
     },
     "output_type": "display_data"
    }
   ],
   "source": [
    "# зависимость общей стоимости объекта от года публикации объявления\n",
    "df.groupby('year')['last_price'].median().plot();"
   ]
  },
  {
   "cell_type": "code",
   "execution_count": 59,
   "metadata": {},
   "outputs": [
    {
     "data": {
      "image/png": "[encoded data removed]",
      "text/plain": [
       "<Figure size 432x288 with 1 Axes>"
      ]
     },
     "metadata": {
      "needs_background": "light"
     },
     "output_type": "display_data"
    }
   ],
   "source": [
    "# зависимость общей стоимости объекта от месяца публикации объявления\n",
    "df.groupby('month')['last_price'].median().plot();"
   ]
  },
  {
   "cell_type": "code",
   "execution_count": 60,
   "metadata": {},
   "outputs": [
    {
     "data": {
      "image/png": "[encoded data removed]",
      "text/plain": [
       "<Figure size 432x288 with 1 Axes>"
      ]
     },
     "metadata": {
      "needs_background": "light"
     },
     "output_type": "display_data"
    }
   ],
   "source": [
    "# зависимость общей стоимости объекта от дня недели публикации объявления\n",
    "df.groupby('weekday')['last_price'].median().plot();"
   ]
  },
  {
   "cell_type": "markdown",
   "metadata": {},
   "source": [
    "Зависимость цены от времени публикации объявления прослеживается явно: с 2014 по 2016 год стоимость квартир сильно снизилась. Объявления о продаже самых дорогих квартир были размещены в марте- апреле, а о продаже самых дешёвых - в июне. Если смотреть по дням недели, пик стоимости приходится на вторник - среду. К концу недели стоимостьобъектов существенно снижается."
   ]
  },
  {
   "cell_type": "markdown",
   "metadata": {},
   "source": [
    "#### Вывод.\n",
    "Анализируя графики зависимости, можно отметить следующее:\n",
    "- наблюдается планомерный рост общей стоимости квартир с возрастанием их общей площади, небольшое пиковое значение есть в районе 20 м2 и большое - в районе 190 м2, следующие пики можно наблюдать в районе 290 и 400 м2;\n",
    "- зависимость цены от увеличения жилой площади также прослеживается - общая стоимость увеличивается пропорционально увеличению количества квадратных метров, пиковые значения можно наблюдать в районе 5 м2 и 180 м2; после 200 м2 график разрежен;\n",
    "- площадь кухни влияет на повышение цены сильнее предыдущих двух параметров, пиковые значения в районе 18, 20 и 30 м2;\n",
    "- зависимость от количества комнать на значениях от 1 до 3 прослеживается слабо, сильно возрастает цена в промежутке от 5 до 7 комнат;\n",
    "- квартиры на первом этаже сущ0ественно дешевле,чем квартиры на любом \"другом\", самые дорогие квартиры - на последних этажах;\n",
    "- **На графике по дате публикации объявления наблюдается следующее:**\n",
    "- В разрезе по годам с 2014 по 2016 годы происходит падение стоимости объектов, в 2016-2017 годах цена стабилизируется, в 2018 году наблюдается небольшой рост стоимости объектов.\n",
    "- В разрезе по месяцам самая высокая стоимость объектов наблюдается в апреле месяце, самая низкая - в июне; с января по март и с июля по декабрь стоимость колеблется, но не значительно.\n",
    "- В разрезе по дням недели публикации в начале недели предлагаются к продаже самые дорогие объекты; к концу недели стоимость продаваемых объектов существенно снижается."
   ]
  },
  {
   "cell_type": "markdown",
   "metadata": {},
   "source": [
    "### Посчитаем цену одного квадратного метра в 10 населённых пунктах  с наибольшим числом объявлений. "
   ]
  },
  {
   "cell_type": "code",
   "execution_count": 61,
   "metadata": {},
   "outputs": [
    {
     "data": {
      "text/html": [
       "<div>\n",
       "<style scoped>\n",
       "    .dataframe tbody tr th:only-of-type {\n",
       "        vertical-align: middle;\n",
       "    }\n",
       "\n",
       "    .dataframe tbody tr th {\n",
       "        vertical-align: top;\n",
       "    }\n",
       "\n",
       "    .dataframe thead th {\n",
       "        text-align: right;\n",
       "    }\n",
       "</style>\n",
       "<table border=\"1\" class=\"dataframe\">\n",
       "  <thead>\n",
       "    <tr style=\"text-align: right;\">\n",
       "      <th></th>\n",
       "      <th>metr_price_mean</th>\n",
       "      <th>metr_price_count</th>\n",
       "    </tr>\n",
       "    <tr>\n",
       "      <th>locality_name</th>\n",
       "      <th></th>\n",
       "      <th></th>\n",
       "    </tr>\n",
       "  </thead>\n",
       "  <tbody>\n",
       "    <tr>\n",
       "      <th>Санкт-Петербург</th>\n",
       "      <td>114830.455038</td>\n",
       "      <td>15700</td>\n",
       "    </tr>\n",
       "    <tr>\n",
       "      <th>поселок Мурино</th>\n",
       "      <td>85656.214377</td>\n",
       "      <td>554</td>\n",
       "    </tr>\n",
       "    <tr>\n",
       "      <th>поселок Шушары</th>\n",
       "      <td>78677.364217</td>\n",
       "      <td>440</td>\n",
       "    </tr>\n",
       "    <tr>\n",
       "      <th>Всеволожск</th>\n",
       "      <td>68719.320400</td>\n",
       "      <td>397</td>\n",
       "    </tr>\n",
       "    <tr>\n",
       "      <th>Пушкин</th>\n",
       "      <td>103125.819291</td>\n",
       "      <td>369</td>\n",
       "    </tr>\n",
       "    <tr>\n",
       "      <th>Колпино</th>\n",
       "      <td>75424.579098</td>\n",
       "      <td>338</td>\n",
       "    </tr>\n",
       "    <tr>\n",
       "      <th>поселок Парголово</th>\n",
       "      <td>90175.913458</td>\n",
       "      <td>327</td>\n",
       "    </tr>\n",
       "    <tr>\n",
       "      <th>Гатчина</th>\n",
       "      <td>68757.678644</td>\n",
       "      <td>306</td>\n",
       "    </tr>\n",
       "    <tr>\n",
       "      <th>деревня Кудрово</th>\n",
       "      <td>92473.547576</td>\n",
       "      <td>299</td>\n",
       "    </tr>\n",
       "    <tr>\n",
       "      <th>Выборг</th>\n",
       "      <td>58238.143141</td>\n",
       "      <td>235</td>\n",
       "    </tr>\n",
       "  </tbody>\n",
       "</table>\n",
       "</div>"
      ],
      "text/plain": [
       "                   metr_price_mean  metr_price_count\n",
       "locality_name                                       \n",
       "Санкт-Петербург      114830.455038             15700\n",
       "поселок Мурино        85656.214377               554\n",
       "поселок Шушары        78677.364217               440\n",
       "Всеволожск            68719.320400               397\n",
       "Пушкин               103125.819291               369\n",
       "Колпино               75424.579098               338\n",
       "поселок Парголово     90175.913458               327\n",
       "Гатчина               68757.678644               306\n",
       "деревня Кудрово       92473.547576               299\n",
       "Выборг                58238.143141               235"
      ]
     },
     "metadata": {},
     "output_type": "display_data"
    },
    {
     "data": {
      "text/html": [
       "<div>\n",
       "<style scoped>\n",
       "    .dataframe tbody tr th:only-of-type {\n",
       "        vertical-align: middle;\n",
       "    }\n",
       "\n",
       "    .dataframe tbody tr th {\n",
       "        vertical-align: top;\n",
       "    }\n",
       "\n",
       "    .dataframe thead th {\n",
       "        text-align: right;\n",
       "    }\n",
       "</style>\n",
       "<table border=\"1\" class=\"dataframe\">\n",
       "  <thead>\n",
       "    <tr style=\"text-align: right;\">\n",
       "      <th></th>\n",
       "      <th>metr_price_mean</th>\n",
       "      <th>metr_price_count</th>\n",
       "    </tr>\n",
       "    <tr>\n",
       "      <th>locality_name</th>\n",
       "      <th></th>\n",
       "      <th></th>\n",
       "    </tr>\n",
       "  </thead>\n",
       "  <tbody>\n",
       "    <tr>\n",
       "      <th>поселок Дзержинского</th>\n",
       "      <td>33439.490446</td>\n",
       "      <td>1</td>\n",
       "    </tr>\n",
       "    <tr>\n",
       "      <th>поселок Гончарово</th>\n",
       "      <td>41371.158392</td>\n",
       "      <td>1</td>\n",
       "    </tr>\n",
       "    <tr>\n",
       "      <th>поселок Гладкое</th>\n",
       "      <td>30769.230769</td>\n",
       "      <td>1</td>\n",
       "    </tr>\n",
       "    <tr>\n",
       "      <th>поселок Высокоключевой</th>\n",
       "      <td>34931.506849</td>\n",
       "      <td>1</td>\n",
       "    </tr>\n",
       "    <tr>\n",
       "      <th>село Шум</th>\n",
       "      <td>33898.305085</td>\n",
       "      <td>1</td>\n",
       "    </tr>\n",
       "  </tbody>\n",
       "</table>\n",
       "</div>"
      ],
      "text/plain": [
       "                        metr_price_mean  metr_price_count\n",
       "locality_name                                            \n",
       "поселок Дзержинского       33439.490446                 1\n",
       "поселок Гончарово          41371.158392                 1\n",
       "поселок Гладкое            30769.230769                 1\n",
       "поселок Высокоключевой     34931.506849                 1\n",
       "село Шум                   33898.305085                 1"
      ]
     },
     "execution_count": 61,
     "metadata": {},
     "output_type": "execute_result"
    }
   ],
   "source": [
    "# создадим сводные таблицы\n",
    "df_top_10 = df.pivot_table(index='locality_name', values='metr_price',aggfunc=['mean', 'count']) \n",
    "df_top_10.columns=['metr_price_mean', 'metr_price_count'] \n",
    "df_top_10.sort_values(by=['metr_price_count'],ascending = False, inplace=True)\n",
    "display(df_top_10.head(10))\n",
    "df_top_10.tail()\n",
    "\n"
   ]
  },
  {
   "cell_type": "markdown",
   "metadata": {},
   "source": [
    "### Выделим населённые пункты с самой высокой и низкой стоимостью квадратного метра. "
   ]
  },
  {
   "cell_type": "code",
   "execution_count": 62,
   "metadata": {},
   "outputs": [
    {
     "data": {
      "text/html": [
       "<div>\n",
       "<style scoped>\n",
       "    .dataframe tbody tr th:only-of-type {\n",
       "        vertical-align: middle;\n",
       "    }\n",
       "\n",
       "    .dataframe tbody tr th {\n",
       "        vertical-align: top;\n",
       "    }\n",
       "\n",
       "    .dataframe thead th {\n",
       "        text-align: right;\n",
       "    }\n",
       "</style>\n",
       "<table border=\"1\" class=\"dataframe\">\n",
       "  <thead>\n",
       "    <tr style=\"text-align: right;\">\n",
       "      <th></th>\n",
       "      <th>metr_price_mean</th>\n",
       "      <th>metr_price_count</th>\n",
       "    </tr>\n",
       "    <tr>\n",
       "      <th>locality_name</th>\n",
       "      <th></th>\n",
       "      <th></th>\n",
       "    </tr>\n",
       "  </thead>\n",
       "  <tbody>\n",
       "    <tr>\n",
       "      <th>Зеленогорск</th>\n",
       "      <td>115122.799198</td>\n",
       "      <td>24</td>\n",
       "    </tr>\n",
       "    <tr>\n",
       "      <th>Санкт-Петербург</th>\n",
       "      <td>114830.455038</td>\n",
       "      <td>15700</td>\n",
       "    </tr>\n",
       "    <tr>\n",
       "      <th>поселок Репино</th>\n",
       "      <td>104238.614786</td>\n",
       "      <td>4</td>\n",
       "    </tr>\n",
       "    <tr>\n",
       "      <th>Пушкин</th>\n",
       "      <td>103125.819291</td>\n",
       "      <td>369</td>\n",
       "    </tr>\n",
       "    <tr>\n",
       "      <th>Сестрорецк</th>\n",
       "      <td>101757.616875</td>\n",
       "      <td>183</td>\n",
       "    </tr>\n",
       "    <tr>\n",
       "      <th>поселок Лисий Нос</th>\n",
       "      <td>100660.814239</td>\n",
       "      <td>3</td>\n",
       "    </tr>\n",
       "    <tr>\n",
       "      <th>Кудрово</th>\n",
       "      <td>100285.114241</td>\n",
       "      <td>172</td>\n",
       "    </tr>\n",
       "    <tr>\n",
       "      <th>деревня Мистолово</th>\n",
       "      <td>98549.976709</td>\n",
       "      <td>11</td>\n",
       "    </tr>\n",
       "    <tr>\n",
       "      <th>поселок Левашово</th>\n",
       "      <td>96997.690531</td>\n",
       "      <td>1</td>\n",
       "    </tr>\n",
       "    <tr>\n",
       "      <th>Мурино</th>\n",
       "      <td>92722.708914</td>\n",
       "      <td>34</td>\n",
       "    </tr>\n",
       "  </tbody>\n",
       "</table>\n",
       "</div>"
      ],
      "text/plain": [
       "                   metr_price_mean  metr_price_count\n",
       "locality_name                                       \n",
       "Зеленогорск          115122.799198                24\n",
       "Санкт-Петербург      114830.455038             15700\n",
       "поселок Репино       104238.614786                 4\n",
       "Пушкин               103125.819291               369\n",
       "Сестрорецк           101757.616875               183\n",
       "поселок Лисий Нос    100660.814239                 3\n",
       "Кудрово              100285.114241               172\n",
       "деревня Мистолово     98549.976709                11\n",
       "поселок Левашово      96997.690531                 1\n",
       "Мурино                92722.708914                34"
      ]
     },
     "metadata": {},
     "output_type": "display_data"
    },
    {
     "data": {
      "text/html": [
       "<div>\n",
       "<style scoped>\n",
       "    .dataframe tbody tr th:only-of-type {\n",
       "        vertical-align: middle;\n",
       "    }\n",
       "\n",
       "    .dataframe tbody tr th {\n",
       "        vertical-align: top;\n",
       "    }\n",
       "\n",
       "    .dataframe thead th {\n",
       "        text-align: right;\n",
       "    }\n",
       "</style>\n",
       "<table border=\"1\" class=\"dataframe\">\n",
       "  <thead>\n",
       "    <tr style=\"text-align: right;\">\n",
       "      <th></th>\n",
       "      <th>metr_price_mean</th>\n",
       "      <th>metr_price_count</th>\n",
       "    </tr>\n",
       "    <tr>\n",
       "      <th>locality_name</th>\n",
       "      <th></th>\n",
       "      <th></th>\n",
       "    </tr>\n",
       "  </thead>\n",
       "  <tbody>\n",
       "    <tr>\n",
       "      <th>поселок Житково</th>\n",
       "      <td>14956.275202</td>\n",
       "      <td>2</td>\n",
       "    </tr>\n",
       "    <tr>\n",
       "      <th>деревня Ям-Тесово</th>\n",
       "      <td>13711.553373</td>\n",
       "      <td>2</td>\n",
       "    </tr>\n",
       "    <tr>\n",
       "      <th>деревня Сижно</th>\n",
       "      <td>13709.677419</td>\n",
       "      <td>1</td>\n",
       "    </tr>\n",
       "    <tr>\n",
       "      <th>поселок Тёсово-4</th>\n",
       "      <td>12931.034483</td>\n",
       "      <td>1</td>\n",
       "    </tr>\n",
       "    <tr>\n",
       "      <th>деревня Малая Романовка</th>\n",
       "      <td>12724.550898</td>\n",
       "      <td>1</td>\n",
       "    </tr>\n",
       "    <tr>\n",
       "      <th>поселок Совхозный</th>\n",
       "      <td>12629.129129</td>\n",
       "      <td>2</td>\n",
       "    </tr>\n",
       "    <tr>\n",
       "      <th>деревня Выскатка</th>\n",
       "      <td>12335.480902</td>\n",
       "      <td>2</td>\n",
       "    </tr>\n",
       "    <tr>\n",
       "      <th>деревня Вахнова Кара</th>\n",
       "      <td>11688.311688</td>\n",
       "      <td>1</td>\n",
       "    </tr>\n",
       "    <tr>\n",
       "      <th>поселок станции Свирь</th>\n",
       "      <td>11481.481481</td>\n",
       "      <td>2</td>\n",
       "    </tr>\n",
       "    <tr>\n",
       "      <th>деревня Старополье</th>\n",
       "      <td>11206.221198</td>\n",
       "      <td>3</td>\n",
       "    </tr>\n",
       "  </tbody>\n",
       "</table>\n",
       "</div>"
      ],
      "text/plain": [
       "                         metr_price_mean  metr_price_count\n",
       "locality_name                                             \n",
       "поселок Житково             14956.275202                 2\n",
       "деревня Ям-Тесово           13711.553373                 2\n",
       "деревня Сижно               13709.677419                 1\n",
       "поселок Тёсово-4            12931.034483                 1\n",
       "деревня Малая Романовка     12724.550898                 1\n",
       "поселок Совхозный           12629.129129                 2\n",
       "деревня Выскатка            12335.480902                 2\n",
       "деревня Вахнова Кара        11688.311688                 1\n",
       "поселок станции Свирь       11481.481481                 2\n",
       "деревня Старополье          11206.221198                 3"
      ]
     },
     "execution_count": 62,
     "metadata": {},
     "output_type": "execute_result"
    }
   ],
   "source": [
    "# отсортируем данные\n",
    "df_top_10.sort_values(by=['metr_price_mean'],ascending = False, inplace=True)\n",
    "display(df_top_10.head(10))\n",
    "df_top_10.tail(10)\n"
   ]
  },
  {
   "cell_type": "markdown",
   "metadata": {},
   "source": [
    "### Посчитаем среднюю цену каждого километра удалённости от центра города в Санкт-Петербурге."
   ]
  },
  {
   "cell_type": "code",
   "execution_count": 63,
   "metadata": {},
   "outputs": [
    {
     "data": {
      "text/html": [
       "<div>\n",
       "<style scoped>\n",
       "    .dataframe tbody tr th:only-of-type {\n",
       "        vertical-align: middle;\n",
       "    }\n",
       "\n",
       "    .dataframe tbody tr th {\n",
       "        vertical-align: top;\n",
       "    }\n",
       "\n",
       "    .dataframe thead th {\n",
       "        text-align: right;\n",
       "    }\n",
       "</style>\n",
       "<table border=\"1\" class=\"dataframe\">\n",
       "  <thead>\n",
       "    <tr style=\"text-align: right;\">\n",
       "      <th></th>\n",
       "      <th>total_images</th>\n",
       "      <th>last_price</th>\n",
       "      <th>total_area</th>\n",
       "      <th>first_day_exposition</th>\n",
       "      <th>rooms</th>\n",
       "      <th>ceiling_height</th>\n",
       "      <th>floors_total</th>\n",
       "      <th>living_area</th>\n",
       "      <th>floor</th>\n",
       "      <th>is_apartment</th>\n",
       "      <th>...</th>\n",
       "      <th>parks_nearest</th>\n",
       "      <th>ponds_around3000</th>\n",
       "      <th>ponds_nearest</th>\n",
       "      <th>days_exposition</th>\n",
       "      <th>metr_price</th>\n",
       "      <th>weekday</th>\n",
       "      <th>month</th>\n",
       "      <th>year</th>\n",
       "      <th>floor_type</th>\n",
       "      <th>cityCenters_km</th>\n",
       "    </tr>\n",
       "  </thead>\n",
       "  <tbody>\n",
       "    <tr>\n",
       "      <th>0</th>\n",
       "      <td>20</td>\n",
       "      <td>13000000.0</td>\n",
       "      <td>108.0</td>\n",
       "      <td>2019-03-07</td>\n",
       "      <td>3</td>\n",
       "      <td>2.70</td>\n",
       "      <td>16.0</td>\n",
       "      <td>51.0</td>\n",
       "      <td>8</td>\n",
       "      <td>False</td>\n",
       "      <td>...</td>\n",
       "      <td>482.0</td>\n",
       "      <td>2.0</td>\n",
       "      <td>755.0</td>\n",
       "      <td>NaN</td>\n",
       "      <td>120370.370370</td>\n",
       "      <td>3</td>\n",
       "      <td>3</td>\n",
       "      <td>2019</td>\n",
       "      <td>другой</td>\n",
       "      <td>17.0</td>\n",
       "    </tr>\n",
       "    <tr>\n",
       "      <th>2</th>\n",
       "      <td>10</td>\n",
       "      <td>5196000.0</td>\n",
       "      <td>56.0</td>\n",
       "      <td>2015-08-20</td>\n",
       "      <td>2</td>\n",
       "      <td>2.70</td>\n",
       "      <td>5.0</td>\n",
       "      <td>34.3</td>\n",
       "      <td>4</td>\n",
       "      <td>False</td>\n",
       "      <td>...</td>\n",
       "      <td>90.0</td>\n",
       "      <td>2.0</td>\n",
       "      <td>574.0</td>\n",
       "      <td>558.0</td>\n",
       "      <td>92785.714286</td>\n",
       "      <td>3</td>\n",
       "      <td>8</td>\n",
       "      <td>2015</td>\n",
       "      <td>другой</td>\n",
       "      <td>14.0</td>\n",
       "    </tr>\n",
       "    <tr>\n",
       "      <th>3</th>\n",
       "      <td>0</td>\n",
       "      <td>64900000.0</td>\n",
       "      <td>159.0</td>\n",
       "      <td>2015-07-24</td>\n",
       "      <td>3</td>\n",
       "      <td>2.70</td>\n",
       "      <td>14.0</td>\n",
       "      <td>NaN</td>\n",
       "      <td>9</td>\n",
       "      <td>False</td>\n",
       "      <td>...</td>\n",
       "      <td>84.0</td>\n",
       "      <td>3.0</td>\n",
       "      <td>234.0</td>\n",
       "      <td>424.0</td>\n",
       "      <td>408176.100629</td>\n",
       "      <td>4</td>\n",
       "      <td>7</td>\n",
       "      <td>2015</td>\n",
       "      <td>другой</td>\n",
       "      <td>7.0</td>\n",
       "    </tr>\n",
       "    <tr>\n",
       "      <th>4</th>\n",
       "      <td>2</td>\n",
       "      <td>10000000.0</td>\n",
       "      <td>100.0</td>\n",
       "      <td>2018-06-19</td>\n",
       "      <td>2</td>\n",
       "      <td>3.03</td>\n",
       "      <td>14.0</td>\n",
       "      <td>32.0</td>\n",
       "      <td>13</td>\n",
       "      <td>False</td>\n",
       "      <td>...</td>\n",
       "      <td>112.0</td>\n",
       "      <td>1.0</td>\n",
       "      <td>48.0</td>\n",
       "      <td>121.0</td>\n",
       "      <td>100000.000000</td>\n",
       "      <td>1</td>\n",
       "      <td>6</td>\n",
       "      <td>2018</td>\n",
       "      <td>другой</td>\n",
       "      <td>9.0</td>\n",
       "    </tr>\n",
       "    <tr>\n",
       "      <th>7</th>\n",
       "      <td>5</td>\n",
       "      <td>7915000.0</td>\n",
       "      <td>71.6</td>\n",
       "      <td>2019-04-18</td>\n",
       "      <td>2</td>\n",
       "      <td>2.70</td>\n",
       "      <td>24.0</td>\n",
       "      <td>NaN</td>\n",
       "      <td>22</td>\n",
       "      <td>False</td>\n",
       "      <td>...</td>\n",
       "      <td>NaN</td>\n",
       "      <td>0.0</td>\n",
       "      <td>NaN</td>\n",
       "      <td>NaN</td>\n",
       "      <td>110544.692737</td>\n",
       "      <td>3</td>\n",
       "      <td>4</td>\n",
       "      <td>2019</td>\n",
       "      <td>другой</td>\n",
       "      <td>12.0</td>\n",
       "    </tr>\n",
       "  </tbody>\n",
       "</table>\n",
       "<p>5 rows × 28 columns</p>\n",
       "</div>"
      ],
      "text/plain": [
       "   total_images  last_price  total_area first_day_exposition  rooms  \\\n",
       "0            20  13000000.0       108.0           2019-03-07      3   \n",
       "2            10   5196000.0        56.0           2015-08-20      2   \n",
       "3             0  64900000.0       159.0           2015-07-24      3   \n",
       "4             2  10000000.0       100.0           2018-06-19      2   \n",
       "7             5   7915000.0        71.6           2019-04-18      2   \n",
       "\n",
       "   ceiling_height  floors_total  living_area  floor  is_apartment  ...  \\\n",
       "0            2.70          16.0         51.0      8         False  ...   \n",
       "2            2.70           5.0         34.3      4         False  ...   \n",
       "3            2.70          14.0          NaN      9         False  ...   \n",
       "4            3.03          14.0         32.0     13         False  ...   \n",
       "7            2.70          24.0          NaN     22         False  ...   \n",
       "\n",
       "   parks_nearest  ponds_around3000  ponds_nearest  days_exposition  \\\n",
       "0          482.0               2.0          755.0              NaN   \n",
       "2           90.0               2.0          574.0            558.0   \n",
       "3           84.0               3.0          234.0            424.0   \n",
       "4          112.0               1.0           48.0            121.0   \n",
       "7            NaN               0.0            NaN              NaN   \n",
       "\n",
       "      metr_price  weekday  month  year  floor_type  cityCenters_km  \n",
       "0  120370.370370        3      3  2019      другой            17.0  \n",
       "2   92785.714286        3      8  2015      другой            14.0  \n",
       "3  408176.100629        4      7  2015      другой             7.0  \n",
       "4  100000.000000        1      6  2018      другой             9.0  \n",
       "7  110544.692737        3      4  2019      другой            12.0  \n",
       "\n",
       "[5 rows x 28 columns]"
      ]
     },
     "execution_count": 63,
     "metadata": {},
     "output_type": "execute_result"
    }
   ],
   "source": [
    "df_new = df[df['locality_name'] == 'Санкт-Петербург']\n",
    "df_new.head()"
   ]
  },
  {
   "cell_type": "code",
   "execution_count": 64,
   "metadata": {
    "scrolled": true
   },
   "outputs": [
    {
     "data": {
      "text/html": [
       "<div>\n",
       "<style scoped>\n",
       "    .dataframe tbody tr th:only-of-type {\n",
       "        vertical-align: middle;\n",
       "    }\n",
       "\n",
       "    .dataframe tbody tr th {\n",
       "        vertical-align: top;\n",
       "    }\n",
       "\n",
       "    .dataframe thead th {\n",
       "        text-align: right;\n",
       "    }\n",
       "</style>\n",
       "<table border=\"1\" class=\"dataframe\">\n",
       "  <thead>\n",
       "    <tr style=\"text-align: right;\">\n",
       "      <th></th>\n",
       "      <th>total_images</th>\n",
       "      <th>last_price</th>\n",
       "      <th>total_area</th>\n",
       "      <th>rooms</th>\n",
       "      <th>ceiling_height</th>\n",
       "      <th>floors_total</th>\n",
       "      <th>living_area</th>\n",
       "      <th>floor</th>\n",
       "      <th>is_apartment</th>\n",
       "      <th>studio</th>\n",
       "      <th>...</th>\n",
       "      <th>cityCenters_nearest</th>\n",
       "      <th>parks_around3000</th>\n",
       "      <th>parks_nearest</th>\n",
       "      <th>ponds_around3000</th>\n",
       "      <th>ponds_nearest</th>\n",
       "      <th>days_exposition</th>\n",
       "      <th>metr_price</th>\n",
       "      <th>weekday</th>\n",
       "      <th>month</th>\n",
       "      <th>year</th>\n",
       "    </tr>\n",
       "    <tr>\n",
       "      <th>cityCenters_km</th>\n",
       "      <th></th>\n",
       "      <th></th>\n",
       "      <th></th>\n",
       "      <th></th>\n",
       "      <th></th>\n",
       "      <th></th>\n",
       "      <th></th>\n",
       "      <th></th>\n",
       "      <th></th>\n",
       "      <th></th>\n",
       "      <th></th>\n",
       "      <th></th>\n",
       "      <th></th>\n",
       "      <th></th>\n",
       "      <th></th>\n",
       "      <th></th>\n",
       "      <th></th>\n",
       "      <th></th>\n",
       "      <th></th>\n",
       "      <th></th>\n",
       "      <th></th>\n",
       "    </tr>\n",
       "  </thead>\n",
       "  <tbody>\n",
       "    <tr>\n",
       "      <th>1.0</th>\n",
       "      <td>9.918605</td>\n",
       "      <td>2.344232e+07</td>\n",
       "      <td>112.130000</td>\n",
       "      <td>3.220930</td>\n",
       "      <td>3.075116</td>\n",
       "      <td>4.720930</td>\n",
       "      <td>69.733500</td>\n",
       "      <td>3.011628</td>\n",
       "      <td>0.046512</td>\n",
       "      <td>0.000000</td>\n",
       "      <td>...</td>\n",
       "      <td>617.255814</td>\n",
       "      <td>1.906977</td>\n",
       "      <td>395.148649</td>\n",
       "      <td>2.488372</td>\n",
       "      <td>278.546512</td>\n",
       "      <td>222.000000</td>\n",
       "      <td>187324.130319</td>\n",
       "      <td>2.290698</td>\n",
       "      <td>7.127907</td>\n",
       "      <td>2017.081395</td>\n",
       "    </tr>\n",
       "    <tr>\n",
       "      <th>2.0</th>\n",
       "      <td>10.241667</td>\n",
       "      <td>1.885085e+07</td>\n",
       "      <td>103.079583</td>\n",
       "      <td>3.237500</td>\n",
       "      <td>3.069167</td>\n",
       "      <td>4.745833</td>\n",
       "      <td>65.478616</td>\n",
       "      <td>3.012500</td>\n",
       "      <td>0.008333</td>\n",
       "      <td>0.004167</td>\n",
       "      <td>...</td>\n",
       "      <td>1493.300000</td>\n",
       "      <td>1.804167</td>\n",
       "      <td>422.990196</td>\n",
       "      <td>2.508333</td>\n",
       "      <td>220.451883</td>\n",
       "      <td>293.859296</td>\n",
       "      <td>166603.755531</td>\n",
       "      <td>2.666667</td>\n",
       "      <td>6.316667</td>\n",
       "      <td>2017.025000</td>\n",
       "    </tr>\n",
       "    <tr>\n",
       "      <th>3.0</th>\n",
       "      <td>10.853420</td>\n",
       "      <td>1.616331e+07</td>\n",
       "      <td>98.856482</td>\n",
       "      <td>3.114007</td>\n",
       "      <td>3.093029</td>\n",
       "      <td>4.996743</td>\n",
       "      <td>61.141575</td>\n",
       "      <td>3.192182</td>\n",
       "      <td>0.000000</td>\n",
       "      <td>0.003257</td>\n",
       "      <td>...</td>\n",
       "      <td>2449.048860</td>\n",
       "      <td>1.397394</td>\n",
       "      <td>375.831897</td>\n",
       "      <td>1.827362</td>\n",
       "      <td>379.984674</td>\n",
       "      <td>242.095618</td>\n",
       "      <td>146662.860056</td>\n",
       "      <td>2.706840</td>\n",
       "      <td>6.045603</td>\n",
       "      <td>2017.169381</td>\n",
       "    </tr>\n",
       "    <tr>\n",
       "      <th>4.0</th>\n",
       "      <td>10.368321</td>\n",
       "      <td>1.345377e+07</td>\n",
       "      <td>91.635534</td>\n",
       "      <td>3.024809</td>\n",
       "      <td>2.991450</td>\n",
       "      <td>5.463602</td>\n",
       "      <td>55.930948</td>\n",
       "      <td>3.368321</td>\n",
       "      <td>0.003817</td>\n",
       "      <td>0.003817</td>\n",
       "      <td>...</td>\n",
       "      <td>3525.669847</td>\n",
       "      <td>0.946565</td>\n",
       "      <td>463.485804</td>\n",
       "      <td>1.362595</td>\n",
       "      <td>512.621951</td>\n",
       "      <td>248.663529</td>\n",
       "      <td>129364.513748</td>\n",
       "      <td>2.456107</td>\n",
       "      <td>6.583969</td>\n",
       "      <td>2017.223282</td>\n",
       "    </tr>\n",
       "    <tr>\n",
       "      <th>5.0</th>\n",
       "      <td>9.835722</td>\n",
       "      <td>1.363202e+07</td>\n",
       "      <td>96.163903</td>\n",
       "      <td>2.925028</td>\n",
       "      <td>2.973319</td>\n",
       "      <td>7.832780</td>\n",
       "      <td>54.839795</td>\n",
       "      <td>4.590959</td>\n",
       "      <td>0.002205</td>\n",
       "      <td>0.002205</td>\n",
       "      <td>...</td>\n",
       "      <td>4531.880926</td>\n",
       "      <td>0.764057</td>\n",
       "      <td>482.205273</td>\n",
       "      <td>0.875413</td>\n",
       "      <td>533.863296</td>\n",
       "      <td>261.597403</td>\n",
       "      <td>137475.497055</td>\n",
       "      <td>2.391400</td>\n",
       "      <td>6.401323</td>\n",
       "      <td>2017.147740</td>\n",
       "    </tr>\n",
       "  </tbody>\n",
       "</table>\n",
       "<p>5 rows × 24 columns</p>\n",
       "</div>"
      ],
      "text/plain": [
       "                total_images    last_price  total_area     rooms  \\\n",
       "cityCenters_km                                                     \n",
       "1.0                 9.918605  2.344232e+07  112.130000  3.220930   \n",
       "2.0                10.241667  1.885085e+07  103.079583  3.237500   \n",
       "3.0                10.853420  1.616331e+07   98.856482  3.114007   \n",
       "4.0                10.368321  1.345377e+07   91.635534  3.024809   \n",
       "5.0                 9.835722  1.363202e+07   96.163903  2.925028   \n",
       "\n",
       "                ceiling_height  floors_total  living_area     floor  \\\n",
       "cityCenters_km                                                        \n",
       "1.0                   3.075116      4.720930    69.733500  3.011628   \n",
       "2.0                   3.069167      4.745833    65.478616  3.012500   \n",
       "3.0                   3.093029      4.996743    61.141575  3.192182   \n",
       "4.0                   2.991450      5.463602    55.930948  3.368321   \n",
       "5.0                   2.973319      7.832780    54.839795  4.590959   \n",
       "\n",
       "                is_apartment    studio  ...  cityCenters_nearest  \\\n",
       "cityCenters_km                          ...                        \n",
       "1.0                 0.046512  0.000000  ...           617.255814   \n",
       "2.0                 0.008333  0.004167  ...          1493.300000   \n",
       "3.0                 0.000000  0.003257  ...          2449.048860   \n",
       "4.0                 0.003817  0.003817  ...          3525.669847   \n",
       "5.0                 0.002205  0.002205  ...          4531.880926   \n",
       "\n",
       "                parks_around3000  parks_nearest  ponds_around3000  \\\n",
       "cityCenters_km                                                      \n",
       "1.0                     1.906977     395.148649          2.488372   \n",
       "2.0                     1.804167     422.990196          2.508333   \n",
       "3.0                     1.397394     375.831897          1.827362   \n",
       "4.0                     0.946565     463.485804          1.362595   \n",
       "5.0                     0.764057     482.205273          0.875413   \n",
       "\n",
       "                ponds_nearest  days_exposition     metr_price   weekday  \\\n",
       "cityCenters_km                                                            \n",
       "1.0                278.546512       222.000000  187324.130319  2.290698   \n",
       "2.0                220.451883       293.859296  166603.755531  2.666667   \n",
       "3.0                379.984674       242.095618  146662.860056  2.706840   \n",
       "4.0                512.621951       248.663529  129364.513748  2.456107   \n",
       "5.0                533.863296       261.597403  137475.497055  2.391400   \n",
       "\n",
       "                   month         year  \n",
       "cityCenters_km                         \n",
       "1.0             7.127907  2017.081395  \n",
       "2.0             6.316667  2017.025000  \n",
       "3.0             6.045603  2017.169381  \n",
       "4.0             6.583969  2017.223282  \n",
       "5.0             6.401323  2017.147740  \n",
       "\n",
       "[5 rows x 24 columns]"
      ]
     },
     "execution_count": 64,
     "metadata": {},
     "output_type": "execute_result"
    }
   ],
   "source": [
    "df_new = df_new.groupby([\"cityCenters_km\"]).mean()\n",
    "df_new.head()"
   ]
  },
  {
   "cell_type": "code",
   "execution_count": 65,
   "metadata": {},
   "outputs": [
    {
     "data": {
      "text/html": [
       "<div>\n",
       "<style scoped>\n",
       "    .dataframe tbody tr th:only-of-type {\n",
       "        vertical-align: middle;\n",
       "    }\n",
       "\n",
       "    .dataframe tbody tr th {\n",
       "        vertical-align: top;\n",
       "    }\n",
       "\n",
       "    .dataframe thead th {\n",
       "        text-align: right;\n",
       "    }\n",
       "</style>\n",
       "<table border=\"1\" class=\"dataframe\">\n",
       "  <thead>\n",
       "    <tr style=\"text-align: right;\">\n",
       "      <th></th>\n",
       "      <th>total_images</th>\n",
       "      <th>metr_price</th>\n",
       "    </tr>\n",
       "    <tr>\n",
       "      <th>cityCenters_km</th>\n",
       "      <th></th>\n",
       "      <th></th>\n",
       "    </tr>\n",
       "  </thead>\n",
       "  <tbody>\n",
       "    <tr>\n",
       "      <th>1.0</th>\n",
       "      <td>9.918605</td>\n",
       "      <td>187324.130319</td>\n",
       "    </tr>\n",
       "    <tr>\n",
       "      <th>2.0</th>\n",
       "      <td>10.241667</td>\n",
       "      <td>166603.755531</td>\n",
       "    </tr>\n",
       "    <tr>\n",
       "      <th>3.0</th>\n",
       "      <td>10.853420</td>\n",
       "      <td>146662.860056</td>\n",
       "    </tr>\n",
       "    <tr>\n",
       "      <th>4.0</th>\n",
       "      <td>10.368321</td>\n",
       "      <td>129364.513748</td>\n",
       "    </tr>\n",
       "    <tr>\n",
       "      <th>5.0</th>\n",
       "      <td>9.835722</td>\n",
       "      <td>137475.497055</td>\n",
       "    </tr>\n",
       "    <tr>\n",
       "      <th>6.0</th>\n",
       "      <td>10.185956</td>\n",
       "      <td>146979.232519</td>\n",
       "    </tr>\n",
       "    <tr>\n",
       "      <th>7.0</th>\n",
       "      <td>9.936170</td>\n",
       "      <td>152277.893519</td>\n",
       "    </tr>\n",
       "    <tr>\n",
       "      <th>8.0</th>\n",
       "      <td>11.150246</td>\n",
       "      <td>141404.908508</td>\n",
       "    </tr>\n",
       "    <tr>\n",
       "      <th>9.0</th>\n",
       "      <td>8.992504</td>\n",
       "      <td>119904.146290</td>\n",
       "    </tr>\n",
       "    <tr>\n",
       "      <th>10.0</th>\n",
       "      <td>9.680697</td>\n",
       "      <td>110002.892041</td>\n",
       "    </tr>\n",
       "    <tr>\n",
       "      <th>11.0</th>\n",
       "      <td>9.673626</td>\n",
       "      <td>111651.976213</td>\n",
       "    </tr>\n",
       "    <tr>\n",
       "      <th>12.0</th>\n",
       "      <td>10.420680</td>\n",
       "      <td>106811.769432</td>\n",
       "    </tr>\n",
       "    <tr>\n",
       "      <th>13.0</th>\n",
       "      <td>10.780380</td>\n",
       "      <td>110187.243128</td>\n",
       "    </tr>\n",
       "    <tr>\n",
       "      <th>14.0</th>\n",
       "      <td>10.544803</td>\n",
       "      <td>107179.057142</td>\n",
       "    </tr>\n",
       "    <tr>\n",
       "      <th>15.0</th>\n",
       "      <td>10.340397</td>\n",
       "      <td>104989.614617</td>\n",
       "    </tr>\n",
       "    <tr>\n",
       "      <th>16.0</th>\n",
       "      <td>10.579869</td>\n",
       "      <td>101928.340531</td>\n",
       "    </tr>\n",
       "    <tr>\n",
       "      <th>17.0</th>\n",
       "      <td>9.865280</td>\n",
       "      <td>100085.601721</td>\n",
       "    </tr>\n",
       "    <tr>\n",
       "      <th>18.0</th>\n",
       "      <td>9.290262</td>\n",
       "      <td>94095.872357</td>\n",
       "    </tr>\n",
       "    <tr>\n",
       "      <th>19.0</th>\n",
       "      <td>9.965517</td>\n",
       "      <td>94831.953162</td>\n",
       "    </tr>\n",
       "    <tr>\n",
       "      <th>20.0</th>\n",
       "      <td>10.036585</td>\n",
       "      <td>95434.377295</td>\n",
       "    </tr>\n",
       "    <tr>\n",
       "      <th>21.0</th>\n",
       "      <td>9.987805</td>\n",
       "      <td>107164.670097</td>\n",
       "    </tr>\n",
       "    <tr>\n",
       "      <th>22.0</th>\n",
       "      <td>8.958974</td>\n",
       "      <td>91492.688149</td>\n",
       "    </tr>\n",
       "    <tr>\n",
       "      <th>23.0</th>\n",
       "      <td>10.151079</td>\n",
       "      <td>88714.696974</td>\n",
       "    </tr>\n",
       "    <tr>\n",
       "      <th>24.0</th>\n",
       "      <td>9.133333</td>\n",
       "      <td>92720.641577</td>\n",
       "    </tr>\n",
       "    <tr>\n",
       "      <th>25.0</th>\n",
       "      <td>9.136364</td>\n",
       "      <td>82440.343912</td>\n",
       "    </tr>\n",
       "    <tr>\n",
       "      <th>26.0</th>\n",
       "      <td>9.266667</td>\n",
       "      <td>91136.018511</td>\n",
       "    </tr>\n",
       "    <tr>\n",
       "      <th>27.0</th>\n",
       "      <td>15.666667</td>\n",
       "      <td>75171.911041</td>\n",
       "    </tr>\n",
       "    <tr>\n",
       "      <th>28.0</th>\n",
       "      <td>9.500000</td>\n",
       "      <td>132115.709459</td>\n",
       "    </tr>\n",
       "    <tr>\n",
       "      <th>29.0</th>\n",
       "      <td>6.300000</td>\n",
       "      <td>81840.638722</td>\n",
       "    </tr>\n",
       "    <tr>\n",
       "      <th>30.0</th>\n",
       "      <td>14.666667</td>\n",
       "      <td>62482.404228</td>\n",
       "    </tr>\n",
       "  </tbody>\n",
       "</table>\n",
       "</div>"
      ],
      "text/plain": [
       "                total_images     metr_price\n",
       "cityCenters_km                             \n",
       "1.0                 9.918605  187324.130319\n",
       "2.0                10.241667  166603.755531\n",
       "3.0                10.853420  146662.860056\n",
       "4.0                10.368321  129364.513748\n",
       "5.0                 9.835722  137475.497055\n",
       "6.0                10.185956  146979.232519\n",
       "7.0                 9.936170  152277.893519\n",
       "8.0                11.150246  141404.908508\n",
       "9.0                 8.992504  119904.146290\n",
       "10.0                9.680697  110002.892041\n",
       "11.0                9.673626  111651.976213\n",
       "12.0               10.420680  106811.769432\n",
       "13.0               10.780380  110187.243128\n",
       "14.0               10.544803  107179.057142\n",
       "15.0               10.340397  104989.614617\n",
       "16.0               10.579869  101928.340531\n",
       "17.0                9.865280  100085.601721\n",
       "18.0                9.290262   94095.872357\n",
       "19.0                9.965517   94831.953162\n",
       "20.0               10.036585   95434.377295\n",
       "21.0                9.987805  107164.670097\n",
       "22.0                8.958974   91492.688149\n",
       "23.0               10.151079   88714.696974\n",
       "24.0                9.133333   92720.641577\n",
       "25.0                9.136364   82440.343912\n",
       "26.0                9.266667   91136.018511\n",
       "27.0               15.666667   75171.911041\n",
       "28.0                9.500000  132115.709459\n",
       "29.0                6.300000   81840.638722\n",
       "30.0               14.666667   62482.404228"
      ]
     },
     "execution_count": 65,
     "metadata": {},
     "output_type": "execute_result"
    }
   ],
   "source": [
    "df_s = df_new.iloc[:, [0,20]]\n",
    "df_s.head(30)\n"
   ]
  },
  {
   "cell_type": "code",
   "execution_count": 103,
   "metadata": {
    "scrolled": false
   },
   "outputs": [
    {
     "data": {
      "image/png": "[encoded data removed]",
      "text/plain": [
       "<Figure size 1440x576 with 1 Axes>"
      ]
     },
     "metadata": {
      "needs_background": "light"
     },
     "output_type": "display_data"
    }
   ],
   "source": [
    "df[df['locality_name'] == 'Санкт-Петербург'].groupby('cityCenters_km')['last_price'].mean().plot(figsize = (20, 8))\n",
    "plt.title('Зависимость стоимости жилья от удалённости от центра', fontsize=14, fontweight=\"bold\")\n",
    "plt.xlabel(\"расстояние до центра (км)\", fontsize=12)\n",
    "plt.ylabel(\"стоимость объекта\", fontsize=12);"
   ]
  },
  {
   "cell_type": "markdown",
   "metadata": {},
   "source": [
    "На графике чётко видно,что при удалении от центра стоимость квадратного метра жилья снижается. С первого по пятый километр цена снижается резко, с пятого по десятый километр - снижается цена более плавно. Затем цена стабилизируется до двадцатьпятого километра."
   ]
  },
  {
   "cell_type": "markdown",
   "metadata": {},
   "source": [
    "## Общий вывод.\n",
    "\n",
    "Исследовав данные по заявленным параметрам, делаем следующие выводы:\n",
    "1. В предложенном архиве находятся данные о продаваемых в Санкт-Петербурге и Ленинградской области квартирах и домах, продававшихся с января 2015 по июль 2019 года.\n",
    "2. Данные имеют пропуски,некоторые из которых удалось заполнить средними значениями, медианой или булевыми значениями (да/нет)\n",
    "3. Данные подробно исследованы, все диаграмы снабжены комментариями.\n",
    "4. Недвижимость в Санкт-Петербурге и Ленинградской области весьма ликвидна, квартиры продаются быстро: оснорвная масса - от 20 до 220 дней.\n",
    "5. До 2018 года цены на квартиры были подвержены сезонным колебаниям (летом квартиры продавались дороже).С осени 2018 года сезонностьне прослеживается.\n",
    "6.  Больше всего объявлений подано на продажу жилья в таких населённых пунктах как Санкт-Петербург,поселок Мурино,\tпоселок Шушары, Всеволожск,\tПушкин,\tКолпино, поселок Парголово, Гатчина, деревня Кудрово, Выборг. Средняя стоимость квадратного метра жилья в этих населённых пунктах - от 114830.45 руб (Санкт-Петербург) до 68719.32 руб (Всеволожск).\n",
    "7. Топ-10 самых дорогих по стоимости 1 м2 жилья открывает Зеленогорск\t(115122.79 руб.), а завершает Мурино (92722.70 руб.). Самое дешёвое жильё - в Ленинградской облапсти (поселок Житково, деревня Ям-Тесово, деревня Сижно, поселок Тёсово-4, \tдеревня Малая Романовка, поселок Совхозный, деревня Выскатка, деревня Вахнова Кара, поселок станции Свирь, деревня Старополье). Здесь стоимость 1 м2 жилья составляет от 15 до 11, 5 тыс. рублей.\n",
    "8.  по мере удалённости от центара стоимость 1 м2 жилья снижается в среднем на 2000 руб за 1 м2 - первые 4 км.; с 5 по 7 км удалённости от центра стоимость 1 м2 немного возрастает, затем продолжает снижаться.\n",
    "\n",
    "Исходя из выявленных зависимостей, можно предложить заказчику следующие рекомендации:\n",
    "- учесть выводы исследования при установке следующих параметров: срока размещения объявления, стоимости 1 м2 продаваемого жилья, обязательных для заполнгения граф в объявлении о продаже квартир и т.д. Это позволит автоматизированной системе отследить аномалии и мошенническую деятельность.\n",
    "\n"
   ]
  }
 ],
 "metadata": {
  "ExecuteTimeLog": [
   {
    "duration": 652,
    "start_time": "2023-01-07T12:15:08.661Z"
   },
   {
    "duration": 101,
    "start_time": "2023-01-07T12:15:34.023Z"
   },
   {
    "duration": 122,
    "start_time": "2023-01-07T12:17:44.539Z"
   },
   {
    "duration": 14,
    "start_time": "2023-01-07T12:19:06.714Z"
   },
   {
    "duration": 2237,
    "start_time": "2023-01-07T12:45:14.983Z"
   },
   {
    "duration": 19,
    "start_time": "2023-01-07T12:51:36.823Z"
   },
   {
    "duration": 8,
    "start_time": "2023-01-07T12:56:03.138Z"
   },
   {
    "duration": 7,
    "start_time": "2023-01-07T13:03:10.202Z"
   },
   {
    "duration": 8,
    "start_time": "2023-01-07T13:03:31.398Z"
   },
   {
    "duration": 502,
    "start_time": "2023-01-07T13:04:14.139Z"
   },
   {
    "duration": 2065,
    "start_time": "2023-01-07T13:04:14.643Z"
   },
   {
    "duration": 16,
    "start_time": "2023-01-07T13:04:16.709Z"
   },
   {
    "duration": 8,
    "start_time": "2023-01-07T13:04:16.726Z"
   },
   {
    "duration": 50,
    "start_time": "2023-01-07T13:09:44.563Z"
   },
   {
    "duration": 42,
    "start_time": "2023-01-07T13:10:22.498Z"
   },
   {
    "duration": 7,
    "start_time": "2023-01-07T13:10:46.130Z"
   },
   {
    "duration": 471,
    "start_time": "2023-01-07T13:11:25.673Z"
   },
   {
    "duration": 2000,
    "start_time": "2023-01-07T13:11:26.145Z"
   },
   {
    "duration": 15,
    "start_time": "2023-01-07T13:11:28.146Z"
   },
   {
    "duration": 11,
    "start_time": "2023-01-07T13:11:28.162Z"
   },
   {
    "duration": 4,
    "start_time": "2023-01-07T13:19:05.655Z"
   },
   {
    "duration": 8,
    "start_time": "2023-01-07T13:19:23.587Z"
   },
   {
    "duration": 3,
    "start_time": "2023-01-07T13:28:32.763Z"
   },
   {
    "duration": 4,
    "start_time": "2023-01-07T13:28:58.232Z"
   },
   {
    "duration": 4,
    "start_time": "2023-01-07T13:29:04.213Z"
   },
   {
    "duration": 9,
    "start_time": "2023-01-07T13:29:10.257Z"
   },
   {
    "duration": 6,
    "start_time": "2023-01-07T13:30:39.737Z"
   },
   {
    "duration": 41,
    "start_time": "2023-01-07T13:49:44.928Z"
   },
   {
    "duration": 9,
    "start_time": "2023-01-07T13:51:05.737Z"
   },
   {
    "duration": 497,
    "start_time": "2023-01-07T13:52:33.777Z"
   },
   {
    "duration": 1931,
    "start_time": "2023-01-07T13:52:34.276Z"
   },
   {
    "duration": 18,
    "start_time": "2023-01-07T13:52:36.209Z"
   },
   {
    "duration": 13,
    "start_time": "2023-01-07T13:52:36.229Z"
   },
   {
    "duration": 5,
    "start_time": "2023-01-07T13:52:36.244Z"
   },
   {
    "duration": 7,
    "start_time": "2023-01-07T13:52:36.251Z"
   },
   {
    "duration": 11,
    "start_time": "2023-01-07T13:52:36.260Z"
   },
   {
    "duration": 112,
    "start_time": "2023-01-07T14:02:26.729Z"
   },
   {
    "duration": 122,
    "start_time": "2023-01-07T14:06:05.653Z"
   },
   {
    "duration": 539,
    "start_time": "2023-01-07T14:07:00.700Z"
   },
   {
    "duration": 1959,
    "start_time": "2023-01-07T14:07:01.241Z"
   },
   {
    "duration": 24,
    "start_time": "2023-01-07T14:07:03.202Z"
   },
   {
    "duration": 8,
    "start_time": "2023-01-07T14:07:03.229Z"
   },
   {
    "duration": 3,
    "start_time": "2023-01-07T14:07:03.239Z"
   },
   {
    "duration": 4,
    "start_time": "2023-01-07T14:07:03.244Z"
   },
   {
    "duration": 39,
    "start_time": "2023-01-07T14:07:44.102Z"
   },
   {
    "duration": 34,
    "start_time": "2023-01-07T14:08:42.998Z"
   },
   {
    "duration": 47,
    "start_time": "2023-01-07T14:16:17.974Z"
   },
   {
    "duration": 72,
    "start_time": "2023-01-07T14:16:31.312Z"
   },
   {
    "duration": 9,
    "start_time": "2023-01-07T14:16:45.606Z"
   },
   {
    "duration": 13,
    "start_time": "2023-01-07T14:17:24.413Z"
   },
   {
    "duration": 3,
    "start_time": "2023-01-07T14:18:43.782Z"
   },
   {
    "duration": 7,
    "start_time": "2023-01-07T14:19:09.640Z"
   },
   {
    "duration": 43,
    "start_time": "2023-01-07T14:19:42.057Z"
   },
   {
    "duration": 536,
    "start_time": "2023-01-07T14:21:40.298Z"
   },
   {
    "duration": 2050,
    "start_time": "2023-01-07T14:21:40.836Z"
   },
   {
    "duration": 15,
    "start_time": "2023-01-07T14:21:42.888Z"
   },
   {
    "duration": 7,
    "start_time": "2023-01-07T14:21:42.916Z"
   },
   {
    "duration": 4,
    "start_time": "2023-01-07T14:21:42.926Z"
   },
   {
    "duration": 5,
    "start_time": "2023-01-07T14:21:42.932Z"
   },
   {
    "duration": 5,
    "start_time": "2023-01-07T14:21:42.938Z"
   },
   {
    "duration": 4,
    "start_time": "2023-01-07T14:21:42.944Z"
   },
   {
    "duration": 4,
    "start_time": "2023-01-07T14:21:42.950Z"
   },
   {
    "duration": 66,
    "start_time": "2023-01-07T14:21:42.956Z"
   },
   {
    "duration": 6,
    "start_time": "2023-01-07T14:22:01.537Z"
   },
   {
    "duration": 508,
    "start_time": "2023-01-07T14:23:19.781Z"
   },
   {
    "duration": 2034,
    "start_time": "2023-01-07T14:23:20.291Z"
   },
   {
    "duration": 15,
    "start_time": "2023-01-07T14:23:22.327Z"
   },
   {
    "duration": 8,
    "start_time": "2023-01-07T14:23:22.343Z"
   },
   {
    "duration": 7,
    "start_time": "2023-01-07T14:23:22.352Z"
   },
   {
    "duration": 6,
    "start_time": "2023-01-07T14:23:22.360Z"
   },
   {
    "duration": 6,
    "start_time": "2023-01-07T14:23:22.367Z"
   },
   {
    "duration": 5,
    "start_time": "2023-01-07T14:23:22.374Z"
   },
   {
    "duration": 7,
    "start_time": "2023-01-07T14:23:22.380Z"
   },
   {
    "duration": 3,
    "start_time": "2023-01-07T14:23:22.417Z"
   },
   {
    "duration": 33,
    "start_time": "2023-01-07T14:23:33.852Z"
   },
   {
    "duration": 12,
    "start_time": "2023-01-07T14:23:50.969Z"
   },
   {
    "duration": 8,
    "start_time": "2023-01-07T14:23:58.881Z"
   },
   {
    "duration": 35,
    "start_time": "2023-01-07T14:24:25.428Z"
   },
   {
    "duration": 34,
    "start_time": "2023-01-07T14:25:19.406Z"
   },
   {
    "duration": 5,
    "start_time": "2023-01-07T14:28:17.563Z"
   },
   {
    "duration": 64,
    "start_time": "2023-01-07T14:36:35.929Z"
   },
   {
    "duration": 15,
    "start_time": "2023-01-07T14:37:02.100Z"
   },
   {
    "duration": 4,
    "start_time": "2023-01-08T09:34:21.045Z"
   },
   {
    "duration": 40,
    "start_time": "2023-01-08T09:37:30.167Z"
   },
   {
    "duration": 380,
    "start_time": "2023-01-08T09:39:07.702Z"
   },
   {
    "duration": 182,
    "start_time": "2023-01-08T09:39:16.934Z"
   },
   {
    "duration": 31,
    "start_time": "2023-01-08T09:40:11.023Z"
   },
   {
    "duration": 3,
    "start_time": "2023-01-08T09:43:14.785Z"
   },
   {
    "duration": 2,
    "start_time": "2023-01-08T09:43:23.258Z"
   },
   {
    "duration": 3,
    "start_time": "2023-01-08T09:43:44.898Z"
   },
   {
    "duration": 5,
    "start_time": "2023-01-08T09:46:54.624Z"
   },
   {
    "duration": 1136,
    "start_time": "2023-01-08T09:52:03.119Z"
   },
   {
    "duration": 11,
    "start_time": "2023-01-08T09:52:12.985Z"
   },
   {
    "duration": 2,
    "start_time": "2023-01-08T09:54:10.504Z"
   },
   {
    "duration": 5,
    "start_time": "2023-01-08T10:46:12.280Z"
   },
   {
    "duration": 7,
    "start_time": "2023-01-08T10:46:31.745Z"
   },
   {
    "duration": 375,
    "start_time": "2023-01-08T10:47:29.718Z"
   },
   {
    "duration": 123,
    "start_time": "2023-01-08T10:47:30.095Z"
   },
   {
    "duration": 4,
    "start_time": "2023-01-08T10:47:30.220Z"
   },
   {
    "duration": 2184,
    "start_time": "2023-01-08T10:47:30.225Z"
   },
   {
    "duration": 14,
    "start_time": "2023-01-08T10:47:32.410Z"
   },
   {
    "duration": 7,
    "start_time": "2023-01-08T10:47:32.425Z"
   },
   {
    "duration": 9,
    "start_time": "2023-01-08T10:47:32.433Z"
   },
   {
    "duration": 6,
    "start_time": "2023-01-08T10:47:32.443Z"
   },
   {
    "duration": 6,
    "start_time": "2023-01-08T10:47:32.450Z"
   },
   {
    "duration": 12,
    "start_time": "2023-01-08T10:47:32.459Z"
   },
   {
    "duration": 2,
    "start_time": "2023-01-08T10:47:32.472Z"
   },
   {
    "duration": 5,
    "start_time": "2023-01-08T10:47:32.476Z"
   },
   {
    "duration": 7,
    "start_time": "2023-01-08T10:47:32.482Z"
   },
   {
    "duration": 24,
    "start_time": "2023-01-08T10:47:32.490Z"
   },
   {
    "duration": 8,
    "start_time": "2023-01-08T10:49:38.708Z"
   },
   {
    "duration": 364,
    "start_time": "2023-01-08T10:50:33.228Z"
   },
   {
    "duration": 136,
    "start_time": "2023-01-08T10:50:33.594Z"
   },
   {
    "duration": 3,
    "start_time": "2023-01-08T10:50:33.731Z"
   },
   {
    "duration": 1990,
    "start_time": "2023-01-08T10:50:33.736Z"
   },
   {
    "duration": 15,
    "start_time": "2023-01-08T10:50:35.728Z"
   },
   {
    "duration": 7,
    "start_time": "2023-01-08T10:50:35.744Z"
   },
   {
    "duration": 4,
    "start_time": "2023-01-08T10:50:35.752Z"
   },
   {
    "duration": 5,
    "start_time": "2023-01-08T10:50:35.758Z"
   },
   {
    "duration": 10,
    "start_time": "2023-01-08T10:50:35.765Z"
   },
   {
    "duration": 11,
    "start_time": "2023-01-08T10:50:35.777Z"
   },
   {
    "duration": 2,
    "start_time": "2023-01-08T10:50:35.790Z"
   },
   {
    "duration": 6,
    "start_time": "2023-01-08T10:50:35.793Z"
   },
   {
    "duration": 106,
    "start_time": "2023-01-08T11:01:02.825Z"
   },
   {
    "duration": 71,
    "start_time": "2023-01-08T11:07:18.129Z"
   },
   {
    "duration": 2,
    "start_time": "2023-01-08T11:10:34.618Z"
   },
   {
    "duration": 80,
    "start_time": "2023-01-08T11:10:43.191Z"
   },
   {
    "duration": 544,
    "start_time": "2023-01-08T11:17:44.168Z"
   },
   {
    "duration": 7,
    "start_time": "2023-01-08T11:18:45.773Z"
   },
   {
    "duration": 2,
    "start_time": "2023-01-08T11:18:49.285Z"
   },
   {
    "duration": 7,
    "start_time": "2023-01-08T11:19:09.451Z"
   },
   {
    "duration": 12,
    "start_time": "2023-01-08T11:19:36.049Z"
   },
   {
    "duration": 8,
    "start_time": "2023-01-08T11:23:30.505Z"
   },
   {
    "duration": 5,
    "start_time": "2023-01-08T11:25:45.820Z"
   },
   {
    "duration": 6,
    "start_time": "2023-01-08T11:38:07.116Z"
   },
   {
    "duration": 6,
    "start_time": "2023-01-08T11:38:58.548Z"
   },
   {
    "duration": 343,
    "start_time": "2023-01-08T11:39:48.151Z"
   },
   {
    "duration": 117,
    "start_time": "2023-01-08T11:39:48.496Z"
   },
   {
    "duration": 5,
    "start_time": "2023-01-08T11:39:48.614Z"
   },
   {
    "duration": 1921,
    "start_time": "2023-01-08T11:39:48.620Z"
   },
   {
    "duration": 14,
    "start_time": "2023-01-08T11:39:50.544Z"
   },
   {
    "duration": 9,
    "start_time": "2023-01-08T11:39:50.559Z"
   },
   {
    "duration": 4,
    "start_time": "2023-01-08T11:39:50.570Z"
   },
   {
    "duration": 11,
    "start_time": "2023-01-08T11:39:50.575Z"
   },
   {
    "duration": 8,
    "start_time": "2023-01-08T11:39:50.587Z"
   },
   {
    "duration": 21,
    "start_time": "2023-01-08T11:39:50.597Z"
   },
   {
    "duration": 7,
    "start_time": "2023-01-08T11:39:50.620Z"
   },
   {
    "duration": 6,
    "start_time": "2023-01-08T11:39:50.628Z"
   },
   {
    "duration": 4,
    "start_time": "2023-01-08T11:39:50.636Z"
   },
   {
    "duration": 3,
    "start_time": "2023-01-08T11:39:50.642Z"
   },
   {
    "duration": 7,
    "start_time": "2023-01-08T11:44:07.980Z"
   },
   {
    "duration": 387,
    "start_time": "2023-01-08T11:46:12.620Z"
   },
   {
    "duration": 119,
    "start_time": "2023-01-08T11:46:13.009Z"
   },
   {
    "duration": 3,
    "start_time": "2023-01-08T11:46:13.129Z"
   },
   {
    "duration": 1887,
    "start_time": "2023-01-08T11:46:13.134Z"
   },
   {
    "duration": 14,
    "start_time": "2023-01-08T11:46:15.023Z"
   },
   {
    "duration": 7,
    "start_time": "2023-01-08T11:46:15.039Z"
   },
   {
    "duration": 6,
    "start_time": "2023-01-08T11:46:15.048Z"
   },
   {
    "duration": 7,
    "start_time": "2023-01-08T11:46:15.055Z"
   },
   {
    "duration": 8,
    "start_time": "2023-01-08T11:46:15.063Z"
   },
   {
    "duration": 20,
    "start_time": "2023-01-08T11:46:15.072Z"
   },
   {
    "duration": 6,
    "start_time": "2023-01-08T11:46:15.094Z"
   },
   {
    "duration": 13,
    "start_time": "2023-01-08T11:46:15.102Z"
   },
   {
    "duration": 12,
    "start_time": "2023-01-08T11:46:15.116Z"
   },
   {
    "duration": 6,
    "start_time": "2023-01-08T11:46:15.130Z"
   },
   {
    "duration": 9,
    "start_time": "2023-01-08T12:45:43.294Z"
   },
   {
    "duration": 5,
    "start_time": "2023-01-08T13:42:46.964Z"
   },
   {
    "duration": 64,
    "start_time": "2023-01-08T13:56:08.676Z"
   },
   {
    "duration": 6,
    "start_time": "2023-01-08T13:56:40.463Z"
   },
   {
    "duration": 8,
    "start_time": "2023-01-08T14:10:16.360Z"
   },
   {
    "duration": 323,
    "start_time": "2023-01-08T14:10:36.568Z"
   },
   {
    "duration": 136,
    "start_time": "2023-01-08T14:10:36.893Z"
   },
   {
    "duration": 4,
    "start_time": "2023-01-08T14:10:37.031Z"
   },
   {
    "duration": 1950,
    "start_time": "2023-01-08T14:10:37.037Z"
   },
   {
    "duration": 14,
    "start_time": "2023-01-08T14:10:38.988Z"
   },
   {
    "duration": 15,
    "start_time": "2023-01-08T14:10:39.003Z"
   },
   {
    "duration": 15,
    "start_time": "2023-01-08T14:10:39.020Z"
   },
   {
    "duration": 5,
    "start_time": "2023-01-08T14:10:39.036Z"
   },
   {
    "duration": 6,
    "start_time": "2023-01-08T14:10:39.042Z"
   },
   {
    "duration": 16,
    "start_time": "2023-01-08T14:10:39.050Z"
   },
   {
    "duration": 7,
    "start_time": "2023-01-08T14:10:39.068Z"
   },
   {
    "duration": 17,
    "start_time": "2023-01-08T14:10:39.076Z"
   },
   {
    "duration": 6,
    "start_time": "2023-01-08T14:10:39.095Z"
   },
   {
    "duration": 13,
    "start_time": "2023-01-08T14:10:39.103Z"
   },
   {
    "duration": 16,
    "start_time": "2023-01-08T14:10:39.117Z"
   },
   {
    "duration": 5,
    "start_time": "2023-01-08T14:10:39.134Z"
   },
   {
    "duration": 9,
    "start_time": "2023-01-08T14:14:18.859Z"
   },
   {
    "duration": 9,
    "start_time": "2023-01-08T14:18:10.086Z"
   },
   {
    "duration": 89,
    "start_time": "2023-01-08T14:46:36.689Z"
   },
   {
    "duration": 2,
    "start_time": "2023-01-08T14:48:53.924Z"
   },
   {
    "duration": 409,
    "start_time": "2023-01-08T14:49:10.996Z"
   },
   {
    "duration": 129,
    "start_time": "2023-01-08T14:49:11.406Z"
   },
   {
    "duration": 4,
    "start_time": "2023-01-08T14:49:11.536Z"
   },
   {
    "duration": 1921,
    "start_time": "2023-01-08T14:49:11.542Z"
   },
   {
    "duration": 13,
    "start_time": "2023-01-08T14:49:13.465Z"
   },
   {
    "duration": 7,
    "start_time": "2023-01-08T14:49:13.480Z"
   },
   {
    "duration": 3,
    "start_time": "2023-01-08T14:49:13.489Z"
   },
   {
    "duration": 4,
    "start_time": "2023-01-08T14:49:13.513Z"
   },
   {
    "duration": 8,
    "start_time": "2023-01-08T14:49:13.518Z"
   },
   {
    "duration": 12,
    "start_time": "2023-01-08T14:49:13.528Z"
   },
   {
    "duration": 6,
    "start_time": "2023-01-08T14:49:13.542Z"
   },
   {
    "duration": 13,
    "start_time": "2023-01-08T14:49:13.550Z"
   },
   {
    "duration": 7,
    "start_time": "2023-01-08T14:49:13.564Z"
   },
   {
    "duration": 10,
    "start_time": "2023-01-08T14:49:13.573Z"
   },
   {
    "duration": 5,
    "start_time": "2023-01-08T14:49:13.612Z"
   },
   {
    "duration": 14,
    "start_time": "2023-01-08T14:49:13.619Z"
   },
   {
    "duration": 5,
    "start_time": "2023-01-08T14:49:13.635Z"
   },
   {
    "duration": 10,
    "start_time": "2023-01-08T14:50:09.159Z"
   },
   {
    "duration": 45,
    "start_time": "2023-01-08T14:53:02.995Z"
   },
   {
    "duration": 9,
    "start_time": "2023-01-08T14:53:10.178Z"
   },
   {
    "duration": 4,
    "start_time": "2023-01-08T15:10:37.976Z"
   },
   {
    "duration": 15,
    "start_time": "2023-01-08T15:10:58.014Z"
   },
   {
    "duration": 6,
    "start_time": "2023-01-08T15:12:38.725Z"
   },
   {
    "duration": 12,
    "start_time": "2023-01-08T15:19:03.872Z"
   },
   {
    "duration": 67,
    "start_time": "2023-01-08T15:19:12.772Z"
   },
   {
    "duration": 8,
    "start_time": "2023-01-08T15:21:03.134Z"
   },
   {
    "duration": 12,
    "start_time": "2023-01-08T15:21:56.097Z"
   },
   {
    "duration": 42,
    "start_time": "2023-01-08T17:22:58.118Z"
   },
   {
    "duration": 6,
    "start_time": "2023-01-08T17:24:47.057Z"
   },
   {
    "duration": 6,
    "start_time": "2023-01-08T17:25:31.257Z"
   },
   {
    "duration": 387,
    "start_time": "2023-01-08T17:25:55.930Z"
   },
   {
    "duration": 374,
    "start_time": "2023-01-08T17:25:56.319Z"
   },
   {
    "duration": 4,
    "start_time": "2023-01-08T17:25:56.695Z"
   },
   {
    "duration": 2306,
    "start_time": "2023-01-08T17:25:56.701Z"
   },
   {
    "duration": 16,
    "start_time": "2023-01-08T17:25:59.009Z"
   },
   {
    "duration": 8,
    "start_time": "2023-01-08T17:25:59.026Z"
   },
   {
    "duration": 4,
    "start_time": "2023-01-08T17:25:59.035Z"
   },
   {
    "duration": 6,
    "start_time": "2023-01-08T17:25:59.040Z"
   },
   {
    "duration": 7,
    "start_time": "2023-01-08T17:25:59.047Z"
   },
   {
    "duration": 14,
    "start_time": "2023-01-08T17:25:59.056Z"
   },
   {
    "duration": 7,
    "start_time": "2023-01-08T17:25:59.072Z"
   },
   {
    "duration": 35,
    "start_time": "2023-01-08T17:25:59.082Z"
   },
   {
    "duration": 8,
    "start_time": "2023-01-08T17:25:59.119Z"
   },
   {
    "duration": 10,
    "start_time": "2023-01-08T17:25:59.128Z"
   },
   {
    "duration": 45,
    "start_time": "2023-01-08T17:25:59.140Z"
   },
   {
    "duration": 28,
    "start_time": "2023-01-08T17:25:59.187Z"
   },
   {
    "duration": 5,
    "start_time": "2023-01-08T17:25:59.216Z"
   },
   {
    "duration": 4,
    "start_time": "2023-01-08T17:25:59.223Z"
   },
   {
    "duration": 5,
    "start_time": "2023-01-08T17:27:22.172Z"
   },
   {
    "duration": 5,
    "start_time": "2023-01-08T17:27:33.936Z"
   },
   {
    "duration": 71,
    "start_time": "2023-01-08T17:27:59.335Z"
   },
   {
    "duration": 46,
    "start_time": "2023-01-08T17:31:44.969Z"
   },
   {
    "duration": 123,
    "start_time": "2023-01-08T17:34:52.640Z"
   },
   {
    "duration": 6,
    "start_time": "2023-01-08T17:37:08.095Z"
   },
   {
    "duration": 10,
    "start_time": "2023-01-08T17:38:27.692Z"
   },
   {
    "duration": 4,
    "start_time": "2023-01-08T17:55:48.478Z"
   },
   {
    "duration": 10,
    "start_time": "2023-01-08T17:56:51.211Z"
   },
   {
    "duration": 78,
    "start_time": "2023-01-08T18:52:44.924Z"
   },
   {
    "duration": 434,
    "start_time": "2023-01-09T20:03:50.667Z"
   },
   {
    "duration": 210,
    "start_time": "2023-01-09T20:03:51.104Z"
   },
   {
    "duration": 5,
    "start_time": "2023-01-09T20:03:51.316Z"
   },
   {
    "duration": 3044,
    "start_time": "2023-01-09T20:03:51.324Z"
   },
   {
    "duration": 26,
    "start_time": "2023-01-09T20:03:54.371Z"
   },
   {
    "duration": 14,
    "start_time": "2023-01-09T20:03:54.399Z"
   },
   {
    "duration": 11,
    "start_time": "2023-01-09T20:03:54.415Z"
   },
   {
    "duration": 8,
    "start_time": "2023-01-09T20:03:54.428Z"
   },
   {
    "duration": 22,
    "start_time": "2023-01-09T20:03:54.438Z"
   },
   {
    "duration": 16,
    "start_time": "2023-01-09T20:03:54.463Z"
   },
   {
    "duration": 13,
    "start_time": "2023-01-09T20:03:54.481Z"
   },
   {
    "duration": 15,
    "start_time": "2023-01-09T20:03:54.496Z"
   },
   {
    "duration": 10,
    "start_time": "2023-01-09T20:03:54.513Z"
   },
   {
    "duration": 46,
    "start_time": "2023-01-09T20:03:54.525Z"
   },
   {
    "duration": 86,
    "start_time": "2023-01-09T20:03:54.573Z"
   },
   {
    "duration": 10,
    "start_time": "2023-01-09T20:03:54.661Z"
   },
   {
    "duration": 5,
    "start_time": "2023-01-09T20:03:54.673Z"
   },
   {
    "duration": 100,
    "start_time": "2023-01-09T20:03:54.680Z"
   },
   {
    "duration": 0,
    "start_time": "2023-01-09T20:03:54.782Z"
   },
   {
    "duration": 0,
    "start_time": "2023-01-09T20:03:54.783Z"
   },
   {
    "duration": 8,
    "start_time": "2023-01-09T20:06:26.604Z"
   },
   {
    "duration": 52,
    "start_time": "2023-01-11T08:49:29.625Z"
   },
   {
    "duration": 449,
    "start_time": "2023-01-11T08:49:50.746Z"
   },
   {
    "duration": 717,
    "start_time": "2023-01-11T08:49:51.197Z"
   },
   {
    "duration": 5,
    "start_time": "2023-01-11T08:49:51.916Z"
   },
   {
    "duration": 2552,
    "start_time": "2023-01-11T08:49:51.924Z"
   },
   {
    "duration": 18,
    "start_time": "2023-01-11T08:49:54.479Z"
   },
   {
    "duration": 33,
    "start_time": "2023-01-11T08:49:54.499Z"
   },
   {
    "duration": 10,
    "start_time": "2023-01-11T08:49:54.534Z"
   },
   {
    "duration": 27,
    "start_time": "2023-01-11T08:49:54.546Z"
   },
   {
    "duration": 30,
    "start_time": "2023-01-11T08:49:54.575Z"
   },
   {
    "duration": 43,
    "start_time": "2023-01-11T08:49:54.608Z"
   },
   {
    "duration": 17,
    "start_time": "2023-01-11T08:49:54.653Z"
   },
   {
    "duration": 30,
    "start_time": "2023-01-11T08:49:54.672Z"
   },
   {
    "duration": 27,
    "start_time": "2023-01-11T08:49:54.704Z"
   },
   {
    "duration": 32,
    "start_time": "2023-01-11T08:49:54.733Z"
   },
   {
    "duration": 70,
    "start_time": "2023-01-11T08:49:54.767Z"
   },
   {
    "duration": 10,
    "start_time": "2023-01-11T08:49:54.839Z"
   },
   {
    "duration": 22,
    "start_time": "2023-01-11T08:49:54.851Z"
   },
   {
    "duration": 89,
    "start_time": "2023-01-11T08:49:54.874Z"
   },
   {
    "duration": 0,
    "start_time": "2023-01-11T08:49:54.964Z"
   },
   {
    "duration": 0,
    "start_time": "2023-01-11T08:49:54.966Z"
   },
   {
    "duration": 2,
    "start_time": "2023-01-11T08:50:09.446Z"
   },
   {
    "duration": 47,
    "start_time": "2023-01-15T07:38:59.088Z"
   },
   {
    "duration": 377,
    "start_time": "2023-01-15T07:40:29.408Z"
   },
   {
    "duration": 351,
    "start_time": "2023-01-15T07:40:29.788Z"
   },
   {
    "duration": 4,
    "start_time": "2023-01-15T07:40:30.141Z"
   },
   {
    "duration": 2205,
    "start_time": "2023-01-15T07:40:30.147Z"
   },
   {
    "duration": 25,
    "start_time": "2023-01-15T07:40:32.353Z"
   },
   {
    "duration": 9,
    "start_time": "2023-01-15T07:40:32.380Z"
   },
   {
    "duration": 7,
    "start_time": "2023-01-15T07:40:32.390Z"
   },
   {
    "duration": 13,
    "start_time": "2023-01-15T07:40:32.399Z"
   },
   {
    "duration": 8,
    "start_time": "2023-01-15T07:40:32.414Z"
   },
   {
    "duration": 18,
    "start_time": "2023-01-15T07:40:32.425Z"
   },
   {
    "duration": 8,
    "start_time": "2023-01-15T07:40:32.445Z"
   },
   {
    "duration": 23,
    "start_time": "2023-01-15T07:40:32.455Z"
   },
   {
    "duration": 8,
    "start_time": "2023-01-15T07:40:32.479Z"
   },
   {
    "duration": 14,
    "start_time": "2023-01-15T07:40:32.488Z"
   },
   {
    "duration": 49,
    "start_time": "2023-01-15T07:40:32.504Z"
   },
   {
    "duration": 28,
    "start_time": "2023-01-15T07:40:32.555Z"
   },
   {
    "duration": 4,
    "start_time": "2023-01-15T07:40:32.584Z"
   },
   {
    "duration": 5,
    "start_time": "2023-01-15T07:40:32.589Z"
   },
   {
    "duration": 7,
    "start_time": "2023-01-15T07:40:32.595Z"
   },
   {
    "duration": 89,
    "start_time": "2023-01-15T07:40:32.604Z"
   },
   {
    "duration": 0,
    "start_time": "2023-01-15T07:40:32.695Z"
   },
   {
    "duration": 0,
    "start_time": "2023-01-15T07:40:32.696Z"
   },
   {
    "duration": 5,
    "start_time": "2023-01-15T07:40:59.823Z"
   },
   {
    "duration": 6,
    "start_time": "2023-01-15T07:41:03.290Z"
   },
   {
    "duration": 9,
    "start_time": "2023-01-15T07:49:27.862Z"
   },
   {
    "duration": 10,
    "start_time": "2023-01-15T07:49:36.742Z"
   },
   {
    "duration": 63,
    "start_time": "2023-01-15T15:38:09.874Z"
   },
   {
    "duration": 7,
    "start_time": "2023-01-15T15:38:41.755Z"
   },
   {
    "duration": 395,
    "start_time": "2023-01-15T15:39:01.995Z"
   },
   {
    "duration": 177,
    "start_time": "2023-01-15T15:39:02.392Z"
   },
   {
    "duration": 4,
    "start_time": "2023-01-15T15:39:02.571Z"
   },
   {
    "duration": 2470,
    "start_time": "2023-01-15T15:39:02.578Z"
   },
   {
    "duration": 19,
    "start_time": "2023-01-15T15:39:05.051Z"
   },
   {
    "duration": 10,
    "start_time": "2023-01-15T15:39:05.072Z"
   },
   {
    "duration": 8,
    "start_time": "2023-01-15T15:39:05.083Z"
   },
   {
    "duration": 22,
    "start_time": "2023-01-15T15:39:05.093Z"
   },
   {
    "duration": 9,
    "start_time": "2023-01-15T15:39:05.116Z"
   },
   {
    "duration": 28,
    "start_time": "2023-01-15T15:39:05.128Z"
   },
   {
    "duration": 9,
    "start_time": "2023-01-15T15:39:05.158Z"
   },
   {
    "duration": 23,
    "start_time": "2023-01-15T15:39:05.168Z"
   },
   {
    "duration": 11,
    "start_time": "2023-01-15T15:39:05.194Z"
   },
   {
    "duration": 19,
    "start_time": "2023-01-15T15:39:05.207Z"
   },
   {
    "duration": 68,
    "start_time": "2023-01-15T15:39:05.228Z"
   },
   {
    "duration": 10,
    "start_time": "2023-01-15T15:39:05.298Z"
   },
   {
    "duration": 6,
    "start_time": "2023-01-15T15:39:05.310Z"
   },
   {
    "duration": 6,
    "start_time": "2023-01-15T15:39:05.318Z"
   },
   {
    "duration": 29,
    "start_time": "2023-01-15T15:39:05.326Z"
   },
   {
    "duration": 102,
    "start_time": "2023-01-15T15:39:05.361Z"
   },
   {
    "duration": 0,
    "start_time": "2023-01-15T15:39:05.465Z"
   },
   {
    "duration": 0,
    "start_time": "2023-01-15T15:39:05.466Z"
   },
   {
    "duration": 1101,
    "start_time": "2023-01-15T17:07:20.261Z"
   },
   {
    "duration": 3,
    "start_time": "2023-01-15T17:11:06.629Z"
   },
   {
    "duration": 7,
    "start_time": "2023-01-15T17:29:48.839Z"
   },
   {
    "duration": 8,
    "start_time": "2023-01-15T17:30:29.382Z"
   },
   {
    "duration": 431,
    "start_time": "2023-01-15T17:31:10.977Z"
   },
   {
    "duration": 148,
    "start_time": "2023-01-15T17:31:11.410Z"
   },
   {
    "duration": 2485,
    "start_time": "2023-01-15T17:31:11.560Z"
   },
   {
    "duration": 17,
    "start_time": "2023-01-15T17:31:14.051Z"
   },
   {
    "duration": 11,
    "start_time": "2023-01-15T17:31:14.071Z"
   },
   {
    "duration": 5,
    "start_time": "2023-01-15T17:31:14.084Z"
   },
   {
    "duration": 8,
    "start_time": "2023-01-15T17:31:14.091Z"
   },
   {
    "duration": 38,
    "start_time": "2023-01-15T17:31:14.101Z"
   },
   {
    "duration": 24,
    "start_time": "2023-01-15T17:31:14.140Z"
   },
   {
    "duration": 21,
    "start_time": "2023-01-15T17:31:14.166Z"
   },
   {
    "duration": 22,
    "start_time": "2023-01-15T17:31:14.189Z"
   },
   {
    "duration": 15,
    "start_time": "2023-01-15T17:31:14.214Z"
   },
   {
    "duration": 21,
    "start_time": "2023-01-15T17:31:14.231Z"
   },
   {
    "duration": 61,
    "start_time": "2023-01-15T17:31:14.255Z"
   },
   {
    "duration": 11,
    "start_time": "2023-01-15T17:31:14.317Z"
   },
   {
    "duration": 22,
    "start_time": "2023-01-15T17:31:14.329Z"
   },
   {
    "duration": 11,
    "start_time": "2023-01-15T17:31:14.353Z"
   },
   {
    "duration": 5,
    "start_time": "2023-01-15T17:31:14.366Z"
   },
   {
    "duration": 107,
    "start_time": "2023-01-15T17:31:14.373Z"
   },
   {
    "duration": 0,
    "start_time": "2023-01-15T17:31:14.482Z"
   },
   {
    "duration": 0,
    "start_time": "2023-01-15T17:31:14.483Z"
   },
   {
    "duration": 11,
    "start_time": "2023-01-15T18:46:52.606Z"
   },
   {
    "duration": 11,
    "start_time": "2023-01-15T18:48:27.659Z"
   },
   {
    "duration": 12,
    "start_time": "2023-01-15T18:48:36.452Z"
   },
   {
    "duration": 23,
    "start_time": "2023-01-15T18:54:17.660Z"
   },
   {
    "duration": 11,
    "start_time": "2023-01-15T18:59:00.453Z"
   },
   {
    "duration": 5,
    "start_time": "2023-01-15T18:59:17.681Z"
   },
   {
    "duration": 29,
    "start_time": "2023-01-15T18:59:47.581Z"
   },
   {
    "duration": 9,
    "start_time": "2023-01-15T19:01:05.182Z"
   },
   {
    "duration": 5,
    "start_time": "2023-01-15T19:02:41.006Z"
   },
   {
    "duration": 6,
    "start_time": "2023-01-15T19:04:11.896Z"
   },
   {
    "duration": 6,
    "start_time": "2023-01-15T19:04:13.848Z"
   },
   {
    "duration": 6,
    "start_time": "2023-01-15T19:04:29.677Z"
   },
   {
    "duration": 4,
    "start_time": "2023-01-15T19:27:09.243Z"
   },
   {
    "duration": 8,
    "start_time": "2023-01-15T19:27:10.721Z"
   },
   {
    "duration": 12,
    "start_time": "2023-01-15T19:27:39.966Z"
   },
   {
    "duration": 8,
    "start_time": "2023-01-15T19:27:43.755Z"
   },
   {
    "duration": 5,
    "start_time": "2023-01-15T19:27:58.636Z"
   },
   {
    "duration": 25,
    "start_time": "2023-01-15T19:29:47.860Z"
   },
   {
    "duration": 41,
    "start_time": "2023-01-15T19:30:04.497Z"
   },
   {
    "duration": 5,
    "start_time": "2023-01-15T19:44:17.033Z"
   },
   {
    "duration": 4,
    "start_time": "2023-01-15T19:45:24.989Z"
   },
   {
    "duration": 5,
    "start_time": "2023-01-15T19:45:26.403Z"
   },
   {
    "duration": 194,
    "start_time": "2023-01-15T20:14:26.250Z"
   },
   {
    "duration": 329,
    "start_time": "2023-01-15T20:14:55.139Z"
   },
   {
    "duration": 195,
    "start_time": "2023-01-15T20:15:23.987Z"
   },
   {
    "duration": 880,
    "start_time": "2023-01-15T20:16:41.741Z"
   },
   {
    "duration": 559,
    "start_time": "2023-01-15T20:17:13.470Z"
   },
   {
    "duration": 566,
    "start_time": "2023-01-15T20:28:14.780Z"
   },
   {
    "duration": 695,
    "start_time": "2023-01-15T20:40:37.084Z"
   },
   {
    "duration": 579,
    "start_time": "2023-01-15T20:48:02.488Z"
   },
   {
    "duration": 85,
    "start_time": "2023-01-18T09:11:15.491Z"
   },
   {
    "duration": 68,
    "start_time": "2023-01-18T09:12:07.011Z"
   },
   {
    "duration": 43,
    "start_time": "2023-01-18T09:12:46.273Z"
   },
   {
    "duration": 431,
    "start_time": "2023-01-18T09:13:09.448Z"
   },
   {
    "duration": 0,
    "start_time": "2023-01-18T09:13:09.882Z"
   },
   {
    "duration": 0,
    "start_time": "2023-01-18T09:13:09.883Z"
   },
   {
    "duration": 0,
    "start_time": "2023-01-18T09:13:09.884Z"
   },
   {
    "duration": 0,
    "start_time": "2023-01-18T09:13:09.885Z"
   },
   {
    "duration": 0,
    "start_time": "2023-01-18T09:13:09.886Z"
   },
   {
    "duration": 0,
    "start_time": "2023-01-18T09:13:09.887Z"
   },
   {
    "duration": 0,
    "start_time": "2023-01-18T09:13:09.888Z"
   },
   {
    "duration": 0,
    "start_time": "2023-01-18T09:13:09.890Z"
   },
   {
    "duration": 0,
    "start_time": "2023-01-18T09:13:09.892Z"
   },
   {
    "duration": 0,
    "start_time": "2023-01-18T09:13:09.913Z"
   },
   {
    "duration": 0,
    "start_time": "2023-01-18T09:13:09.913Z"
   },
   {
    "duration": 0,
    "start_time": "2023-01-18T09:13:09.914Z"
   },
   {
    "duration": 0,
    "start_time": "2023-01-18T09:13:09.915Z"
   },
   {
    "duration": 0,
    "start_time": "2023-01-18T09:13:09.916Z"
   },
   {
    "duration": 0,
    "start_time": "2023-01-18T09:13:09.918Z"
   },
   {
    "duration": 0,
    "start_time": "2023-01-18T09:13:09.918Z"
   },
   {
    "duration": 0,
    "start_time": "2023-01-18T09:13:09.920Z"
   },
   {
    "duration": 0,
    "start_time": "2023-01-18T09:13:09.921Z"
   },
   {
    "duration": 0,
    "start_time": "2023-01-18T09:13:09.921Z"
   },
   {
    "duration": 0,
    "start_time": "2023-01-18T09:13:09.922Z"
   },
   {
    "duration": 0,
    "start_time": "2023-01-18T09:13:09.923Z"
   },
   {
    "duration": 0,
    "start_time": "2023-01-18T09:13:09.924Z"
   },
   {
    "duration": 0,
    "start_time": "2023-01-18T09:13:09.925Z"
   },
   {
    "duration": 0,
    "start_time": "2023-01-18T09:13:09.926Z"
   },
   {
    "duration": 0,
    "start_time": "2023-01-18T09:13:09.927Z"
   },
   {
    "duration": 0,
    "start_time": "2023-01-18T09:13:09.928Z"
   },
   {
    "duration": 0,
    "start_time": "2023-01-18T09:13:09.929Z"
   },
   {
    "duration": 10,
    "start_time": "2023-01-18T09:13:45.982Z"
   },
   {
    "duration": 442,
    "start_time": "2023-01-18T09:14:17.940Z"
   },
   {
    "duration": 0,
    "start_time": "2023-01-18T09:14:18.384Z"
   },
   {
    "duration": 0,
    "start_time": "2023-01-18T09:14:18.386Z"
   },
   {
    "duration": 0,
    "start_time": "2023-01-18T09:14:18.387Z"
   },
   {
    "duration": 0,
    "start_time": "2023-01-18T09:14:18.389Z"
   },
   {
    "duration": 0,
    "start_time": "2023-01-18T09:14:18.390Z"
   },
   {
    "duration": 0,
    "start_time": "2023-01-18T09:14:18.391Z"
   },
   {
    "duration": 0,
    "start_time": "2023-01-18T09:14:18.393Z"
   },
   {
    "duration": 0,
    "start_time": "2023-01-18T09:14:18.394Z"
   },
   {
    "duration": 0,
    "start_time": "2023-01-18T09:14:18.412Z"
   },
   {
    "duration": 0,
    "start_time": "2023-01-18T09:14:18.414Z"
   },
   {
    "duration": 0,
    "start_time": "2023-01-18T09:14:18.415Z"
   },
   {
    "duration": 0,
    "start_time": "2023-01-18T09:14:18.417Z"
   },
   {
    "duration": 0,
    "start_time": "2023-01-18T09:14:18.418Z"
   },
   {
    "duration": 0,
    "start_time": "2023-01-18T09:14:18.420Z"
   },
   {
    "duration": 0,
    "start_time": "2023-01-18T09:14:18.421Z"
   },
   {
    "duration": 0,
    "start_time": "2023-01-18T09:14:18.422Z"
   },
   {
    "duration": 0,
    "start_time": "2023-01-18T09:14:18.424Z"
   },
   {
    "duration": 0,
    "start_time": "2023-01-18T09:14:18.425Z"
   },
   {
    "duration": 0,
    "start_time": "2023-01-18T09:14:18.427Z"
   },
   {
    "duration": 0,
    "start_time": "2023-01-18T09:14:18.428Z"
   },
   {
    "duration": 0,
    "start_time": "2023-01-18T09:14:18.429Z"
   },
   {
    "duration": 0,
    "start_time": "2023-01-18T09:14:18.430Z"
   },
   {
    "duration": 0,
    "start_time": "2023-01-18T09:14:18.431Z"
   },
   {
    "duration": 0,
    "start_time": "2023-01-18T09:14:18.432Z"
   },
   {
    "duration": 0,
    "start_time": "2023-01-18T09:14:18.433Z"
   },
   {
    "duration": 0,
    "start_time": "2023-01-18T09:14:18.434Z"
   },
   {
    "duration": 0,
    "start_time": "2023-01-18T09:14:18.435Z"
   },
   {
    "duration": 7,
    "start_time": "2023-01-18T09:16:39.636Z"
   },
   {
    "duration": 463,
    "start_time": "2023-01-18T09:16:51.410Z"
   },
   {
    "duration": 0,
    "start_time": "2023-01-18T09:16:51.875Z"
   },
   {
    "duration": 0,
    "start_time": "2023-01-18T09:16:51.876Z"
   },
   {
    "duration": 0,
    "start_time": "2023-01-18T09:16:51.877Z"
   },
   {
    "duration": 0,
    "start_time": "2023-01-18T09:16:51.878Z"
   },
   {
    "duration": 0,
    "start_time": "2023-01-18T09:16:51.879Z"
   },
   {
    "duration": 0,
    "start_time": "2023-01-18T09:16:51.880Z"
   },
   {
    "duration": 0,
    "start_time": "2023-01-18T09:16:51.881Z"
   },
   {
    "duration": 0,
    "start_time": "2023-01-18T09:16:51.882Z"
   },
   {
    "duration": 0,
    "start_time": "2023-01-18T09:16:51.883Z"
   },
   {
    "duration": 0,
    "start_time": "2023-01-18T09:16:51.884Z"
   },
   {
    "duration": 0,
    "start_time": "2023-01-18T09:16:51.885Z"
   },
   {
    "duration": 0,
    "start_time": "2023-01-18T09:16:51.886Z"
   },
   {
    "duration": 0,
    "start_time": "2023-01-18T09:16:51.887Z"
   },
   {
    "duration": 0,
    "start_time": "2023-01-18T09:16:51.887Z"
   },
   {
    "duration": 0,
    "start_time": "2023-01-18T09:16:51.913Z"
   },
   {
    "duration": 0,
    "start_time": "2023-01-18T09:16:51.914Z"
   },
   {
    "duration": 0,
    "start_time": "2023-01-18T09:16:51.915Z"
   },
   {
    "duration": 0,
    "start_time": "2023-01-18T09:16:51.916Z"
   },
   {
    "duration": 0,
    "start_time": "2023-01-18T09:16:51.917Z"
   },
   {
    "duration": 0,
    "start_time": "2023-01-18T09:16:51.918Z"
   },
   {
    "duration": 0,
    "start_time": "2023-01-18T09:16:51.919Z"
   },
   {
    "duration": 0,
    "start_time": "2023-01-18T09:16:51.920Z"
   },
   {
    "duration": 0,
    "start_time": "2023-01-18T09:16:51.921Z"
   },
   {
    "duration": 0,
    "start_time": "2023-01-18T09:16:51.923Z"
   },
   {
    "duration": 0,
    "start_time": "2023-01-18T09:16:51.924Z"
   },
   {
    "duration": 0,
    "start_time": "2023-01-18T09:16:51.925Z"
   },
   {
    "duration": 0,
    "start_time": "2023-01-18T09:16:51.926Z"
   },
   {
    "duration": 8,
    "start_time": "2023-01-18T09:17:13.496Z"
   },
   {
    "duration": 7,
    "start_time": "2023-01-18T09:18:14.494Z"
   },
   {
    "duration": 7,
    "start_time": "2023-01-18T09:18:19.089Z"
   },
   {
    "duration": 460,
    "start_time": "2023-01-18T09:18:28.410Z"
   },
   {
    "duration": 0,
    "start_time": "2023-01-18T09:18:28.872Z"
   },
   {
    "duration": 0,
    "start_time": "2023-01-18T09:18:28.873Z"
   },
   {
    "duration": 1,
    "start_time": "2023-01-18T09:18:28.874Z"
   },
   {
    "duration": 0,
    "start_time": "2023-01-18T09:18:28.875Z"
   },
   {
    "duration": 0,
    "start_time": "2023-01-18T09:18:28.876Z"
   },
   {
    "duration": 0,
    "start_time": "2023-01-18T09:18:28.877Z"
   },
   {
    "duration": 0,
    "start_time": "2023-01-18T09:18:28.879Z"
   },
   {
    "duration": 0,
    "start_time": "2023-01-18T09:18:28.879Z"
   },
   {
    "duration": 0,
    "start_time": "2023-01-18T09:18:28.880Z"
   },
   {
    "duration": 0,
    "start_time": "2023-01-18T09:18:28.881Z"
   },
   {
    "duration": 0,
    "start_time": "2023-01-18T09:18:28.883Z"
   },
   {
    "duration": 0,
    "start_time": "2023-01-18T09:18:28.884Z"
   },
   {
    "duration": 0,
    "start_time": "2023-01-18T09:18:28.885Z"
   },
   {
    "duration": 0,
    "start_time": "2023-01-18T09:18:28.913Z"
   },
   {
    "duration": 0,
    "start_time": "2023-01-18T09:18:28.915Z"
   },
   {
    "duration": 0,
    "start_time": "2023-01-18T09:18:28.916Z"
   },
   {
    "duration": 0,
    "start_time": "2023-01-18T09:18:28.917Z"
   },
   {
    "duration": 0,
    "start_time": "2023-01-18T09:18:28.918Z"
   },
   {
    "duration": 0,
    "start_time": "2023-01-18T09:18:28.919Z"
   },
   {
    "duration": 0,
    "start_time": "2023-01-18T09:18:28.920Z"
   },
   {
    "duration": 0,
    "start_time": "2023-01-18T09:18:28.922Z"
   },
   {
    "duration": 0,
    "start_time": "2023-01-18T09:18:28.923Z"
   },
   {
    "duration": 0,
    "start_time": "2023-01-18T09:18:28.924Z"
   },
   {
    "duration": 0,
    "start_time": "2023-01-18T09:18:28.925Z"
   },
   {
    "duration": 0,
    "start_time": "2023-01-18T09:18:28.926Z"
   },
   {
    "duration": 0,
    "start_time": "2023-01-18T09:18:28.927Z"
   },
   {
    "duration": 0,
    "start_time": "2023-01-18T09:18:28.929Z"
   },
   {
    "duration": 0,
    "start_time": "2023-01-18T09:18:28.929Z"
   },
   {
    "duration": 7,
    "start_time": "2023-01-18T09:18:39.843Z"
   },
   {
    "duration": 7,
    "start_time": "2023-01-18T09:19:14.513Z"
   },
   {
    "duration": 6,
    "start_time": "2023-01-18T09:19:34.149Z"
   },
   {
    "duration": 7,
    "start_time": "2023-01-18T09:20:01.972Z"
   },
   {
    "duration": 7,
    "start_time": "2023-01-18T09:20:21.168Z"
   },
   {
    "duration": 7,
    "start_time": "2023-01-18T09:20:38.775Z"
   },
   {
    "duration": 7,
    "start_time": "2023-01-18T09:20:53.574Z"
   },
   {
    "duration": 164,
    "start_time": "2023-01-18T09:21:07.673Z"
   },
   {
    "duration": 8,
    "start_time": "2023-01-18T09:23:53.974Z"
   },
   {
    "duration": 938,
    "start_time": "2023-01-18T09:24:09.167Z"
   },
   {
    "duration": 631,
    "start_time": "2023-01-18T09:40:35.498Z"
   },
   {
    "duration": 804,
    "start_time": "2023-01-18T09:40:56.419Z"
   },
   {
    "duration": 100,
    "start_time": "2023-01-18T09:42:05.143Z"
   },
   {
    "duration": 14,
    "start_time": "2023-01-18T09:53:57.233Z"
   },
   {
    "duration": 10,
    "start_time": "2023-01-18T09:56:04.874Z"
   },
   {
    "duration": 23,
    "start_time": "2023-01-18T09:56:12.545Z"
   },
   {
    "duration": 4,
    "start_time": "2023-01-18T09:56:15.840Z"
   },
   {
    "duration": 3,
    "start_time": "2023-01-18T09:56:20.027Z"
   },
   {
    "duration": 4,
    "start_time": "2023-01-18T09:56:29.127Z"
   },
   {
    "duration": 4,
    "start_time": "2023-01-18T09:57:11.717Z"
   },
   {
    "duration": 10,
    "start_time": "2023-01-18T09:58:53.564Z"
   },
   {
    "duration": 41,
    "start_time": "2023-01-18T09:59:05.269Z"
   },
   {
    "duration": 11,
    "start_time": "2023-01-18T09:59:43.339Z"
   },
   {
    "duration": 48,
    "start_time": "2023-01-18T09:59:45.537Z"
   },
   {
    "duration": 555,
    "start_time": "2023-01-18T10:02:35.649Z"
   },
   {
    "duration": 22,
    "start_time": "2023-01-18T10:06:49.144Z"
   },
   {
    "duration": 5,
    "start_time": "2023-01-18T10:07:02.152Z"
   },
   {
    "duration": 72,
    "start_time": "2023-01-18T10:07:05.769Z"
   },
   {
    "duration": 12,
    "start_time": "2023-01-18T10:12:21.975Z"
   },
   {
    "duration": 11,
    "start_time": "2023-01-18T10:13:34.000Z"
   },
   {
    "duration": 11,
    "start_time": "2023-01-18T10:20:23.479Z"
   },
   {
    "duration": 1146,
    "start_time": "2023-01-18T10:23:22.570Z"
   },
   {
    "duration": 108,
    "start_time": "2023-01-18T10:23:23.718Z"
   },
   {
    "duration": 2684,
    "start_time": "2023-01-18T11:30:54.359Z"
   },
   {
    "duration": 21,
    "start_time": "2023-01-18T11:31:00.306Z"
   },
   {
    "duration": 639,
    "start_time": "2023-01-18T11:31:20.430Z"
   },
   {
    "duration": 760,
    "start_time": "2023-01-18T11:47:49.420Z"
   },
   {
    "duration": 14,
    "start_time": "2023-01-18T11:57:34.731Z"
   },
   {
    "duration": 549,
    "start_time": "2023-01-18T12:03:55.046Z"
   },
   {
    "duration": 547,
    "start_time": "2023-01-18T12:10:59.152Z"
   },
   {
    "duration": 534,
    "start_time": "2023-01-18T12:11:37.746Z"
   },
   {
    "duration": 802,
    "start_time": "2023-01-18T12:15:06.332Z"
   },
   {
    "duration": 611,
    "start_time": "2023-01-18T12:25:00.581Z"
   },
   {
    "duration": 563,
    "start_time": "2023-01-18T12:42:12.427Z"
   },
   {
    "duration": 561,
    "start_time": "2023-01-18T12:46:24.133Z"
   },
   {
    "duration": 887,
    "start_time": "2023-01-18T12:51:29.917Z"
   },
   {
    "duration": 565,
    "start_time": "2023-01-18T12:52:34.023Z"
   },
   {
    "duration": 875,
    "start_time": "2023-01-18T12:53:10.124Z"
   },
   {
    "duration": 72,
    "start_time": "2023-01-18T12:56:32.630Z"
   },
   {
    "duration": 80,
    "start_time": "2023-01-18T12:56:44.218Z"
   },
   {
    "duration": 915,
    "start_time": "2023-01-18T12:57:15.620Z"
   },
   {
    "duration": 933,
    "start_time": "2023-01-18T12:57:21.966Z"
   },
   {
    "duration": 586,
    "start_time": "2023-01-18T12:58:15.601Z"
   },
   {
    "duration": 1035,
    "start_time": "2023-01-18T13:33:43.511Z"
   },
   {
    "duration": 52,
    "start_time": "2023-01-19T03:40:42.970Z"
   },
   {
    "duration": 6,
    "start_time": "2023-01-19T03:41:17.532Z"
   },
   {
    "duration": 5,
    "start_time": "2023-01-19T03:42:29.974Z"
   },
   {
    "duration": 1240,
    "start_time": "2023-01-19T03:42:48.977Z"
   },
   {
    "duration": 529,
    "start_time": "2023-01-19T03:42:50.219Z"
   },
   {
    "duration": 99,
    "start_time": "2023-01-19T03:42:50.750Z"
   },
   {
    "duration": 0,
    "start_time": "2023-01-19T03:42:50.851Z"
   },
   {
    "duration": 0,
    "start_time": "2023-01-19T03:42:50.852Z"
   },
   {
    "duration": 0,
    "start_time": "2023-01-19T03:42:50.853Z"
   },
   {
    "duration": 0,
    "start_time": "2023-01-19T03:42:50.854Z"
   },
   {
    "duration": 0,
    "start_time": "2023-01-19T03:42:50.855Z"
   },
   {
    "duration": 0,
    "start_time": "2023-01-19T03:42:50.857Z"
   },
   {
    "duration": 0,
    "start_time": "2023-01-19T03:42:50.858Z"
   },
   {
    "duration": 0,
    "start_time": "2023-01-19T03:42:50.859Z"
   },
   {
    "duration": 0,
    "start_time": "2023-01-19T03:42:50.860Z"
   },
   {
    "duration": 0,
    "start_time": "2023-01-19T03:42:50.862Z"
   },
   {
    "duration": 0,
    "start_time": "2023-01-19T03:42:50.862Z"
   },
   {
    "duration": 0,
    "start_time": "2023-01-19T03:42:50.863Z"
   },
   {
    "duration": 0,
    "start_time": "2023-01-19T03:42:50.864Z"
   },
   {
    "duration": 0,
    "start_time": "2023-01-19T03:42:50.881Z"
   },
   {
    "duration": 0,
    "start_time": "2023-01-19T03:42:50.882Z"
   },
   {
    "duration": 0,
    "start_time": "2023-01-19T03:42:50.883Z"
   },
   {
    "duration": 0,
    "start_time": "2023-01-19T03:42:50.884Z"
   },
   {
    "duration": 0,
    "start_time": "2023-01-19T03:42:50.885Z"
   },
   {
    "duration": 0,
    "start_time": "2023-01-19T03:42:50.887Z"
   },
   {
    "duration": 0,
    "start_time": "2023-01-19T03:42:50.888Z"
   },
   {
    "duration": 0,
    "start_time": "2023-01-19T03:42:50.889Z"
   },
   {
    "duration": 0,
    "start_time": "2023-01-19T03:42:50.890Z"
   },
   {
    "duration": 0,
    "start_time": "2023-01-19T03:42:50.891Z"
   },
   {
    "duration": 0,
    "start_time": "2023-01-19T03:42:50.892Z"
   },
   {
    "duration": 0,
    "start_time": "2023-01-19T03:42:50.893Z"
   },
   {
    "duration": 0,
    "start_time": "2023-01-19T03:42:50.894Z"
   },
   {
    "duration": 0,
    "start_time": "2023-01-19T03:42:50.895Z"
   },
   {
    "duration": 0,
    "start_time": "2023-01-19T03:42:50.896Z"
   },
   {
    "duration": 0,
    "start_time": "2023-01-19T03:42:50.897Z"
   },
   {
    "duration": 0,
    "start_time": "2023-01-19T03:42:50.898Z"
   },
   {
    "duration": 0,
    "start_time": "2023-01-19T03:42:50.899Z"
   },
   {
    "duration": 0,
    "start_time": "2023-01-19T03:42:50.900Z"
   },
   {
    "duration": 0,
    "start_time": "2023-01-19T03:42:50.901Z"
   },
   {
    "duration": 0,
    "start_time": "2023-01-19T03:42:50.902Z"
   },
   {
    "duration": 0,
    "start_time": "2023-01-19T03:42:50.903Z"
   },
   {
    "duration": 0,
    "start_time": "2023-01-19T03:42:50.904Z"
   },
   {
    "duration": 0,
    "start_time": "2023-01-19T03:42:50.905Z"
   },
   {
    "duration": 34,
    "start_time": "2023-01-19T03:43:01.399Z"
   },
   {
    "duration": 1310,
    "start_time": "2023-01-19T11:56:32.199Z"
   },
   {
    "duration": 452,
    "start_time": "2023-01-19T11:56:33.511Z"
   },
   {
    "duration": 1995,
    "start_time": "2023-01-19T11:56:33.965Z"
   },
   {
    "duration": 15,
    "start_time": "2023-01-19T11:56:35.963Z"
   },
   {
    "duration": 17,
    "start_time": "2023-01-19T11:56:35.980Z"
   },
   {
    "duration": 28,
    "start_time": "2023-01-19T11:56:35.999Z"
   },
   {
    "duration": 4,
    "start_time": "2023-01-19T11:56:36.029Z"
   },
   {
    "duration": 11,
    "start_time": "2023-01-19T11:56:36.035Z"
   },
   {
    "duration": 6,
    "start_time": "2023-01-19T11:56:36.048Z"
   },
   {
    "duration": 11,
    "start_time": "2023-01-19T11:56:36.057Z"
   },
   {
    "duration": 17,
    "start_time": "2023-01-19T11:56:36.070Z"
   },
   {
    "duration": 12,
    "start_time": "2023-01-19T11:56:36.089Z"
   },
   {
    "duration": 45,
    "start_time": "2023-01-19T11:56:36.103Z"
   },
   {
    "duration": 34,
    "start_time": "2023-01-19T11:56:36.150Z"
   },
   {
    "duration": 60,
    "start_time": "2023-01-19T11:56:36.186Z"
   },
   {
    "duration": 34,
    "start_time": "2023-01-19T11:56:36.248Z"
   },
   {
    "duration": 4,
    "start_time": "2023-01-19T11:56:36.284Z"
   },
   {
    "duration": 25,
    "start_time": "2023-01-19T11:56:36.290Z"
   },
   {
    "duration": 10,
    "start_time": "2023-01-19T11:56:36.317Z"
   },
   {
    "duration": 12,
    "start_time": "2023-01-19T11:56:36.330Z"
   },
   {
    "duration": 4,
    "start_time": "2023-01-19T11:56:36.344Z"
   },
   {
    "duration": 17,
    "start_time": "2023-01-19T11:56:36.350Z"
   },
   {
    "duration": 5456,
    "start_time": "2023-01-19T11:56:36.369Z"
   },
   {
    "duration": 4,
    "start_time": "2023-01-19T11:56:41.827Z"
   },
   {
    "duration": 703,
    "start_time": "2023-01-19T11:56:41.832Z"
   },
   {
    "duration": 551,
    "start_time": "2023-01-19T11:56:42.537Z"
   },
   {
    "duration": 684,
    "start_time": "2023-01-19T11:56:43.090Z"
   },
   {
    "duration": 583,
    "start_time": "2023-01-19T11:56:43.783Z"
   },
   {
    "duration": 564,
    "start_time": "2023-01-19T11:56:44.368Z"
   },
   {
    "duration": 692,
    "start_time": "2023-01-19T11:56:44.934Z"
   },
   {
    "duration": 537,
    "start_time": "2023-01-19T11:56:45.628Z"
   },
   {
    "duration": 653,
    "start_time": "2023-01-19T11:56:46.166Z"
   },
   {
    "duration": 765,
    "start_time": "2023-01-19T11:56:46.821Z"
   },
   {
    "duration": 601,
    "start_time": "2023-01-19T11:56:47.587Z"
   },
   {
    "duration": 591,
    "start_time": "2023-01-19T11:56:48.190Z"
   },
   {
    "duration": 772,
    "start_time": "2023-01-19T11:56:48.783Z"
   },
   {
    "duration": 978,
    "start_time": "2023-01-19T11:56:49.558Z"
   },
   {
    "duration": 620,
    "start_time": "2023-01-19T11:56:50.538Z"
   },
   {
    "duration": 813,
    "start_time": "2023-01-19T11:56:51.160Z"
   },
   {
    "duration": 54,
    "start_time": "2023-01-19T19:08:49.194Z"
   },
   {
    "duration": 6,
    "start_time": "2023-01-19T19:09:45.937Z"
   },
   {
    "duration": 208,
    "start_time": "2023-01-19T19:10:51.446Z"
   },
   {
    "duration": 68,
    "start_time": "2023-01-21T17:23:59.111Z"
   },
   {
    "duration": 10,
    "start_time": "2023-01-21T17:24:11.541Z"
   },
   {
    "duration": 1790,
    "start_time": "2023-01-21T17:24:32.285Z"
   },
   {
    "duration": 283,
    "start_time": "2023-01-21T17:24:34.078Z"
   },
   {
    "duration": 2724,
    "start_time": "2023-01-21T17:24:37.482Z"
   },
   {
    "duration": 107,
    "start_time": "2023-01-21T17:27:42.180Z"
   },
   {
    "duration": 2116,
    "start_time": "2023-01-21T17:53:12.935Z"
   },
   {
    "duration": 0,
    "start_time": "2023-01-21T17:53:15.053Z"
   },
   {
    "duration": 2497,
    "start_time": "2023-01-21T17:55:38.567Z"
   },
   {
    "duration": 2151,
    "start_time": "2023-01-21T17:56:14.919Z"
   },
   {
    "duration": 19,
    "start_time": "2023-01-21T17:57:35.327Z"
   },
   {
    "duration": 1514,
    "start_time": "2023-01-21T17:58:41.942Z"
   },
   {
    "duration": 183,
    "start_time": "2023-01-21T17:58:43.458Z"
   },
   {
    "duration": 2911,
    "start_time": "2023-01-21T17:58:43.644Z"
   },
   {
    "duration": 39,
    "start_time": "2023-01-21T17:58:46.558Z"
   },
   {
    "duration": 19,
    "start_time": "2023-01-21T17:58:46.605Z"
   },
   {
    "duration": 106,
    "start_time": "2023-01-21T17:58:46.627Z"
   },
   {
    "duration": 28,
    "start_time": "2023-01-21T17:58:46.736Z"
   },
   {
    "duration": 4,
    "start_time": "2023-01-21T17:58:46.766Z"
   },
   {
    "duration": 21,
    "start_time": "2023-01-21T17:58:46.772Z"
   },
   {
    "duration": 172,
    "start_time": "2023-01-21T17:58:46.797Z"
   },
   {
    "duration": 0,
    "start_time": "2023-01-21T17:58:46.971Z"
   },
   {
    "duration": 0,
    "start_time": "2023-01-21T17:58:46.975Z"
   },
   {
    "duration": 0,
    "start_time": "2023-01-21T17:58:46.977Z"
   },
   {
    "duration": 0,
    "start_time": "2023-01-21T17:58:46.985Z"
   },
   {
    "duration": 0,
    "start_time": "2023-01-21T17:58:46.986Z"
   },
   {
    "duration": 0,
    "start_time": "2023-01-21T17:58:46.989Z"
   },
   {
    "duration": 0,
    "start_time": "2023-01-21T17:58:46.991Z"
   },
   {
    "duration": 0,
    "start_time": "2023-01-21T17:58:46.992Z"
   },
   {
    "duration": 0,
    "start_time": "2023-01-21T17:58:46.994Z"
   },
   {
    "duration": 0,
    "start_time": "2023-01-21T17:58:46.995Z"
   },
   {
    "duration": 0,
    "start_time": "2023-01-21T17:58:46.997Z"
   },
   {
    "duration": 0,
    "start_time": "2023-01-21T17:58:47.003Z"
   },
   {
    "duration": 0,
    "start_time": "2023-01-21T17:58:47.004Z"
   },
   {
    "duration": 0,
    "start_time": "2023-01-21T17:58:47.005Z"
   },
   {
    "duration": 0,
    "start_time": "2023-01-21T17:58:47.005Z"
   },
   {
    "duration": 0,
    "start_time": "2023-01-21T17:58:47.006Z"
   },
   {
    "duration": 0,
    "start_time": "2023-01-21T17:58:47.007Z"
   },
   {
    "duration": 0,
    "start_time": "2023-01-21T17:58:47.008Z"
   },
   {
    "duration": 0,
    "start_time": "2023-01-21T17:58:47.012Z"
   },
   {
    "duration": 0,
    "start_time": "2023-01-21T17:58:47.014Z"
   },
   {
    "duration": 0,
    "start_time": "2023-01-21T17:58:47.016Z"
   },
   {
    "duration": 0,
    "start_time": "2023-01-21T17:58:47.017Z"
   },
   {
    "duration": 0,
    "start_time": "2023-01-21T17:58:47.019Z"
   },
   {
    "duration": 0,
    "start_time": "2023-01-21T17:58:47.020Z"
   },
   {
    "duration": 0,
    "start_time": "2023-01-21T17:58:47.029Z"
   },
   {
    "duration": 0,
    "start_time": "2023-01-21T17:58:47.030Z"
   },
   {
    "duration": 0,
    "start_time": "2023-01-21T17:58:47.031Z"
   },
   {
    "duration": 0,
    "start_time": "2023-01-21T17:58:47.031Z"
   },
   {
    "duration": 0,
    "start_time": "2023-01-21T17:58:47.032Z"
   },
   {
    "duration": 0,
    "start_time": "2023-01-21T17:58:47.033Z"
   },
   {
    "duration": 0,
    "start_time": "2023-01-21T17:58:47.035Z"
   },
   {
    "duration": 0,
    "start_time": "2023-01-21T17:58:47.039Z"
   },
   {
    "duration": 3,
    "start_time": "2023-01-21T18:00:54.739Z"
   },
   {
    "duration": 15,
    "start_time": "2023-01-21T18:01:05.420Z"
   },
   {
    "duration": 2061,
    "start_time": "2023-01-21T18:03:19.609Z"
   },
   {
    "duration": 1988,
    "start_time": "2023-01-21T18:09:40.764Z"
   },
   {
    "duration": 7,
    "start_time": "2023-01-21T18:09:52.832Z"
   },
   {
    "duration": 1404,
    "start_time": "2023-01-21T18:10:00.676Z"
   },
   {
    "duration": 170,
    "start_time": "2023-01-21T18:10:02.088Z"
   },
   {
    "duration": 2432,
    "start_time": "2023-01-21T18:10:02.260Z"
   },
   {
    "duration": 26,
    "start_time": "2023-01-21T18:10:04.694Z"
   },
   {
    "duration": 21,
    "start_time": "2023-01-21T18:10:04.723Z"
   },
   {
    "duration": 95,
    "start_time": "2023-01-21T18:10:04.747Z"
   },
   {
    "duration": 28,
    "start_time": "2023-01-21T18:10:04.843Z"
   },
   {
    "duration": 13,
    "start_time": "2023-01-21T18:10:04.884Z"
   },
   {
    "duration": 13,
    "start_time": "2023-01-21T18:10:04.905Z"
   },
   {
    "duration": 1714,
    "start_time": "2023-01-21T18:10:04.920Z"
   },
   {
    "duration": 2050,
    "start_time": "2023-01-21T18:10:06.637Z"
   },
   {
    "duration": 15,
    "start_time": "2023-01-21T18:10:08.691Z"
   },
   {
    "duration": 30,
    "start_time": "2023-01-21T18:10:08.712Z"
   },
   {
    "duration": 13,
    "start_time": "2023-01-21T18:10:08.744Z"
   },
   {
    "duration": 17,
    "start_time": "2023-01-21T18:10:08.759Z"
   },
   {
    "duration": 63,
    "start_time": "2023-01-21T18:10:08.778Z"
   },
   {
    "duration": 17,
    "start_time": "2023-01-21T18:10:08.843Z"
   },
   {
    "duration": 99,
    "start_time": "2023-01-21T18:10:08.863Z"
   },
   {
    "duration": 49,
    "start_time": "2023-01-21T18:10:08.964Z"
   },
   {
    "duration": 5,
    "start_time": "2023-01-21T18:10:09.015Z"
   },
   {
    "duration": 14,
    "start_time": "2023-01-21T18:10:09.022Z"
   },
   {
    "duration": 9,
    "start_time": "2023-01-21T18:10:09.038Z"
   },
   {
    "duration": 18,
    "start_time": "2023-01-21T18:10:09.049Z"
   },
   {
    "duration": 3,
    "start_time": "2023-01-21T18:10:09.069Z"
   },
   {
    "duration": 20,
    "start_time": "2023-01-21T18:10:09.090Z"
   },
   {
    "duration": 5,
    "start_time": "2023-01-21T18:10:09.116Z"
   },
   {
    "duration": 10,
    "start_time": "2023-01-21T18:10:09.125Z"
   },
   {
    "duration": 820,
    "start_time": "2023-01-21T18:10:09.137Z"
   },
   {
    "duration": 791,
    "start_time": "2023-01-21T18:10:09.960Z"
   },
   {
    "duration": 874,
    "start_time": "2023-01-21T18:10:10.753Z"
   },
   {
    "duration": 750,
    "start_time": "2023-01-21T18:10:11.629Z"
   },
   {
    "duration": 738,
    "start_time": "2023-01-21T18:10:12.386Z"
   },
   {
    "duration": 827,
    "start_time": "2023-01-21T18:10:13.126Z"
   },
   {
    "duration": 706,
    "start_time": "2023-01-21T18:10:13.955Z"
   },
   {
    "duration": 842,
    "start_time": "2023-01-21T18:10:14.662Z"
   },
   {
    "duration": 695,
    "start_time": "2023-01-21T18:10:15.514Z"
   },
   {
    "duration": 742,
    "start_time": "2023-01-21T18:10:16.211Z"
   },
   {
    "duration": 985,
    "start_time": "2023-01-21T18:10:16.955Z"
   },
   {
    "duration": 733,
    "start_time": "2023-01-21T18:10:17.942Z"
   },
   {
    "duration": 1268,
    "start_time": "2023-01-21T18:10:18.677Z"
   },
   {
    "duration": 1062,
    "start_time": "2023-01-21T18:10:19.948Z"
   },
   {
    "duration": 710,
    "start_time": "2023-01-21T18:10:21.012Z"
   },
   {
    "duration": 131,
    "start_time": "2023-01-21T18:10:31.038Z"
   },
   {
    "duration": 1729,
    "start_time": "2023-01-21T18:10:37.322Z"
   },
   {
    "duration": 1462,
    "start_time": "2023-01-21T18:10:48.021Z"
   },
   {
    "duration": 6,
    "start_time": "2023-01-21T18:12:42.182Z"
   },
   {
    "duration": 2079,
    "start_time": "2023-01-21T18:12:49.918Z"
   },
   {
    "duration": 1647,
    "start_time": "2023-01-21T18:14:35.710Z"
   },
   {
    "duration": 1875,
    "start_time": "2023-01-21T18:14:40.350Z"
   },
   {
    "duration": 1964,
    "start_time": "2023-01-21T18:14:49.401Z"
   },
   {
    "duration": 21,
    "start_time": "2023-01-21T18:14:51.368Z"
   },
   {
    "duration": 14,
    "start_time": "2023-01-21T18:32:43.454Z"
   },
   {
    "duration": 20,
    "start_time": "2023-01-21T18:33:21.149Z"
   },
   {
    "duration": 152,
    "start_time": "2023-01-21T18:41:08.582Z"
   },
   {
    "duration": 31,
    "start_time": "2023-01-21T18:46:56.606Z"
   },
   {
    "duration": 2015,
    "start_time": "2023-01-21T18:47:20.556Z"
   },
   {
    "duration": 2252,
    "start_time": "2023-01-21T18:48:29.008Z"
   },
   {
    "duration": 1996,
    "start_time": "2023-01-21T18:48:53.151Z"
   },
   {
    "duration": 2124,
    "start_time": "2023-01-21T18:51:15.112Z"
   },
   {
    "duration": 2106,
    "start_time": "2023-01-21T18:51:21.579Z"
   },
   {
    "duration": 5,
    "start_time": "2023-01-21T18:51:34.431Z"
   },
   {
    "duration": 1631,
    "start_time": "2023-01-21T18:52:00.855Z"
   },
   {
    "duration": 156,
    "start_time": "2023-01-21T18:52:02.499Z"
   },
   {
    "duration": 2703,
    "start_time": "2023-01-21T18:52:02.657Z"
   },
   {
    "duration": 47,
    "start_time": "2023-01-21T18:52:05.363Z"
   },
   {
    "duration": 22,
    "start_time": "2023-01-21T18:52:05.418Z"
   },
   {
    "duration": 83,
    "start_time": "2023-01-21T18:52:05.442Z"
   },
   {
    "duration": 38,
    "start_time": "2023-01-21T18:52:05.527Z"
   },
   {
    "duration": 5,
    "start_time": "2023-01-21T18:52:05.567Z"
   },
   {
    "duration": 9,
    "start_time": "2023-01-21T18:52:05.586Z"
   },
   {
    "duration": 2073,
    "start_time": "2023-01-21T18:52:05.599Z"
   },
   {
    "duration": 2325,
    "start_time": "2023-01-21T18:52:07.674Z"
   },
   {
    "duration": 12,
    "start_time": "2023-01-21T18:52:10.002Z"
   },
   {
    "duration": 32,
    "start_time": "2023-01-21T18:52:10.017Z"
   },
   {
    "duration": 18,
    "start_time": "2023-01-21T18:52:10.052Z"
   },
   {
    "duration": 74,
    "start_time": "2023-01-21T18:52:10.072Z"
   },
   {
    "duration": 20,
    "start_time": "2023-01-21T18:52:10.149Z"
   },
   {
    "duration": 23,
    "start_time": "2023-01-21T18:52:10.171Z"
   },
   {
    "duration": 101,
    "start_time": "2023-01-21T18:52:10.197Z"
   },
   {
    "duration": 26,
    "start_time": "2023-01-21T18:52:10.308Z"
   },
   {
    "duration": 131,
    "start_time": "2023-01-21T18:52:10.343Z"
   },
   {
    "duration": 0,
    "start_time": "2023-01-21T18:52:10.477Z"
   },
   {
    "duration": 0,
    "start_time": "2023-01-21T18:52:10.479Z"
   },
   {
    "duration": 0,
    "start_time": "2023-01-21T18:52:10.481Z"
   },
   {
    "duration": 0,
    "start_time": "2023-01-21T18:52:10.483Z"
   },
   {
    "duration": 0,
    "start_time": "2023-01-21T18:52:10.484Z"
   },
   {
    "duration": 0,
    "start_time": "2023-01-21T18:52:10.485Z"
   },
   {
    "duration": 0,
    "start_time": "2023-01-21T18:52:10.487Z"
   },
   {
    "duration": 0,
    "start_time": "2023-01-21T18:52:10.489Z"
   },
   {
    "duration": 0,
    "start_time": "2023-01-21T18:52:10.490Z"
   },
   {
    "duration": 0,
    "start_time": "2023-01-21T18:52:10.491Z"
   },
   {
    "duration": 0,
    "start_time": "2023-01-21T18:52:10.493Z"
   },
   {
    "duration": 0,
    "start_time": "2023-01-21T18:52:10.494Z"
   },
   {
    "duration": 0,
    "start_time": "2023-01-21T18:52:10.495Z"
   },
   {
    "duration": 0,
    "start_time": "2023-01-21T18:52:10.500Z"
   },
   {
    "duration": 0,
    "start_time": "2023-01-21T18:52:10.502Z"
   },
   {
    "duration": 0,
    "start_time": "2023-01-21T18:52:10.504Z"
   },
   {
    "duration": 0,
    "start_time": "2023-01-21T18:52:10.505Z"
   },
   {
    "duration": 0,
    "start_time": "2023-01-21T18:52:10.506Z"
   },
   {
    "duration": 0,
    "start_time": "2023-01-21T18:52:10.507Z"
   },
   {
    "duration": 0,
    "start_time": "2023-01-21T18:52:10.509Z"
   },
   {
    "duration": 0,
    "start_time": "2023-01-21T18:52:10.511Z"
   },
   {
    "duration": 0,
    "start_time": "2023-01-21T18:52:10.512Z"
   },
   {
    "duration": 0,
    "start_time": "2023-01-21T18:52:10.514Z"
   },
   {
    "duration": 0,
    "start_time": "2023-01-21T18:52:10.515Z"
   },
   {
    "duration": 0,
    "start_time": "2023-01-21T18:52:10.516Z"
   },
   {
    "duration": 2077,
    "start_time": "2023-01-21T18:52:14.635Z"
   },
   {
    "duration": 2294,
    "start_time": "2023-01-21T18:52:22.168Z"
   },
   {
    "duration": 2062,
    "start_time": "2023-01-21T18:56:52.364Z"
   },
   {
    "duration": 15,
    "start_time": "2023-01-21T19:00:35.909Z"
   },
   {
    "duration": 16,
    "start_time": "2023-01-21T19:01:28.557Z"
   },
   {
    "duration": 1913,
    "start_time": "2023-01-21T19:02:58.818Z"
   },
   {
    "duration": 215,
    "start_time": "2023-01-21T19:03:00.748Z"
   },
   {
    "duration": 3693,
    "start_time": "2023-01-21T19:03:00.965Z"
   },
   {
    "duration": 35,
    "start_time": "2023-01-21T19:03:04.661Z"
   },
   {
    "duration": 74,
    "start_time": "2023-01-21T19:03:04.700Z"
   },
   {
    "duration": 188,
    "start_time": "2023-01-21T19:03:04.777Z"
   },
   {
    "duration": 61,
    "start_time": "2023-01-21T19:03:04.968Z"
   },
   {
    "duration": 42,
    "start_time": "2023-01-21T19:03:05.031Z"
   },
   {
    "duration": 83,
    "start_time": "2023-01-21T19:03:05.075Z"
   },
   {
    "duration": 55,
    "start_time": "2023-01-21T19:03:05.163Z"
   },
   {
    "duration": 50,
    "start_time": "2023-01-21T19:03:05.227Z"
   },
   {
    "duration": 69,
    "start_time": "2023-01-21T19:03:05.279Z"
   },
   {
    "duration": 21,
    "start_time": "2023-01-21T19:03:05.350Z"
   },
   {
    "duration": 10,
    "start_time": "2023-01-21T19:03:05.373Z"
   },
   {
    "duration": 50,
    "start_time": "2023-01-21T19:03:05.399Z"
   },
   {
    "duration": 21,
    "start_time": "2023-01-21T19:03:05.451Z"
   },
   {
    "duration": 25,
    "start_time": "2023-01-21T19:03:05.474Z"
   },
   {
    "duration": 161,
    "start_time": "2023-01-21T19:03:05.502Z"
   },
   {
    "duration": 30,
    "start_time": "2023-01-21T19:03:05.665Z"
   },
   {
    "duration": 146,
    "start_time": "2023-01-21T19:03:05.698Z"
   },
   {
    "duration": 0,
    "start_time": "2023-01-21T19:03:05.847Z"
   },
   {
    "duration": 0,
    "start_time": "2023-01-21T19:03:05.849Z"
   },
   {
    "duration": 0,
    "start_time": "2023-01-21T19:03:05.850Z"
   },
   {
    "duration": 0,
    "start_time": "2023-01-21T19:03:05.854Z"
   },
   {
    "duration": 0,
    "start_time": "2023-01-21T19:03:05.856Z"
   },
   {
    "duration": 0,
    "start_time": "2023-01-21T19:03:05.857Z"
   },
   {
    "duration": 0,
    "start_time": "2023-01-21T19:03:05.858Z"
   },
   {
    "duration": 0,
    "start_time": "2023-01-21T19:03:05.861Z"
   },
   {
    "duration": 0,
    "start_time": "2023-01-21T19:03:05.862Z"
   },
   {
    "duration": 0,
    "start_time": "2023-01-21T19:03:05.864Z"
   },
   {
    "duration": 0,
    "start_time": "2023-01-21T19:03:05.865Z"
   },
   {
    "duration": 0,
    "start_time": "2023-01-21T19:03:05.867Z"
   },
   {
    "duration": 0,
    "start_time": "2023-01-21T19:03:05.869Z"
   },
   {
    "duration": 0,
    "start_time": "2023-01-21T19:03:05.871Z"
   },
   {
    "duration": 0,
    "start_time": "2023-01-21T19:03:05.872Z"
   },
   {
    "duration": 0,
    "start_time": "2023-01-21T19:03:05.873Z"
   },
   {
    "duration": 0,
    "start_time": "2023-01-21T19:03:05.875Z"
   },
   {
    "duration": 0,
    "start_time": "2023-01-21T19:03:05.876Z"
   },
   {
    "duration": 0,
    "start_time": "2023-01-21T19:03:05.877Z"
   },
   {
    "duration": 1,
    "start_time": "2023-01-21T19:03:05.878Z"
   },
   {
    "duration": 0,
    "start_time": "2023-01-21T19:03:05.880Z"
   },
   {
    "duration": 0,
    "start_time": "2023-01-21T19:03:05.881Z"
   },
   {
    "duration": 0,
    "start_time": "2023-01-21T19:03:05.883Z"
   },
   {
    "duration": 0,
    "start_time": "2023-01-21T19:03:05.891Z"
   },
   {
    "duration": 0,
    "start_time": "2023-01-21T19:03:05.892Z"
   },
   {
    "duration": 2451,
    "start_time": "2023-01-21T19:05:00.002Z"
   },
   {
    "duration": 6,
    "start_time": "2023-01-21T19:13:51.227Z"
   },
   {
    "duration": 7,
    "start_time": "2023-01-21T19:14:07.633Z"
   },
   {
    "duration": 117,
    "start_time": "2023-01-21T19:25:50.307Z"
   },
   {
    "duration": 7,
    "start_time": "2023-01-21T19:26:33.629Z"
   },
   {
    "duration": 28,
    "start_time": "2023-01-21T19:26:40.281Z"
   },
   {
    "duration": 21,
    "start_time": "2023-01-21T19:26:42.609Z"
   },
   {
    "duration": 14,
    "start_time": "2023-01-21T19:26:43.553Z"
   },
   {
    "duration": 20,
    "start_time": "2023-01-21T19:26:45.133Z"
   },
   {
    "duration": 13,
    "start_time": "2023-01-21T19:26:53.421Z"
   },
   {
    "duration": 24718,
    "start_time": "2023-01-21T19:26:55.840Z"
   },
   {
    "duration": 1536,
    "start_time": "2023-01-21T19:27:40.318Z"
   },
   {
    "duration": 185,
    "start_time": "2023-01-21T19:27:41.856Z"
   },
   {
    "duration": 2962,
    "start_time": "2023-01-21T19:27:42.043Z"
   },
   {
    "duration": 33,
    "start_time": "2023-01-21T19:27:45.008Z"
   },
   {
    "duration": 26,
    "start_time": "2023-01-21T19:27:45.044Z"
   },
   {
    "duration": 92,
    "start_time": "2023-01-21T19:27:45.072Z"
   },
   {
    "duration": 60,
    "start_time": "2023-01-21T19:27:45.166Z"
   },
   {
    "duration": 4,
    "start_time": "2023-01-21T19:27:45.228Z"
   },
   {
    "duration": 14,
    "start_time": "2023-01-21T19:27:45.234Z"
   },
   {
    "duration": 11,
    "start_time": "2023-01-21T19:27:45.252Z"
   },
   {
    "duration": 38,
    "start_time": "2023-01-21T19:27:45.265Z"
   },
   {
    "duration": 36,
    "start_time": "2023-01-21T19:27:45.307Z"
   },
   {
    "duration": 16,
    "start_time": "2023-01-21T19:27:45.345Z"
   },
   {
    "duration": 11,
    "start_time": "2023-01-21T19:27:45.363Z"
   },
   {
    "duration": 76,
    "start_time": "2023-01-21T19:27:45.377Z"
   },
   {
    "duration": 18,
    "start_time": "2023-01-21T19:27:45.455Z"
   },
   {
    "duration": 20,
    "start_time": "2023-01-21T19:27:45.474Z"
   },
   {
    "duration": 138,
    "start_time": "2023-01-21T19:27:45.498Z"
   },
   {
    "duration": 20,
    "start_time": "2023-01-21T19:27:45.642Z"
   },
   {
    "duration": 104,
    "start_time": "2023-01-21T19:27:45.664Z"
   },
   {
    "duration": 0,
    "start_time": "2023-01-21T19:27:45.771Z"
   },
   {
    "duration": 0,
    "start_time": "2023-01-21T19:27:45.773Z"
   },
   {
    "duration": 0,
    "start_time": "2023-01-21T19:27:45.775Z"
   },
   {
    "duration": 0,
    "start_time": "2023-01-21T19:27:45.776Z"
   },
   {
    "duration": 0,
    "start_time": "2023-01-21T19:27:45.778Z"
   },
   {
    "duration": 0,
    "start_time": "2023-01-21T19:27:45.780Z"
   },
   {
    "duration": 0,
    "start_time": "2023-01-21T19:27:45.781Z"
   },
   {
    "duration": 0,
    "start_time": "2023-01-21T19:27:45.782Z"
   },
   {
    "duration": 0,
    "start_time": "2023-01-21T19:27:45.795Z"
   },
   {
    "duration": 0,
    "start_time": "2023-01-21T19:27:45.796Z"
   },
   {
    "duration": 0,
    "start_time": "2023-01-21T19:27:45.797Z"
   },
   {
    "duration": 0,
    "start_time": "2023-01-21T19:27:45.798Z"
   },
   {
    "duration": 0,
    "start_time": "2023-01-21T19:27:45.800Z"
   },
   {
    "duration": 0,
    "start_time": "2023-01-21T19:27:45.801Z"
   },
   {
    "duration": 0,
    "start_time": "2023-01-21T19:27:45.802Z"
   },
   {
    "duration": 0,
    "start_time": "2023-01-21T19:27:45.803Z"
   },
   {
    "duration": 0,
    "start_time": "2023-01-21T19:27:45.804Z"
   },
   {
    "duration": 0,
    "start_time": "2023-01-21T19:27:45.805Z"
   },
   {
    "duration": 0,
    "start_time": "2023-01-21T19:27:45.807Z"
   },
   {
    "duration": 0,
    "start_time": "2023-01-21T19:27:45.808Z"
   },
   {
    "duration": 0,
    "start_time": "2023-01-21T19:27:45.810Z"
   },
   {
    "duration": 0,
    "start_time": "2023-01-21T19:27:45.811Z"
   },
   {
    "duration": 0,
    "start_time": "2023-01-21T19:27:45.813Z"
   },
   {
    "duration": 0,
    "start_time": "2023-01-21T19:27:45.815Z"
   },
   {
    "duration": 0,
    "start_time": "2023-01-21T19:27:45.816Z"
   },
   {
    "duration": 108,
    "start_time": "2023-01-21T19:27:58.452Z"
   },
   {
    "duration": 88,
    "start_time": "2023-01-21T19:28:17.322Z"
   },
   {
    "duration": 34,
    "start_time": "2023-01-21T19:28:21.780Z"
   },
   {
    "duration": 177,
    "start_time": "2023-01-21T19:28:28.634Z"
   },
   {
    "duration": 8,
    "start_time": "2023-01-21T19:34:59.374Z"
   },
   {
    "duration": 8,
    "start_time": "2023-01-21T19:35:05.891Z"
   },
   {
    "duration": 12,
    "start_time": "2023-01-21T19:35:49.721Z"
   },
   {
    "duration": 7,
    "start_time": "2023-01-21T19:35:49.949Z"
   },
   {
    "duration": 60,
    "start_time": "2023-01-21T19:36:25.813Z"
   },
   {
    "duration": 6,
    "start_time": "2023-01-21T19:37:41.930Z"
   },
   {
    "duration": 1568,
    "start_time": "2023-01-21T19:37:49.575Z"
   },
   {
    "duration": 163,
    "start_time": "2023-01-21T19:37:51.145Z"
   },
   {
    "duration": 2971,
    "start_time": "2023-01-21T19:37:51.310Z"
   },
   {
    "duration": 26,
    "start_time": "2023-01-21T19:37:54.310Z"
   },
   {
    "duration": 15,
    "start_time": "2023-01-21T19:37:54.339Z"
   },
   {
    "duration": 88,
    "start_time": "2023-01-21T19:37:54.357Z"
   },
   {
    "duration": 46,
    "start_time": "2023-01-21T19:37:54.448Z"
   },
   {
    "duration": 12,
    "start_time": "2023-01-21T19:37:54.499Z"
   },
   {
    "duration": 19,
    "start_time": "2023-01-21T19:37:54.514Z"
   },
   {
    "duration": 13,
    "start_time": "2023-01-21T19:37:54.537Z"
   },
   {
    "duration": 15,
    "start_time": "2023-01-21T19:37:54.553Z"
   },
   {
    "duration": 18,
    "start_time": "2023-01-21T19:37:54.570Z"
   },
   {
    "duration": 40,
    "start_time": "2023-01-21T19:37:54.591Z"
   },
   {
    "duration": 10,
    "start_time": "2023-01-21T19:37:54.633Z"
   },
   {
    "duration": 15,
    "start_time": "2023-01-21T19:37:54.646Z"
   },
   {
    "duration": 35,
    "start_time": "2023-01-21T19:37:54.663Z"
   },
   {
    "duration": 14,
    "start_time": "2023-01-21T19:37:54.701Z"
   },
   {
    "duration": 83,
    "start_time": "2023-01-21T19:37:54.723Z"
   },
   {
    "duration": 19,
    "start_time": "2023-01-21T19:37:54.809Z"
   },
   {
    "duration": 103,
    "start_time": "2023-01-21T19:37:54.830Z"
   },
   {
    "duration": 19,
    "start_time": "2023-01-21T19:37:54.936Z"
   },
   {
    "duration": 169,
    "start_time": "2023-01-21T19:37:54.957Z"
   },
   {
    "duration": 6,
    "start_time": "2023-01-21T19:37:55.130Z"
   },
   {
    "duration": 11,
    "start_time": "2023-01-21T19:37:55.138Z"
   },
   {
    "duration": 8,
    "start_time": "2023-01-21T19:37:55.152Z"
   },
   {
    "duration": 87,
    "start_time": "2023-01-21T19:37:55.162Z"
   },
   {
    "duration": 4,
    "start_time": "2023-01-21T19:37:55.252Z"
   },
   {
    "duration": 16,
    "start_time": "2023-01-21T19:37:55.261Z"
   },
   {
    "duration": 21,
    "start_time": "2023-01-21T19:37:55.279Z"
   },
   {
    "duration": 21,
    "start_time": "2023-01-21T19:37:55.318Z"
   },
   {
    "duration": 879,
    "start_time": "2023-01-21T19:37:55.341Z"
   },
   {
    "duration": 827,
    "start_time": "2023-01-21T19:37:56.223Z"
   },
   {
    "duration": 1042,
    "start_time": "2023-01-21T19:37:57.052Z"
   },
   {
    "duration": 958,
    "start_time": "2023-01-21T19:37:58.097Z"
   },
   {
    "duration": 1058,
    "start_time": "2023-01-21T19:37:59.057Z"
   },
   {
    "duration": 879,
    "start_time": "2023-01-21T19:38:00.128Z"
   },
   {
    "duration": 739,
    "start_time": "2023-01-21T19:38:01.015Z"
   },
   {
    "duration": 1000,
    "start_time": "2023-01-21T19:38:01.756Z"
   },
   {
    "duration": 815,
    "start_time": "2023-01-21T19:38:02.758Z"
   },
   {
    "duration": 840,
    "start_time": "2023-01-21T19:38:03.575Z"
   },
   {
    "duration": 953,
    "start_time": "2023-01-21T19:38:04.417Z"
   },
   {
    "duration": 852,
    "start_time": "2023-01-21T19:38:05.373Z"
   },
   {
    "duration": 1864,
    "start_time": "2023-01-21T19:38:06.231Z"
   },
   {
    "duration": 851,
    "start_time": "2023-01-21T19:38:08.097Z"
   },
   {
    "duration": 828,
    "start_time": "2023-01-21T19:38:08.951Z"
   },
   {
    "duration": 62,
    "start_time": "2023-01-21T19:39:26.708Z"
   },
   {
    "duration": 7,
    "start_time": "2023-01-21T19:41:27.960Z"
   },
   {
    "duration": 8,
    "start_time": "2023-01-21T19:41:30.542Z"
   },
   {
    "duration": 1744,
    "start_time": "2023-01-21T19:41:44.127Z"
   },
   {
    "duration": 232,
    "start_time": "2023-01-21T19:41:45.874Z"
   },
   {
    "duration": 3722,
    "start_time": "2023-01-21T19:41:46.108Z"
   },
   {
    "duration": 53,
    "start_time": "2023-01-21T19:41:49.833Z"
   },
   {
    "duration": 137,
    "start_time": "2023-01-21T19:41:49.893Z"
   },
   {
    "duration": 249,
    "start_time": "2023-01-21T19:41:50.032Z"
   },
   {
    "duration": 47,
    "start_time": "2023-01-21T19:41:50.283Z"
   },
   {
    "duration": 75,
    "start_time": "2023-01-21T19:41:50.332Z"
   },
   {
    "duration": 157,
    "start_time": "2023-01-21T19:41:50.410Z"
   },
   {
    "duration": 156,
    "start_time": "2023-01-21T19:41:50.570Z"
   },
   {
    "duration": 154,
    "start_time": "2023-01-21T19:41:50.728Z"
   },
   {
    "duration": 121,
    "start_time": "2023-01-21T19:41:50.885Z"
   },
   {
    "duration": 143,
    "start_time": "2023-01-21T19:41:51.009Z"
   },
   {
    "duration": 27,
    "start_time": "2023-01-21T19:41:51.160Z"
   },
   {
    "duration": 122,
    "start_time": "2023-01-21T19:41:51.190Z"
   },
   {
    "duration": 150,
    "start_time": "2023-01-21T19:41:51.314Z"
   },
   {
    "duration": 113,
    "start_time": "2023-01-21T19:41:51.466Z"
   },
   {
    "duration": 174,
    "start_time": "2023-01-21T19:41:51.584Z"
   },
   {
    "duration": 48,
    "start_time": "2023-01-21T19:41:51.760Z"
   },
   {
    "duration": 228,
    "start_time": "2023-01-21T19:41:51.815Z"
   },
   {
    "duration": 95,
    "start_time": "2023-01-21T19:41:52.051Z"
   },
   {
    "duration": 323,
    "start_time": "2023-01-21T19:41:52.155Z"
   },
   {
    "duration": 13,
    "start_time": "2023-01-21T19:41:52.487Z"
   },
   {
    "duration": 43,
    "start_time": "2023-01-21T19:41:52.512Z"
   },
   {
    "duration": 74,
    "start_time": "2023-01-21T19:41:52.563Z"
   },
   {
    "duration": 243,
    "start_time": "2023-01-21T19:41:52.648Z"
   },
   {
    "duration": 10,
    "start_time": "2023-01-21T19:41:52.897Z"
   },
   {
    "duration": 94,
    "start_time": "2023-01-21T19:41:52.917Z"
   },
   {
    "duration": 54,
    "start_time": "2023-01-21T19:41:53.017Z"
   },
   {
    "duration": 99,
    "start_time": "2023-01-21T19:41:53.074Z"
   },
   {
    "duration": 1218,
    "start_time": "2023-01-21T19:41:53.175Z"
   },
   {
    "duration": 908,
    "start_time": "2023-01-21T19:41:54.396Z"
   },
   {
    "duration": 1261,
    "start_time": "2023-01-21T19:41:55.316Z"
   },
   {
    "duration": 1033,
    "start_time": "2023-01-21T19:41:56.579Z"
   },
   {
    "duration": 1136,
    "start_time": "2023-01-21T19:41:57.619Z"
   },
   {
    "duration": 899,
    "start_time": "2023-01-21T19:41:58.762Z"
   },
   {
    "duration": 871,
    "start_time": "2023-01-21T19:41:59.668Z"
   },
   {
    "duration": 1199,
    "start_time": "2023-01-21T19:42:00.547Z"
   },
   {
    "duration": 977,
    "start_time": "2023-01-21T19:42:01.752Z"
   },
   {
    "duration": 986,
    "start_time": "2023-01-21T19:42:02.738Z"
   },
   {
    "duration": 1098,
    "start_time": "2023-01-21T19:42:03.729Z"
   },
   {
    "duration": 933,
    "start_time": "2023-01-21T19:42:04.834Z"
   },
   {
    "duration": 1947,
    "start_time": "2023-01-21T19:42:05.769Z"
   },
   {
    "duration": 848,
    "start_time": "2023-01-21T19:42:07.725Z"
   },
   {
    "duration": 935,
    "start_time": "2023-01-21T19:42:08.575Z"
   },
   {
    "duration": 83,
    "start_time": "2023-01-21T19:42:09.584Z"
   },
   {
    "duration": 66,
    "start_time": "2023-01-21T19:46:52.962Z"
   },
   {
    "duration": 1964,
    "start_time": "2023-01-21T20:14:22.967Z"
   },
   {
    "duration": 2303,
    "start_time": "2023-01-21T20:15:16.851Z"
   },
   {
    "duration": 26,
    "start_time": "2023-01-21T20:15:32.231Z"
   },
   {
    "duration": 55,
    "start_time": "2023-01-22T09:01:55.028Z"
   },
   {
    "duration": 6,
    "start_time": "2023-01-22T09:02:15.924Z"
   },
   {
    "duration": 1339,
    "start_time": "2023-01-22T09:02:27.680Z"
   },
   {
    "duration": 388,
    "start_time": "2023-01-22T09:02:30.839Z"
   },
   {
    "duration": 2033,
    "start_time": "2023-01-22T09:02:31.596Z"
   },
   {
    "duration": 28,
    "start_time": "2023-01-22T09:02:33.631Z"
   },
   {
    "duration": 9,
    "start_time": "2023-01-22T09:02:34.168Z"
   },
   {
    "duration": 54,
    "start_time": "2023-01-22T09:02:34.621Z"
   },
   {
    "duration": 28,
    "start_time": "2023-01-22T09:02:35.076Z"
   },
   {
    "duration": 4,
    "start_time": "2023-01-22T09:02:35.513Z"
   },
   {
    "duration": 3,
    "start_time": "2023-01-22T09:02:35.971Z"
   },
   {
    "duration": 4,
    "start_time": "2023-01-22T09:02:36.180Z"
   },
   {
    "duration": 1446,
    "start_time": "2023-01-22T09:02:36.827Z"
   },
   {
    "duration": 6,
    "start_time": "2023-01-22T09:02:38.803Z"
   },
   {
    "duration": 9,
    "start_time": "2023-01-22T09:02:40.167Z"
   },
   {
    "duration": 8,
    "start_time": "2023-01-22T09:02:40.572Z"
   },
   {
    "duration": 11,
    "start_time": "2023-01-22T09:02:40.984Z"
   },
   {
    "duration": 14,
    "start_time": "2023-01-22T09:02:41.431Z"
   },
   {
    "duration": 11,
    "start_time": "2023-01-22T09:02:42.791Z"
   },
   {
    "duration": 37,
    "start_time": "2023-01-22T09:02:43.271Z"
   },
   {
    "duration": 10,
    "start_time": "2023-01-22T09:02:43.696Z"
   },
   {
    "duration": 55,
    "start_time": "2023-01-22T09:02:44.101Z"
   },
   {
    "duration": 15,
    "start_time": "2023-01-22T09:02:45.070Z"
   },
   {
    "duration": 92,
    "start_time": "2023-01-22T09:02:45.825Z"
   },
   {
    "duration": 4,
    "start_time": "2023-01-22T09:02:51.436Z"
   },
   {
    "duration": 5,
    "start_time": "2023-01-22T09:02:52.009Z"
   },
   {
    "duration": 5,
    "start_time": "2023-01-22T09:02:52.594Z"
   },
   {
    "duration": 27,
    "start_time": "2023-01-22T09:02:53.338Z"
   },
   {
    "duration": 3,
    "start_time": "2023-01-22T09:02:55.794Z"
   },
   {
    "duration": 11,
    "start_time": "2023-01-22T09:02:56.440Z"
   },
   {
    "duration": 4,
    "start_time": "2023-01-22T09:02:56.988Z"
   },
   {
    "duration": 5,
    "start_time": "2023-01-22T09:02:57.867Z"
   },
   {
    "duration": 539,
    "start_time": "2023-01-22T09:03:02.320Z"
   },
   {
    "duration": 576,
    "start_time": "2023-01-22T09:03:06.677Z"
   },
   {
    "duration": 680,
    "start_time": "2023-01-22T09:03:10.177Z"
   },
   {
    "duration": 595,
    "start_time": "2023-01-22T09:03:14.440Z"
   },
   {
    "duration": 636,
    "start_time": "2023-01-22T09:03:29.167Z"
   },
   {
    "duration": 535,
    "start_time": "2023-01-22T09:03:36.243Z"
   },
   {
    "duration": 525,
    "start_time": "2023-01-22T09:03:43.234Z"
   },
   {
    "duration": 623,
    "start_time": "2023-01-22T09:03:48.872Z"
   },
   {
    "duration": 91,
    "start_time": "2023-01-22T09:03:54.870Z"
   },
   {
    "duration": 15,
    "start_time": "2023-01-22T09:06:34.076Z"
   },
   {
    "duration": 1113,
    "start_time": "2023-01-22T09:06:53.193Z"
   },
   {
    "duration": 114,
    "start_time": "2023-01-22T09:06:54.308Z"
   },
   {
    "duration": 1968,
    "start_time": "2023-01-22T09:06:54.424Z"
   },
   {
    "duration": 14,
    "start_time": "2023-01-22T09:06:56.394Z"
   },
   {
    "duration": 12,
    "start_time": "2023-01-22T09:06:56.409Z"
   },
   {
    "duration": 64,
    "start_time": "2023-01-22T09:06:56.423Z"
   },
   {
    "duration": 21,
    "start_time": "2023-01-22T09:06:56.489Z"
   },
   {
    "duration": 3,
    "start_time": "2023-01-22T09:06:56.511Z"
   },
   {
    "duration": 5,
    "start_time": "2023-01-22T09:06:56.516Z"
   },
   {
    "duration": 4,
    "start_time": "2023-01-22T09:06:56.523Z"
   },
   {
    "duration": 1436,
    "start_time": "2023-01-22T09:06:56.544Z"
   },
   {
    "duration": 5,
    "start_time": "2023-01-22T09:06:57.982Z"
   },
   {
    "duration": 14,
    "start_time": "2023-01-22T09:06:57.989Z"
   },
   {
    "duration": 7,
    "start_time": "2023-01-22T09:06:58.005Z"
   },
   {
    "duration": 12,
    "start_time": "2023-01-22T09:06:58.014Z"
   },
   {
    "duration": 32,
    "start_time": "2023-01-22T09:06:58.028Z"
   },
   {
    "duration": 12,
    "start_time": "2023-01-22T09:06:58.061Z"
   },
   {
    "duration": 43,
    "start_time": "2023-01-22T09:06:58.074Z"
   },
   {
    "duration": 28,
    "start_time": "2023-01-22T09:06:58.119Z"
   },
   {
    "duration": 58,
    "start_time": "2023-01-22T09:06:58.149Z"
   },
   {
    "duration": 17,
    "start_time": "2023-01-22T09:06:58.209Z"
   },
   {
    "duration": 137,
    "start_time": "2023-01-22T09:06:58.228Z"
   },
   {
    "duration": 4,
    "start_time": "2023-01-22T09:06:58.366Z"
   },
   {
    "duration": 14,
    "start_time": "2023-01-22T09:06:58.372Z"
   },
   {
    "duration": 23,
    "start_time": "2023-01-22T09:06:58.387Z"
   },
   {
    "duration": 30,
    "start_time": "2023-01-22T09:06:58.412Z"
   },
   {
    "duration": 8,
    "start_time": "2023-01-22T09:06:58.451Z"
   },
   {
    "duration": 10,
    "start_time": "2023-01-22T09:06:58.461Z"
   },
   {
    "duration": 11,
    "start_time": "2023-01-22T09:06:58.473Z"
   },
   {
    "duration": 8,
    "start_time": "2023-01-22T09:06:58.485Z"
   },
   {
    "duration": 526,
    "start_time": "2023-01-22T09:06:58.494Z"
   },
   {
    "duration": 519,
    "start_time": "2023-01-22T09:06:59.022Z"
   },
   {
    "duration": 653,
    "start_time": "2023-01-22T09:06:59.543Z"
   },
   {
    "duration": 542,
    "start_time": "2023-01-22T09:07:00.197Z"
   },
   {
    "duration": 635,
    "start_time": "2023-01-22T09:07:00.744Z"
   },
   {
    "duration": 540,
    "start_time": "2023-01-22T09:07:01.381Z"
   },
   {
    "duration": 552,
    "start_time": "2023-01-22T09:07:01.922Z"
   },
   {
    "duration": 640,
    "start_time": "2023-01-22T09:07:02.476Z"
   },
   {
    "duration": 113,
    "start_time": "2023-01-22T09:07:03.118Z"
   },
   {
    "duration": 0,
    "start_time": "2023-01-22T09:07:03.232Z"
   },
   {
    "duration": 0,
    "start_time": "2023-01-22T09:07:03.233Z"
   },
   {
    "duration": 0,
    "start_time": "2023-01-22T09:07:03.234Z"
   },
   {
    "duration": 0,
    "start_time": "2023-01-22T09:07:03.245Z"
   },
   {
    "duration": 0,
    "start_time": "2023-01-22T09:07:03.245Z"
   },
   {
    "duration": 0,
    "start_time": "2023-01-22T09:07:03.246Z"
   },
   {
    "duration": 0,
    "start_time": "2023-01-22T09:07:03.246Z"
   },
   {
    "duration": 15,
    "start_time": "2023-01-22T09:11:46.385Z"
   },
   {
    "duration": 553,
    "start_time": "2023-01-22T09:12:19.043Z"
   },
   {
    "duration": 569,
    "start_time": "2023-01-22T09:12:51.860Z"
   },
   {
    "duration": 767,
    "start_time": "2023-01-22T09:13:04.897Z"
   },
   {
    "duration": 525,
    "start_time": "2023-01-22T09:13:19.435Z"
   },
   {
    "duration": 493,
    "start_time": "2023-01-22T09:13:29.004Z"
   },
   {
    "duration": 738,
    "start_time": "2023-01-22T09:14:02.001Z"
   },
   {
    "duration": 532,
    "start_time": "2023-01-22T09:14:11.662Z"
   },
   {
    "duration": 528,
    "start_time": "2023-01-22T09:14:19.882Z"
   },
   {
    "duration": 732,
    "start_time": "2023-01-22T09:14:28.865Z"
   },
   {
    "duration": 519,
    "start_time": "2023-01-22T09:14:42.605Z"
   },
   {
    "duration": 571,
    "start_time": "2023-01-22T09:15:02.297Z"
   },
   {
    "duration": 682,
    "start_time": "2023-01-22T09:15:40.745Z"
   },
   {
    "duration": 622,
    "start_time": "2023-01-22T09:16:31.610Z"
   },
   {
    "duration": 8,
    "start_time": "2023-01-22T09:40:17.896Z"
   },
   {
    "duration": 6,
    "start_time": "2023-01-22T09:40:59.497Z"
   },
   {
    "duration": 5,
    "start_time": "2023-01-22T09:41:00.655Z"
   },
   {
    "duration": 24,
    "start_time": "2023-01-22T09:41:01.284Z"
   },
   {
    "duration": 9,
    "start_time": "2023-01-22T09:41:22.488Z"
   },
   {
    "duration": 9,
    "start_time": "2023-01-22T09:41:52.639Z"
   },
   {
    "duration": 68,
    "start_time": "2023-01-22T09:53:53.082Z"
   },
   {
    "duration": 574,
    "start_time": "2023-01-22T10:11:32.578Z"
   },
   {
    "duration": 100,
    "start_time": "2023-01-22T10:23:23.412Z"
   },
   {
    "duration": 5,
    "start_time": "2023-01-22T10:40:19.569Z"
   },
   {
    "duration": 327,
    "start_time": "2023-01-22T10:41:34.376Z"
   },
   {
    "duration": 235,
    "start_time": "2023-01-22T10:44:52.426Z"
   },
   {
    "duration": 145,
    "start_time": "2023-01-22T10:46:11.060Z"
   },
   {
    "duration": 21,
    "start_time": "2023-01-22T10:47:15.265Z"
   },
   {
    "duration": 24,
    "start_time": "2023-01-22T10:48:30.288Z"
   },
   {
    "duration": 190,
    "start_time": "2023-01-22T10:49:27.117Z"
   },
   {
    "duration": 36,
    "start_time": "2023-01-22T10:51:24.035Z"
   },
   {
    "duration": 33,
    "start_time": "2023-01-22T10:51:31.337Z"
   },
   {
    "duration": 343,
    "start_time": "2023-01-22T10:52:14.694Z"
   },
   {
    "duration": 64,
    "start_time": "2023-01-22T10:52:51.130Z"
   },
   {
    "duration": 320,
    "start_time": "2023-01-22T10:53:04.178Z"
   },
   {
    "duration": 224,
    "start_time": "2023-01-22T10:53:06.006Z"
   },
   {
    "duration": 50,
    "start_time": "2023-01-22T10:58:13.374Z"
   },
   {
    "duration": 63,
    "start_time": "2023-01-22T11:02:02.675Z"
   },
   {
    "duration": 55,
    "start_time": "2023-01-22T11:03:39.361Z"
   },
   {
    "duration": 9,
    "start_time": "2023-01-22T11:21:24.500Z"
   },
   {
    "duration": 156,
    "start_time": "2023-01-22T11:21:52.364Z"
   },
   {
    "duration": 392,
    "start_time": "2023-01-22T11:26:07.038Z"
   },
   {
    "duration": 173,
    "start_time": "2023-01-22T11:27:26.762Z"
   },
   {
    "duration": 139,
    "start_time": "2023-01-22T11:28:31.776Z"
   },
   {
    "duration": 184,
    "start_time": "2023-01-22T11:30:35.315Z"
   },
   {
    "duration": 432,
    "start_time": "2023-01-22T11:32:58.630Z"
   },
   {
    "duration": 430,
    "start_time": "2023-01-22T11:33:20.905Z"
   },
   {
    "duration": 477,
    "start_time": "2023-01-22T11:35:31.158Z"
   },
   {
    "duration": 13,
    "start_time": "2023-01-22T13:07:28.792Z"
   },
   {
    "duration": 12,
    "start_time": "2023-01-22T13:19:02.557Z"
   },
   {
    "duration": 9,
    "start_time": "2023-01-22T13:20:49.052Z"
   },
   {
    "duration": 49,
    "start_time": "2023-01-22T13:26:09.233Z"
   },
   {
    "duration": 51,
    "start_time": "2023-01-22T13:26:21.063Z"
   },
   {
    "duration": 54,
    "start_time": "2023-01-22T13:28:01.702Z"
   },
   {
    "duration": 13,
    "start_time": "2023-01-22T13:28:27.077Z"
   },
   {
    "duration": 7,
    "start_time": "2023-01-22T13:29:21.162Z"
   },
   {
    "duration": 7,
    "start_time": "2023-01-22T13:29:28.833Z"
   },
   {
    "duration": 8,
    "start_time": "2023-01-22T13:29:40.136Z"
   },
   {
    "duration": 8,
    "start_time": "2023-01-22T13:30:13.657Z"
   },
   {
    "duration": 868,
    "start_time": "2023-01-22T13:43:39.880Z"
   },
   {
    "duration": 20,
    "start_time": "2023-01-22T13:45:23.483Z"
   },
   {
    "duration": 22,
    "start_time": "2023-01-22T13:48:19.877Z"
   },
   {
    "duration": 19,
    "start_time": "2023-01-22T13:53:36.554Z"
   },
   {
    "duration": 20,
    "start_time": "2023-01-22T13:54:55.912Z"
   },
   {
    "duration": 22,
    "start_time": "2023-01-22T13:55:16.420Z"
   },
   {
    "duration": 1050,
    "start_time": "2023-01-22T13:55:40.183Z"
   },
   {
    "duration": 116,
    "start_time": "2023-01-22T13:55:41.234Z"
   },
   {
    "duration": 1812,
    "start_time": "2023-01-22T13:55:41.351Z"
   },
   {
    "duration": 16,
    "start_time": "2023-01-22T13:55:43.165Z"
   },
   {
    "duration": 8,
    "start_time": "2023-01-22T13:55:43.183Z"
   },
   {
    "duration": 77,
    "start_time": "2023-01-22T13:55:43.193Z"
   },
   {
    "duration": 22,
    "start_time": "2023-01-22T13:55:43.271Z"
   },
   {
    "duration": 3,
    "start_time": "2023-01-22T13:55:43.295Z"
   },
   {
    "duration": 5,
    "start_time": "2023-01-22T13:55:43.299Z"
   },
   {
    "duration": 5,
    "start_time": "2023-01-22T13:55:43.305Z"
   },
   {
    "duration": 1388,
    "start_time": "2023-01-22T13:55:43.311Z"
   },
   {
    "duration": 7,
    "start_time": "2023-01-22T13:55:44.701Z"
   },
   {
    "duration": 19,
    "start_time": "2023-01-22T13:55:44.710Z"
   },
   {
    "duration": 16,
    "start_time": "2023-01-22T13:55:44.733Z"
   },
   {
    "duration": 17,
    "start_time": "2023-01-22T13:55:44.751Z"
   },
   {
    "duration": 14,
    "start_time": "2023-01-22T13:55:44.771Z"
   },
   {
    "duration": 9,
    "start_time": "2023-01-22T13:55:44.786Z"
   },
   {
    "duration": 61,
    "start_time": "2023-01-22T13:55:44.799Z"
   },
   {
    "duration": 12,
    "start_time": "2023-01-22T13:55:44.862Z"
   },
   {
    "duration": 47,
    "start_time": "2023-01-22T13:55:44.875Z"
   },
   {
    "duration": 31,
    "start_time": "2023-01-22T13:55:44.923Z"
   },
   {
    "duration": 106,
    "start_time": "2023-01-22T13:55:44.955Z"
   },
   {
    "duration": 5,
    "start_time": "2023-01-22T13:55:45.063Z"
   },
   {
    "duration": 36,
    "start_time": "2023-01-22T13:55:45.070Z"
   },
   {
    "duration": 35,
    "start_time": "2023-01-22T13:55:45.108Z"
   },
   {
    "duration": 39,
    "start_time": "2023-01-22T13:55:45.144Z"
   },
   {
    "duration": 12,
    "start_time": "2023-01-22T13:55:45.184Z"
   },
   {
    "duration": 26,
    "start_time": "2023-01-22T13:55:45.198Z"
   },
   {
    "duration": 17,
    "start_time": "2023-01-22T13:55:45.225Z"
   },
   {
    "duration": 15,
    "start_time": "2023-01-22T13:55:45.243Z"
   },
   {
    "duration": 510,
    "start_time": "2023-01-22T13:55:45.259Z"
   },
   {
    "duration": 491,
    "start_time": "2023-01-22T13:55:45.770Z"
   },
   {
    "duration": 611,
    "start_time": "2023-01-22T13:55:46.262Z"
   },
   {
    "duration": 670,
    "start_time": "2023-01-22T13:55:46.874Z"
   },
   {
    "duration": 630,
    "start_time": "2023-01-22T13:55:47.546Z"
   },
   {
    "duration": 522,
    "start_time": "2023-01-22T13:55:48.177Z"
   },
   {
    "duration": 571,
    "start_time": "2023-01-22T13:55:48.700Z"
   },
   {
    "duration": 660,
    "start_time": "2023-01-22T13:55:49.273Z"
   },
   {
    "duration": 517,
    "start_time": "2023-01-22T13:55:49.935Z"
   },
   {
    "duration": 550,
    "start_time": "2023-01-22T13:55:50.455Z"
   },
   {
    "duration": 602,
    "start_time": "2023-01-22T13:55:51.010Z"
   },
   {
    "duration": 541,
    "start_time": "2023-01-22T13:55:51.614Z"
   },
   {
    "duration": 75,
    "start_time": "2023-01-22T13:55:52.157Z"
   },
   {
    "duration": 521,
    "start_time": "2023-01-22T13:55:52.233Z"
   },
   {
    "duration": 203,
    "start_time": "2023-01-22T13:55:52.756Z"
   },
   {
    "duration": 421,
    "start_time": "2023-01-22T13:55:52.961Z"
   },
   {
    "duration": 69,
    "start_time": "2023-01-22T13:55:53.384Z"
   },
   {
    "duration": 0,
    "start_time": "2023-01-22T13:55:53.455Z"
   },
   {
    "duration": 0,
    "start_time": "2023-01-22T13:55:53.456Z"
   },
   {
    "duration": 0,
    "start_time": "2023-01-22T13:55:53.457Z"
   },
   {
    "duration": 0,
    "start_time": "2023-01-22T13:55:53.458Z"
   },
   {
    "duration": 0,
    "start_time": "2023-01-22T13:55:53.459Z"
   },
   {
    "duration": 0,
    "start_time": "2023-01-22T13:55:53.460Z"
   },
   {
    "duration": 0,
    "start_time": "2023-01-22T13:55:53.461Z"
   },
   {
    "duration": 23,
    "start_time": "2023-01-22T13:56:01.486Z"
   },
   {
    "duration": 7,
    "start_time": "2023-01-22T13:57:03.072Z"
   },
   {
    "duration": 7,
    "start_time": "2023-01-22T13:57:08.174Z"
   },
   {
    "duration": 21,
    "start_time": "2023-01-22T13:59:12.214Z"
   },
   {
    "duration": 8,
    "start_time": "2023-01-22T14:01:37.090Z"
   },
   {
    "duration": 42,
    "start_time": "2023-01-22T14:15:33.864Z"
   },
   {
    "duration": 143,
    "start_time": "2023-01-22T14:16:29.117Z"
   },
   {
    "duration": 145,
    "start_time": "2023-01-22T14:17:44.371Z"
   },
   {
    "duration": 154,
    "start_time": "2023-01-22T14:18:15.610Z"
   },
   {
    "duration": 24,
    "start_time": "2023-01-22T14:18:48.671Z"
   },
   {
    "duration": 479,
    "start_time": "2023-01-22T14:19:11.620Z"
   },
   {
    "duration": 68,
    "start_time": "2023-01-22T16:08:50.435Z"
   },
   {
    "duration": 1253,
    "start_time": "2023-01-22T16:09:13.412Z"
   },
   {
    "duration": 323,
    "start_time": "2023-01-22T16:09:14.668Z"
   },
   {
    "duration": 2197,
    "start_time": "2023-01-22T16:09:14.993Z"
   },
   {
    "duration": 22,
    "start_time": "2023-01-22T16:09:17.192Z"
   },
   {
    "duration": 14,
    "start_time": "2023-01-22T16:09:18.722Z"
   },
   {
    "duration": 66,
    "start_time": "2023-01-22T16:09:20.143Z"
   },
   {
    "duration": 34,
    "start_time": "2023-01-22T16:09:21.744Z"
   },
   {
    "duration": 5,
    "start_time": "2023-01-22T16:09:23.128Z"
   },
   {
    "duration": 4,
    "start_time": "2023-01-22T16:09:24.502Z"
   },
   {
    "duration": 5,
    "start_time": "2023-01-22T16:09:25.244Z"
   },
   {
    "duration": 1356,
    "start_time": "2023-01-22T16:09:27.346Z"
   },
   {
    "duration": 8,
    "start_time": "2023-01-22T16:09:28.837Z"
   },
   {
    "duration": 10,
    "start_time": "2023-01-22T16:09:30.908Z"
   },
   {
    "duration": 11,
    "start_time": "2023-01-22T16:09:31.613Z"
   },
   {
    "duration": 11,
    "start_time": "2023-01-22T16:09:32.271Z"
   },
   {
    "duration": 14,
    "start_time": "2023-01-22T16:09:32.974Z"
   },
   {
    "duration": 10,
    "start_time": "2023-01-22T16:09:35.961Z"
   },
   {
    "duration": 52,
    "start_time": "2023-01-22T16:09:36.665Z"
   },
   {
    "duration": 15,
    "start_time": "2023-01-22T16:09:37.581Z"
   },
   {
    "duration": 86,
    "start_time": "2023-01-22T16:09:38.341Z"
   },
   {
    "duration": 21,
    "start_time": "2023-01-22T16:09:40.872Z"
   },
   {
    "duration": 92,
    "start_time": "2023-01-22T16:09:42.536Z"
   },
   {
    "duration": 5,
    "start_time": "2023-01-22T16:09:46.923Z"
   },
   {
    "duration": 7,
    "start_time": "2023-01-22T16:09:47.768Z"
   },
   {
    "duration": 3,
    "start_time": "2023-01-22T16:10:24.929Z"
   },
   {
    "duration": 5,
    "start_time": "2023-01-22T16:10:25.984Z"
   },
   {
    "duration": 6,
    "start_time": "2023-01-22T16:10:27.072Z"
   },
   {
    "duration": 25,
    "start_time": "2023-01-22T16:10:28.785Z"
   },
   {
    "duration": 4,
    "start_time": "2023-01-22T16:10:32.405Z"
   },
   {
    "duration": 11,
    "start_time": "2023-01-22T16:10:33.084Z"
   },
   {
    "duration": 5,
    "start_time": "2023-01-22T16:10:34.954Z"
   },
   {
    "duration": 4,
    "start_time": "2023-01-22T16:10:35.773Z"
   },
   {
    "duration": 527,
    "start_time": "2023-01-22T16:10:39.191Z"
   },
   {
    "duration": 588,
    "start_time": "2023-01-22T16:10:42.718Z"
   },
   {
    "duration": 707,
    "start_time": "2023-01-22T16:10:44.104Z"
   },
   {
    "duration": 568,
    "start_time": "2023-01-22T16:10:45.408Z"
   },
   {
    "duration": 647,
    "start_time": "2023-01-22T16:10:47.776Z"
   },
   {
    "duration": 530,
    "start_time": "2023-01-22T16:10:49.376Z"
   },
   {
    "duration": 592,
    "start_time": "2023-01-22T16:10:50.731Z"
   },
   {
    "duration": 628,
    "start_time": "2023-01-22T16:10:52.066Z"
   },
   {
    "duration": 510,
    "start_time": "2023-01-22T16:10:53.575Z"
   },
   {
    "duration": 701,
    "start_time": "2023-01-22T16:10:55.463Z"
   },
   {
    "duration": 703,
    "start_time": "2023-01-22T16:10:57.216Z"
   },
   {
    "duration": 521,
    "start_time": "2023-01-22T16:10:58.616Z"
   },
   {
    "duration": 76,
    "start_time": "2023-01-22T16:11:01.761Z"
   },
   {
    "duration": 514,
    "start_time": "2023-01-22T16:11:06.354Z"
   },
   {
    "duration": 193,
    "start_time": "2023-01-22T16:11:08.818Z"
   },
   {
    "duration": 514,
    "start_time": "2023-01-22T16:11:15.266Z"
   },
   {
    "duration": 197,
    "start_time": "2023-01-22T16:11:16.487Z"
   },
   {
    "duration": 147,
    "start_time": "2023-01-22T16:11:18.119Z"
   },
   {
    "duration": 176,
    "start_time": "2023-01-22T16:11:20.184Z"
   },
   {
    "duration": 31,
    "start_time": "2023-01-22T16:11:21.652Z"
   },
   {
    "duration": 492,
    "start_time": "2023-01-22T16:11:23.136Z"
   },
   {
    "duration": 4,
    "start_time": "2023-01-22T16:11:26.163Z"
   },
   {
    "duration": 31,
    "start_time": "2023-01-22T16:11:39.506Z"
   },
   {
    "duration": 106,
    "start_time": "2023-01-22T16:30:08.782Z"
   },
   {
    "duration": 49,
    "start_time": "2023-01-22T16:30:39.183Z"
   },
   {
    "duration": 50,
    "start_time": "2023-01-22T16:31:41.305Z"
   },
   {
    "duration": 56,
    "start_time": "2023-01-22T16:32:40.819Z"
   },
   {
    "duration": 114,
    "start_time": "2023-01-22T16:34:29.836Z"
   },
   {
    "duration": 39,
    "start_time": "2023-01-22T16:35:04.819Z"
   },
   {
    "duration": 36,
    "start_time": "2023-01-22T16:38:03.647Z"
   },
   {
    "duration": 18,
    "start_time": "2023-01-22T16:40:29.198Z"
   },
   {
    "duration": 602,
    "start_time": "2023-01-22T16:49:08.170Z"
   },
   {
    "duration": 6,
    "start_time": "2023-01-22T16:50:33.976Z"
   },
   {
    "duration": 6,
    "start_time": "2023-01-22T16:50:38.041Z"
   },
   {
    "duration": 8,
    "start_time": "2023-01-22T16:51:02.175Z"
   },
   {
    "duration": 17,
    "start_time": "2023-01-22T16:52:37.918Z"
   },
   {
    "duration": 10,
    "start_time": "2023-01-22T16:54:39.153Z"
   },
   {
    "duration": 37,
    "start_time": "2023-01-22T17:01:15.728Z"
   },
   {
    "duration": 42,
    "start_time": "2023-01-22T17:07:31.986Z"
   },
   {
    "duration": 8,
    "start_time": "2023-01-22T17:18:44.820Z"
   },
   {
    "duration": 30,
    "start_time": "2023-01-22T17:19:00.823Z"
   },
   {
    "duration": 14,
    "start_time": "2023-01-22T17:20:34.419Z"
   },
   {
    "duration": 11,
    "start_time": "2023-01-22T17:21:58.447Z"
   },
   {
    "duration": 521,
    "start_time": "2023-01-22T17:24:10.448Z"
   },
   {
    "duration": 643,
    "start_time": "2023-01-22T17:24:42.647Z"
   },
   {
    "duration": 520,
    "start_time": "2023-01-22T17:25:39.646Z"
   },
   {
    "duration": 630,
    "start_time": "2023-01-22T17:26:50.752Z"
   },
   {
    "duration": 523,
    "start_time": "2023-01-22T17:27:01.962Z"
   },
   {
    "duration": 519,
    "start_time": "2023-01-22T17:27:19.657Z"
   },
   {
    "duration": 631,
    "start_time": "2023-01-22T17:27:30.931Z"
   },
   {
    "duration": 9,
    "start_time": "2023-01-22T17:29:08.054Z"
   },
   {
    "duration": 4,
    "start_time": "2023-01-22T17:29:19.303Z"
   },
   {
    "duration": 9,
    "start_time": "2023-01-22T17:29:21.389Z"
   },
   {
    "duration": 55,
    "start_time": "2023-01-22T17:31:01.125Z"
   },
   {
    "duration": 734,
    "start_time": "2023-01-22T17:32:10.706Z"
   },
   {
    "duration": 4,
    "start_time": "2023-01-22T17:33:48.211Z"
   },
   {
    "duration": 21,
    "start_time": "2023-01-22T17:34:03.515Z"
   },
   {
    "duration": 13,
    "start_time": "2023-01-22T17:34:55.222Z"
   },
   {
    "duration": 5,
    "start_time": "2023-01-22T17:36:18.962Z"
   },
   {
    "duration": 5,
    "start_time": "2023-01-22T17:36:24.822Z"
   },
   {
    "duration": 10,
    "start_time": "2023-01-22T17:36:39.167Z"
   },
   {
    "duration": 12,
    "start_time": "2023-01-22T17:37:44.280Z"
   },
   {
    "duration": 11,
    "start_time": "2023-01-22T17:37:56.637Z"
   },
   {
    "duration": 10,
    "start_time": "2023-01-22T17:38:08.362Z"
   },
   {
    "duration": 8,
    "start_time": "2023-01-22T17:38:29.702Z"
   },
   {
    "duration": 23,
    "start_time": "2023-01-22T17:38:41.867Z"
   },
   {
    "duration": 9,
    "start_time": "2023-01-22T17:38:58.255Z"
   },
   {
    "duration": 10,
    "start_time": "2023-01-22T17:39:23.252Z"
   },
   {
    "duration": 11,
    "start_time": "2023-01-22T17:39:33.168Z"
   },
   {
    "duration": 507,
    "start_time": "2023-01-22T17:42:28.356Z"
   },
   {
    "duration": 86,
    "start_time": "2023-01-22T17:44:23.463Z"
   },
   {
    "duration": 215,
    "start_time": "2023-01-22T17:46:55.459Z"
   },
   {
    "duration": 17,
    "start_time": "2023-01-22T17:48:05.694Z"
   },
   {
    "duration": 150,
    "start_time": "2023-01-22T17:48:26.941Z"
   },
   {
    "duration": 106,
    "start_time": "2023-01-22T17:49:48.644Z"
   },
   {
    "duration": 682,
    "start_time": "2023-01-22T17:53:38.818Z"
   },
   {
    "duration": 10,
    "start_time": "2023-01-22T17:55:01.766Z"
   },
   {
    "duration": 11,
    "start_time": "2023-01-22T17:58:19.426Z"
   },
   {
    "duration": 833,
    "start_time": "2023-01-22T17:59:54.470Z"
   },
   {
    "duration": 3,
    "start_time": "2023-01-22T18:01:05.082Z"
   },
   {
    "duration": 889,
    "start_time": "2023-01-22T18:04:04.593Z"
   },
   {
    "duration": 3,
    "start_time": "2023-01-22T18:07:27.891Z"
   },
   {
    "duration": 3,
    "start_time": "2023-01-22T18:11:50.890Z"
   },
   {
    "duration": 4,
    "start_time": "2023-01-22T18:12:36.300Z"
   },
   {
    "duration": 3,
    "start_time": "2023-01-22T18:12:56.267Z"
   },
   {
    "duration": 1144,
    "start_time": "2023-01-22T18:13:20.315Z"
   },
   {
    "duration": 118,
    "start_time": "2023-01-22T18:13:21.461Z"
   },
   {
    "duration": 2252,
    "start_time": "2023-01-22T18:13:21.581Z"
   },
   {
    "duration": 20,
    "start_time": "2023-01-22T18:13:23.836Z"
   },
   {
    "duration": 14,
    "start_time": "2023-01-22T18:13:23.865Z"
   },
   {
    "duration": 81,
    "start_time": "2023-01-22T18:13:23.881Z"
   },
   {
    "duration": 39,
    "start_time": "2023-01-22T18:13:23.964Z"
   },
   {
    "duration": 5,
    "start_time": "2023-01-22T18:13:24.005Z"
   },
   {
    "duration": 9,
    "start_time": "2023-01-22T18:13:24.011Z"
   },
   {
    "duration": 7,
    "start_time": "2023-01-22T18:13:24.023Z"
   },
   {
    "duration": 2000,
    "start_time": "2023-01-22T18:13:24.031Z"
   },
   {
    "duration": 7,
    "start_time": "2023-01-22T18:13:26.033Z"
   },
   {
    "duration": 11,
    "start_time": "2023-01-22T18:13:26.050Z"
   },
   {
    "duration": 25,
    "start_time": "2023-01-22T18:13:26.065Z"
   },
   {
    "duration": 11,
    "start_time": "2023-01-22T18:13:26.092Z"
   },
   {
    "duration": 17,
    "start_time": "2023-01-22T18:13:26.105Z"
   },
   {
    "duration": 11,
    "start_time": "2023-01-22T18:13:26.124Z"
   },
   {
    "duration": 49,
    "start_time": "2023-01-22T18:13:26.151Z"
   },
   {
    "duration": 15,
    "start_time": "2023-01-22T18:13:26.202Z"
   },
   {
    "duration": 70,
    "start_time": "2023-01-22T18:13:26.219Z"
   },
   {
    "duration": 20,
    "start_time": "2023-01-22T18:13:26.291Z"
   },
   {
    "duration": 127,
    "start_time": "2023-01-22T18:13:26.313Z"
   },
   {
    "duration": 7,
    "start_time": "2023-01-22T18:13:26.442Z"
   },
   {
    "duration": 32,
    "start_time": "2023-01-22T18:13:26.450Z"
   },
   {
    "duration": 6,
    "start_time": "2023-01-22T18:13:26.484Z"
   },
   {
    "duration": 37,
    "start_time": "2023-01-22T18:13:26.492Z"
   },
   {
    "duration": 4,
    "start_time": "2023-01-22T18:13:26.532Z"
   },
   {
    "duration": 18,
    "start_time": "2023-01-22T18:13:26.540Z"
   },
   {
    "duration": 14,
    "start_time": "2023-01-22T18:13:26.564Z"
   },
   {
    "duration": 9,
    "start_time": "2023-01-22T18:13:26.580Z"
   },
   {
    "duration": 801,
    "start_time": "2023-01-22T18:13:26.591Z"
   },
   {
    "duration": 764,
    "start_time": "2023-01-22T18:13:27.394Z"
   },
   {
    "duration": 700,
    "start_time": "2023-01-22T18:13:28.160Z"
   },
   {
    "duration": 615,
    "start_time": "2023-01-22T18:13:28.861Z"
   },
   {
    "duration": 694,
    "start_time": "2023-01-22T18:13:29.480Z"
   },
   {
    "duration": 621,
    "start_time": "2023-01-22T18:13:30.176Z"
   },
   {
    "duration": 578,
    "start_time": "2023-01-22T18:13:30.799Z"
   },
   {
    "duration": 706,
    "start_time": "2023-01-22T18:13:31.380Z"
   },
   {
    "duration": 584,
    "start_time": "2023-01-22T18:13:32.088Z"
   },
   {
    "duration": 610,
    "start_time": "2023-01-22T18:13:32.675Z"
   },
   {
    "duration": 809,
    "start_time": "2023-01-22T18:13:33.287Z"
   },
   {
    "duration": 677,
    "start_time": "2023-01-22T18:13:34.098Z"
   },
   {
    "duration": 88,
    "start_time": "2023-01-22T18:13:34.777Z"
   },
   {
    "duration": 654,
    "start_time": "2023-01-22T18:13:34.866Z"
   },
   {
    "duration": 287,
    "start_time": "2023-01-22T18:13:35.522Z"
   },
   {
    "duration": 562,
    "start_time": "2023-01-22T18:13:35.811Z"
   },
   {
    "duration": 208,
    "start_time": "2023-01-22T18:13:36.375Z"
   },
   {
    "duration": 194,
    "start_time": "2023-01-22T18:13:36.585Z"
   },
   {
    "duration": 206,
    "start_time": "2023-01-22T18:13:36.781Z"
   },
   {
    "duration": 32,
    "start_time": "2023-01-22T18:13:36.988Z"
   },
   {
    "duration": 519,
    "start_time": "2023-01-22T18:13:37.022Z"
   },
   {
    "duration": 8,
    "start_time": "2023-01-22T18:13:37.543Z"
   },
   {
    "duration": 30,
    "start_time": "2023-01-22T18:13:37.552Z"
   },
   {
    "duration": 16,
    "start_time": "2023-01-22T18:13:37.584Z"
   },
   {
    "duration": 66,
    "start_time": "2023-01-22T18:13:37.602Z"
   },
   {
    "duration": 28,
    "start_time": "2023-01-22T18:13:37.670Z"
   },
   {
    "duration": 2,
    "start_time": "2023-01-22T18:13:37.700Z"
   },
   {
    "duration": 6,
    "start_time": "2023-01-22T18:13:37.713Z"
   },
   {
    "duration": 25,
    "start_time": "2023-01-22T18:13:37.723Z"
   },
   {
    "duration": 1668,
    "start_time": "2023-01-22T18:14:19.198Z"
   },
   {
    "duration": 1606,
    "start_time": "2023-01-22T18:15:18.481Z"
   },
   {
    "duration": 1664,
    "start_time": "2023-01-22T18:16:05.885Z"
   },
   {
    "duration": 12,
    "start_time": "2023-01-22T18:19:20.230Z"
   },
   {
    "duration": 1894,
    "start_time": "2023-01-22T18:21:46.473Z"
   },
   {
    "duration": 120,
    "start_time": "2023-01-22T19:18:59.920Z"
   },
   {
    "duration": 10,
    "start_time": "2023-01-22T19:19:22.535Z"
   },
   {
    "duration": 1200,
    "start_time": "2023-01-22T21:56:36.109Z"
   },
   {
    "duration": 125,
    "start_time": "2023-01-22T21:56:37.312Z"
   },
   {
    "duration": 1927,
    "start_time": "2023-01-22T21:56:37.440Z"
   },
   {
    "duration": 16,
    "start_time": "2023-01-22T21:56:39.368Z"
   },
   {
    "duration": 9,
    "start_time": "2023-01-22T21:56:39.386Z"
   },
   {
    "duration": 70,
    "start_time": "2023-01-22T21:56:39.397Z"
   },
   {
    "duration": 26,
    "start_time": "2023-01-22T21:56:39.469Z"
   },
   {
    "duration": 4,
    "start_time": "2023-01-22T21:56:39.496Z"
   },
   {
    "duration": 5,
    "start_time": "2023-01-22T21:56:39.520Z"
   },
   {
    "duration": 9,
    "start_time": "2023-01-22T21:56:39.526Z"
   },
   {
    "duration": 1412,
    "start_time": "2023-01-22T21:56:39.537Z"
   },
   {
    "duration": 6,
    "start_time": "2023-01-22T21:56:40.950Z"
   },
   {
    "duration": 12,
    "start_time": "2023-01-22T21:56:40.958Z"
   },
   {
    "duration": 8,
    "start_time": "2023-01-22T21:56:40.972Z"
   },
   {
    "duration": 13,
    "start_time": "2023-01-22T21:56:40.981Z"
   },
   {
    "duration": 42,
    "start_time": "2023-01-22T21:56:40.995Z"
   },
   {
    "duration": 9,
    "start_time": "2023-01-22T21:56:41.039Z"
   },
   {
    "duration": 40,
    "start_time": "2023-01-22T21:56:41.050Z"
   },
   {
    "duration": 30,
    "start_time": "2023-01-22T21:56:41.092Z"
   },
   {
    "duration": 49,
    "start_time": "2023-01-22T21:56:41.124Z"
   },
   {
    "duration": 17,
    "start_time": "2023-01-22T21:56:41.175Z"
   },
   {
    "duration": 117,
    "start_time": "2023-01-22T21:56:41.193Z"
   },
   {
    "duration": 9,
    "start_time": "2023-01-22T21:56:41.312Z"
   },
   {
    "duration": 5,
    "start_time": "2023-01-22T21:56:41.323Z"
   },
   {
    "duration": 5,
    "start_time": "2023-01-22T21:56:41.330Z"
   },
   {
    "duration": 28,
    "start_time": "2023-01-22T21:56:41.337Z"
   },
   {
    "duration": 3,
    "start_time": "2023-01-22T21:56:41.369Z"
   },
   {
    "duration": 10,
    "start_time": "2023-01-22T21:56:41.373Z"
   },
   {
    "duration": 4,
    "start_time": "2023-01-22T21:56:41.385Z"
   },
   {
    "duration": 4,
    "start_time": "2023-01-22T21:56:41.421Z"
   },
   {
    "duration": 540,
    "start_time": "2023-01-22T21:56:41.427Z"
   },
   {
    "duration": 549,
    "start_time": "2023-01-22T21:56:41.969Z"
   },
   {
    "duration": 724,
    "start_time": "2023-01-22T21:56:42.520Z"
   },
   {
    "duration": 555,
    "start_time": "2023-01-22T21:56:43.245Z"
   },
   {
    "duration": 690,
    "start_time": "2023-01-22T21:56:43.802Z"
   },
   {
    "duration": 553,
    "start_time": "2023-01-22T21:56:44.494Z"
   },
   {
    "duration": 575,
    "start_time": "2023-01-22T21:56:45.049Z"
   },
   {
    "duration": 641,
    "start_time": "2023-01-22T21:56:45.626Z"
   },
   {
    "duration": 552,
    "start_time": "2023-01-22T21:56:46.269Z"
   },
   {
    "duration": 544,
    "start_time": "2023-01-22T21:56:46.822Z"
   },
   {
    "duration": 650,
    "start_time": "2023-01-22T21:56:47.367Z"
   },
   {
    "duration": 573,
    "start_time": "2023-01-22T21:56:48.019Z"
   },
   {
    "duration": 81,
    "start_time": "2023-01-22T21:56:48.594Z"
   },
   {
    "duration": 535,
    "start_time": "2023-01-22T21:56:48.677Z"
   },
   {
    "duration": 221,
    "start_time": "2023-01-22T21:56:49.213Z"
   },
   {
    "duration": 441,
    "start_time": "2023-01-22T21:56:49.436Z"
   },
   {
    "duration": 173,
    "start_time": "2023-01-22T21:56:49.878Z"
   },
   {
    "duration": 169,
    "start_time": "2023-01-22T21:56:50.052Z"
   },
   {
    "duration": 204,
    "start_time": "2023-01-22T21:56:50.222Z"
   },
   {
    "duration": 28,
    "start_time": "2023-01-22T21:56:50.427Z"
   },
   {
    "duration": 511,
    "start_time": "2023-01-22T21:56:50.457Z"
   },
   {
    "duration": 4,
    "start_time": "2023-01-22T21:56:50.970Z"
   },
   {
    "duration": 30,
    "start_time": "2023-01-22T21:56:50.976Z"
   },
   {
    "duration": 14,
    "start_time": "2023-01-22T21:56:51.022Z"
   },
   {
    "duration": 27,
    "start_time": "2023-01-22T21:56:51.037Z"
   },
   {
    "duration": 27,
    "start_time": "2023-01-22T21:56:51.066Z"
   },
   {
    "duration": 13,
    "start_time": "2023-01-22T21:56:51.120Z"
   },
   {
    "duration": 1624,
    "start_time": "2023-01-22T21:56:51.135Z"
   },
   {
    "duration": 100,
    "start_time": "2023-01-22T21:58:04.907Z"
   },
   {
    "duration": 5,
    "start_time": "2023-01-22T21:58:10.948Z"
   },
   {
    "duration": 530,
    "start_time": "2023-01-22T22:00:03.787Z"
   },
   {
    "duration": 236,
    "start_time": "2023-01-22T22:00:09.569Z"
   },
   {
    "duration": 407,
    "start_time": "2023-01-22T22:00:12.722Z"
   },
   {
    "duration": 491,
    "start_time": "2023-01-22T22:02:28.067Z"
   },
   {
    "duration": 463,
    "start_time": "2023-01-22T22:02:35.666Z"
   },
   {
    "duration": 124,
    "start_time": "2023-01-22T22:03:11.504Z"
   },
   {
    "duration": 7,
    "start_time": "2023-01-22T22:03:30.253Z"
   },
   {
    "duration": 6,
    "start_time": "2023-01-22T22:03:33.500Z"
   },
   {
    "duration": 163,
    "start_time": "2023-01-22T22:08:37.205Z"
   },
   {
    "duration": 288,
    "start_time": "2023-01-22T22:12:42.606Z"
   },
   {
    "duration": 178,
    "start_time": "2023-01-22T22:12:46.543Z"
   },
   {
    "duration": 52,
    "start_time": "2023-01-23T08:15:25.194Z"
   },
   {
    "duration": 140,
    "start_time": "2023-01-23T08:15:38.864Z"
   },
   {
    "duration": 0,
    "start_time": "2023-01-23T08:15:39.006Z"
   },
   {
    "duration": 45,
    "start_time": "2023-01-23T08:16:50.595Z"
   },
   {
    "duration": 52,
    "start_time": "2023-01-23T08:17:25.555Z"
   },
   {
    "duration": 40,
    "start_time": "2023-01-23T08:17:25.723Z"
   },
   {
    "duration": 61,
    "start_time": "2023-01-23T08:19:07.562Z"
   },
   {
    "duration": 61,
    "start_time": "2023-01-23T08:19:29.710Z"
   },
   {
    "duration": 6,
    "start_time": "2023-01-23T08:19:29.835Z"
   },
   {
    "duration": 77,
    "start_time": "2023-01-23T09:11:07.884Z"
   },
   {
    "duration": 58,
    "start_time": "2023-01-23T09:11:37.235Z"
   },
   {
    "duration": 57,
    "start_time": "2023-01-23T09:12:37.434Z"
   },
   {
    "duration": 5,
    "start_time": "2023-01-23T09:12:37.571Z"
   },
   {
    "duration": 53,
    "start_time": "2023-01-23T09:17:09.225Z"
   },
   {
    "duration": 85,
    "start_time": "2023-01-23T09:18:09.729Z"
   },
   {
    "duration": 60,
    "start_time": "2023-01-23T09:18:17.719Z"
   },
   {
    "duration": 8,
    "start_time": "2023-01-23T09:24:13.362Z"
   },
   {
    "duration": 1352,
    "start_time": "2023-01-23T09:24:30.527Z"
   },
   {
    "duration": 346,
    "start_time": "2023-01-23T09:24:31.881Z"
   },
   {
    "duration": 1927,
    "start_time": "2023-01-23T09:24:32.228Z"
   },
   {
    "duration": 21,
    "start_time": "2023-01-23T09:24:34.158Z"
   },
   {
    "duration": 11,
    "start_time": "2023-01-23T09:24:35.467Z"
   },
   {
    "duration": 51,
    "start_time": "2023-01-23T09:24:36.492Z"
   },
   {
    "duration": 25,
    "start_time": "2023-01-23T09:24:38.457Z"
   },
   {
    "duration": 4,
    "start_time": "2023-01-23T09:24:40.051Z"
   },
   {
    "duration": 3,
    "start_time": "2023-01-23T09:24:40.977Z"
   },
   {
    "duration": 3,
    "start_time": "2023-01-23T09:24:41.727Z"
   },
   {
    "duration": 1444,
    "start_time": "2023-01-23T09:24:45.087Z"
   },
   {
    "duration": 6,
    "start_time": "2023-01-23T09:24:48.137Z"
   },
   {
    "duration": 9,
    "start_time": "2023-01-23T09:24:52.112Z"
   },
   {
    "duration": 8,
    "start_time": "2023-01-23T09:24:53.381Z"
   },
   {
    "duration": 9,
    "start_time": "2023-01-23T09:24:54.602Z"
   },
   {
    "duration": 13,
    "start_time": "2023-01-23T09:24:55.642Z"
   },
   {
    "duration": 11,
    "start_time": "2023-01-23T09:25:00.217Z"
   },
   {
    "duration": 49,
    "start_time": "2023-01-23T09:25:01.228Z"
   },
   {
    "duration": 12,
    "start_time": "2023-01-23T09:25:01.417Z"
   },
   {
    "duration": 48,
    "start_time": "2023-01-23T09:25:02.732Z"
   },
   {
    "duration": 16,
    "start_time": "2023-01-23T09:25:05.787Z"
   },
   {
    "duration": 98,
    "start_time": "2023-01-23T09:25:08.192Z"
   },
   {
    "duration": 5,
    "start_time": "2023-01-23T09:25:15.793Z"
   },
   {
    "duration": 6,
    "start_time": "2023-01-23T09:25:17.312Z"
   },
   {
    "duration": 5,
    "start_time": "2023-01-23T09:25:20.022Z"
   },
   {
    "duration": 24,
    "start_time": "2023-01-23T09:25:21.862Z"
   },
   {
    "duration": 47,
    "start_time": "2023-01-23T09:25:43.511Z"
   },
   {
    "duration": 68,
    "start_time": "2023-01-23T09:28:45.633Z"
   },
   {
    "duration": 49,
    "start_time": "2023-01-23T09:28:59.006Z"
   },
   {
    "duration": 1062,
    "start_time": "2023-01-23T09:29:51.236Z"
   },
   {
    "duration": 142,
    "start_time": "2023-01-23T13:03:15.133Z"
   },
   {
    "duration": 3,
    "start_time": "2023-01-23T13:03:43.242Z"
   },
   {
    "duration": 3,
    "start_time": "2023-01-23T13:03:57.831Z"
   },
   {
    "duration": 1290,
    "start_time": "2023-01-23T13:04:17.037Z"
   },
   {
    "duration": 325,
    "start_time": "2023-01-23T13:04:18.329Z"
   },
   {
    "duration": 1846,
    "start_time": "2023-01-23T13:04:20.102Z"
   },
   {
    "duration": 15,
    "start_time": "2023-01-23T13:04:21.950Z"
   },
   {
    "duration": 9,
    "start_time": "2023-01-23T13:04:25.312Z"
   },
   {
    "duration": 51,
    "start_time": "2023-01-23T13:04:26.677Z"
   },
   {
    "duration": 24,
    "start_time": "2023-01-23T13:04:27.990Z"
   },
   {
    "duration": 4,
    "start_time": "2023-01-23T13:04:31.071Z"
   },
   {
    "duration": 4,
    "start_time": "2023-01-23T13:04:36.012Z"
   },
   {
    "duration": 3,
    "start_time": "2023-01-23T13:04:38.275Z"
   },
   {
    "duration": 1394,
    "start_time": "2023-01-23T13:04:43.742Z"
   },
   {
    "duration": 5,
    "start_time": "2023-01-23T13:04:46.740Z"
   },
   {
    "duration": 8,
    "start_time": "2023-01-23T13:04:49.980Z"
   },
   {
    "duration": 8,
    "start_time": "2023-01-23T13:04:51.253Z"
   },
   {
    "duration": 9,
    "start_time": "2023-01-23T13:04:52.146Z"
   },
   {
    "duration": 12,
    "start_time": "2023-01-23T13:04:53.296Z"
   },
   {
    "duration": 8,
    "start_time": "2023-01-23T13:04:57.781Z"
   },
   {
    "duration": 42,
    "start_time": "2023-01-23T13:04:58.701Z"
   },
   {
    "duration": 11,
    "start_time": "2023-01-23T13:05:00.032Z"
   },
   {
    "duration": 52,
    "start_time": "2023-01-23T13:05:01.582Z"
   },
   {
    "duration": 16,
    "start_time": "2023-01-23T13:05:04.490Z"
   },
   {
    "duration": 89,
    "start_time": "2023-01-23T13:05:05.632Z"
   },
   {
    "duration": 4,
    "start_time": "2023-01-23T13:05:13.843Z"
   },
   {
    "duration": 7,
    "start_time": "2023-01-23T13:05:15.025Z"
   },
   {
    "duration": 5,
    "start_time": "2023-01-23T13:05:16.650Z"
   },
   {
    "duration": 25,
    "start_time": "2023-01-23T13:05:18.439Z"
   },
   {
    "duration": 3,
    "start_time": "2023-01-23T13:05:25.690Z"
   },
   {
    "duration": 987,
    "start_time": "2023-01-23T13:05:40.012Z"
   },
   {
    "duration": 10,
    "start_time": "2023-01-23T13:06:42.724Z"
   },
   {
    "duration": 535,
    "start_time": "2023-01-23T13:12:42.609Z"
   },
   {
    "duration": 514,
    "start_time": "2023-01-23T13:13:06.850Z"
   },
   {
    "duration": 622,
    "start_time": "2023-01-23T13:13:58.862Z"
   },
   {
    "duration": 485,
    "start_time": "2023-01-23T13:14:20.981Z"
   },
   {
    "duration": 583,
    "start_time": "2023-01-23T13:14:37.551Z"
   },
   {
    "duration": 198,
    "start_time": "2023-01-23T13:15:20.704Z"
   },
   {
    "duration": 577,
    "start_time": "2023-01-23T13:15:34.403Z"
   },
   {
    "duration": 468,
    "start_time": "2023-01-23T13:15:52.612Z"
   },
   {
    "duration": 608,
    "start_time": "2023-01-23T13:16:06.565Z"
   },
   {
    "duration": 9,
    "start_time": "2023-01-23T13:16:24.323Z"
   },
   {
    "duration": 10,
    "start_time": "2023-01-23T13:16:46.703Z"
   },
   {
    "duration": 469,
    "start_time": "2023-01-23T13:17:13.585Z"
   },
   {
    "duration": 493,
    "start_time": "2023-01-23T13:17:30.603Z"
   },
   {
    "duration": 490,
    "start_time": "2023-01-23T13:18:04.644Z"
   },
   {
    "duration": 423,
    "start_time": "2023-01-23T13:18:38.524Z"
   },
   {
    "duration": 589,
    "start_time": "2023-01-23T13:19:01.055Z"
   },
   {
    "duration": 418,
    "start_time": "2023-01-23T13:19:23.304Z"
   },
   {
    "duration": 438,
    "start_time": "2023-01-23T13:19:44.154Z"
   },
   {
    "duration": 37,
    "start_time": "2023-01-23T13:21:10.592Z"
   },
   {
    "duration": 583,
    "start_time": "2023-01-23T13:22:15.194Z"
   },
   {
    "duration": 1196,
    "start_time": "2023-01-23T20:17:13.109Z"
   },
   {
    "duration": 181,
    "start_time": "2023-01-23T20:17:14.307Z"
   },
   {
    "duration": 1858,
    "start_time": "2023-01-23T20:17:14.490Z"
   },
   {
    "duration": 14,
    "start_time": "2023-01-23T20:17:16.350Z"
   },
   {
    "duration": 9,
    "start_time": "2023-01-23T20:17:21.573Z"
   },
   {
    "duration": 47,
    "start_time": "2023-01-23T20:17:23.293Z"
   },
   {
    "duration": 35,
    "start_time": "2023-01-23T20:17:25.552Z"
   },
   {
    "duration": 4,
    "start_time": "2023-01-23T20:17:26.841Z"
   },
   {
    "duration": 3,
    "start_time": "2023-01-23T20:17:28.209Z"
   },
   {
    "duration": 4,
    "start_time": "2023-01-23T20:17:30.801Z"
   },
   {
    "duration": 1302,
    "start_time": "2023-01-23T20:17:34.092Z"
   },
   {
    "duration": 5,
    "start_time": "2023-01-23T20:17:43.619Z"
   },
   {
    "duration": 8,
    "start_time": "2023-01-23T20:17:46.973Z"
   },
   {
    "duration": 8,
    "start_time": "2023-01-23T20:17:47.599Z"
   },
   {
    "duration": 10,
    "start_time": "2023-01-23T20:17:48.349Z"
   },
   {
    "duration": 14,
    "start_time": "2023-01-23T20:17:49.458Z"
   },
   {
    "duration": 8,
    "start_time": "2023-01-23T20:17:55.064Z"
   },
   {
    "duration": 36,
    "start_time": "2023-01-23T20:17:56.622Z"
   },
   {
    "duration": 11,
    "start_time": "2023-01-23T20:17:58.742Z"
   },
   {
    "duration": 45,
    "start_time": "2023-01-23T20:18:00.566Z"
   },
   {
    "duration": 23,
    "start_time": "2023-01-23T20:18:05.261Z"
   },
   {
    "duration": 95,
    "start_time": "2023-01-23T20:18:07.042Z"
   },
   {
    "duration": 92,
    "start_time": "2023-01-23T20:20:55.085Z"
   },
   {
    "duration": 459,
    "start_time": "2023-01-23T20:21:06.615Z"
   },
   {
    "duration": 467,
    "start_time": "2023-01-23T20:21:29.685Z"
   },
   {
    "duration": 3,
    "start_time": "2023-01-23T20:23:13.017Z"
   },
   {
    "duration": 11,
    "start_time": "2023-01-23T20:23:19.186Z"
   },
   {
    "duration": 3,
    "start_time": "2023-01-23T20:31:41.189Z"
   },
   {
    "duration": 10,
    "start_time": "2023-01-23T20:31:46.045Z"
   },
   {
    "duration": 1107,
    "start_time": "2023-01-23T20:59:50.031Z"
   },
   {
    "duration": 94,
    "start_time": "2023-01-23T21:08:52.740Z"
   },
   {
    "duration": 100,
    "start_time": "2023-01-23T21:09:02.467Z"
   },
   {
    "duration": 13,
    "start_time": "2023-01-23T21:09:31.066Z"
   },
   {
    "duration": 2,
    "start_time": "2023-01-23T21:09:35.528Z"
   },
   {
    "duration": 1015,
    "start_time": "2023-01-23T21:10:03.949Z"
   },
   {
    "duration": 108,
    "start_time": "2023-01-23T21:10:04.966Z"
   },
   {
    "duration": 1872,
    "start_time": "2023-01-23T21:10:05.076Z"
   },
   {
    "duration": 14,
    "start_time": "2023-01-23T21:10:06.950Z"
   },
   {
    "duration": 9,
    "start_time": "2023-01-23T21:10:06.966Z"
   },
   {
    "duration": 49,
    "start_time": "2023-01-23T21:10:06.977Z"
   },
   {
    "duration": 23,
    "start_time": "2023-01-23T21:10:07.028Z"
   },
   {
    "duration": 4,
    "start_time": "2023-01-23T21:10:07.052Z"
   },
   {
    "duration": 8,
    "start_time": "2023-01-23T21:10:07.058Z"
   },
   {
    "duration": 19,
    "start_time": "2023-01-23T21:10:07.069Z"
   },
   {
    "duration": 1098,
    "start_time": "2023-01-23T21:10:07.089Z"
   },
   {
    "duration": 6,
    "start_time": "2023-01-23T21:10:08.189Z"
   },
   {
    "duration": 12,
    "start_time": "2023-01-23T21:10:08.196Z"
   },
   {
    "duration": 7,
    "start_time": "2023-01-23T21:10:08.210Z"
   },
   {
    "duration": 11,
    "start_time": "2023-01-23T21:10:08.219Z"
   },
   {
    "duration": 14,
    "start_time": "2023-01-23T21:10:08.232Z"
   },
   {
    "duration": 8,
    "start_time": "2023-01-23T21:10:08.248Z"
   },
   {
    "duration": 38,
    "start_time": "2023-01-23T21:10:08.285Z"
   },
   {
    "duration": 11,
    "start_time": "2023-01-23T21:10:08.325Z"
   },
   {
    "duration": 61,
    "start_time": "2023-01-23T21:10:08.337Z"
   },
   {
    "duration": 14,
    "start_time": "2023-01-23T21:10:08.400Z"
   },
   {
    "duration": 105,
    "start_time": "2023-01-23T21:10:08.415Z"
   },
   {
    "duration": 4,
    "start_time": "2023-01-23T21:10:08.521Z"
   },
   {
    "duration": 10,
    "start_time": "2023-01-23T21:10:08.526Z"
   },
   {
    "duration": 9,
    "start_time": "2023-01-23T21:10:08.537Z"
   },
   {
    "duration": 25,
    "start_time": "2023-01-23T21:10:08.547Z"
   },
   {
    "duration": 12,
    "start_time": "2023-01-23T21:10:08.574Z"
   },
   {
    "duration": 46,
    "start_time": "2023-01-23T21:10:08.590Z"
   },
   {
    "duration": 4,
    "start_time": "2023-01-23T21:10:08.638Z"
   },
   {
    "duration": 8,
    "start_time": "2023-01-23T21:10:08.643Z"
   },
   {
    "duration": 187,
    "start_time": "2023-01-23T21:10:08.653Z"
   },
   {
    "duration": 489,
    "start_time": "2023-01-23T21:10:08.841Z"
   },
   {
    "duration": 570,
    "start_time": "2023-01-23T21:10:09.332Z"
   },
   {
    "duration": 507,
    "start_time": "2023-01-23T21:10:09.904Z"
   },
   {
    "duration": 91,
    "start_time": "2023-01-23T21:10:10.413Z"
   },
   {
    "duration": 0,
    "start_time": "2023-01-23T21:10:10.505Z"
   },
   {
    "duration": 0,
    "start_time": "2023-01-23T21:10:10.506Z"
   },
   {
    "duration": 0,
    "start_time": "2023-01-23T21:10:10.507Z"
   },
   {
    "duration": 0,
    "start_time": "2023-01-23T21:10:10.508Z"
   },
   {
    "duration": 0,
    "start_time": "2023-01-23T21:10:10.509Z"
   },
   {
    "duration": 0,
    "start_time": "2023-01-23T21:10:10.510Z"
   },
   {
    "duration": 0,
    "start_time": "2023-01-23T21:10:10.511Z"
   },
   {
    "duration": 0,
    "start_time": "2023-01-23T21:10:10.512Z"
   },
   {
    "duration": 0,
    "start_time": "2023-01-23T21:10:10.513Z"
   },
   {
    "duration": 0,
    "start_time": "2023-01-23T21:10:10.514Z"
   },
   {
    "duration": 0,
    "start_time": "2023-01-23T21:10:10.515Z"
   },
   {
    "duration": 0,
    "start_time": "2023-01-23T21:10:10.516Z"
   },
   {
    "duration": 0,
    "start_time": "2023-01-23T21:10:10.517Z"
   },
   {
    "duration": 0,
    "start_time": "2023-01-23T21:10:10.518Z"
   },
   {
    "duration": 0,
    "start_time": "2023-01-23T21:10:10.519Z"
   },
   {
    "duration": 0,
    "start_time": "2023-01-23T21:10:10.520Z"
   },
   {
    "duration": 0,
    "start_time": "2023-01-23T21:10:10.521Z"
   },
   {
    "duration": 0,
    "start_time": "2023-01-23T21:10:10.522Z"
   },
   {
    "duration": 0,
    "start_time": "2023-01-23T21:10:10.523Z"
   },
   {
    "duration": 0,
    "start_time": "2023-01-23T21:10:10.524Z"
   },
   {
    "duration": 0,
    "start_time": "2023-01-23T21:10:10.525Z"
   },
   {
    "duration": 0,
    "start_time": "2023-01-23T21:10:10.525Z"
   },
   {
    "duration": 0,
    "start_time": "2023-01-23T21:10:10.526Z"
   },
   {
    "duration": 0,
    "start_time": "2023-01-23T21:10:10.527Z"
   },
   {
    "duration": 0,
    "start_time": "2023-01-23T21:10:10.528Z"
   },
   {
    "duration": 0,
    "start_time": "2023-01-23T21:10:10.529Z"
   },
   {
    "duration": 34,
    "start_time": "2023-01-23T21:10:27.290Z"
   },
   {
    "duration": 21,
    "start_time": "2023-01-23T21:15:46.717Z"
   },
   {
    "duration": 30,
    "start_time": "2023-01-23T21:16:12.556Z"
   },
   {
    "duration": 9,
    "start_time": "2023-01-23T21:19:35.104Z"
   },
   {
    "duration": 26,
    "start_time": "2023-01-23T21:19:57.154Z"
   },
   {
    "duration": 26,
    "start_time": "2023-01-23T21:19:58.404Z"
   },
   {
    "duration": 11,
    "start_time": "2023-01-23T21:19:59.756Z"
   },
   {
    "duration": 1585,
    "start_time": "2023-01-23T21:20:01.837Z"
   },
   {
    "duration": 1154,
    "start_time": "2023-01-23T21:24:39.480Z"
   },
   {
    "duration": 311,
    "start_time": "2023-01-23T21:46:49.049Z"
   },
   {
    "duration": 402,
    "start_time": "2023-01-23T21:48:44.761Z"
   },
   {
    "duration": 636,
    "start_time": "2023-01-23T21:51:45.161Z"
   },
   {
    "duration": 3,
    "start_time": "2023-01-23T21:54:25.769Z"
   },
   {
    "duration": 48,
    "start_time": "2023-01-25T07:10:59.347Z"
   },
   {
    "duration": 1340,
    "start_time": "2023-01-25T07:11:23.326Z"
   },
   {
    "duration": 374,
    "start_time": "2023-01-25T07:11:24.668Z"
   },
   {
    "duration": 2288,
    "start_time": "2023-01-25T07:11:25.045Z"
   },
   {
    "duration": 18,
    "start_time": "2023-01-25T07:11:27.336Z"
   },
   {
    "duration": 9,
    "start_time": "2023-01-25T07:11:28.496Z"
   },
   {
    "duration": 55,
    "start_time": "2023-01-25T07:11:29.922Z"
   },
   {
    "duration": 23,
    "start_time": "2023-01-25T07:11:31.474Z"
   },
   {
    "duration": 4,
    "start_time": "2023-01-25T07:11:32.908Z"
   },
   {
    "duration": 4,
    "start_time": "2023-01-25T07:11:34.213Z"
   },
   {
    "duration": 5,
    "start_time": "2023-01-25T07:11:34.915Z"
   },
   {
    "duration": 1139,
    "start_time": "2023-01-25T07:11:37.776Z"
   },
   {
    "duration": 6,
    "start_time": "2023-01-25T07:11:39.945Z"
   },
   {
    "duration": 9,
    "start_time": "2023-01-25T07:11:41.981Z"
   },
   {
    "duration": 10,
    "start_time": "2023-01-25T07:11:42.659Z"
   },
   {
    "duration": 10,
    "start_time": "2023-01-25T07:11:43.288Z"
   },
   {
    "duration": 13,
    "start_time": "2023-01-25T07:11:44.017Z"
   },
   {
    "duration": 10,
    "start_time": "2023-01-25T07:11:48.071Z"
   },
   {
    "duration": 44,
    "start_time": "2023-01-25T07:11:48.751Z"
   },
   {
    "duration": 15,
    "start_time": "2023-01-25T07:11:49.533Z"
   },
   {
    "duration": 51,
    "start_time": "2023-01-25T07:11:50.295Z"
   },
   {
    "duration": 17,
    "start_time": "2023-01-25T07:11:51.873Z"
   },
   {
    "duration": 101,
    "start_time": "2023-01-25T07:11:53.485Z"
   },
   {
    "duration": 5,
    "start_time": "2023-01-25T07:11:58.546Z"
   },
   {
    "duration": 6,
    "start_time": "2023-01-25T07:11:59.377Z"
   },
   {
    "duration": 6,
    "start_time": "2023-01-25T07:12:00.012Z"
   },
   {
    "duration": 27,
    "start_time": "2023-01-25T07:12:00.905Z"
   },
   {
    "duration": 8,
    "start_time": "2023-01-25T07:12:10.561Z"
   },
   {
    "duration": 5,
    "start_time": "2023-01-25T07:12:17.287Z"
   },
   {
    "duration": 8,
    "start_time": "2023-01-25T07:12:45.139Z"
   },
   {
    "duration": 6,
    "start_time": "2023-01-25T07:12:48.113Z"
   },
   {
    "duration": 5,
    "start_time": "2023-01-25T07:13:07.127Z"
   },
   {
    "duration": 7,
    "start_time": "2023-01-25T07:13:12.995Z"
   },
   {
    "duration": 5,
    "start_time": "2023-01-25T07:13:17.071Z"
   },
   {
    "duration": 4,
    "start_time": "2023-01-25T07:13:23.347Z"
   },
   {
    "duration": 3,
    "start_time": "2023-01-25T07:13:24.996Z"
   },
   {
    "duration": 187,
    "start_time": "2023-01-25T07:13:28.534Z"
   },
   {
    "duration": 175,
    "start_time": "2023-01-25T07:34:24.501Z"
   },
   {
    "duration": 2045,
    "start_time": "2023-01-25T07:39:56.680Z"
   },
   {
    "duration": 1499,
    "start_time": "2023-01-25T07:45:24.227Z"
   },
   {
    "duration": 2040,
    "start_time": "2023-01-25T07:47:03.520Z"
   },
   {
    "duration": 68,
    "start_time": "2023-01-25T07:52:30.005Z"
   },
   {
    "duration": 1529,
    "start_time": "2023-01-25T07:52:47.838Z"
   },
   {
    "duration": 50,
    "start_time": "2023-01-25T07:54:56.028Z"
   },
   {
    "duration": 386,
    "start_time": "2023-01-25T07:55:15.143Z"
   },
   {
    "duration": 720,
    "start_time": "2023-01-25T07:55:34.801Z"
   },
   {
    "duration": 357,
    "start_time": "2023-01-25T07:55:35.523Z"
   },
   {
    "duration": 2120,
    "start_time": "2023-01-25T07:55:35.926Z"
   },
   {
    "duration": 16,
    "start_time": "2023-01-25T07:55:38.048Z"
   },
   {
    "duration": 10,
    "start_time": "2023-01-25T07:55:38.469Z"
   },
   {
    "duration": 50,
    "start_time": "2023-01-25T07:55:39.212Z"
   },
   {
    "duration": 24,
    "start_time": "2023-01-25T07:55:39.745Z"
   },
   {
    "duration": 4,
    "start_time": "2023-01-25T07:55:40.684Z"
   },
   {
    "duration": 3,
    "start_time": "2023-01-25T07:55:41.191Z"
   },
   {
    "duration": 4,
    "start_time": "2023-01-25T07:55:41.455Z"
   },
   {
    "duration": 1269,
    "start_time": "2023-01-25T07:55:42.438Z"
   },
   {
    "duration": 5,
    "start_time": "2023-01-25T07:55:43.709Z"
   },
   {
    "duration": 9,
    "start_time": "2023-01-25T07:55:43.867Z"
   },
   {
    "duration": 8,
    "start_time": "2023-01-25T07:55:44.118Z"
   },
   {
    "duration": 10,
    "start_time": "2023-01-25T07:55:44.385Z"
   },
   {
    "duration": 14,
    "start_time": "2023-01-25T07:55:44.646Z"
   },
   {
    "duration": 10,
    "start_time": "2023-01-25T07:55:45.652Z"
   },
   {
    "duration": 42,
    "start_time": "2023-01-25T07:55:45.891Z"
   },
   {
    "duration": 11,
    "start_time": "2023-01-25T07:55:46.124Z"
   },
   {
    "duration": 60,
    "start_time": "2023-01-25T07:55:46.358Z"
   },
   {
    "duration": 16,
    "start_time": "2023-01-25T07:55:46.851Z"
   },
   {
    "duration": 102,
    "start_time": "2023-01-25T07:55:47.327Z"
   },
   {
    "duration": 4,
    "start_time": "2023-01-25T07:55:49.056Z"
   },
   {
    "duration": 6,
    "start_time": "2023-01-25T07:55:49.305Z"
   },
   {
    "duration": 6,
    "start_time": "2023-01-25T07:55:49.572Z"
   },
   {
    "duration": 27,
    "start_time": "2023-01-25T07:55:49.839Z"
   },
   {
    "duration": 45,
    "start_time": "2023-01-25T07:55:51.209Z"
   },
   {
    "duration": 8,
    "start_time": "2023-01-25T07:55:51.444Z"
   },
   {
    "duration": 6,
    "start_time": "2023-01-25T07:55:51.974Z"
   },
   {
    "duration": 4,
    "start_time": "2023-01-25T07:55:53.429Z"
   },
   {
    "duration": 4,
    "start_time": "2023-01-25T07:55:54.330Z"
   },
   {
    "duration": 241,
    "start_time": "2023-01-25T07:55:56.170Z"
   },
   {
    "duration": 501,
    "start_time": "2023-01-25T07:55:59.104Z"
   },
   {
    "duration": 683,
    "start_time": "2023-01-25T07:56:00.011Z"
   },
   {
    "duration": 546,
    "start_time": "2023-01-25T07:56:00.696Z"
   },
   {
    "duration": 56,
    "start_time": "2023-01-25T07:56:01.560Z"
   },
   {
    "duration": 489,
    "start_time": "2023-01-25T07:56:02.152Z"
   },
   {
    "duration": 623,
    "start_time": "2023-01-25T07:56:02.763Z"
   },
   {
    "duration": 468,
    "start_time": "2023-01-25T07:56:04.497Z"
   },
   {
    "duration": 620,
    "start_time": "2023-01-25T07:56:06.123Z"
   },
   {
    "duration": 617,
    "start_time": "2023-01-25T07:56:14.080Z"
   },
   {
    "duration": 475,
    "start_time": "2023-01-25T07:56:18.008Z"
   },
   {
    "duration": 500,
    "start_time": "2023-01-25T07:56:23.852Z"
   },
   {
    "duration": 3,
    "start_time": "2023-01-25T07:56:27.653Z"
   },
   {
    "duration": 561,
    "start_time": "2023-01-25T07:56:29.530Z"
   },
   {
    "duration": 532,
    "start_time": "2023-01-25T07:56:37.096Z"
   },
   {
    "duration": 104,
    "start_time": "2023-01-25T07:56:42.011Z"
   },
   {
    "duration": 3,
    "start_time": "2023-01-25T07:56:48.471Z"
   },
   {
    "duration": 173,
    "start_time": "2023-01-25T07:56:53.847Z"
   },
   {
    "duration": 1591,
    "start_time": "2023-01-25T07:56:58.451Z"
   },
   {
    "duration": 50,
    "start_time": "2023-01-25T07:59:04.878Z"
   },
   {
    "duration": 7,
    "start_time": "2023-01-25T07:59:36.247Z"
   },
   {
    "duration": 7,
    "start_time": "2023-01-25T08:00:01.647Z"
   },
   {
    "duration": 517,
    "start_time": "2023-01-25T08:00:52.167Z"
   },
   {
    "duration": 737,
    "start_time": "2023-01-25T08:01:27.004Z"
   },
   {
    "duration": 11,
    "start_time": "2023-01-25T08:01:45.562Z"
   },
   {
    "duration": 3,
    "start_time": "2023-01-25T08:02:12.736Z"
   },
   {
    "duration": 363,
    "start_time": "2023-01-25T08:02:13.782Z"
   },
   {
    "duration": 2094,
    "start_time": "2023-01-25T08:02:14.474Z"
   },
   {
    "duration": 26,
    "start_time": "2023-01-25T08:02:16.570Z"
   },
   {
    "duration": 14,
    "start_time": "2023-01-25T08:02:18.067Z"
   },
   {
    "duration": 182,
    "start_time": "2023-01-25T08:02:19.506Z"
   },
   {
    "duration": 27,
    "start_time": "2023-01-25T08:02:20.897Z"
   },
   {
    "duration": 4,
    "start_time": "2023-01-25T08:02:22.197Z"
   },
   {
    "duration": 4,
    "start_time": "2023-01-25T08:02:23.487Z"
   },
   {
    "duration": 3,
    "start_time": "2023-01-25T08:02:24.179Z"
   },
   {
    "duration": 1231,
    "start_time": "2023-01-25T08:02:26.903Z"
   },
   {
    "duration": 6,
    "start_time": "2023-01-25T08:02:28.972Z"
   },
   {
    "duration": 9,
    "start_time": "2023-01-25T08:02:30.955Z"
   },
   {
    "duration": 8,
    "start_time": "2023-01-25T08:02:31.607Z"
   },
   {
    "duration": 11,
    "start_time": "2023-01-25T08:02:32.238Z"
   },
   {
    "duration": 14,
    "start_time": "2023-01-25T08:02:32.993Z"
   },
   {
    "duration": 10,
    "start_time": "2023-01-25T08:02:37.234Z"
   },
   {
    "duration": 46,
    "start_time": "2023-01-25T08:02:38.072Z"
   },
   {
    "duration": 12,
    "start_time": "2023-01-25T08:02:39.589Z"
   },
   {
    "duration": 63,
    "start_time": "2023-01-25T08:02:40.863Z"
   },
   {
    "duration": 17,
    "start_time": "2023-01-25T08:02:44.160Z"
   },
   {
    "duration": 138,
    "start_time": "2023-01-25T08:02:46.507Z"
   },
   {
    "duration": 5,
    "start_time": "2023-01-25T08:02:54.838Z"
   },
   {
    "duration": 6,
    "start_time": "2023-01-25T08:02:55.840Z"
   },
   {
    "duration": 6,
    "start_time": "2023-01-25T08:02:56.829Z"
   },
   {
    "duration": 28,
    "start_time": "2023-01-25T08:02:58.751Z"
   },
   {
    "duration": 53,
    "start_time": "2023-01-25T08:03:04.379Z"
   },
   {
    "duration": 9,
    "start_time": "2023-01-25T08:03:25.087Z"
   },
   {
    "duration": 5,
    "start_time": "2023-01-25T08:03:32.101Z"
   },
   {
    "duration": 4,
    "start_time": "2023-01-25T08:03:35.290Z"
   },
   {
    "duration": 4,
    "start_time": "2023-01-25T08:03:37.731Z"
   },
   {
    "duration": 235,
    "start_time": "2023-01-25T08:03:41.042Z"
   },
   {
    "duration": 535,
    "start_time": "2023-01-25T08:03:46.870Z"
   },
   {
    "duration": 676,
    "start_time": "2023-01-25T08:03:50.844Z"
   },
   {
    "duration": 541,
    "start_time": "2023-01-25T08:03:56.979Z"
   },
   {
    "duration": 14,
    "start_time": "2023-01-25T08:04:02.639Z"
   },
   {
    "duration": 530,
    "start_time": "2023-01-25T08:04:39.180Z"
   },
   {
    "duration": 689,
    "start_time": "2023-01-25T08:04:57.925Z"
   },
   {
    "duration": 508,
    "start_time": "2023-01-25T08:05:11.269Z"
   },
   {
    "duration": 682,
    "start_time": "2023-01-25T08:05:14.947Z"
   },
   {
    "duration": 551,
    "start_time": "2023-01-25T08:05:19.931Z"
   },
   {
    "duration": 551,
    "start_time": "2023-01-25T08:05:24.926Z"
   },
   {
    "duration": 664,
    "start_time": "2023-01-25T08:05:29.149Z"
   },
   {
    "duration": 509,
    "start_time": "2023-01-25T08:05:32.575Z"
   },
   {
    "duration": 605,
    "start_time": "2023-01-25T08:05:36.143Z"
   },
   {
    "duration": 3,
    "start_time": "2023-01-25T08:05:39.844Z"
   },
   {
    "duration": 600,
    "start_time": "2023-01-25T08:05:44.225Z"
   },
   {
    "duration": 526,
    "start_time": "2023-01-25T08:05:53.221Z"
   },
   {
    "duration": 110,
    "start_time": "2023-01-25T08:06:12.973Z"
   },
   {
    "duration": 6,
    "start_time": "2023-01-25T08:06:25.611Z"
   },
   {
    "duration": 197,
    "start_time": "2023-01-25T08:06:30.202Z"
   },
   {
    "duration": 1554,
    "start_time": "2023-01-25T08:06:33.681Z"
   },
   {
    "duration": 54,
    "start_time": "2023-01-25T08:09:59.423Z"
   },
   {
    "duration": 1234,
    "start_time": "2023-01-25T08:10:20.681Z"
   },
   {
    "duration": 374,
    "start_time": "2023-01-25T08:10:27.389Z"
   },
   {
    "duration": 2002,
    "start_time": "2023-01-25T08:10:28.958Z"
   },
   {
    "duration": 17,
    "start_time": "2023-01-25T08:10:34.349Z"
   },
   {
    "duration": 13,
    "start_time": "2023-01-25T08:10:41.264Z"
   },
   {
    "duration": 51,
    "start_time": "2023-01-25T08:10:44.409Z"
   },
   {
    "duration": 26,
    "start_time": "2023-01-25T08:10:47.632Z"
   },
   {
    "duration": 4,
    "start_time": "2023-01-25T08:10:50.791Z"
   },
   {
    "duration": 5,
    "start_time": "2023-01-25T08:10:53.491Z"
   },
   {
    "duration": 4,
    "start_time": "2023-01-25T08:10:54.760Z"
   },
   {
    "duration": 1205,
    "start_time": "2023-01-25T08:10:59.134Z"
   },
   {
    "duration": 6,
    "start_time": "2023-01-25T08:11:03.543Z"
   },
   {
    "duration": 10,
    "start_time": "2023-01-25T08:11:06.829Z"
   },
   {
    "duration": 8,
    "start_time": "2023-01-25T08:11:07.955Z"
   },
   {
    "duration": 11,
    "start_time": "2023-01-25T08:11:09.012Z"
   },
   {
    "duration": 15,
    "start_time": "2023-01-25T08:11:10.005Z"
   },
   {
    "duration": 9,
    "start_time": "2023-01-25T08:11:14.690Z"
   },
   {
    "duration": 43,
    "start_time": "2023-01-25T08:11:15.904Z"
   },
   {
    "duration": 18,
    "start_time": "2023-01-25T08:11:17.108Z"
   },
   {
    "duration": 49,
    "start_time": "2023-01-25T08:11:18.705Z"
   },
   {
    "duration": 17,
    "start_time": "2023-01-25T08:11:21.925Z"
   },
   {
    "duration": 103,
    "start_time": "2023-01-25T08:11:24.514Z"
   },
   {
    "duration": 5,
    "start_time": "2023-01-25T08:11:31.535Z"
   },
   {
    "duration": 8,
    "start_time": "2023-01-25T08:11:32.619Z"
   },
   {
    "duration": 7,
    "start_time": "2023-01-25T08:11:33.566Z"
   },
   {
    "duration": 36,
    "start_time": "2023-01-25T08:11:34.703Z"
   },
   {
    "duration": 70,
    "start_time": "2023-01-25T08:11:41.155Z"
   },
   {
    "duration": 7,
    "start_time": "2023-01-25T08:12:01.304Z"
   },
   {
    "duration": 7,
    "start_time": "2023-01-25T08:12:06.662Z"
   },
   {
    "duration": 5,
    "start_time": "2023-01-25T08:12:09.014Z"
   },
   {
    "duration": 6,
    "start_time": "2023-01-25T08:12:09.876Z"
   },
   {
    "duration": 233,
    "start_time": "2023-01-25T08:12:13.152Z"
   },
   {
    "duration": 546,
    "start_time": "2023-01-25T08:12:17.601Z"
   },
   {
    "duration": 771,
    "start_time": "2023-01-25T08:12:20.207Z"
   },
   {
    "duration": 520,
    "start_time": "2023-01-25T08:12:23.198Z"
   },
   {
    "duration": 534,
    "start_time": "2023-01-25T08:12:28.531Z"
   },
   {
    "duration": 655,
    "start_time": "2023-01-25T08:12:32.077Z"
   },
   {
    "duration": 542,
    "start_time": "2023-01-25T08:12:35.103Z"
   },
   {
    "duration": 473,
    "start_time": "2023-01-25T08:12:39.333Z"
   },
   {
    "duration": 627,
    "start_time": "2023-01-25T08:12:42.378Z"
   },
   {
    "duration": 559,
    "start_time": "2023-01-25T08:12:44.792Z"
   },
   {
    "duration": 485,
    "start_time": "2023-01-25T08:12:47.211Z"
   },
   {
    "duration": 693,
    "start_time": "2023-01-25T08:12:50.075Z"
   },
   {
    "duration": 10,
    "start_time": "2023-01-25T08:12:52.880Z"
   },
   {
    "duration": 474,
    "start_time": "2023-01-25T08:12:54.817Z"
   },
   {
    "duration": 555,
    "start_time": "2023-01-25T08:13:00.796Z"
   },
   {
    "duration": 111,
    "start_time": "2023-01-25T08:13:03.096Z"
   },
   {
    "duration": 4,
    "start_time": "2023-01-25T08:13:14.552Z"
   },
   {
    "duration": 305,
    "start_time": "2023-01-25T08:13:19.895Z"
   },
   {
    "duration": 2242,
    "start_time": "2023-01-25T08:13:21.670Z"
   },
   {
    "duration": 3,
    "start_time": "2023-01-25T08:13:35.129Z"
   },
   {
    "duration": 87,
    "start_time": "2023-01-25T08:13:37.279Z"
   },
   {
    "duration": 2218,
    "start_time": "2023-01-25T08:15:04.625Z"
   },
   {
    "duration": 194,
    "start_time": "2023-01-25T08:16:39.921Z"
   },
   {
    "duration": 142,
    "start_time": "2023-01-25T08:16:47.065Z"
   },
   {
    "duration": 170,
    "start_time": "2023-01-25T08:16:49.005Z"
   },
   {
    "duration": 269,
    "start_time": "2023-01-25T08:18:06.719Z"
   },
   {
    "duration": 25,
    "start_time": "2023-01-25T08:35:34.788Z"
   },
   {
    "duration": 11,
    "start_time": "2023-01-25T08:37:11.017Z"
   },
   {
    "duration": 88920,
    "start_time": "2023-01-25T08:38:56.565Z"
   },
   {
    "duration": 46,
    "start_time": "2023-01-25T08:55:21.886Z"
   },
   {
    "duration": 56,
    "start_time": "2023-01-25T08:57:36.820Z"
   },
   {
    "duration": 9,
    "start_time": "2023-01-25T08:57:52.197Z"
   },
   {
    "duration": 4,
    "start_time": "2023-01-25T08:59:19.746Z"
   },
   {
    "duration": 202,
    "start_time": "2023-01-25T08:59:33.988Z"
   },
   {
    "duration": 4,
    "start_time": "2023-01-25T09:00:33.387Z"
   },
   {
    "duration": 212,
    "start_time": "2023-01-25T09:00:39.141Z"
   },
   {
    "duration": 199,
    "start_time": "2023-01-25T09:02:30.413Z"
   },
   {
    "duration": 3,
    "start_time": "2023-01-25T09:03:40.471Z"
   },
   {
    "duration": 213,
    "start_time": "2023-01-25T09:03:43.357Z"
   },
   {
    "duration": 216,
    "start_time": "2023-01-25T09:04:13.182Z"
   },
   {
    "duration": 224,
    "start_time": "2023-01-25T09:08:17.716Z"
   },
   {
    "duration": 4,
    "start_time": "2023-01-25T09:21:21.127Z"
   },
   {
    "duration": 244,
    "start_time": "2023-01-25T09:21:24.850Z"
   },
   {
    "duration": 4,
    "start_time": "2023-01-25T09:33:46.513Z"
   },
   {
    "duration": 198,
    "start_time": "2023-01-25T09:33:52.328Z"
   },
   {
    "duration": 200,
    "start_time": "2023-01-25T09:33:59.314Z"
   },
   {
    "duration": 4,
    "start_time": "2023-01-25T09:52:48.106Z"
   },
   {
    "duration": 305,
    "start_time": "2023-01-25T09:52:53.548Z"
   },
   {
    "duration": 352,
    "start_time": "2023-01-25T10:06:38.611Z"
   },
   {
    "duration": 5,
    "start_time": "2023-01-25T10:07:13.861Z"
   },
   {
    "duration": 329,
    "start_time": "2023-01-25T10:07:18.056Z"
   },
   {
    "duration": 10,
    "start_time": "2023-01-25T10:07:52.386Z"
   },
   {
    "duration": 308,
    "start_time": "2023-01-25T10:07:57.857Z"
   },
   {
    "duration": 5,
    "start_time": "2023-01-25T10:10:38.527Z"
   },
   {
    "duration": 347,
    "start_time": "2023-01-25T10:10:42.481Z"
   },
   {
    "duration": 620,
    "start_time": "2023-01-25T10:20:03.632Z"
   },
   {
    "duration": 2,
    "start_time": "2023-01-25T10:41:24.552Z"
   },
   {
    "duration": 10,
    "start_time": "2023-01-25T10:41:25.704Z"
   },
   {
    "duration": 17,
    "start_time": "2023-01-25T10:43:51.517Z"
   },
   {
    "duration": 36,
    "start_time": "2023-01-25T10:44:18.098Z"
   },
   {
    "duration": 934,
    "start_time": "2023-01-25T10:44:21.171Z"
   },
   {
    "duration": 20,
    "start_time": "2023-01-25T10:45:39.930Z"
   },
   {
    "duration": 320,
    "start_time": "2023-01-25T10:45:44.497Z"
   },
   {
    "duration": 1530,
    "start_time": "2023-01-25T10:48:52.160Z"
   },
   {
    "duration": 2164,
    "start_time": "2023-01-25T10:49:13.624Z"
   },
   {
    "duration": 696,
    "start_time": "2023-01-25T10:56:23.972Z"
   },
   {
    "duration": 209,
    "start_time": "2023-01-25T11:02:34.701Z"
   },
   {
    "duration": 173,
    "start_time": "2023-01-25T11:05:35.833Z"
   },
   {
    "duration": 60,
    "start_time": "2023-01-25T12:20:57.112Z"
   },
   {
    "duration": 1584,
    "start_time": "2023-01-25T12:21:27.612Z"
   },
   {
    "duration": 4,
    "start_time": "2023-01-25T12:21:32.834Z"
   },
   {
    "duration": 352,
    "start_time": "2023-01-25T12:21:33.504Z"
   },
   {
    "duration": 3,
    "start_time": "2023-01-25T12:21:48.286Z"
   },
   {
    "duration": 1409,
    "start_time": "2023-01-25T12:22:00.857Z"
   },
   {
    "duration": 119,
    "start_time": "2023-01-25T12:22:02.268Z"
   },
   {
    "duration": 2150,
    "start_time": "2023-01-25T12:22:02.389Z"
   },
   {
    "duration": 23,
    "start_time": "2023-01-25T12:22:04.544Z"
   },
   {
    "duration": 62,
    "start_time": "2023-01-25T12:22:04.569Z"
   },
   {
    "duration": 67,
    "start_time": "2023-01-25T12:22:04.633Z"
   },
   {
    "duration": 25,
    "start_time": "2023-01-25T12:22:04.702Z"
   },
   {
    "duration": 7,
    "start_time": "2023-01-25T12:22:04.729Z"
   },
   {
    "duration": 7,
    "start_time": "2023-01-25T12:22:04.740Z"
   },
   {
    "duration": 15,
    "start_time": "2023-01-25T12:22:04.752Z"
   },
   {
    "duration": 1444,
    "start_time": "2023-01-25T12:22:04.769Z"
   },
   {
    "duration": 6,
    "start_time": "2023-01-25T12:22:06.215Z"
   },
   {
    "duration": 30,
    "start_time": "2023-01-25T12:22:06.222Z"
   },
   {
    "duration": 13,
    "start_time": "2023-01-25T12:22:06.254Z"
   },
   {
    "duration": 28,
    "start_time": "2023-01-25T12:22:06.269Z"
   },
   {
    "duration": 13,
    "start_time": "2023-01-25T12:22:06.299Z"
   },
   {
    "duration": 8,
    "start_time": "2023-01-25T12:22:06.314Z"
   },
   {
    "duration": 58,
    "start_time": "2023-01-25T12:22:06.324Z"
   },
   {
    "duration": 10,
    "start_time": "2023-01-25T12:22:06.384Z"
   },
   {
    "duration": 76,
    "start_time": "2023-01-25T12:22:06.396Z"
   },
   {
    "duration": 18,
    "start_time": "2023-01-25T12:22:06.474Z"
   },
   {
    "duration": 133,
    "start_time": "2023-01-25T12:22:06.494Z"
   },
   {
    "duration": 10,
    "start_time": "2023-01-25T12:22:06.629Z"
   },
   {
    "duration": 17,
    "start_time": "2023-01-25T12:22:06.642Z"
   },
   {
    "duration": 8,
    "start_time": "2023-01-25T12:22:06.662Z"
   },
   {
    "duration": 27,
    "start_time": "2023-01-25T12:22:06.672Z"
   },
   {
    "duration": 146,
    "start_time": "2023-01-25T12:22:06.701Z"
   },
   {
    "duration": 0,
    "start_time": "2023-01-25T12:22:06.853Z"
   },
   {
    "duration": 0,
    "start_time": "2023-01-25T12:22:06.856Z"
   },
   {
    "duration": 0,
    "start_time": "2023-01-25T12:22:06.858Z"
   },
   {
    "duration": 0,
    "start_time": "2023-01-25T12:22:06.860Z"
   },
   {
    "duration": 0,
    "start_time": "2023-01-25T12:22:06.861Z"
   },
   {
    "duration": 0,
    "start_time": "2023-01-25T12:22:06.862Z"
   },
   {
    "duration": 0,
    "start_time": "2023-01-25T12:22:06.863Z"
   },
   {
    "duration": 0,
    "start_time": "2023-01-25T12:22:06.864Z"
   },
   {
    "duration": 0,
    "start_time": "2023-01-25T12:22:06.865Z"
   },
   {
    "duration": 0,
    "start_time": "2023-01-25T12:22:06.867Z"
   },
   {
    "duration": 0,
    "start_time": "2023-01-25T12:22:06.868Z"
   },
   {
    "duration": 0,
    "start_time": "2023-01-25T12:22:06.869Z"
   },
   {
    "duration": 0,
    "start_time": "2023-01-25T12:22:06.870Z"
   },
   {
    "duration": 0,
    "start_time": "2023-01-25T12:22:06.871Z"
   },
   {
    "duration": 0,
    "start_time": "2023-01-25T12:22:06.872Z"
   },
   {
    "duration": 0,
    "start_time": "2023-01-25T12:22:06.872Z"
   },
   {
    "duration": 0,
    "start_time": "2023-01-25T12:22:06.873Z"
   },
   {
    "duration": 0,
    "start_time": "2023-01-25T12:22:06.875Z"
   },
   {
    "duration": 0,
    "start_time": "2023-01-25T12:22:06.876Z"
   },
   {
    "duration": 0,
    "start_time": "2023-01-25T12:22:06.877Z"
   },
   {
    "duration": 0,
    "start_time": "2023-01-25T12:22:06.878Z"
   },
   {
    "duration": 0,
    "start_time": "2023-01-25T12:22:06.879Z"
   },
   {
    "duration": 0,
    "start_time": "2023-01-25T12:22:06.880Z"
   },
   {
    "duration": 0,
    "start_time": "2023-01-25T12:22:06.881Z"
   },
   {
    "duration": 0,
    "start_time": "2023-01-25T12:22:06.882Z"
   },
   {
    "duration": 0,
    "start_time": "2023-01-25T12:22:06.883Z"
   },
   {
    "duration": 0,
    "start_time": "2023-01-25T12:22:06.938Z"
   },
   {
    "duration": 0,
    "start_time": "2023-01-25T12:22:06.941Z"
   },
   {
    "duration": 0,
    "start_time": "2023-01-25T12:22:06.942Z"
   },
   {
    "duration": 0,
    "start_time": "2023-01-25T12:22:06.944Z"
   },
   {
    "duration": 0,
    "start_time": "2023-01-25T12:22:06.946Z"
   },
   {
    "duration": 0,
    "start_time": "2023-01-25T12:22:06.954Z"
   },
   {
    "duration": 0,
    "start_time": "2023-01-25T12:22:06.957Z"
   },
   {
    "duration": 0,
    "start_time": "2023-01-25T12:22:06.958Z"
   },
   {
    "duration": 0,
    "start_time": "2023-01-25T12:22:06.960Z"
   },
   {
    "duration": 0,
    "start_time": "2023-01-25T12:22:06.961Z"
   },
   {
    "duration": 0,
    "start_time": "2023-01-25T12:22:06.963Z"
   },
   {
    "duration": 3,
    "start_time": "2023-01-25T12:22:16.050Z"
   },
   {
    "duration": 133,
    "start_time": "2023-01-25T12:22:20.064Z"
   },
   {
    "duration": 2244,
    "start_time": "2023-01-25T12:22:26.521Z"
   },
   {
    "duration": 1367,
    "start_time": "2023-01-25T12:22:45.915Z"
   },
   {
    "duration": 132,
    "start_time": "2023-01-25T12:22:47.284Z"
   },
   {
    "duration": 2426,
    "start_time": "2023-01-25T12:22:47.418Z"
   },
   {
    "duration": 20,
    "start_time": "2023-01-25T12:22:49.847Z"
   },
   {
    "duration": 17,
    "start_time": "2023-01-25T12:22:49.870Z"
   },
   {
    "duration": 87,
    "start_time": "2023-01-25T12:22:49.889Z"
   },
   {
    "duration": 26,
    "start_time": "2023-01-25T12:22:49.978Z"
   },
   {
    "duration": 8,
    "start_time": "2023-01-25T12:22:50.006Z"
   },
   {
    "duration": 26,
    "start_time": "2023-01-25T12:22:50.016Z"
   },
   {
    "duration": 27,
    "start_time": "2023-01-25T12:22:50.044Z"
   },
   {
    "duration": 1380,
    "start_time": "2023-01-25T12:22:50.073Z"
   },
   {
    "duration": 8,
    "start_time": "2023-01-25T12:22:51.455Z"
   },
   {
    "duration": 34,
    "start_time": "2023-01-25T12:22:51.465Z"
   },
   {
    "duration": 45,
    "start_time": "2023-01-25T12:22:51.503Z"
   },
   {
    "duration": 31,
    "start_time": "2023-01-25T12:22:51.551Z"
   },
   {
    "duration": 55,
    "start_time": "2023-01-25T12:22:51.584Z"
   },
   {
    "duration": 28,
    "start_time": "2023-01-25T12:22:51.642Z"
   },
   {
    "duration": 72,
    "start_time": "2023-01-25T12:22:51.672Z"
   },
   {
    "duration": 24,
    "start_time": "2023-01-25T12:22:51.746Z"
   },
   {
    "duration": 111,
    "start_time": "2023-01-25T12:22:51.773Z"
   },
   {
    "duration": 18,
    "start_time": "2023-01-25T12:22:51.886Z"
   },
   {
    "duration": 128,
    "start_time": "2023-01-25T12:22:51.905Z"
   },
   {
    "duration": 7,
    "start_time": "2023-01-25T12:22:52.038Z"
   },
   {
    "duration": 56,
    "start_time": "2023-01-25T12:22:52.047Z"
   },
   {
    "duration": 49,
    "start_time": "2023-01-25T12:22:52.105Z"
   },
   {
    "duration": 67,
    "start_time": "2023-01-25T12:22:52.156Z"
   },
   {
    "duration": 111,
    "start_time": "2023-01-25T12:22:52.225Z"
   },
   {
    "duration": 0,
    "start_time": "2023-01-25T12:22:52.339Z"
   },
   {
    "duration": 0,
    "start_time": "2023-01-25T12:22:52.342Z"
   },
   {
    "duration": 0,
    "start_time": "2023-01-25T12:22:52.343Z"
   },
   {
    "duration": 0,
    "start_time": "2023-01-25T12:22:52.345Z"
   },
   {
    "duration": 0,
    "start_time": "2023-01-25T12:22:52.347Z"
   },
   {
    "duration": 0,
    "start_time": "2023-01-25T12:22:52.350Z"
   },
   {
    "duration": 0,
    "start_time": "2023-01-25T12:22:52.351Z"
   },
   {
    "duration": 0,
    "start_time": "2023-01-25T12:22:52.353Z"
   },
   {
    "duration": 0,
    "start_time": "2023-01-25T12:22:52.354Z"
   },
   {
    "duration": 0,
    "start_time": "2023-01-25T12:22:52.356Z"
   },
   {
    "duration": 0,
    "start_time": "2023-01-25T12:22:52.357Z"
   },
   {
    "duration": 0,
    "start_time": "2023-01-25T12:22:52.360Z"
   },
   {
    "duration": 1,
    "start_time": "2023-01-25T12:22:52.361Z"
   },
   {
    "duration": 0,
    "start_time": "2023-01-25T12:22:52.363Z"
   },
   {
    "duration": 0,
    "start_time": "2023-01-25T12:22:52.366Z"
   },
   {
    "duration": 0,
    "start_time": "2023-01-25T12:22:52.368Z"
   },
   {
    "duration": 0,
    "start_time": "2023-01-25T12:22:52.370Z"
   },
   {
    "duration": 0,
    "start_time": "2023-01-25T12:22:52.371Z"
   },
   {
    "duration": 0,
    "start_time": "2023-01-25T12:22:52.372Z"
   },
   {
    "duration": 0,
    "start_time": "2023-01-25T12:22:52.374Z"
   },
   {
    "duration": 0,
    "start_time": "2023-01-25T12:22:52.376Z"
   },
   {
    "duration": 0,
    "start_time": "2023-01-25T12:22:52.378Z"
   },
   {
    "duration": 0,
    "start_time": "2023-01-25T12:22:52.379Z"
   },
   {
    "duration": 0,
    "start_time": "2023-01-25T12:22:52.380Z"
   },
   {
    "duration": 0,
    "start_time": "2023-01-25T12:22:52.382Z"
   },
   {
    "duration": 0,
    "start_time": "2023-01-25T12:22:52.438Z"
   },
   {
    "duration": 0,
    "start_time": "2023-01-25T12:22:52.439Z"
   },
   {
    "duration": 0,
    "start_time": "2023-01-25T12:22:52.442Z"
   },
   {
    "duration": 0,
    "start_time": "2023-01-25T12:22:52.444Z"
   },
   {
    "duration": 0,
    "start_time": "2023-01-25T12:22:52.446Z"
   },
   {
    "duration": 0,
    "start_time": "2023-01-25T12:22:52.447Z"
   },
   {
    "duration": 0,
    "start_time": "2023-01-25T12:22:52.450Z"
   },
   {
    "duration": 1,
    "start_time": "2023-01-25T12:22:52.451Z"
   },
   {
    "duration": 0,
    "start_time": "2023-01-25T12:22:52.453Z"
   },
   {
    "duration": 0,
    "start_time": "2023-01-25T12:22:52.455Z"
   },
   {
    "duration": 0,
    "start_time": "2023-01-25T12:22:52.457Z"
   },
   {
    "duration": 0,
    "start_time": "2023-01-25T12:22:52.459Z"
   },
   {
    "duration": 3,
    "start_time": "2023-01-25T12:23:05.391Z"
   },
   {
    "duration": 147,
    "start_time": "2023-01-25T12:23:08.288Z"
   },
   {
    "duration": 2375,
    "start_time": "2023-01-25T12:23:17.806Z"
   },
   {
    "duration": 16,
    "start_time": "2023-01-25T12:23:25.093Z"
   },
   {
    "duration": 16,
    "start_time": "2023-01-25T12:23:29.146Z"
   },
   {
    "duration": 23,
    "start_time": "2023-01-25T12:23:31.735Z"
   },
   {
    "duration": 27,
    "start_time": "2023-01-25T12:23:34.381Z"
   },
   {
    "duration": 7,
    "start_time": "2023-01-25T12:23:36.737Z"
   },
   {
    "duration": 4,
    "start_time": "2023-01-25T12:23:42.275Z"
   },
   {
    "duration": 5,
    "start_time": "2023-01-25T12:23:43.186Z"
   },
   {
    "duration": 1339,
    "start_time": "2023-01-25T12:23:46.856Z"
   },
   {
    "duration": 7,
    "start_time": "2023-01-25T12:23:50.536Z"
   },
   {
    "duration": 11,
    "start_time": "2023-01-25T12:23:53.893Z"
   },
   {
    "duration": 8,
    "start_time": "2023-01-25T12:23:55.103Z"
   },
   {
    "duration": 10,
    "start_time": "2023-01-25T12:23:56.278Z"
   },
   {
    "duration": 16,
    "start_time": "2023-01-25T12:23:57.671Z"
   },
   {
    "duration": 10,
    "start_time": "2023-01-25T12:24:01.423Z"
   },
   {
    "duration": 18587,
    "start_time": "2023-01-25T12:24:21.498Z"
   },
   {
    "duration": 1266,
    "start_time": "2023-01-25T12:28:36.045Z"
   },
   {
    "duration": 139,
    "start_time": "2023-01-25T12:28:37.314Z"
   },
   {
    "duration": 2335,
    "start_time": "2023-01-25T12:28:37.456Z"
   },
   {
    "duration": 17,
    "start_time": "2023-01-25T12:28:39.793Z"
   },
   {
    "duration": 12,
    "start_time": "2023-01-25T12:28:39.812Z"
   },
   {
    "duration": 65,
    "start_time": "2023-01-25T12:28:39.826Z"
   },
   {
    "duration": 24,
    "start_time": "2023-01-25T12:28:39.893Z"
   },
   {
    "duration": 4,
    "start_time": "2023-01-25T12:28:39.919Z"
   },
   {
    "duration": 16,
    "start_time": "2023-01-25T12:28:39.941Z"
   },
   {
    "duration": 5,
    "start_time": "2023-01-25T12:28:39.962Z"
   },
   {
    "duration": 1418,
    "start_time": "2023-01-25T12:28:39.969Z"
   },
   {
    "duration": 7,
    "start_time": "2023-01-25T12:28:41.389Z"
   },
   {
    "duration": 33,
    "start_time": "2023-01-25T12:28:41.398Z"
   },
   {
    "duration": 21,
    "start_time": "2023-01-25T12:28:41.433Z"
   },
   {
    "duration": 23,
    "start_time": "2023-01-25T12:28:41.456Z"
   },
   {
    "duration": 32,
    "start_time": "2023-01-25T12:28:41.482Z"
   },
   {
    "duration": 15,
    "start_time": "2023-01-25T12:28:41.516Z"
   },
   {
    "duration": 67,
    "start_time": "2023-01-25T12:28:41.532Z"
   },
   {
    "duration": 11,
    "start_time": "2023-01-25T12:28:41.601Z"
   },
   {
    "duration": 75,
    "start_time": "2023-01-25T12:28:41.614Z"
   },
   {
    "duration": 17,
    "start_time": "2023-01-25T12:28:41.691Z"
   },
   {
    "duration": 131,
    "start_time": "2023-01-25T12:28:41.709Z"
   },
   {
    "duration": 6,
    "start_time": "2023-01-25T12:28:41.843Z"
   },
   {
    "duration": 32,
    "start_time": "2023-01-25T12:28:41.853Z"
   },
   {
    "duration": 38,
    "start_time": "2023-01-25T12:28:41.887Z"
   },
   {
    "duration": 40,
    "start_time": "2023-01-25T12:28:41.927Z"
   },
   {
    "duration": 124,
    "start_time": "2023-01-25T12:28:41.970Z"
   },
   {
    "duration": 0,
    "start_time": "2023-01-25T12:28:42.097Z"
   },
   {
    "duration": 0,
    "start_time": "2023-01-25T12:28:42.098Z"
   },
   {
    "duration": 0,
    "start_time": "2023-01-25T12:28:42.099Z"
   },
   {
    "duration": 0,
    "start_time": "2023-01-25T12:28:42.100Z"
   },
   {
    "duration": 0,
    "start_time": "2023-01-25T12:28:42.101Z"
   },
   {
    "duration": 0,
    "start_time": "2023-01-25T12:28:42.102Z"
   },
   {
    "duration": 0,
    "start_time": "2023-01-25T12:28:42.103Z"
   },
   {
    "duration": 0,
    "start_time": "2023-01-25T12:28:42.104Z"
   },
   {
    "duration": 0,
    "start_time": "2023-01-25T12:28:42.106Z"
   },
   {
    "duration": 0,
    "start_time": "2023-01-25T12:28:42.107Z"
   },
   {
    "duration": 0,
    "start_time": "2023-01-25T12:28:42.108Z"
   },
   {
    "duration": 0,
    "start_time": "2023-01-25T12:28:42.109Z"
   },
   {
    "duration": 0,
    "start_time": "2023-01-25T12:28:42.110Z"
   },
   {
    "duration": 0,
    "start_time": "2023-01-25T12:28:42.111Z"
   },
   {
    "duration": 0,
    "start_time": "2023-01-25T12:28:42.138Z"
   },
   {
    "duration": 0,
    "start_time": "2023-01-25T12:28:42.140Z"
   },
   {
    "duration": 0,
    "start_time": "2023-01-25T12:28:42.142Z"
   },
   {
    "duration": 0,
    "start_time": "2023-01-25T12:28:42.144Z"
   },
   {
    "duration": 0,
    "start_time": "2023-01-25T12:28:42.145Z"
   },
   {
    "duration": 0,
    "start_time": "2023-01-25T12:28:42.147Z"
   },
   {
    "duration": 0,
    "start_time": "2023-01-25T12:28:42.149Z"
   },
   {
    "duration": 0,
    "start_time": "2023-01-25T12:28:42.151Z"
   },
   {
    "duration": 0,
    "start_time": "2023-01-25T12:28:42.153Z"
   },
   {
    "duration": 0,
    "start_time": "2023-01-25T12:28:42.154Z"
   },
   {
    "duration": 0,
    "start_time": "2023-01-25T12:28:42.156Z"
   },
   {
    "duration": 0,
    "start_time": "2023-01-25T12:28:42.157Z"
   },
   {
    "duration": 0,
    "start_time": "2023-01-25T12:28:42.158Z"
   },
   {
    "duration": 0,
    "start_time": "2023-01-25T12:28:42.159Z"
   },
   {
    "duration": 0,
    "start_time": "2023-01-25T12:28:42.160Z"
   },
   {
    "duration": 0,
    "start_time": "2023-01-25T12:28:42.161Z"
   },
   {
    "duration": 0,
    "start_time": "2023-01-25T12:28:42.162Z"
   },
   {
    "duration": 0,
    "start_time": "2023-01-25T12:28:42.163Z"
   },
   {
    "duration": 0,
    "start_time": "2023-01-25T12:28:42.164Z"
   },
   {
    "duration": 0,
    "start_time": "2023-01-25T12:28:42.165Z"
   },
   {
    "duration": 0,
    "start_time": "2023-01-25T12:28:42.166Z"
   },
   {
    "duration": 0,
    "start_time": "2023-01-25T12:28:42.167Z"
   },
   {
    "duration": 0,
    "start_time": "2023-01-25T12:28:42.168Z"
   },
   {
    "duration": 15,
    "start_time": "2023-01-25T12:29:41.653Z"
   },
   {
    "duration": 5,
    "start_time": "2023-01-25T12:30:21.696Z"
   },
   {
    "duration": 347,
    "start_time": "2023-01-25T12:30:26.117Z"
   },
   {
    "duration": 4,
    "start_time": "2023-01-25T12:30:30.209Z"
   },
   {
    "duration": 6,
    "start_time": "2023-01-25T12:30:34.449Z"
   },
   {
    "duration": 241,
    "start_time": "2023-01-25T12:30:39.543Z"
   },
   {
    "duration": 621,
    "start_time": "2023-01-25T12:30:48.512Z"
   },
   {
    "duration": 732,
    "start_time": "2023-01-25T12:30:56.582Z"
   },
   {
    "duration": 556,
    "start_time": "2023-01-25T12:31:05.750Z"
   },
   {
    "duration": 676,
    "start_time": "2023-01-25T12:31:16.003Z"
   },
   {
    "duration": 568,
    "start_time": "2023-01-25T12:31:21.449Z"
   },
   {
    "duration": 640,
    "start_time": "2023-01-25T12:31:28.313Z"
   },
   {
    "duration": 700,
    "start_time": "2023-01-25T12:31:54.018Z"
   },
   {
    "duration": 589,
    "start_time": "2023-01-25T12:32:03.481Z"
   },
   {
    "duration": 593,
    "start_time": "2023-01-25T12:32:14.719Z"
   },
   {
    "duration": 704,
    "start_time": "2023-01-25T12:32:21.908Z"
   },
   {
    "duration": 633,
    "start_time": "2023-01-25T12:32:27.749Z"
   },
   {
    "duration": 3,
    "start_time": "2023-01-25T12:32:33.967Z"
   },
   {
    "duration": 460,
    "start_time": "2023-01-25T12:32:36.219Z"
   },
   {
    "duration": 644,
    "start_time": "2023-01-25T12:32:45.055Z"
   },
   {
    "duration": 115,
    "start_time": "2023-01-25T12:32:48.246Z"
   },
   {
    "duration": 224,
    "start_time": "2023-01-25T12:33:01.746Z"
   },
   {
    "duration": 2336,
    "start_time": "2023-01-25T12:33:04.602Z"
   },
   {
    "duration": 210,
    "start_time": "2023-01-25T12:33:20.076Z"
   },
   {
    "duration": 220,
    "start_time": "2023-01-25T12:33:48.687Z"
   },
   {
    "duration": 197,
    "start_time": "2023-01-25T12:34:13.725Z"
   },
   {
    "duration": 185,
    "start_time": "2023-01-25T12:34:29.407Z"
   },
   {
    "duration": 837,
    "start_time": "2023-01-25T12:34:35.393Z"
   },
   {
    "duration": 29,
    "start_time": "2023-01-25T12:38:44.372Z"
   },
   {
    "duration": 27,
    "start_time": "2023-01-25T12:44:43.152Z"
   },
   {
    "duration": 679,
    "start_time": "2023-01-25T12:44:43.182Z"
   },
   {
    "duration": 4,
    "start_time": "2023-01-25T12:44:43.863Z"
   },
   {
    "duration": 94214,
    "start_time": "2023-01-25T12:47:15.790Z"
   },
   {
    "duration": 157,
    "start_time": "2023-01-25T12:50:33.974Z"
   },
   {
    "duration": 79,
    "start_time": "2023-01-25T12:56:53.352Z"
   },
   {
    "duration": 11,
    "start_time": "2023-01-25T12:58:24.160Z"
   },
   {
    "duration": 6,
    "start_time": "2023-01-25T12:58:49.452Z"
   },
   {
    "duration": 31,
    "start_time": "2023-01-25T12:58:55.149Z"
   },
   {
    "duration": 14,
    "start_time": "2023-01-25T12:58:59.709Z"
   },
   {
    "duration": 29,
    "start_time": "2023-01-25T12:59:04.163Z"
   },
   {
    "duration": 30,
    "start_time": "2023-01-25T12:59:06.574Z"
   },
   {
    "duration": 16,
    "start_time": "2023-01-25T12:59:08.352Z"
   },
   {
    "duration": 211,
    "start_time": "2023-01-25T12:59:09.882Z"
   },
   {
    "duration": 8724,
    "start_time": "2023-01-25T12:59:12.848Z"
   },
   {
    "duration": 1713,
    "start_time": "2023-01-25T13:01:19.178Z"
   },
   {
    "duration": 1520,
    "start_time": "2023-01-25T13:02:14.281Z"
   },
   {
    "duration": 1418,
    "start_time": "2023-01-25T18:38:48.966Z"
   },
   {
    "duration": 122,
    "start_time": "2023-01-25T18:38:50.386Z"
   },
   {
    "duration": 2209,
    "start_time": "2023-01-25T18:38:50.510Z"
   },
   {
    "duration": 19,
    "start_time": "2023-01-25T18:38:52.721Z"
   },
   {
    "duration": 12,
    "start_time": "2023-01-25T18:38:52.743Z"
   },
   {
    "duration": 83,
    "start_time": "2023-01-25T18:38:52.757Z"
   },
   {
    "duration": 43,
    "start_time": "2023-01-25T18:38:52.842Z"
   },
   {
    "duration": 4,
    "start_time": "2023-01-25T18:38:52.887Z"
   },
   {
    "duration": 13,
    "start_time": "2023-01-25T18:38:52.893Z"
   },
   {
    "duration": 18,
    "start_time": "2023-01-25T18:38:52.908Z"
   },
   {
    "duration": 1488,
    "start_time": "2023-01-25T18:38:52.929Z"
   },
   {
    "duration": 8,
    "start_time": "2023-01-25T18:38:54.419Z"
   },
   {
    "duration": 13,
    "start_time": "2023-01-25T18:38:54.430Z"
   },
   {
    "duration": 13,
    "start_time": "2023-01-25T18:38:54.450Z"
   },
   {
    "duration": 14,
    "start_time": "2023-01-25T18:38:54.485Z"
   },
   {
    "duration": 20,
    "start_time": "2023-01-25T18:38:54.502Z"
   },
   {
    "duration": 10,
    "start_time": "2023-01-25T18:38:54.524Z"
   },
   {
    "duration": 83,
    "start_time": "2023-01-25T18:38:54.535Z"
   },
   {
    "duration": 13,
    "start_time": "2023-01-25T18:38:54.620Z"
   },
   {
    "duration": 101,
    "start_time": "2023-01-25T18:38:54.635Z"
   },
   {
    "duration": 19,
    "start_time": "2023-01-25T18:38:54.738Z"
   },
   {
    "duration": 133,
    "start_time": "2023-01-25T18:38:54.758Z"
   },
   {
    "duration": 5,
    "start_time": "2023-01-25T18:38:54.893Z"
   },
   {
    "duration": 14,
    "start_time": "2023-01-25T18:38:54.899Z"
   },
   {
    "duration": 53,
    "start_time": "2023-01-25T18:38:54.916Z"
   },
   {
    "duration": 34,
    "start_time": "2023-01-25T18:38:54.971Z"
   },
   {
    "duration": 7,
    "start_time": "2023-01-25T18:38:55.007Z"
   },
   {
    "duration": 359,
    "start_time": "2023-01-25T18:38:55.016Z"
   },
   {
    "duration": 10,
    "start_time": "2023-01-25T18:38:55.378Z"
   },
   {
    "duration": 13,
    "start_time": "2023-01-25T18:38:55.390Z"
   },
   {
    "duration": 279,
    "start_time": "2023-01-25T18:38:55.405Z"
   },
   {
    "duration": 565,
    "start_time": "2023-01-25T18:38:55.687Z"
   },
   {
    "duration": 784,
    "start_time": "2023-01-25T18:38:56.254Z"
   },
   {
    "duration": 631,
    "start_time": "2023-01-25T18:38:57.040Z"
   },
   {
    "duration": 745,
    "start_time": "2023-01-25T18:38:57.674Z"
   },
   {
    "duration": 602,
    "start_time": "2023-01-25T18:38:58.422Z"
   },
   {
    "duration": 667,
    "start_time": "2023-01-25T18:38:59.026Z"
   },
   {
    "duration": 780,
    "start_time": "2023-01-25T18:38:59.695Z"
   },
   {
    "duration": 612,
    "start_time": "2023-01-25T18:39:00.477Z"
   },
   {
    "duration": 562,
    "start_time": "2023-01-25T18:39:01.090Z"
   },
   {
    "duration": 690,
    "start_time": "2023-01-25T18:39:01.657Z"
   },
   {
    "duration": 581,
    "start_time": "2023-01-25T18:39:02.349Z"
   },
   {
    "duration": 3,
    "start_time": "2023-01-25T18:39:02.932Z"
   },
   {
    "duration": 519,
    "start_time": "2023-01-25T18:39:02.937Z"
   },
   {
    "duration": 750,
    "start_time": "2023-01-25T18:39:03.458Z"
   },
   {
    "duration": 124,
    "start_time": "2023-01-25T18:39:04.210Z"
   },
   {
    "duration": 205,
    "start_time": "2023-01-25T18:39:04.336Z"
   },
   {
    "duration": 2310,
    "start_time": "2023-01-25T18:39:04.543Z"
   },
   {
    "duration": 255,
    "start_time": "2023-01-25T18:39:06.855Z"
   },
   {
    "duration": 183,
    "start_time": "2023-01-25T18:39:07.112Z"
   },
   {
    "duration": 211,
    "start_time": "2023-01-25T18:39:07.296Z"
   },
   {
    "duration": 931,
    "start_time": "2023-01-25T18:39:07.508Z"
   },
   {
    "duration": 28,
    "start_time": "2023-01-25T18:39:08.441Z"
   },
   {
    "duration": 177,
    "start_time": "2023-01-25T18:39:08.485Z"
   },
   {
    "duration": 86,
    "start_time": "2023-01-25T18:39:08.664Z"
   },
   {
    "duration": 1613,
    "start_time": "2023-01-25T18:39:08.752Z"
   },
   {
    "duration": 34,
    "start_time": "2023-01-25T18:39:10.367Z"
   },
   {
    "duration": 18,
    "start_time": "2023-01-25T18:39:10.403Z"
   },
   {
    "duration": 38,
    "start_time": "2023-01-25T18:39:10.423Z"
   },
   {
    "duration": 52,
    "start_time": "2023-01-25T18:39:10.462Z"
   },
   {
    "duration": 27,
    "start_time": "2023-01-25T18:39:10.515Z"
   },
   {
    "duration": 358,
    "start_time": "2023-01-25T18:39:10.544Z"
   },
   {
    "duration": 2001,
    "start_time": "2023-01-25T18:39:10.905Z"
   },
   {
    "duration": 215,
    "start_time": "2023-01-25T18:39:12.907Z"
   },
   {
    "duration": 207,
    "start_time": "2023-01-25T18:40:04.779Z"
   },
   {
    "duration": 7,
    "start_time": "2023-01-25T18:43:42.651Z"
   },
   {
    "duration": 162,
    "start_time": "2023-01-25T18:44:51.474Z"
   },
   {
    "duration": 191,
    "start_time": "2023-01-25T18:44:54.210Z"
   },
   {
    "duration": 52,
    "start_time": "2023-01-25T18:52:12.111Z"
   },
   {
    "duration": 7,
    "start_time": "2023-01-25T18:52:45.589Z"
   },
   {
    "duration": 1421,
    "start_time": "2023-01-25T18:53:23.061Z"
   },
   {
    "duration": 178,
    "start_time": "2023-01-25T18:53:24.484Z"
   },
   {
    "duration": 2104,
    "start_time": "2023-01-25T18:53:24.664Z"
   },
   {
    "duration": 18,
    "start_time": "2023-01-25T18:53:26.771Z"
   },
   {
    "duration": 11,
    "start_time": "2023-01-25T18:53:26.790Z"
   },
   {
    "duration": 61,
    "start_time": "2023-01-25T18:53:26.802Z"
   },
   {
    "duration": 25,
    "start_time": "2023-01-25T18:53:26.865Z"
   },
   {
    "duration": 4,
    "start_time": "2023-01-25T18:53:26.892Z"
   },
   {
    "duration": 13,
    "start_time": "2023-01-25T18:53:26.897Z"
   },
   {
    "duration": 5,
    "start_time": "2023-01-25T18:53:26.913Z"
   },
   {
    "duration": 1391,
    "start_time": "2023-01-25T18:53:26.920Z"
   },
   {
    "duration": 6,
    "start_time": "2023-01-25T18:53:28.313Z"
   },
   {
    "duration": 20,
    "start_time": "2023-01-25T18:53:28.320Z"
   },
   {
    "duration": 9,
    "start_time": "2023-01-25T18:53:28.341Z"
   },
   {
    "duration": 14,
    "start_time": "2023-01-25T18:53:28.351Z"
   },
   {
    "duration": 24,
    "start_time": "2023-01-25T18:53:28.367Z"
   },
   {
    "duration": 9,
    "start_time": "2023-01-25T18:53:28.393Z"
   },
   {
    "duration": 60,
    "start_time": "2023-01-25T18:53:28.404Z"
   },
   {
    "duration": 11,
    "start_time": "2023-01-25T18:53:28.466Z"
   },
   {
    "duration": 68,
    "start_time": "2023-01-25T18:53:28.478Z"
   },
   {
    "duration": 18,
    "start_time": "2023-01-25T18:53:28.547Z"
   },
   {
    "duration": 125,
    "start_time": "2023-01-25T18:53:28.567Z"
   },
   {
    "duration": 4,
    "start_time": "2023-01-25T18:53:28.694Z"
   },
   {
    "duration": 16,
    "start_time": "2023-01-25T18:53:28.700Z"
   },
   {
    "duration": 13,
    "start_time": "2023-01-25T18:53:28.717Z"
   },
   {
    "duration": 29,
    "start_time": "2023-01-25T18:53:28.732Z"
   },
   {
    "duration": 4,
    "start_time": "2023-01-25T18:53:28.763Z"
   },
   {
    "duration": 369,
    "start_time": "2023-01-25T18:53:28.772Z"
   },
   {
    "duration": 6,
    "start_time": "2023-01-25T18:53:29.143Z"
   },
   {
    "duration": 30,
    "start_time": "2023-01-25T18:53:29.152Z"
   },
   {
    "duration": 258,
    "start_time": "2023-01-25T18:53:29.184Z"
   },
   {
    "duration": 551,
    "start_time": "2023-01-25T18:53:29.444Z"
   },
   {
    "duration": 697,
    "start_time": "2023-01-25T18:53:29.997Z"
   },
   {
    "duration": 495,
    "start_time": "2023-01-25T18:53:30.695Z"
   },
   {
    "duration": 640,
    "start_time": "2023-01-25T18:53:31.192Z"
   },
   {
    "duration": 525,
    "start_time": "2023-01-25T18:53:31.834Z"
   },
   {
    "duration": 528,
    "start_time": "2023-01-25T18:53:32.361Z"
   },
   {
    "duration": 628,
    "start_time": "2023-01-25T18:53:32.890Z"
   },
   {
    "duration": 579,
    "start_time": "2023-01-25T18:53:33.520Z"
   },
   {
    "duration": 533,
    "start_time": "2023-01-25T18:53:34.101Z"
   },
   {
    "duration": 641,
    "start_time": "2023-01-25T18:53:34.639Z"
   },
   {
    "duration": 530,
    "start_time": "2023-01-25T18:53:35.281Z"
   },
   {
    "duration": 2,
    "start_time": "2023-01-25T18:53:35.813Z"
   },
   {
    "duration": 474,
    "start_time": "2023-01-25T18:53:35.816Z"
   },
   {
    "duration": 152,
    "start_time": "2023-01-25T18:53:36.292Z"
   },
   {
    "duration": 636,
    "start_time": "2023-01-25T18:53:36.446Z"
   },
   {
    "duration": 120,
    "start_time": "2023-01-25T18:53:37.084Z"
   },
   {
    "duration": 179,
    "start_time": "2023-01-25T18:53:37.206Z"
   },
   {
    "duration": 6,
    "start_time": "2023-01-25T18:53:37.386Z"
   },
   {
    "duration": 2292,
    "start_time": "2023-01-25T18:53:37.394Z"
   },
   {
    "duration": 291,
    "start_time": "2023-01-25T18:53:39.688Z"
   },
   {
    "duration": 189,
    "start_time": "2023-01-25T18:53:39.981Z"
   },
   {
    "duration": 206,
    "start_time": "2023-01-25T18:53:40.172Z"
   },
   {
    "duration": 811,
    "start_time": "2023-01-25T18:53:40.380Z"
   },
   {
    "duration": 26,
    "start_time": "2023-01-25T18:53:41.193Z"
   },
   {
    "duration": 167,
    "start_time": "2023-01-25T18:53:41.221Z"
   },
   {
    "duration": 86,
    "start_time": "2023-01-25T18:53:41.390Z"
   },
   {
    "duration": 1492,
    "start_time": "2023-01-25T18:53:41.478Z"
   },
   {
    "duration": 126,
    "start_time": "2023-01-25T18:53:42.971Z"
   },
   {
    "duration": 28,
    "start_time": "2023-01-25T18:53:43.099Z"
   },
   {
    "duration": 13,
    "start_time": "2023-01-25T18:53:43.141Z"
   },
   {
    "duration": 26,
    "start_time": "2023-01-25T18:53:43.156Z"
   },
   {
    "duration": 26,
    "start_time": "2023-01-25T18:53:43.183Z"
   },
   {
    "duration": 36,
    "start_time": "2023-01-25T18:53:43.210Z"
   },
   {
    "duration": 182,
    "start_time": "2023-01-25T18:53:43.247Z"
   },
   {
    "duration": 1792,
    "start_time": "2023-01-25T18:53:43.431Z"
   },
   {
    "duration": 196,
    "start_time": "2023-01-25T18:53:45.225Z"
   },
   {
    "duration": 167,
    "start_time": "2023-01-25T19:04:26.469Z"
   },
   {
    "duration": 7,
    "start_time": "2023-01-25T19:24:26.945Z"
   },
   {
    "duration": 5,
    "start_time": "2023-01-25T19:26:48.478Z"
   },
   {
    "duration": 6,
    "start_time": "2023-01-25T19:30:47.485Z"
   },
   {
    "duration": 42,
    "start_time": "2023-01-25T19:33:36.089Z"
   },
   {
    "duration": 152,
    "start_time": "2023-01-25T19:33:53.027Z"
   },
   {
    "duration": 29,
    "start_time": "2023-01-25T19:34:27.919Z"
   },
   {
    "duration": 26,
    "start_time": "2023-01-25T19:34:33.033Z"
   },
   {
    "duration": 185,
    "start_time": "2023-01-25T19:38:19.132Z"
   },
   {
    "duration": 132,
    "start_time": "2023-01-25T19:38:30.384Z"
   },
   {
    "duration": 1420,
    "start_time": "2023-01-25T21:08:45.074Z"
   },
   {
    "duration": 146,
    "start_time": "2023-01-25T21:08:46.498Z"
   },
   {
    "duration": 2423,
    "start_time": "2023-01-25T21:08:46.646Z"
   },
   {
    "duration": 27,
    "start_time": "2023-01-25T21:08:49.072Z"
   },
   {
    "duration": 13,
    "start_time": "2023-01-25T21:08:49.102Z"
   },
   {
    "duration": 99,
    "start_time": "2023-01-25T21:08:49.117Z"
   },
   {
    "duration": 27,
    "start_time": "2023-01-25T21:08:49.218Z"
   },
   {
    "duration": 4,
    "start_time": "2023-01-25T21:08:49.247Z"
   },
   {
    "duration": 6,
    "start_time": "2023-01-25T21:08:49.253Z"
   },
   {
    "duration": 29,
    "start_time": "2023-01-25T21:08:49.263Z"
   },
   {
    "duration": 1733,
    "start_time": "2023-01-25T21:08:49.295Z"
   },
   {
    "duration": 7,
    "start_time": "2023-01-25T21:08:51.030Z"
   },
   {
    "duration": 22,
    "start_time": "2023-01-25T21:08:51.038Z"
   },
   {
    "duration": 8,
    "start_time": "2023-01-25T21:08:51.062Z"
   },
   {
    "duration": 20,
    "start_time": "2023-01-25T21:08:51.072Z"
   },
   {
    "duration": 19,
    "start_time": "2023-01-25T21:08:51.094Z"
   },
   {
    "duration": 12,
    "start_time": "2023-01-25T21:08:51.115Z"
   },
   {
    "duration": 70,
    "start_time": "2023-01-25T21:08:51.129Z"
   },
   {
    "duration": 16,
    "start_time": "2023-01-25T21:08:51.202Z"
   },
   {
    "duration": 89,
    "start_time": "2023-01-25T21:08:51.220Z"
   },
   {
    "duration": 17,
    "start_time": "2023-01-25T21:08:51.311Z"
   },
   {
    "duration": 146,
    "start_time": "2023-01-25T21:08:51.329Z"
   },
   {
    "duration": 11,
    "start_time": "2023-01-25T21:08:51.477Z"
   },
   {
    "duration": 21,
    "start_time": "2023-01-25T21:08:51.490Z"
   },
   {
    "duration": 13,
    "start_time": "2023-01-25T21:08:51.513Z"
   },
   {
    "duration": 27,
    "start_time": "2023-01-25T21:08:51.528Z"
   },
   {
    "duration": 5,
    "start_time": "2023-01-25T21:08:51.557Z"
   },
   {
    "duration": 351,
    "start_time": "2023-01-25T21:08:51.566Z"
   },
   {
    "duration": 5,
    "start_time": "2023-01-25T21:08:51.919Z"
   },
   {
    "duration": 10,
    "start_time": "2023-01-25T21:08:51.925Z"
   },
   {
    "duration": 281,
    "start_time": "2023-01-25T21:08:51.937Z"
   },
   {
    "duration": 628,
    "start_time": "2023-01-25T21:08:52.219Z"
   },
   {
    "duration": 848,
    "start_time": "2023-01-25T21:08:52.850Z"
   },
   {
    "duration": 550,
    "start_time": "2023-01-25T21:08:53.700Z"
   },
   {
    "duration": 698,
    "start_time": "2023-01-25T21:08:54.253Z"
   },
   {
    "duration": 614,
    "start_time": "2023-01-25T21:08:54.954Z"
   },
   {
    "duration": 644,
    "start_time": "2023-01-25T21:08:55.569Z"
   },
   {
    "duration": 713,
    "start_time": "2023-01-25T21:08:56.215Z"
   },
   {
    "duration": 580,
    "start_time": "2023-01-25T21:08:56.930Z"
   },
   {
    "duration": 611,
    "start_time": "2023-01-25T21:08:57.512Z"
   },
   {
    "duration": 724,
    "start_time": "2023-01-25T21:08:58.126Z"
   },
   {
    "duration": 658,
    "start_time": "2023-01-25T21:08:58.852Z"
   },
   {
    "duration": 240,
    "start_time": "2023-01-25T21:08:59.513Z"
   },
   {
    "duration": 202,
    "start_time": "2023-01-25T21:08:59.756Z"
   },
   {
    "duration": 829,
    "start_time": "2023-01-25T21:08:59.960Z"
   },
   {
    "duration": 136,
    "start_time": "2023-01-25T21:09:00.792Z"
   },
   {
    "duration": 220,
    "start_time": "2023-01-25T21:09:00.930Z"
   },
   {
    "duration": 6,
    "start_time": "2023-01-25T21:09:01.152Z"
   },
   {
    "duration": 241,
    "start_time": "2023-01-25T21:09:01.160Z"
   },
   {
    "duration": 8,
    "start_time": "2023-01-25T21:09:01.403Z"
   },
   {
    "duration": 220,
    "start_time": "2023-01-25T21:09:01.413Z"
   },
   {
    "duration": 7,
    "start_time": "2023-01-25T21:09:01.635Z"
   },
   {
    "duration": 250,
    "start_time": "2023-01-25T21:09:01.644Z"
   },
   {
    "duration": 7,
    "start_time": "2023-01-25T21:09:01.898Z"
   },
   {
    "duration": 43,
    "start_time": "2023-01-25T21:09:01.907Z"
   },
   {
    "duration": 35,
    "start_time": "2023-01-25T21:09:01.952Z"
   },
   {
    "duration": 200,
    "start_time": "2023-01-25T21:09:01.991Z"
   },
   {
    "duration": 155,
    "start_time": "2023-01-25T21:09:02.193Z"
   },
   {
    "duration": 163,
    "start_time": "2023-01-25T21:09:02.349Z"
   },
   {
    "duration": 153,
    "start_time": "2023-01-25T21:09:02.514Z"
   },
   {
    "duration": 46,
    "start_time": "2023-01-25T21:09:02.668Z"
   },
   {
    "duration": 15,
    "start_time": "2023-01-25T21:09:02.715Z"
   },
   {
    "duration": 71,
    "start_time": "2023-01-25T21:09:02.732Z"
   },
   {
    "duration": 155,
    "start_time": "2023-01-25T21:09:02.806Z"
   },
   {
    "duration": 26,
    "start_time": "2023-01-25T21:09:02.963Z"
   },
   {
    "duration": 258,
    "start_time": "2023-01-25T21:09:02.992Z"
   },
   {
    "duration": 1532,
    "start_time": "2023-07-19T13:25:43.371Z"
   },
   {
    "duration": 186,
    "start_time": "2023-07-19T13:25:44.905Z"
   },
   {
    "duration": 2076,
    "start_time": "2023-07-19T13:25:46.042Z"
   },
   {
    "duration": 15,
    "start_time": "2023-07-19T13:25:48.120Z"
   },
   {
    "duration": 1332,
    "start_time": "2023-07-19T13:32:03.798Z"
   },
   {
    "duration": 66,
    "start_time": "2023-07-19T13:33:23.492Z"
   },
   {
    "duration": 1234,
    "start_time": "2023-07-19T13:34:14.199Z"
   },
   {
    "duration": 122,
    "start_time": "2023-07-19T13:34:15.435Z"
   },
   {
    "duration": 2128,
    "start_time": "2023-07-19T13:34:15.559Z"
   },
   {
    "duration": 16,
    "start_time": "2023-07-19T13:34:17.689Z"
   },
   {
    "duration": 16,
    "start_time": "2023-07-19T13:34:17.706Z"
   },
   {
    "duration": 81,
    "start_time": "2023-07-19T13:34:17.723Z"
   },
   {
    "duration": 27,
    "start_time": "2023-07-19T13:34:17.806Z"
   },
   {
    "duration": 23,
    "start_time": "2023-07-19T13:34:17.835Z"
   },
   {
    "duration": 35,
    "start_time": "2023-07-19T13:34:17.860Z"
   },
   {
    "duration": 1288,
    "start_time": "2023-07-19T13:34:17.897Z"
   },
   {
    "duration": 16,
    "start_time": "2023-07-19T13:34:19.186Z"
   },
   {
    "duration": 6,
    "start_time": "2023-07-19T13:34:19.203Z"
   },
   {
    "duration": 13,
    "start_time": "2023-07-19T13:34:19.210Z"
   },
   {
    "duration": 9,
    "start_time": "2023-07-19T13:34:19.224Z"
   },
   {
    "duration": 45,
    "start_time": "2023-07-19T13:34:19.235Z"
   },
   {
    "duration": 23,
    "start_time": "2023-07-19T13:34:19.282Z"
   },
   {
    "duration": 21,
    "start_time": "2023-07-19T13:34:19.306Z"
   },
   {
    "duration": 57,
    "start_time": "2023-07-19T13:34:19.329Z"
   },
   {
    "duration": 11,
    "start_time": "2023-07-19T13:34:19.388Z"
   },
   {
    "duration": 66,
    "start_time": "2023-07-19T13:34:19.401Z"
   },
   {
    "duration": 18,
    "start_time": "2023-07-19T13:34:19.469Z"
   },
   {
    "duration": 130,
    "start_time": "2023-07-19T13:34:19.489Z"
   },
   {
    "duration": 4,
    "start_time": "2023-07-19T13:34:19.621Z"
   },
   {
    "duration": 12,
    "start_time": "2023-07-19T13:34:19.626Z"
   },
   {
    "duration": 8,
    "start_time": "2023-07-19T13:34:19.640Z"
   },
   {
    "duration": 38,
    "start_time": "2023-07-19T13:34:19.650Z"
   },
   {
    "duration": 4,
    "start_time": "2023-07-19T13:34:19.690Z"
   },
   {
    "duration": 328,
    "start_time": "2023-07-19T13:34:19.699Z"
   },
   {
    "duration": 5,
    "start_time": "2023-07-19T13:34:20.029Z"
   },
   {
    "duration": 23,
    "start_time": "2023-07-19T13:34:20.035Z"
   },
   {
    "duration": 241,
    "start_time": "2023-07-19T13:34:20.060Z"
   },
   {
    "duration": 560,
    "start_time": "2023-07-19T13:34:20.303Z"
   },
   {
    "duration": 717,
    "start_time": "2023-07-19T13:34:20.864Z"
   },
   {
    "duration": 530,
    "start_time": "2023-07-19T13:34:21.583Z"
   },
   {
    "duration": 718,
    "start_time": "2023-07-19T13:34:22.115Z"
   },
   {
    "duration": 576,
    "start_time": "2023-07-19T13:34:22.835Z"
   },
   {
    "duration": 559,
    "start_time": "2023-07-19T13:34:23.413Z"
   },
   {
    "duration": 717,
    "start_time": "2023-07-19T13:34:23.974Z"
   },
   {
    "duration": 553,
    "start_time": "2023-07-19T13:34:24.693Z"
   },
   {
    "duration": 540,
    "start_time": "2023-07-19T13:34:25.248Z"
   },
   {
    "duration": 652,
    "start_time": "2023-07-19T13:34:25.790Z"
   },
   {
    "duration": 551,
    "start_time": "2023-07-19T13:34:26.444Z"
   },
   {
    "duration": 176,
    "start_time": "2023-07-19T13:34:26.997Z"
   },
   {
    "duration": 171,
    "start_time": "2023-07-19T13:34:27.175Z"
   },
   {
    "duration": 686,
    "start_time": "2023-07-19T13:34:27.348Z"
   },
   {
    "duration": 114,
    "start_time": "2023-07-19T13:34:28.036Z"
   },
   {
    "duration": 210,
    "start_time": "2023-07-19T13:34:28.152Z"
   },
   {
    "duration": 6,
    "start_time": "2023-07-19T13:34:28.366Z"
   },
   {
    "duration": 235,
    "start_time": "2023-07-19T13:34:28.374Z"
   },
   {
    "duration": 6,
    "start_time": "2023-07-19T13:34:28.611Z"
   },
   {
    "duration": 201,
    "start_time": "2023-07-19T13:34:28.619Z"
   },
   {
    "duration": 6,
    "start_time": "2023-07-19T13:34:28.822Z"
   },
   {
    "duration": 223,
    "start_time": "2023-07-19T13:34:28.829Z"
   },
   {
    "duration": 14,
    "start_time": "2023-07-19T13:34:29.054Z"
   },
   {
    "duration": 39,
    "start_time": "2023-07-19T13:34:29.070Z"
   },
   {
    "duration": 26,
    "start_time": "2023-07-19T13:34:29.111Z"
   },
   {
    "duration": 171,
    "start_time": "2023-07-19T13:34:29.138Z"
   },
   {
    "duration": 139,
    "start_time": "2023-07-19T13:34:29.311Z"
   },
   {
    "duration": 153,
    "start_time": "2023-07-19T13:34:29.452Z"
   },
   {
    "duration": 143,
    "start_time": "2023-07-19T13:34:29.606Z"
   },
   {
    "duration": 37,
    "start_time": "2023-07-19T13:34:29.750Z"
   },
   {
    "duration": 14,
    "start_time": "2023-07-19T13:34:29.789Z"
   },
   {
    "duration": 30,
    "start_time": "2023-07-19T13:34:29.805Z"
   },
   {
    "duration": 178,
    "start_time": "2023-07-19T13:34:29.838Z"
   },
   {
    "duration": 16,
    "start_time": "2023-07-19T13:34:30.018Z"
   },
   {
    "duration": 239,
    "start_time": "2023-07-19T13:34:30.037Z"
   },
   {
    "duration": 18,
    "start_time": "2023-07-19T13:36:56.079Z"
   },
   {
    "duration": 108,
    "start_time": "2023-07-19T13:47:48.152Z"
   },
   {
    "duration": 123,
    "start_time": "2023-07-19T13:56:59.102Z"
   },
   {
    "duration": 125,
    "start_time": "2023-07-19T13:57:48.838Z"
   },
   {
    "duration": 129,
    "start_time": "2023-07-19T13:59:14.138Z"
   },
   {
    "duration": 1362,
    "start_time": "2023-07-19T14:01:28.750Z"
   },
   {
    "duration": 128,
    "start_time": "2023-07-19T14:01:30.115Z"
   },
   {
    "duration": 2283,
    "start_time": "2023-07-19T14:01:30.245Z"
   },
   {
    "duration": 16,
    "start_time": "2023-07-19T14:01:32.531Z"
   },
   {
    "duration": 48,
    "start_time": "2023-07-19T14:01:32.548Z"
   },
   {
    "duration": 73,
    "start_time": "2023-07-19T14:01:32.598Z"
   },
   {
    "duration": 26,
    "start_time": "2023-07-19T14:01:32.673Z"
   },
   {
    "duration": 4,
    "start_time": "2023-07-19T14:01:32.701Z"
   },
   {
    "duration": 11,
    "start_time": "2023-07-19T14:01:32.707Z"
   },
   {
    "duration": 1412,
    "start_time": "2023-07-19T14:01:32.721Z"
   },
   {
    "duration": 8,
    "start_time": "2023-07-19T14:01:34.135Z"
   },
   {
    "duration": 42,
    "start_time": "2023-07-19T14:01:34.145Z"
   },
   {
    "duration": 15,
    "start_time": "2023-07-19T14:01:34.188Z"
   },
   {
    "duration": 20,
    "start_time": "2023-07-19T14:01:34.205Z"
   },
   {
    "duration": 26,
    "start_time": "2023-07-19T14:01:34.227Z"
   },
   {
    "duration": 27,
    "start_time": "2023-07-19T14:01:34.255Z"
   },
   {
    "duration": 21,
    "start_time": "2023-07-19T14:01:34.284Z"
   },
   {
    "duration": 67,
    "start_time": "2023-07-19T14:01:34.307Z"
   },
   {
    "duration": 13,
    "start_time": "2023-07-19T14:01:34.375Z"
   },
   {
    "duration": 84,
    "start_time": "2023-07-19T14:01:34.390Z"
   },
   {
    "duration": 119,
    "start_time": "2023-07-19T14:01:34.476Z"
   },
   {
    "duration": 19,
    "start_time": "2023-07-19T14:01:34.596Z"
   },
   {
    "duration": 12,
    "start_time": "2023-07-19T14:01:34.617Z"
   },
   {
    "duration": 22,
    "start_time": "2023-07-19T14:01:34.631Z"
   },
   {
    "duration": 20,
    "start_time": "2023-07-19T14:01:34.655Z"
   },
   {
    "duration": 38,
    "start_time": "2023-07-19T14:01:34.677Z"
   },
   {
    "duration": 5,
    "start_time": "2023-07-19T14:01:34.718Z"
   },
   {
    "duration": 329,
    "start_time": "2023-07-19T14:01:34.728Z"
   },
   {
    "duration": 9,
    "start_time": "2023-07-19T14:01:35.060Z"
   },
   {
    "duration": 74,
    "start_time": "2023-07-19T14:01:35.071Z"
   },
   {
    "duration": 255,
    "start_time": "2023-07-19T14:01:35.147Z"
   },
   {
    "duration": 579,
    "start_time": "2023-07-19T14:01:35.404Z"
   },
   {
    "duration": 735,
    "start_time": "2023-07-19T14:01:35.985Z"
   },
   {
    "duration": 570,
    "start_time": "2023-07-19T14:01:36.722Z"
   },
   {
    "duration": 667,
    "start_time": "2023-07-19T14:01:37.294Z"
   },
   {
    "duration": 563,
    "start_time": "2023-07-19T14:01:37.963Z"
   },
   {
    "duration": 574,
    "start_time": "2023-07-19T14:01:38.528Z"
   },
   {
    "duration": 689,
    "start_time": "2023-07-19T14:01:39.104Z"
   },
   {
    "duration": 563,
    "start_time": "2023-07-19T14:01:39.795Z"
   },
   {
    "duration": 571,
    "start_time": "2023-07-19T14:01:40.360Z"
   },
   {
    "duration": 667,
    "start_time": "2023-07-19T14:01:40.933Z"
   },
   {
    "duration": 559,
    "start_time": "2023-07-19T14:01:41.602Z"
   },
   {
    "duration": 167,
    "start_time": "2023-07-19T14:01:42.163Z"
   },
   {
    "duration": 171,
    "start_time": "2023-07-19T14:01:42.332Z"
   },
   {
    "duration": 737,
    "start_time": "2023-07-19T14:01:42.505Z"
   },
   {
    "duration": 123,
    "start_time": "2023-07-19T14:01:43.244Z"
   },
   {
    "duration": 206,
    "start_time": "2023-07-19T14:01:43.368Z"
   },
   {
    "duration": 6,
    "start_time": "2023-07-19T14:01:43.576Z"
   },
   {
    "duration": 223,
    "start_time": "2023-07-19T14:01:43.584Z"
   },
   {
    "duration": 6,
    "start_time": "2023-07-19T14:01:43.809Z"
   },
   {
    "duration": 235,
    "start_time": "2023-07-19T14:01:43.816Z"
   },
   {
    "duration": 17,
    "start_time": "2023-07-19T14:01:44.053Z"
   },
   {
    "duration": 226,
    "start_time": "2023-07-19T14:01:44.072Z"
   },
   {
    "duration": 6,
    "start_time": "2023-07-19T14:01:44.300Z"
   },
   {
    "duration": 58,
    "start_time": "2023-07-19T14:01:44.308Z"
   },
   {
    "duration": 30,
    "start_time": "2023-07-19T14:01:44.369Z"
   },
   {
    "duration": 176,
    "start_time": "2023-07-19T14:01:44.401Z"
   },
   {
    "duration": 144,
    "start_time": "2023-07-19T14:01:44.579Z"
   },
   {
    "duration": 164,
    "start_time": "2023-07-19T14:01:44.725Z"
   },
   {
    "duration": 146,
    "start_time": "2023-07-19T14:01:44.891Z"
   },
   {
    "duration": 45,
    "start_time": "2023-07-19T14:01:45.040Z"
   },
   {
    "duration": 28,
    "start_time": "2023-07-19T14:01:45.086Z"
   },
   {
    "duration": 64,
    "start_time": "2023-07-19T14:01:45.116Z"
   },
   {
    "duration": 171,
    "start_time": "2023-07-19T14:01:45.182Z"
   },
   {
    "duration": 15,
    "start_time": "2023-07-19T14:01:45.355Z"
   },
   {
    "duration": 210,
    "start_time": "2023-07-19T14:01:45.372Z"
   },
   {
    "duration": 112,
    "start_time": "2023-07-19T14:08:24.248Z"
   },
   {
    "duration": 121,
    "start_time": "2023-07-19T14:08:41.682Z"
   },
   {
    "duration": 29,
    "start_time": "2023-07-19T14:09:54.510Z"
   },
   {
    "duration": 277,
    "start_time": "2023-07-19T14:17:16.702Z"
   },
   {
    "duration": 578,
    "start_time": "2023-07-19T14:18:06.906Z"
   },
   {
    "duration": 718,
    "start_time": "2023-07-19T14:18:25.834Z"
   },
   {
    "duration": 607,
    "start_time": "2023-07-19T14:19:49.129Z"
   },
   {
    "duration": 595,
    "start_time": "2023-07-19T14:33:53.988Z"
   },
   {
    "duration": 738,
    "start_time": "2023-07-19T14:34:52.306Z"
   },
   {
    "duration": 574,
    "start_time": "2023-07-19T14:36:55.668Z"
   },
   {
    "duration": 611,
    "start_time": "2023-07-19T14:39:45.474Z"
   },
   {
    "duration": 717,
    "start_time": "2023-07-19T14:40:58.019Z"
   },
   {
    "duration": 267,
    "start_time": "2023-07-19T14:42:24.021Z"
   },
   {
    "duration": 188,
    "start_time": "2023-07-19T14:43:05.118Z"
   },
   {
    "duration": 224,
    "start_time": "2023-07-19T14:43:35.750Z"
   },
   {
    "duration": 581,
    "start_time": "2023-07-19T14:44:30.606Z"
   },
   {
    "duration": 363,
    "start_time": "2023-07-19T14:46:21.708Z"
   },
   {
    "duration": 227,
    "start_time": "2023-07-19T14:47:38.268Z"
   },
   {
    "duration": 209,
    "start_time": "2023-07-19T14:47:50.939Z"
   },
   {
    "duration": 215,
    "start_time": "2023-07-19T14:48:05.036Z"
   },
   {
    "duration": 232,
    "start_time": "2023-07-19T14:49:58.232Z"
   },
   {
    "duration": 571,
    "start_time": "2023-07-19T14:50:41.984Z"
   },
   {
    "duration": 159,
    "start_time": "2023-07-19T14:50:58.191Z"
   },
   {
    "duration": 242,
    "start_time": "2023-07-19T14:52:37.025Z"
   },
   {
    "duration": 381,
    "start_time": "2023-07-19T14:53:30.198Z"
   },
   {
    "duration": 293,
    "start_time": "2023-07-19T14:55:18.780Z"
   },
   {
    "duration": 293,
    "start_time": "2023-07-19T14:56:35.153Z"
   },
   {
    "duration": 296,
    "start_time": "2023-07-19T14:58:07.108Z"
   },
   {
    "duration": 174,
    "start_time": "2023-07-19T15:01:29.856Z"
   },
   {
    "duration": 203,
    "start_time": "2023-07-19T15:01:53.853Z"
   },
   {
    "duration": 174,
    "start_time": "2023-07-19T15:02:53.745Z"
   },
   {
    "duration": 189,
    "start_time": "2023-07-19T15:03:55.102Z"
   },
   {
    "duration": 715,
    "start_time": "2023-07-19T15:06:42.162Z"
   },
   {
    "duration": 124,
    "start_time": "2023-07-19T15:07:45.680Z"
   },
   {
    "duration": 210,
    "start_time": "2023-07-19T16:01:50.252Z"
   },
   {
    "duration": 222,
    "start_time": "2023-07-19T16:03:52.556Z"
   },
   {
    "duration": 231,
    "start_time": "2023-07-19T16:04:42.855Z"
   }
  ],
  "kernelspec": {
   "display_name": "Python 3 (ipykernel)",
   "language": "python",
   "name": "python3"
  },
  "language_info": {
   "codemirror_mode": {
    "name": "ipython",
    "version": 3
   },
   "file_extension": ".py",
   "mimetype": "text/x-python",
   "name": "python",
   "nbconvert_exporter": "python",
   "pygments_lexer": "ipython3",
   "version": "3.9.5"
  },
  "toc": {
   "base_numbering": 1,
   "nav_menu": {},
   "number_sections": true,
   "sideBar": true,
   "skip_h1_title": true,
   "title_cell": "Table of Contents",
   "title_sidebar": "Contents",
   "toc_cell": false,
   "toc_position": {},
   "toc_section_display": true,
   "toc_window_display": true
  }
 },
 "nbformat": 4,
 "nbformat_minor": 2
}
